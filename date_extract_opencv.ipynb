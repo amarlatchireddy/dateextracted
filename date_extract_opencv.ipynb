{
 "cells": [
  {
   "cell_type": "code",
   "execution_count": 5,
   "metadata": {},
   "outputs": [
    {
     "name": "stderr",
     "output_type": "stream",
     "text": [
      "\n",
      "\n",
      "  0%|                                                                                          | 0/595 [00:00<?, ?it/s]"
     ]
    },
    {
     "name": "stdout",
     "output_type": "stream",
     "text": [
      "C:\\Users\\amar\\Downloads\\Receipts\\01048818.jpeg\n",
      "\n",
      "[]\n"
     ]
    },
    {
     "name": "stderr",
     "output_type": "stream",
     "text": [
      "\n",
      "\n",
      "  0%|▏                                                                                 | 1/595 [00:01<16:02,  1.62s/it]"
     ]
    },
    {
     "name": "stdout",
     "output_type": "stream",
     "text": [
      "C:\\Users\\amar\\Downloads\\Receipts\\0156b46f.jpeg\n",
      "GENESIS FOODS PLATTER ; 3 DEUNTHAPLAZA BNGLE GST 32K12L 4 BILL DT 25/07/19 13 49\n",
      "['32', '12', '25/07/19', '13 49']\n"
     ]
    },
    {
     "name": "stderr",
     "output_type": "stream",
     "text": [
      "\n",
      "\n",
      "  0%|▎                                                                                 | 2/595 [00:04<19:22,  1.96s/it]"
     ]
    },
    {
     "name": "stdout",
     "output_type": "stream",
     "text": [
      "C:\\Users\\amar\\Downloads\\Receipts\\01a0cabb.jpeg\n",
      "FourthStreetMill BONITA AVENUE LA VERNE, CA-1564 Dine In ServerChris D. Sep 29, 2018 5 38 PM SL Item sLamb Burger $13.00 NO Goat Cheese ~ NO Bread - Medium - Sauce On Side Kids Grilied Cheese $5.00 Kids Fries $3.00 Sweet Potato Fries $8.00 Kids Cheeseburger $7.00 - NO Ketchup - No bun Sub sourdough Beat Eyer $10.00 - Medium Rare Sides $3.50 ~ Bacon2Slices eee ee Subtotal $49.50 Sales TaxIncl. 9.5%$4.70 Total $64.20 a\n",
      "['1564', 'Sep 29, 2018', '5 38', '13', '00', '00', '00', '00', '00', '10', '00', '50', '49', '50', '70', '64', '20']\n"
     ]
    },
    {
     "name": "stderr",
     "output_type": "stream",
     "text": [
      "\n",
      "\n",
      "  1%|▍                                                                                 | 3/595 [00:08<26:15,  2.66s/it]"
     ]
    },
    {
     "name": "stdout",
     "output_type": "stream",
     "text": [
      "C:\\Users\\amar\\Downloads\\Receipts\\02acce30.jpeg\n",
      "va Juniper Sone 8 ner Blvd Kett, ch\n",
      "[]\n"
     ]
    },
    {
     "name": "stderr",
     "output_type": "stream",
     "text": [
      "\n",
      "\n",
      "  1%|▌                                                                                 | 4/595 [00:10<24:53,  2.53s/it]"
     ]
    },
    {
     "name": "stdout",
     "output_type": "stream",
     "text": [
      "C:\\Users\\amar\\Downloads\\Receipts\\02d54805.jpeg\n",
      "SUBWAY Subway-0 pI hone-594-357 a 5. St. Rd. 13— erceton, IN, 46562 Served 5/29/2019 11 35 09 am Term ID-Trans1/A-176663 Qty Size Item price 1 Courtesy 10% Off Any Item 0.00 1 6\" BAT. Sib ine 4.22 1 -Fresh Value-12-50 - -210z Fountain Drink - -Chips Sub Total Sales%TotalEat InCashi Change Call us with your Comments osnnom eee ea Saesn Host Order 1D§PM201905291 how we did today at bettas ay 28 and we'll send vel a sxeet offer.\n",
      "['594', '357', '13', '4656', '5/29/2019', '11 35 09', '1766', '63', '10', '00', '22', '12-50', '210', '2019', '0529', '28']\n"
     ]
    },
    {
     "name": "stderr",
     "output_type": "stream",
     "text": [
      "\n",
      "\n",
      "  1%|▋                                                                                 | 5/595 [00:15<29:48,  3.03s/it]"
     ]
    },
    {
     "name": "stdout",
     "output_type": "stream",
     "text": [
      "C:\\Users\\amar\\Downloads\\Receipts\\02f4068e.jpeg\n",
      "eY National Mighway Authority af india 88 Alhmedabad-Vadadara Super Express Tollway Pvt. Ltd. GST No. 24AACCIG902E fol Bare Naive Vadodara Toll.906 kmSecwe Ahmedabad-Vadodara wv - 302 on NF*1Tete No Beedth & OperavorO WO/ 01982 9 Date & Time 03/Jul/2019 09 16;60 -GIGKP3901 CAR Single journey Rs. 110.00 AHMEDABAD TOL Standard Wi. of vehideNA Actual Wt. of vehideOKG Querioaded vehicle Fees‘Ais. 0.00 Total FeesRs. 110.00MIU HSL a7 Mary JOURNEVee\n",
      "['88', '24', '902', '906', '302', '0198', '03/Jul/2019', '09 16', '60', '3901', '110', '00', '00', '110', '00']\n"
     ]
    },
    {
     "name": "stderr",
     "output_type": "stream",
     "text": [
      "\n",
      "\n",
      "  1%|▊                                                                                 | 6/595 [00:19<34:30,  3.52s/it]"
     ]
    },
    {
     "name": "stdout",
     "output_type": "stream",
     "text": [
      "C:\\Users\\amar\\Downloads\\Receipts\\0308aae2.jpeg\n",
      "\n",
      "[]\n"
     ]
    },
    {
     "name": "stderr",
     "output_type": "stream",
     "text": [
      "\n",
      "\n",
      "  1%|▉                                                                                 | 7/595 [00:20<26:57,  2.75s/it]"
     ]
    },
    {
     "name": "stdout",
     "output_type": "stream",
     "text": [
      "C:\\Users\\amar\\Downloads\\Receipts\\0349ff40.jpeg\n",
      "\n",
      "[]\n"
     ]
    },
    {
     "name": "stderr",
     "output_type": "stream",
     "text": [
      "\n",
      "\n",
      "  1%|█                                                                                 | 8/595 [00:21<22:11,  2.27s/it]"
     ]
    },
    {
     "name": "stdout",
     "output_type": "stream",
     "text": [
      "C:\\Users\\amar\\Downloads\\Receipts\\0358c6c3.jpeg\n",
      "wnwu Ton 0 \" — win. o sow Wi mo a wor tc wo asxa Nw Oe omco coc UOC ao—oano w ove oa . \" ~oNnoron ~4BaO ~~ 2D on wncer-o —~ OU we Ou—-Co uC we * DTWOCwWSs oc UscM *OO ~~ Sw *o~ ~ wocc ec — —~ luc OF OW 00 oO CaS - or ue St HOONOey a— 4 NOD teen eee <*o oN o acw ana «<<SOCLWcs<— ofS coow cunas - Cc Gor mu ee 0O- Sen es xoc mere SOW SLU OLY ae Lu Wwe SO m*tcacom « an oe «.- e<2eCl—iu nt He ncSoD <*c<S peSses<*CSoren Pa as\" co C 2oSoLue Lu. QaS[Me ic aeLise\n",
      "['00']\n"
     ]
    },
    {
     "name": "stderr",
     "output_type": "stream",
     "text": [
      "\n",
      "\n",
      "  2%|█▏                                                                                | 9/595 [00:26<28:39,  2.93s/it]"
     ]
    },
    {
     "name": "stdout",
     "output_type": "stream",
     "text": [
      "C:\\Users\\amar\\Downloads\\Receipts\\037ef967.jpeg\n",
      "ile ones YoU EDATHANARA PETROL KK ROAD KADAVANTHARA Tel. No.1800224344 Receipt No.§&6944 Local FIP No.01 Nozzle Wo.03 ProductPetral EuM co.0Kg/Cu.mtr Preset TypeAmount Fate.05.48.00 Vehicle No.Mobile/05/19 1 po No\n",
      "['1800', '2243', '44', '6944', '01', '03', '05', '48', '00', '05/19']\n"
     ]
    },
    {
     "name": "stderr",
     "output_type": "stream",
     "text": [
      "\n",
      "\n",
      "  2%|█▎                                                                               | 10/595 [00:29<29:52,  3.06s/it]"
     ]
    },
    {
     "name": "stdout",
     "output_type": "stream",
     "text": [
      "C:\\Users\\amar\\Downloads\\Receipts\\0406cfb1.jpeg\n",
      "Validatic ‘Code. your visit. ton Reiss Expires 30 days after receipt date. Valid at Participating US HcDonald’s. 11110-13470-71719-11194-0006e-2 McDonald’s COMMERCE DR WARSAW, IN 07/17/2019 11 19 AM Order 47 1 Filet-0-Fish Maal 6.19 1 M Coke Subtotal 6.19 Tax 0.43 Take-Out Total 6.62 Cash] 6.62 ome 0.00180626 CARD ISSUER ACCOUNTMaster SALE ebb ERE 7 09TRANSACTION AMOUNT a CHIP READ AUTHORIZATION CODE - 021262 - po00000041010 HcDona Id’s Restaurant\n",
      "['30', '1111', '0-1347', '0-7171', '9-1119', '4-0006', '07/17/2019', '11 19', '47', '19', '19', '43', '62', '62', '0018', '0626', '7 09', '0212', '62', '0000', '0041', '010']\n"
     ]
    },
    {
     "name": "stderr",
     "output_type": "stream",
     "text": [
      "\n",
      "\n",
      "  2%|█▍                                                                               | 11/595 [00:33<31:47,  3.27s/it]"
     ]
    },
    {
     "name": "stdout",
     "output_type": "stream",
     "text": [
      "C:\\Users\\amar\\Downloads\\Receipts\\04887bab.jpeg\n",
      "Expires 30 days after receipt date. Valid at participeting US McDonald's. Survey05174-02020-70219-4 McDonald's Restaurant E NATIONAL RD VANDALIA OH TEL Sides 07/02/2019 08 52 m | Bac Ego Ch Bis M1-Hb 4.99 1 L Coke 1 Bottled Water i. 6.38 meee om Take-Out Total 6.45 Cashless 6 1 6 Change ae ACCT INT CARD ISSUER eaeunl Visa SALE eb cieeser es] 2 TRANSACTION AMOUNT ; CHIP READ AID; A000000098024PLEASE CONTACT-9486 T20G ANHOODS\n",
      "['30', '0517', '4-0202', '0-7021', '07/02/2019', '08 52', '99', '38', '45', '0000', '0009', '8024', '9486', '20']\n"
     ]
    },
    {
     "name": "stderr",
     "output_type": "stream",
     "text": [
      "\n",
      "\n",
      "  2%|█▋                                                                               | 12/595 [00:42<47:32,  4.89s/it]"
     ]
    },
    {
     "name": "stdout",
     "output_type": "stream",
     "text": [
      "C:\\Users\\amar\\Downloads\\Receipts\\049c8dfd.jpeg\n",
      "\n",
      "[]\n"
     ]
    },
    {
     "name": "stderr",
     "output_type": "stream",
     "text": [
      "\n",
      "\n",
      "  2%|█▊                                                                               | 13/595 [00:43<36:54,  3.81s/it]"
     ]
    },
    {
     "name": "stdout",
     "output_type": "stream",
     "text": [
      "C:\\Users\\amar\\Downloads\\Receipts\\04f988a3.jpeg\n",
      "MANOHARPURA PLAZA Fito KH.50 TO KM.00 RECEIPT FOR TOLL FEE TRH 16 SCHENESINGLE VEH TYPE CAR/JEEP/UAH TOLL FARE Rs..60 REG WO USER ID «LAME WO 01 DATE 22/Jul/2019 06 40 | * Exersency Ho.91-9309366001/1422231999 x\n",
      "['50', '00', '16', '60', '01', '22/Jul/2019', '06 40', '91-9309', '3660', '01/1422', '2319', '99']\n"
     ]
    },
    {
     "name": "stderr",
     "output_type": "stream",
     "text": [
      "\n",
      "\n",
      "  2%|█▉                                                                               | 14/595 [00:46<33:43,  3.48s/it]"
     ]
    },
    {
     "name": "stdout",
     "output_type": "stream",
     "text": [
      "C:\\Users\\amar\\Downloads\\Receipts\\04fa5e11.jpeg\n",
      "\n",
      "[]\n"
     ]
    },
    {
     "name": "stderr",
     "output_type": "stream",
     "text": [
      "\n",
      "\n",
      "  3%|██                                                                               | 15/595 [00:47<27:45,  2.87s/it]"
     ]
    },
    {
     "name": "stdout",
     "output_type": "stream",
     "text": [
      "C:\\Users\\amar\\Downloads\\Receipts\\05f91a79.jpeg\n",
      "THQMK youlMcAlister's Deli § I111nois-0200 11 HostCare. Pear ang py Order TypeDine-In ae PECANBERRY SALAD CLUB an SHEET TEA ; COKE i 2.59 Subtotal< Sales Tax a vies 23.72 Visa 23.72 Auth nee ere Jpacbiobeetoa apa *On-The-GoDawaa ae si line “or order as ai reat . rive‘ you arrive ; van. jetersdel\\ co . sae F exe tT aad 4 wigsed -7~\n",
      "['111', '0200', '11', '59', '23', '72', '23', '72']\n"
     ]
    },
    {
     "name": "stderr",
     "output_type": "stream",
     "text": [
      "\n",
      "\n",
      "  3%|██▏                                                                              | 16/595 [00:50<26:40,  2.76s/it]"
     ]
    },
    {
     "name": "stdout",
     "output_type": "stream",
     "text": [
      "C:\\Users\\amar\\Downloads\\Receipts\\068ea6e6.jpeg\n",
      "Blue Tokal Coffee te ers 54 08 AN CashterBlus Tokai Coffee Pancakes Awericano Instructionssandwich without goat cheese\n",
      "['54 08']\n"
     ]
    },
    {
     "name": "stderr",
     "output_type": "stream",
     "text": [
      "\n",
      "\n",
      "  3%|██▎                                                                              | 17/595 [00:52<24:39,  2.56s/it]"
     ]
    },
    {
     "name": "stdout",
     "output_type": "stream",
     "text": [
      "C:\\Users\\amar\\Downloads\\Receipts\\0728f702.jpeg\n",
      "204 Spring St New York, NY-4000 eae TABLE Ti 2 Guests iwokais| ] sg oa laiehe 12 03 14 PM Manoj 1 Vegetable Biryani $12.95 1 Malal Kofta $12.95 1 Onion Naan $3.95 SUBTOTAL§29.85 LUNCH DISCOUNT 50% OFF“$14.93 TAX$1.32 TOTAL$16.24 You have saved$14.93\n",
      "['204', '4000', '12 03 14', '12', '95', '12', '95', '95', '29', '85', '50', '14', '93', '32', '16', '24', '14', '93']\n"
     ]
    },
    {
     "name": "stderr",
     "output_type": "stream",
     "text": [
      "\n",
      "\n",
      "  3%|██▍                                                                              | 18/595 [00:55<26:08,  2.72s/it]"
     ]
    },
    {
     "name": "stdout",
     "output_type": "stream",
     "text": [
      "C:\\Users\\amar\\Downloads\\Receipts\\077124e4.jpeg\n",
      "sagtPhone tm RAL ay AREA ,BISTUPUR, ROAD NO 2, 431001 JAMSHEDPUR JHARKHAND served 20/07/2019 21 08 14 Term 10-Trans1/A-27666 CINOty Size Item 6\" Rst Chicken 1 Cheese 1 Bag Fee Sub Total SGST €2.5%2.5%CGST €2.5%2.5%onEat InChange 0.00 GSTIN 20ACIFhow we did today Survey at waw.global . \" a\n",
      "['2, 4310', '01', '20/07/2019', '21 08 14', '10', '2766', '00', '20']\n"
     ]
    },
    {
     "name": "stderr",
     "output_type": "stream",
     "text": [
      "\n",
      "\n",
      "  3%|██▌                                                                              | 19/595 [00:58<27:39,  2.88s/it]"
     ]
    },
    {
     "name": "stdout",
     "output_type": "stream",
     "text": [
      "C:\\Users\\amar\\Downloads\\Receipts\\093304e6.jpeg\n",
      "cas nureD ENTERPRI BS ine e-2 | 6/20/2019 7 00 Px | RegAZCPOS2 | StoreAZ Ce 6.0 Thank you for visiting us Follow us on Facebook & Twit Gcasgunitd is\n",
      "['6/20/2019', '7 00']\n"
     ]
    },
    {
     "name": "stderr",
     "output_type": "stream",
     "text": [
      "\n",
      "\n",
      "  3%|██▋                                                                              | 20/595 [01:00<24:11,  2.52s/it]"
     ]
    },
    {
     "name": "stdout",
     "output_type": "stream",
     "text": [
      "C:\\Users\\amar\\Downloads\\Receipts\\0a0ebd53.jpeg\n",
      "Bate eum, | AYA FILLING STATION MATTUPATTY ROAD MUNNAR ORIGINAL 29~-MAY - eae 14 02 23 INVOICE VEHICLE NOfot ENTERED NOZZLE PRODUCTPETROL.01 INR/Ltr.33 Ltr.00 INR No27430268741C a‘T. No27430268741V Thank YouVisit Again t\n",
      "['29', '14 02 23', '01', '33', '00', '2743', '0268', '741', '2743', '0268', '741']\n"
     ]
    },
    {
     "name": "stderr",
     "output_type": "stream",
     "text": [
      "\n",
      "\n",
      "  4%|██▊                                                                              | 21/595 [01:02<23:32,  2.46s/it]"
     ]
    },
    {
     "name": "stdout",
     "output_type": "stream",
     "text": [
      "C:\\Users\\amar\\Downloads\\Receipts\\0a8a955f.jpeg\n",
      "\n",
      "[]\n"
     ]
    },
    {
     "name": "stderr",
     "output_type": "stream",
     "text": [
      "\n",
      "\n",
      "  4%|██▉                                                                              | 22/595 [01:04<21:14,  2.22s/it]"
     ]
    },
    {
     "name": "stdout",
     "output_type": "stream",
     "text": [
      "C:\\Users\\amar\\Downloads\\Receipts\\0b1664cb.jpeg\n",
      "; Rs. S€6/— JOURNEY j ; »Rsesi cecase mer’ . 3 re zF ' ® AEX To BILASPUR The in guetrnat VJ ATR-BPi-ET-XTE-APR ri ose iss BOGS — fh5/e7/2019 TRS 2GPRABHBIBPCIZA. PAY MODEsCh SH lige 95/07/2019 21 28 he 5 » recovers only 51% of cost of travel onan averege\n",
      "['7/2019', '95/07/2019', '21 28', '51']\n"
     ]
    },
    {
     "name": "stderr",
     "output_type": "stream",
     "text": [
      "\n",
      "\n",
      "  4%|███▏                                                                             | 23/595 [01:07<25:23,  2.66s/it]"
     ]
    },
    {
     "name": "stdout",
     "output_type": "stream",
     "text": [
      "C:\\Users\\amar\\Downloads\\Receipts\\0c4672b4.jpeg\n",
      "~otCBank HCL COHPCO HineLS nh AMEDION 10 pol ie; Cat tor fone WSs AMT . aCFEC421.87 \"PS PER Capp ISSUER ACRECHER ; feng Iwi Vea ape “ioe ergge\n",
      "['10', '421', '87']\n"
     ]
    },
    {
     "name": "stderr",
     "output_type": "stream",
     "text": [
      "\n",
      "\n",
      "  4%|███▎                                                                             | 24/595 [01:10<25:46,  2.71s/it]"
     ]
    },
    {
     "name": "stdout",
     "output_type": "stream",
     "text": [
      "C:\\Users\\amar\\Downloads\\Receipts\\0c60aa84.jpeg\n",
      "fe i - HARTSH BAKERS & a CONFECTIONERS PVT LTD i SHOP NO-G2-G10,SECTOR-63 —SAPPHIRE MALL GURUGRAM-122001GST NO — Tax Invoice yenoe Sapres/20645 \" Py “2B - jun-2019 Jserjagdish Yhulwart Special T 1.000.00.00 T 5.000% 13.00 fatal.000.00 ‘Rupees Two Hundred Saventy Three Onlyma\n",
      "['10', '63', '1220', '01', '2064', '2019', '000', '00', '00', '000', '13', '00', '000', '00']\n"
     ]
    },
    {
     "name": "stderr",
     "output_type": "stream",
     "text": [
      "\n",
      "\n",
      "  4%|███▍                                                                             | 25/595 [01:12<24:33,  2.58s/it]"
     ]
    },
    {
     "name": "stdout",
     "output_type": "stream",
     "text": [
      "C:\\Users\\amar\\Downloads\\Receipts\\0cc46a10.jpeg\n",
      "Maharashtra State Yashwantrao Chavan Expressway KHALAPUR TOLL REC EIPT PSP.2000/CR tI / Re oad-8 dt aan/e 02/04 GST Date Plaza Lane Collector Class Fare Trans. No. Exit Piaza Payment Mode ent TAADCM9496U 03/Jun/2019 98 38 27 KHALAPUR TOLL PLAZA cAR Rs. 230/- 1906030421904 24 falegaoi OffEaswh u*T3 cash * Qaaa\n",
      "['2000', '02/04', '9496', '03/Jun/2019', '98 38 27', '230', '1906', '0304', '2190', '4 24']\n"
     ]
    },
    {
     "name": "stderr",
     "output_type": "stream",
     "text": [
      "\n",
      "\n",
      "  4%|███▌                                                                             | 26/595 [01:15<23:23,  2.47s/it]"
     ]
    },
    {
     "name": "stdout",
     "output_type": "stream",
     "text": [
      "C:\\Users\\amar\\Downloads\\Receipts\\0cdf6ec0.jpeg\n",
      ",\" Ea a ve i HALDIRAR KFS. 00. PYT. LID, Heldires5 Village Kharki Dsuta, Dethi-Jetpur Higham, ; Phone No. 0124,4771432-33 a earth OGAAACHS170K12F Rag.Off. BI/K, Mahan Co-Doerat tee Industrial , Mathura Website ww.haldires.coe\n",
      "['00', '0124', '4771', '432', '33', '170', '12']\n"
     ]
    },
    {
     "name": "stderr",
     "output_type": "stream",
     "text": [
      "\n",
      "\n",
      "  5%|███▋                                                                             | 27/595 [01:18<24:51,  2.63s/it]"
     ]
    },
    {
     "name": "stdout",
     "output_type": "stream",
     "text": [
      "C:\\Users\\amar\\Downloads\\Receipts\\0daa6a1c.jpeg\n",
      "fe 22° SF Ges ii ane -\" 8 i seerrrrernenirnnrerrrenrnnn DID WE NAIL ITTeens or ce se ae Jo Outre on essutal We herman came vey\n",
      "['22']\n"
     ]
    },
    {
     "name": "stderr",
     "output_type": "stream",
     "text": [
      "\n",
      "\n",
      "  5%|███▊                                                                             | 28/595 [01:21<25:40,  2.72s/it]"
     ]
    },
    {
     "name": "stdout",
     "output_type": "stream",
     "text": [
      "C:\\Users\\amar\\Downloads\\Receipts\\0e0dd005.jpeg\n",
      "QRAWCITY THE LOUNGE MALVIYA NAGAR BHOPAL Bill No Table No Date 07-Jun-2019 21 18 40 g Sever. VIAY B. TAWSAROTIBUTTFR 1 AS a ......... 15.00 SGST 2.5 as\n",
      "['07-Jun-2019', '21 18 40', '15', '00']\n"
     ]
    },
    {
     "name": "stderr",
     "output_type": "stream",
     "text": [
      "\n",
      "\n",
      "  5%|███▉                                                                             | 29/595 [01:24<26:15,  2.78s/it]"
     ]
    },
    {
     "name": "stdout",
     "output_type": "stream",
     "text": [
      "C:\\Users\\amar\\Downloads\\Receipts\\0eda160c.jpeg\n",
      "ServerJose jonquests| 1 Ribeye Steak Lunch 10med-rare ‘SUB TOTALTaxTOTAL» Ticket22 « 6/28/2019 2 16 34 PM eRe eea akanngg EE 10% Gratuity$1.00 15% Gratuity$1.50 20% Gratuity$2.00 ee EERE ere muh\n",
      "['10', '22', '6/28/2019', '2 16 34', '10', '00 15', '50 20', '00']\n"
     ]
    },
    {
     "name": "stderr",
     "output_type": "stream",
     "text": [
      "\n",
      "\n",
      "  5%|████                                                                             | 30/595 [01:25<23:38,  2.51s/it]"
     ]
    },
    {
     "name": "stdout",
     "output_type": "stream",
     "text": [
      "C:\\Users\\amar\\Downloads\\Receipts\\0efaa622.jpeg\n",
      "I Tours & Travels “Now Book Your Tiekot From sn pttnags in ‘TripNante UAMNAGAR TO RAJKOT - 2 X 245VOLVO NamaDIPMSH THAKKAR - 8678208301 Booking-04-2018 Tut -GURLUR109J ‘Seat No.3 | Sp. Noa Tolal Totsi Scaper© | CigarDacooo §‘Total Sent Amt. 120 ‘Tete Sp ArtTotal |\n",
      "['245', '8678', '2083', '01', '04-2018', '109', '120']\n"
     ]
    },
    {
     "name": "stderr",
     "output_type": "stream",
     "text": [
      "\n",
      "\n",
      "  5%|████▏                                                                            | 31/595 [01:27<21:57,  2.34s/it]"
     ]
    },
    {
     "name": "stdout",
     "output_type": "stream",
     "text": [
      "C:\\Users\\amar\\Downloads\\Receipts\\102dd660.jpeg\n",
      "JuUTCE JUNCTION Uk wth Pl WA. BENGALURU. 4 INHPUILL-2.507 ON.002.502 ON.00 TOTAL GST h. AL. TOT¢ROUNDED145.00 CASH THANK YOU... UISIT AGAIN. i B- H/C NO\n",
      "['507', '002', '502', '00', '145', '00']\n"
     ]
    },
    {
     "name": "stderr",
     "output_type": "stream",
     "text": [
      "\n",
      "\n",
      "  5%|████▎                                                                            | 32/595 [01:30<23:33,  2.51s/it]"
     ]
    },
    {
     "name": "stdout",
     "output_type": "stream",
     "text": [
      "C:\\Users\\amar\\Downloads\\Receipts\\105e97c5.jpeg\n",
      "HAMMOCKS TRADING COMPANY www . hammockst radiny papery COM Sandy Spring % Georgia a 08 f-395-9592 | bce 40 Ww f 3/10/2017 6 23 pm Shrimp Entree Mac n Cheese French Fries BBQ & Blue Chz chips DiscountBBQ & Blue Chz Sprite Lobster Rol] SubTotal State Tax Total Total Due - 1/2 Priced Oysters on the Half Shel] 4-. ee ally a a ae\n",
      "['08', '395', '9592', '40', '3/10/2017', '6 23']\n"
     ]
    },
    {
     "name": "stderr",
     "output_type": "stream",
     "text": [
      "\n",
      "\n",
      "  6%|████▍                                                                            | 33/595 [01:34<27:21,  2.92s/it]"
     ]
    },
    {
     "name": "stdout",
     "output_type": "stream",
     "text": [
      "C:\\Users\\amar\\Downloads\\Receipts\\10e00c18.jpeg\n",
      "\n",
      "[]\n"
     ]
    },
    {
     "name": "stderr",
     "output_type": "stream",
     "text": [
      "\n",
      "\n",
      "  6%|████▋                                                                            | 34/595 [01:36<23:56,  2.56s/it]"
     ]
    },
    {
     "name": "stdout",
     "output_type": "stream",
     "text": [
      "C:\\Users\\amar\\Downloads\\Receipts\\1171a5da.jpeg\n",
      "RISTORANTE BELLAGIOCOTELEFONO/951888 ee ee TAV. 9 COPERTI 4 SALA UNICA 14/07/2019 16 23 4 COPERTO 12.00 2 ACQUA NAT 8.00 1 SALMERINO PIASTRA 18.00 1 TRENETTE AL PESTO 13.00 1 SPAGHETTI POM. BASILICO 10.00 1 FETTUCCINE RAGU' 15.00 1- PATATINE FRITTE 6.00 MANCIA/TIP 0 sreseeses eases Prego ritirare 11 documento fiscale alla cassa oe\n",
      "['9518', '88', '14/07/2019', '16 23', '12', '00', '00', '18', '00', '13', '00', '10', '00', '15', '00', '00', '11']\n"
     ]
    },
    {
     "name": "stderr",
     "output_type": "stream",
     "text": [
      "\n",
      "\n",
      "  6%|████▊                                                                            | 35/595 [01:38<23:09,  2.48s/it]"
     ]
    },
    {
     "name": "stdout",
     "output_type": "stream",
     "text": [
      "C:\\Users\\amar\\Downloads\\Receipts\\1191438d.jpeg\n",
      "Any Special Offer will be at End of Recespt ORDERTable 2 Dine In 30-Jun-2018 10 36 38P tion 1 mt hapa 1 Lamb Vindaloo 1. Konkan Fish Curry $16.95 medium Bi $16.95 mp Briyani ore $4.00 Hess Cabernet $50.00 ‘Subtotal$108.80 Tax $9.66 Total $118.46 CREDIT CARD AUTH $118.46 MASTERCARD Tip 35-s¥ Total.00\n",
      "['30-Jun-2018', '10 36 38', '16', '95', '16', '95', '00', '50', '00', '108', '80', '66', '118', '46', '118', '46', '35', '00']\n"
     ]
    },
    {
     "name": "stderr",
     "output_type": "stream",
     "text": [
      "\n",
      "\n",
      "  6%|████▉                                                                            | 36/595 [01:40<22:00,  2.36s/it]"
     ]
    },
    {
     "name": "stdout",
     "output_type": "stream",
     "text": [
      "C:\\Users\\amar\\Downloads\\Receipts\\121a7302.jpeg\n",
      "145 S. Livernots Rochester HITIs, MI-1637248656-2106 06/21/19 04 43 PH We are the one stop for all your shipping, postal and business needs. We offer all the services you needto keep your business going. © 001 T1$ 1.89 | 10x16 Packed Mat ier Giz T1$ 1.89 Packed Mailer G01040COTTOS 10.44 Ground Comerctal 001040001Ground Comercial Track ing® 126463540346294083 SubTotal 6% Sales TaxT1Total NUIGER1Aor Coca06180ISale ENTRY METHODOhtpftsad MOE\n",
      "['145', '1637', '2486', '56-2106', '06/21/19', '04 43', '001', '89', '10', '16', '89', '0104', '10', '44', '0010', '4000', '1264', '6354', '0346', '2940', '83', '0618']\n"
     ]
    },
    {
     "name": "stderr",
     "output_type": "stream",
     "text": [
      "\n",
      "\n",
      "  6%|█████                                                                            | 37/595 [01:44<25:27,  2.74s/it]"
     ]
    },
    {
     "name": "stdout",
     "output_type": "stream",
     "text": [
      "C:\\Users\\amar\\Downloads\\Receipts\\13531d03.jpeg\n",
      "E, P.C HWY NELPORt BEACH \"OA COAST HRY port BEACH, CA AMEX INVOICE E ee AUTH 20,4656 GAL ‘$3,899 FUEL TOTAL § 79,79 CREDIT $ 79, 79 Swiped Get rewarded on every fill-up at Chevron with a Techron Advantage ecard. See\n",
      "['20,4656', '3,899', '79,79', '79, 79']\n"
     ]
    },
    {
     "name": "stderr",
     "output_type": "stream",
     "text": [
      "\n",
      "\n",
      "  6%|█████▏                                                                           | 38/595 [01:47<26:06,  2.81s/it]"
     ]
    },
    {
     "name": "stdout",
     "output_type": "stream",
     "text": [
      "C:\\Users\\amar\\Downloads\\Receipts\\13b63796.jpeg\n",
      "Mea RESTAURANT\n",
      "[]\n"
     ]
    },
    {
     "name": "stderr",
     "output_type": "stream",
     "text": [
      "\n",
      "\n",
      "  7%|█████▎                                                                           | 39/595 [01:48<22:02,  2.38s/it]"
     ]
    },
    {
     "name": "stdout",
     "output_type": "stream",
     "text": [
      "C:\\Users\\amar\\Downloads\\Receipts\\13dc4bd4.jpeg\n",
      "Rt ananer pee mom privet Hit patie SURV A PONE GAR wither What praeatiiy WUT REST .00 jot ft ASA 00 ates.00< ye.00 i am 45.00 0.00.00ata nanny sie WW 39.89 35.00 L Ait ARR.656.89 fecwinal WeSU oust Wound Ott 3 your MD GANDA HUA . Sito E HE Het * vi Wehetia. ualsueead a ition i,\n",
      "['00', '00', '00', '00', '45', '00', '00', '00', '39', '89 35', '00', '656', '89']\n"
     ]
    },
    {
     "name": "stderr",
     "output_type": "stream",
     "text": [
      "\n",
      "\n",
      "  7%|█████▍                                                                           | 40/595 [01:51<22:49,  2.47s/it]"
     ]
    },
    {
     "name": "stdout",
     "output_type": "stream",
     "text": [
      "C:\\Users\\amar\\Downloads\\Receipts\\148ebe90.jpeg\n",
      "DateJuni9'19 08 41AM Card EntrySWIPED Trans TypePURCHASE Auth Kayla P 8.66. jeeee CUSTOMER I Agree To Pay Above Total According To My Card issuer Agreenent.\n",
      "['19 08 41', '66']\n"
     ]
    },
    {
     "name": "stderr",
     "output_type": "stream",
     "text": [
      "\n",
      "\n",
      "  7%|█████▌                                                                           | 41/595 [01:53<20:27,  2.22s/it]"
     ]
    },
    {
     "name": "stdout",
     "output_type": "stream",
     "text": [
      "C:\\Users\\amar\\Downloads\\Receipts\\150d4dde.jpeg\n",
      "COURTYARD BY Boston Westhorea” 3 Technology Drive Westborough, MA-4800 BISTRO eat drink connect 20 Jun’19 8 13 PM CheckCHK 4/1 | Server45596 Henry Card TypeVISA Acct Num;kRRREHEg4G7 Auth CustomerSONIA LAGUNA Amount$14.88 ao 30 TOTAL i © 38 SIGNATURE Thank you for joining us at Marriott |\n",
      "['4800', '20', '19 8 13', '4559', '14', '88', '30', '38']\n"
     ]
    },
    {
     "name": "stderr",
     "output_type": "stream",
     "text": [
      "\n",
      "\n",
      "  7%|█████▋                                                                           | 42/595 [01:56<22:45,  2.47s/it]"
     ]
    },
    {
     "name": "stdout",
     "output_type": "stream",
     "text": [
      "C:\\Users\\amar\\Downloads\\Receipts\\156e0f63.jpeg\n",
      "MOD Pizza ‘732 aoa bee Suite A Starmoad, WA S675Phone.205. 60 8/19/2019 PM Order TdAABT REACOH 77 - WERE Draft 6 4.57es Fountain.7 D Pizza $6.67 wD 6.67. ea\n",
      "['732', '675', '205', '60 8/19', '2019', '77', '57', '67', '67']\n"
     ]
    },
    {
     "name": "stderr",
     "output_type": "stream",
     "text": [
      "\n",
      "\n",
      "  7%|█████▊                                                                           | 43/595 [01:58<22:12,  2.41s/it]"
     ]
    },
    {
     "name": "stdout",
     "output_type": "stream",
     "text": [
      "C:\\Users\\amar\\Downloads\\Receipts\\15bb95a8.jpeg\n",
      "a Institute of Actuaries of India mote, this Just an acknowledgment of ywur waasactlon fram service provider and shoukd not be cumdered wy a receipt. Payment ‘will be available in Transaction 1.ist tab on sabject te realivation af, the payment in our bank account My Profits madrid boy becltute ot Copyright © 2012 Actuaries Indn. Al Rights Reserved. Webste ocectan\n",
      "['2012']\n"
     ]
    },
    {
     "name": "stderr",
     "output_type": "stream",
     "text": [
      "\n",
      "\n",
      "  7%|█████▉                                                                           | 44/595 [02:01<23:44,  2.59s/it]"
     ]
    },
    {
     "name": "stdout",
     "output_type": "stream",
     "text": [
      "C:\\Users\\amar\\Downloads\\Receipts\\15ce8549.jpeg\n",
      "SOLDEN BOWL TERIYAKI Sono GARFIELD AVE. QUTH GATE, CA. 90280-8989 REG 05-18-2019 11 18 AM Manager mons\" ORDER000141 11 CHKN PLATE 7% 1AVOCADO 2 1 MD. DRINK 2.28 *xHERE- a $1.40 TOTAL. $15, 05 $20. 00 cag $4.97\n",
      "['9028', '0-8989', '05-18-2019', '11 18', '0001', '41 11', '28', '40', '15, 05', '20', '00', '97']\n"
     ]
    },
    {
     "name": "stderr",
     "output_type": "stream",
     "text": [
      "\n",
      "\n",
      "  8%|██████▏                                                                          | 45/595 [02:03<22:19,  2.44s/it]"
     ]
    },
    {
     "name": "stdout",
     "output_type": "stream",
     "text": [
      "C:\\Users\\amar\\Downloads\\Receipts\\16929bef.jpeg\n",
      "SmokeBoxBBa Whitney Ave Hamden, CT CASHIER 5/22/2014 2 00 48 PH 1 FXN DIET BIRCH 1 FULL BOX -- $14.36\n",
      "['5/22/2014', '2 00 48', '14', '36']\n"
     ]
    },
    {
     "name": "stderr",
     "output_type": "stream",
     "text": [
      "\n",
      "\n",
      "  8%|██████▎                                                                          | 46/595 [02:05<20:48,  2.27s/it]"
     ]
    },
    {
     "name": "stdout",
     "output_type": "stream",
     "text": [
      "C:\\Users\\amar\\Downloads\\Receipts\\18e9efcf.jpeg\n",
      "Arthurs3l Washington Hoboken, NJ-5003 Alevande 73 ae Chie/82 Gst 3 01 4 Bar trtrur’s Burger *CheBleu 13.95 Surgarhvocado 15.95 achos 12.95 on Lager 6.00 gling 12.00 6.00 ani iia 13.95 f 0 0 A 64.78 isn 3 eel Private Rooms 4vailable Your Next\n",
      "['5003', '73', '82', '3 01', '13', '95', '15', '95', '12', '95', '00', '12', '00', '00', '13', '95', '64', '78']\n"
     ]
    },
    {
     "name": "stderr",
     "output_type": "stream",
     "text": [
      "\n",
      "\n",
      "  8%|██████▍                                                                          | 47/595 [02:08<23:32,  2.58s/it]"
     ]
    },
    {
     "name": "stdout",
     "output_type": "stream",
     "text": [
      "C:\\Users\\amar\\Downloads\\Receipts\\194fc04c.jpeg\n",
      "\n",
      "[]\n"
     ]
    },
    {
     "name": "stderr",
     "output_type": "stream",
     "text": [
      "\n",
      "\n",
      "  8%|██████▌                                                                          | 48/595 [02:10<21:06,  2.32s/it]"
     ]
    },
    {
     "name": "stdout",
     "output_type": "stream",
     "text": [
      "C:\\Users\\amar\\Downloads\\Receipts\\19aa65d3.jpeg\n",
      "ae <a - ServerPa Moen 2 Chacko ite Bom ay Ee 6s oF a festanrant Hours\n",
      "[]\n"
     ]
    },
    {
     "name": "stderr",
     "output_type": "stream",
     "text": [
      "\n",
      "\n",
      "  8%|██████▋                                                                          | 49/595 [02:12<20:48,  2.29s/it]"
     ]
    },
    {
     "name": "stdout",
     "output_type": "stream",
     "text": [
      "C:\\Users\\amar\\Downloads\\Receipts\\1a9c056c.jpeg\n",
      "SHUBHALXMI MI HOTEL SUNDER BAUGLEOY EE MOB NG Sa a i 2toee. AC-BILL SrNo. 90.29 —Stuw 2-Jun-19 12 07 PM Particulars Qty Rate Aart Food DRY FRUITS 4.00215.00.00.50% 5.37.60% 6a Food TotalPea TOTAL.00 GSTNO 27AAMPSAZ57RIZN Thank YouVisit Again we buy back our containers at rs 15 per kg.\n",
      "['90', '29', '2-Jun-19 12', '07', '0021', '00', '00', '50', '37', '60', '00', '27', '57', '15']\n"
     ]
    },
    {
     "name": "stderr",
     "output_type": "stream",
     "text": [
      "\n",
      "\n",
      "  8%|██████▊                                                                          | 50/595 [02:15<21:48,  2.40s/it]"
     ]
    },
    {
     "name": "stdout",
     "output_type": "stream",
     "text": [
      "C:\\Users\\amar\\Downloads\\Receipts\\1ae93f0a.jpeg\n",
      "tw cord femur are we Jo inspire and mr’ Gon parson one cup ced ene mei ener Care - 18802800010 4 steereraptatantaorials 08\n",
      "['1880', '2800', '010', '08']\n"
     ]
    },
    {
     "name": "stderr",
     "output_type": "stream",
     "text": [
      "\n",
      "\n",
      "  9%|██████▉                                                                          | 51/595 [02:17<20:07,  2.22s/it]"
     ]
    },
    {
     "name": "stdout",
     "output_type": "stream",
     "text": [
      "C:\\Users\\amar\\Downloads\\Receipts\\1afb9648.jpeg\n",
      "\n",
      "[]\n"
     ]
    },
    {
     "name": "stderr",
     "output_type": "stream",
     "text": [
      "\n",
      "\n",
      "  9%|███████                                                                          | 52/595 [02:18<18:34,  2.05s/it]"
     ]
    },
    {
     "name": "stdout",
     "output_type": "stream",
     "text": [
      "C:\\Users\\amar\\Downloads\\Receipts\\1b0a9723.jpeg\n",
      "SAREE RATE 4/5 VeTNDAWHF Gnu ARJUN NAGAR GATE. 011 aA teal Gi NWUE We SSE MAHL OnGNE~ 9209671 7 MOOT ee TTT MESTORANBITROO. date 19/a7/19 Them Name a * DELUKE Th. om\n",
      "['011', '9209', '671', '19', '7/19']\n"
     ]
    },
    {
     "name": "stderr",
     "output_type": "stream",
     "text": [
      "\n",
      "\n",
      "  9%|███████▏                                                                         | 53/595 [02:21<20:06,  2.23s/it]"
     ]
    },
    {
     "name": "stdout",
     "output_type": "stream",
     "text": [
      "C:\\Users\\amar\\Downloads\\Receipts\\1cd9dfed.jpeg\n",
      "Home Noriega Street Jun 1, 2019 San Francisco, CA 1 54-0038 Home a TicketEd Visa Authorization Recelpt YafF VISA DEBIT AID AO 00 00 00.03 10 10 — FOR HERE Sea Salted Caramel Latte $5.25 Lavender Latte $5.25 CONDENSED MILKY WAY $5.75 EGG IN A BASKET $6.75 Subtotal $23.00 Here $1.96 Tip $3.74 el Total $28.70 Visas 2763Chip$28.70 Setheng Ou 4 oe\n",
      "['Jun 1, 2019', '1 54-0038', '00 00 00', '03 10 10', '25', '25', '75', '75', '23', '00', '96', '74', '28', '70', '2763', '28', '70']\n"
     ]
    },
    {
     "name": "stderr",
     "output_type": "stream",
     "text": [
      "\n",
      "\n",
      "  9%|███████▎                                                                         | 54/595 [02:24<23:22,  2.59s/it]"
     ]
    },
    {
     "name": "stdout",
     "output_type": "stream",
     "text": [
      "C:\\Users\\amar\\Downloads\\Receipts\\1d900ca2.jpeg\n",
      "REL raed Reta Serius Praateuted \"899%, Busding BA, Lovel-RAtiombal intl Aiport\n",
      "['899']\n"
     ]
    },
    {
     "name": "stderr",
     "output_type": "stream",
     "text": [
      "\n",
      "\n",
      "  9%|███████▍                                                                         | 55/595 [02:26<19:46,  2.20s/it]"
     ]
    },
    {
     "name": "stdout",
     "output_type": "stream",
     "text": [
      "C:\\Users\\amar\\Downloads\\Receipts\\1e288e8c.jpeg\n",
      "SUTCE guNcTION ART PLAZA, BEM GSTTW 29AR7PBSB27CLZE CASH/BILL - a Slt em ¥.Ooo\n",
      "['29', '27']\n"
     ]
    },
    {
     "name": "stderr",
     "output_type": "stream",
     "text": [
      "\n",
      "\n",
      "  9%|███████▌                                                                         | 56/595 [02:27<17:15,  1.92s/it]"
     ]
    },
    {
     "name": "stdout",
     "output_type": "stream",
     "text": [
      "C:\\Users\\amar\\Downloads\\Receipts\\1e3d07aa.jpeg\n",
      "$26. or 21S- ROTHERSPLIMITED ae\n",
      "['26', '21']\n"
     ]
    },
    {
     "name": "stderr",
     "output_type": "stream",
     "text": [
      "\n",
      "\n",
      " 10%|███████▊                                                                         | 57/595 [02:28<15:06,  1.68s/it]"
     ]
    },
    {
     "name": "stdout",
     "output_type": "stream",
     "text": [
      "C:\\Users\\amar\\Downloads\\Receipts\\1ed34833.jpeg\n",
      "New Asia Buffet.5 Rinaldi St. Fernando, CA-0880 WeekEnd Dinner Dateov-15-08-N 17PM No. of 2 Weeken Coke AMOUNT TAX S%a1.8\n",
      "['0880', '15-08', '17']\n"
     ]
    },
    {
     "name": "stderr",
     "output_type": "stream",
     "text": [
      "\n",
      "\n",
      " 10%|███████▉                                                                         | 58/595 [02:30<17:11,  1.92s/it]"
     ]
    },
    {
     "name": "stdout",
     "output_type": "stream",
     "text": [
      "C:\\Users\\amar\\Downloads\\Receipts\\1f2e0222.jpeg\n",
      "RED & HOT i 7 AVE.COR F OSTBROOKLY NY 2 13 TELATIS TEL-8897 Dine In-20-2018 37PM ServerWAITERI No. of 1 Vegetable Roll 0.00 - Egg Roll 2.Sesame chicken 13.90 1 WR 1 FR 1L Veg Spare Ribs .BBS 7.65 WR.55 TAX 8.875%1.91 TOTAL; 23. 46 Thank yo very much.\n",
      "['2 13', '8897', '20-2018', '37', '00', '13', '90', '65', '55', '875', '91', '23', '46']\n"
     ]
    },
    {
     "name": "stderr",
     "output_type": "stream",
     "text": [
      "\n",
      "\n",
      " 10%|████████                                                                         | 59/595 [02:34<21:20,  2.39s/it]"
     ]
    },
    {
     "name": "stdout",
     "output_type": "stream",
     "text": [
      "C:\\Users\\amar\\Downloads\\Receipts\\1f6a12e7.jpeg\n",
      "THE a xh f The Place 2 Be \\ 616 Franklin Ave Hartford, CT https //www.Place2BeCT.com --- JOIN US FOR BOTTOMLESS BRUN' SaanEVERY SATURDAY & SUNDAY ORDERTable 17 Dine-In CashierMariah 17-Feb-2018 9 41 47A Guest 1 1 American Coffee 1 Nutella Coconut Pancakes Guest 2 1 American Coffee 1 Cheddar Grits CH --- *seeee* $15 BOTTOMLESS MIMOSAS ******* $1.75 $8.00 $1.75 $10.00 $21.50 $1.37 $22.87\n",
      "['616', '17', '17-Feb-2018', '9 41 47', '15', '75', '00', '75', '10', '00', '21', '50', '37', '22', '87']\n"
     ]
    },
    {
     "name": "stderr",
     "output_type": "stream",
     "text": [
      "\n",
      "\n",
      " 10%|████████▏                                                                        | 60/595 [02:38<24:34,  2.76s/it]"
     ]
    },
    {
     "name": "stdout",
     "output_type": "stream",
     "text": [
      "C:\\Users\\amar\\Downloads\\Receipts\\1f880ba4.jpeg\n",
      "on yan eensaneenenbeE w 4 ‘ “a wt \" seunnsnnnsuenttell ww ancnadueEEETOUEEEEEEEEE v auuneeneenaeatt\n",
      "[]\n"
     ]
    },
    {
     "name": "stderr",
     "output_type": "stream",
     "text": [
      "\n",
      "\n",
      " 10%|████████▎                                                                        | 61/595 [02:39<22:00,  2.47s/it]"
     ]
    },
    {
     "name": "stdout",
     "output_type": "stream",
     "text": [
      "C:\\Users\\amar\\Downloads\\Receipts\\1f9bdf4a.jpeg\n",
      "2 JIGGSA g 2 06/06/19 PM raids $ 4 OO see Jate/Tines 06/06/19 12 17 Pi The City of Oklahona tity\n",
      "['2 06/06', '19', '06/06/19', '12 17']\n"
     ]
    },
    {
     "name": "stderr",
     "output_type": "stream",
     "text": [
      "\n",
      "\n",
      " 10%|████████▍                                                                        | 62/595 [02:42<21:53,  2.46s/it]"
     ]
    },
    {
     "name": "stdout",
     "output_type": "stream",
     "text": [
      "C:\\Users\\amar\\Downloads\\Receipts\\20888b5e.jpeg\n",
      "Auth.994 26.€ SppROVED994824 PRODUNLEAD PRICE/GAL$2.599 NET/GSAL$2.59 TY.002 UEL TOTAL$26.66 NET TOTAL; %26.00 1A A Ee Ao oe ok ok ok ok Murphy Drive’ Re d iv wards IT'S TIME YOU GOT REWARDED Sign up is easy -- Cachiar hn\n",
      "['994', '26', '9948', '24', '599', '59', '002', '26', '66', '26', '00']\n"
     ]
    },
    {
     "name": "stderr",
     "output_type": "stream",
     "text": [
      "\n",
      "\n",
      " 11%|████████▌                                                                        | 63/595 [02:46<25:21,  2.86s/it]"
     ]
    },
    {
     "name": "stdout",
     "output_type": "stream",
     "text": [
      "C:\\Users\\amar\\Downloads\\Receipts\\208e94bb.jpeg\n",
      "Description Oty ‘Asount im CR 8.0646 21.12.619/ G TOTAL. 21.12 creo $21.12 on Entry Mathod Swipad Auth Resp BP SITE n how to earn rewards BP credit card. Take application or apply aniline at mybpstation.com ct-7 18-7608 Please Coma AgainSte © TILL XXXX ORS O TRANS 06/01/19 13 58 58\n",
      "['0646', '21', '12', '619', '21', '12', '21', '12', '7 18-7608', '06/01/19', '13 58 58']\n"
     ]
    },
    {
     "name": "stderr",
     "output_type": "stream",
     "text": [
      "\n",
      "\n",
      " 11%|████████▋                                                                        | 64/595 [02:48<24:28,  2.76s/it]"
     ]
    },
    {
     "name": "stdout",
     "output_type": "stream",
     "text": [
      "C:\\Users\\amar\\Downloads\\Receipts\\20aaa16a.jpeg\n",
      "No orthae ier \"rami Restaurant Pungoa n aoe Pood sasTa2e coge | a oe VR 1,020.00 OPEN TAM tl Fal Thank You. View Again ; Tl\n",
      "['1,020', '00']\n"
     ]
    },
    {
     "name": "stderr",
     "output_type": "stream",
     "text": [
      "\n",
      "\n",
      " 11%|████████▊                                                                        | 65/595 [02:50<20:58,  2.37s/it]"
     ]
    },
    {
     "name": "stdout",
     "output_type": "stream",
     "text": [
      "C:\\Users\\amar\\Downloads\\Receipts\\212ab88f.jpeg\n",
      "Parking Facilitation Charges Elante Mall A-4 Wheeler In-Time-07-04 16 34 06 INOS Ingateroe 20 33 42 QutGate OPR satyendra Ouration 3 hours 59 winutes Veh No MAF Charges 60 INR Total Charges 60 INR veh Thank You bk Rates are Inclusive of GST GST Powered By DOLPHIN MoteRates are Inc. of GST\n",
      "['07-04 16', '34 06', '20 33 42', '59', '60', '60']\n"
     ]
    },
    {
     "name": "stderr",
     "output_type": "stream",
     "text": [
      "\n",
      "\n",
      " 11%|████████▉                                                                        | 66/595 [02:53<22:37,  2.57s/it]"
     ]
    },
    {
     "name": "stdout",
     "output_type": "stream",
     "text": [
      "C:\\Users\\amar\\Downloads\\Receipts\\21e9cc19.jpeg\n",
      "\n",
      "[]\n"
     ]
    },
    {
     "name": "stderr",
     "output_type": "stream",
     "text": [
      "\n",
      "\n",
      " 11%|█████████                                                                        | 67/595 [02:54<19:55,  2.26s/it]"
     ]
    },
    {
     "name": "stdout",
     "output_type": "stream",
     "text": [
      "C:\\Users\\amar\\Downloads\\Receipts\\223eba39.jpeg\n",
      "BOUDIN BAKERTES SFO International Terminal SAN FRANCISCO, CA www .boudinbakery ,com San A thk. Gst 0'19 11 10AM TO Go 1 TC BRAISED CHK 2 12.89 1 CAFE LATTE 4.15 Ice CASH 20.00 Subtotal 17.04 Tax 1.16 2% Surcharge 0.34 Payment 18.54 Change Due 1.46 *Restaurant Employee Benefits Surcharge AEE EEE REESE ASR eee eee EEE REE EE ad\n",
      "['19 11 10', '2 12', '89', '15', '20', '00', '17', '04', '16', '34', '18', '54', '46']\n"
     ]
    },
    {
     "name": "stderr",
     "output_type": "stream",
     "text": [
      "\n",
      "\n",
      " 11%|█████████▎                                                                       | 68/595 [02:58<23:35,  2.69s/it]"
     ]
    },
    {
     "name": "stdout",
     "output_type": "stream",
     "text": [
      "C:\\Users\\amar\\Downloads\\Receipts\\24847223.jpeg\n",
      "| Us abo t ; Validation CodeUT wees ¥ Tires 90 days after receipt date, at Participating us McDonald's. Survey-13950-62519-07050-00056-5 “cDonald's CHRISTOPHER CROSSING VAN WERT,OH] TEL419 06/28/2019 07 05 AM Order 95 Bac Egg Ch Bis M1-Hb 5.59 1 M Coke btotal os Tax “a6 ke-Out Total 5. 68 sh Tendered rae ange xible schedules, tuition PE sag free meals and more. Apply at www.workatmcd.com\n",
      "['90', '1395', '0-6251', '9-0705', '0-0005', '419', '06/28/2019', '07 05', '95', '59', '68']\n"
     ]
    },
    {
     "name": "stderr",
     "output_type": "stream",
     "text": [
      "\n",
      "\n",
      " 12%|█████████▍                                                                       | 69/595 [03:00<23:02,  2.63s/it]"
     ]
    },
    {
     "name": "stdout",
     "output_type": "stream",
     "text": [
      "C:\\Users\\amar\\Downloads\\Receipts\\25635faa.jpeg\n",
      "CBE Sop, CosTco N Dixie Highway IH Baske ta0eornxneseeeneeeeEeNBOB Coun O% JUHHEBODNNIOE MTR 2.99 BEssss an WANAWS NNNPr es 7 E E E E E 1 E E E E SSz8n TOTAL NUMBER OF ITEMS INSTANT SAVINGS $ 3.80 DWARIAME 10 43 9 34 39 NameAlec C Thank YouPlease Come Asain Whse Trm 9 Trn 34 OP 39\n",
      "['99', '80', '10 43', '9 34 39', '34', '39']\n"
     ]
    },
    {
     "name": "stderr",
     "output_type": "stream",
     "text": [
      "\n",
      "\n",
      " 12%|█████████▌                                                                       | 70/595 [03:04<25:53,  2.96s/it]"
     ]
    },
    {
     "name": "stdout",
     "output_type": "stream",
     "text": [
      "C:\\Users\\amar\\Downloads\\Receipts\\2590a66d.jpeg\n",
      "cen tet 3a aifzaters firtiits\"HELM METRO RAIL CORPORATION LTD Date 14/06/2019 11 53 29 StationDwarka SEos Transaction Token Sale DestinationNoida Sector-15 Number of Due Paid Amount® 100 Return Change 40\n",
      "['14/06/2019', '11 53 29', '15', '100', '40']\n"
     ]
    },
    {
     "name": "stderr",
     "output_type": "stream",
     "text": [
      "\n",
      "\n",
      " 12%|█████████▋                                                                       | 71/595 [03:07<26:55,  3.08s/it]"
     ]
    },
    {
     "name": "stdout",
     "output_type": "stream",
     "text": [
      "C:\\Users\\amar\\Downloads\\Receipts\\25ee2c0d.jpeg\n",
      "Paradies a s09y 4.69 17VIAN 1 LITER Moo 0.4% n14 $6.14 Total $5.14 Card Tupe AEX Card EntryCHIP & ‘ eae fieproyal eaenedamenewe ENV PURCHASE setnneneerane fee Label‘AWERICAN EXPRESS ModeTasuer AID. 9000000025010801 ‘B0LU08OG fi GCF 79F BARZ 06/25/2019 «1SSAN G2 Thank You far Shapra The Paradies Shops Kansas City firport CELENRATING HO YEARS IN BUSINESS\n",
      "['09', '69 17', '14', '14', '14', '9000', '0000', '2501', '0801', '08', '79', '06/25/2019']\n"
     ]
    },
    {
     "name": "stderr",
     "output_type": "stream",
     "text": [
      "\n",
      "\n",
      " 12%|█████████▊                                                                       | 72/595 [03:10<26:52,  3.08s/it]"
     ]
    },
    {
     "name": "stdout",
     "output_type": "stream",
     "text": [
      "C:\\Users\\amar\\Downloads\\Receipts\\25f999dc.jpeg\n",
      "YOUR GUEST NUMBER IS 92 IN-N-OUT BURGER 3 5 0 65 70 64 a4 34 00 «8 2 x\n",
      "['92', '5 0 65', '70 64', '4 34 00']\n"
     ]
    },
    {
     "name": "stderr",
     "output_type": "stream",
     "text": [
      "\n",
      "\n",
      " 12%|█████████▉                                                                       | 73/595 [03:12<22:45,  2.62s/it]"
     ]
    },
    {
     "name": "stdout",
     "output_type": "stream",
     "text": [
      "C:\\Users\\amar\\Downloads\\Receipts\\265001bf.jpeg\n",
      "NAMADA LUCKNOW VOICE F z Bill No 1 €153FMBILO00606 PRIVATE LINITED. ‘BILL/07/2019 LAZA KEH . Room Ho Pox al 0.00 0.00 0.00 0.00 0.00 9.00 0.00 RES/DK / FOOD 0.00 9.00 6.00 0.00 0.00 0.00 6.00 0.00 0.00 6.00 Grand Tot.00 0.00 Net Amount [Rud] -----3599.00 / CREDIT CARD AMEX / 004*X00KK.00\n",
      "['153', '0060', '07/2019', '00', '00', '00', '00', '00', '00', '00', '00', '00', '00', '00', '00', '00', '00', '00', '00', '00', '00', '00', '3599', '00', '004', '00', '00']\n"
     ]
    },
    {
     "name": "stderr",
     "output_type": "stream",
     "text": [
      "\n",
      "\n",
      " 12%|██████████                                                                       | 74/595 [03:15<23:32,  2.71s/it]"
     ]
    },
    {
     "name": "stdout",
     "output_type": "stream",
     "text": [
      "C:\\Users\\amar\\Downloads\\Receipts\\26738bde.jpeg\n",
      "ae Winter, ti atv Cala Ainginter Av v * bee oa, fet LB rafed Opening Cot tew Prama he Lo , f ‘tat aety Fomtatn-\n",
      "[]\n"
     ]
    },
    {
     "name": "stderr",
     "output_type": "stream",
     "text": [
      "\n",
      "\n",
      " 13%|██████████▏                                                                      | 75/595 [03:17<22:34,  2.61s/it]"
     ]
    },
    {
     "name": "stdout",
     "output_type": "stream",
     "text": [
      "C:\\Users\\amar\\Downloads\\Receipts\\268027de.jpeg\n",
      "Le1900294a nm Antonio, TX Fells afta 03 Unleade ay andl allt/01/19 11 45AM “ET Aiea\n",
      "['1900', '294', '03', '01/19 11', '45']\n"
     ]
    },
    {
     "name": "stderr",
     "output_type": "stream",
     "text": [
      "\n",
      "\n",
      " 13%|██████████▎                                                                      | 76/595 [03:20<22:00,  2.54s/it]"
     ]
    },
    {
     "name": "stdout",
     "output_type": "stream",
     "text": [
      "C:\\Users\\amar\\Downloads\\Receipts\\26ab5ac7.jpeg\n",
      "* TAX INVOICE RUDRAKGHA HOTELS PVT LipSUGAR M SPI & Central feormn- Hotel Seratite. Ratlaw Gtatnan. eats Pine 2oa-MOEM ; ee es Mk Rs N/E I ARSON TCLS m0Ms avaRGD, «Date17Pavernt 5 CAH tos wa. 1 35.0ST 2.58 1O88r 2h 1Randing oor, OM OFA.Ke. 58.00 ——— -\n",
      "['17', '1 35', '58', '88', '58', '00']\n"
     ]
    },
    {
     "name": "stderr",
     "output_type": "stream",
     "text": [
      "\n",
      "\n",
      " 13%|██████████▍                                                                      | 77/595 [03:22<20:13,  2.34s/it]"
     ]
    },
    {
     "name": "stdout",
     "output_type": "stream",
     "text": [
      "C:\\Users\\amar\\Downloads\\Receipts\\28fe14e7.jpeg\n",
      "rw g6 San Antonio, 1x 4 eh Unt eadeg a a east ovseeshs 5 ;ss Ik a i jdt a fi, s\n",
      "[]\n"
     ]
    },
    {
     "name": "stderr",
     "output_type": "stream",
     "text": [
      "\n",
      "\n",
      " 13%|██████████▌                                                                      | 78/595 [03:23<17:41,  2.05s/it]"
     ]
    },
    {
     "name": "stdout",
     "output_type": "stream",
     "text": [
      "C:\\Users\\amar\\Downloads\\Receipts\\2ad1b322.jpeg\n",
      "35201 Newark Blvd.4 Newark CA-616-1196 http //me newarkbuffet com 05 25 PH 98/29/2018 ServerTim-11 ra 1p ony NAME up PRICE 2 «WEEKEND DINNER BUFFET 19.39 99.98 1 WEEKEND DINNER-5Y7.93 1 WEEKEND DINNER-1010.00 4 SODA DRINK 1.997.98 1 WEEKEND SENIOR DINNER 18.09 84.02 Tax 9, 758TOTALOm 8 NE\n",
      "['3520', '616', '1196', '05 25', '98/29/2018', '11', '19', '39 99', '98', '93', '1010', '00', '997', '98', '18', '09 84', '02', '9, 758']\n"
     ]
    },
    {
     "name": "stderr",
     "output_type": "stream",
     "text": [
      "\n",
      "\n",
      " 13%|██████████▊                                                                      | 79/595 [03:26<20:28,  2.38s/it]"
     ]
    },
    {
     "name": "stdout",
     "output_type": "stream",
     "text": [
      "C:\\Users\\amar\\Downloads\\Receipts\\2b4713c8.jpeg\n",
      "Original KFC Sapphire Foods India Pvt. Ltd. SEC 8C, Madhya Marg, Chd-160018 CIN - USS204NH200SP1C197005 GST IN WO. Invoice No. T1321 pawy\"i9 1 1 ze Rs. 14224\n",
      "['1600', '18', '204', '200', '1970', '05', '1321', '1422']\n"
     ]
    },
    {
     "name": "stderr",
     "output_type": "stream",
     "text": [
      "\n",
      "\n",
      " 13%|██████████▉                                                                      | 80/595 [03:29<20:45,  2.42s/it]"
     ]
    },
    {
     "name": "stdout",
     "output_type": "stream",
     "text": [
      "C:\\Users\\amar\\Downloads\\Receipts\\2b577c41.jpeg\n",
      "Custom Item $0.50 Subtotal $9.00 Tax $0.97 Total $9.97 Order T237THOQOT7RC Onlinehttps //clover.com/1/T23 7THOQOT7RG\n",
      "['50', '00', '97', '97', '237', '23']\n"
     ]
    },
    {
     "name": "stderr",
     "output_type": "stream",
     "text": [
      "\n",
      "\n",
      " 14%|███████████                                                                      | 81/595 [03:31<20:39,  2.41s/it]"
     ]
    },
    {
     "name": "stdout",
     "output_type": "stream",
     "text": [
      "C:\\Users\\amar\\Downloads\\Receipts\\2b931f74.jpeg\n",
      "n aril nts ‘nineate 8 Blvd mnie 1AP om Minieua sas nicht Yat $20 Victor V ee. mb i — gst 2’ 18 ipee a Bar FUSSILLI SP 1 Open Food 22.00 1 Ossobuco 28.00 1 Diet Coke 2.50 1 G 14 Hands Cab 10.00 Subtotal 62.50 Pr 5.39 Total 67.89 Minimum Credit/Debit Payment \" Thank you for joining us toda toda\n",
      "['20', '18', '22', '00', '28', '00', '50', '14', '10', '00', '62', '50', '39', '67', '89']\n"
     ]
    },
    {
     "name": "stderr",
     "output_type": "stream",
     "text": [
      "\n",
      "\n",
      " 14%|███████████▏                                                                     | 82/595 [03:33<20:35,  2.41s/it]"
     ]
    },
    {
     "name": "stdout",
     "output_type": "stream",
     "text": [
      "C:\\Users\\amar\\Downloads\\Receipts\\2bbb8522.jpeg\n",
      "JUICE JUNC LUN -CASH/BILL- ----- NO.00024 MH 4-07-15 DESCRIPTION NY RATE AMOUNT FRUIT BOW 40.00 40.00 WOOSAMBI WUICE 5-00 35.00 TAWA PNR — L 1-00 60-00 0.00.502 ON.00 3.38 Sest —«2.507 ON. TOTAL GST me ~® BL. TOT<ROUNDED; CASH THANK YOU--- UISIT agary. 7 *2-O0\n",
      "['0002', '4-07-15', '40', '00 40', '00', '5-00 35', '00', '1-00 60', '00', '00', '502', '00', '38', '507']\n"
     ]
    },
    {
     "name": "stderr",
     "output_type": "stream",
     "text": [
      "\n",
      "\n",
      " 14%|███████████▎                                                                     | 83/595 [03:36<20:07,  2.36s/it]"
     ]
    },
    {
     "name": "stdout",
     "output_type": "stream",
     "text": [
      "C:\\Users\\amar\\Downloads\\Receipts\\2bdd2396.jpeg\n",
      "MOONSTAR RESAURANT GELLERT BLVD., DALY CITY, CA-992-2888 rah vee « 2184 ary NAME u/P PRICE 5 FRI-SUN DINNER $29.88.40 29.88 50X0FF BIRTHDAY -0.50 -14.94.46 Tax 9%12.11.57 Tip%20.17166.74 18%24.20170.77 20%26.89.46 wna\n",
      "['992', '2888', '2184', '29', '88', '40 29', '88 50', '50', '14', '94', '46', '12', '11', '57', '20', '1716', '74 18', '24', '2017', '77 20', '26', '89', '46']\n"
     ]
    },
    {
     "name": "stderr",
     "output_type": "stream",
     "text": [
      "\n",
      "\n",
      " 14%|███████████▍                                                                     | 84/595 [03:39<22:54,  2.69s/it]"
     ]
    },
    {
     "name": "stdout",
     "output_type": "stream",
     "text": [
      "C:\\Users\\amar\\Downloads\\Receipts\\2c500858.jpeg\n",
      "5305 E PACIFIC COAST HWY Long Beach. CA-0906 ServerFrancie Stat Order a‘69923. ‘Dine In 1 Coffee, 3.00 2 Lunch 45.90 1 Coke 3.00 SUB.90 Tax 14. 68 TOTAL$5.54/26/2016 12 53 10 PM WME THANK YOU\n",
      "['5305', '0906', '6992', '00', '45', '90', '00', '90', '14', '68', '54/26/2016', '12 53 10']\n"
     ]
    },
    {
     "name": "stderr",
     "output_type": "stream",
     "text": [
      "\n",
      "\n",
      " 14%|███████████▌                                                                     | 85/595 [03:42<23:25,  2.76s/it]"
     ]
    },
    {
     "name": "stdout",
     "output_type": "stream",
     "text": [
      "C:\\Users\\amar\\Downloads\\Receipts\\2c942f50.jpeg\n",
      "t itality arath tit Arrival Terminal-2 IGI Airport OELHI-110037 GSTINO7AADCHISS2C1ZV Desriptin‘Acne setite en 0 ales t— <it*té‘ié«sS -200.00 Change.00 Amt. CGST 2.5 SGST 2.5 Ee\n",
      "['1100', '37', '200', '00', '00']\n"
     ]
    },
    {
     "name": "stderr",
     "output_type": "stream",
     "text": [
      "\n",
      "\n",
      " 14%|███████████▋                                                                     | 86/595 [03:44<22:37,  2.67s/it]"
     ]
    },
    {
     "name": "stdout",
     "output_type": "stream",
     "text": [
      "C:\\Users\\amar\\Downloads\\Receipts\\2d27a624.jpeg\n",
      "—-MONARQUE cramer peresee RERVICE ot angen ANF oe mews ‘Rate GST% Amount.00 1 moo 18 Ww 7 MUTTON BIRVAN' HAVE A NICE DAY\n",
      "['00', '18']\n"
     ]
    },
    {
     "name": "stderr",
     "output_type": "stream",
     "text": [
      "\n",
      "\n",
      " 15%|███████████▊                                                                     | 87/595 [03:46<20:00,  2.36s/it]"
     ]
    },
    {
     "name": "stdout",
     "output_type": "stream",
     "text": [
      "C:\\Users\\amar\\Downloads\\Receipts\\2de48561.jpeg\n",
      "BILL HOTEL OE VITI/651 B,N.H 47,Parambayam, Amaya-2zt‘Bs; 5B BILL/05/2019 Time 08 47 AM CtrARVAAS, Fa ITEM NaN ROAST POORTMASALA VADA TEA CGST 2.50%SasT 2. 50%TOTAL Item sFor 0. 00 THANK YOU ...-COME AGAIN« ss.\n",
      "['651', '47', '05/2019', '08 47', '50', '50', '00']\n"
     ]
    },
    {
     "name": "stderr",
     "output_type": "stream",
     "text": [
      "\n",
      "\n",
      " 15%|███████████▉                                                                     | 88/595 [03:48<19:44,  2.34s/it]"
     ]
    },
    {
     "name": "stdout",
     "output_type": "stream",
     "text": [
      "C:\\Users\\amar\\Downloads\\Receipts\\2e12ae7f.jpeg\n",
      "More saving. fj More doing.” 7100 NORTH FREEWAY FORT WORTH, TX 00; D7/01/1 2 31 PI CASHIER SAL YAVOe O7/01/19 12 31 PM y 9'BLK BANTAP <A11.97 16/3 9\" BLACK BANANA TAP i 4 ora eh A oi EXT CORD LSM RYAN AID THD PLCC PROX PRO XTRA MEMBER STATEMENT ao XTRA Mis S10SE\n",
      "['7100', '00', '7/01', '1 2 31', '7/01/19', '12 31', '11', '97 16', '10']\n"
     ]
    },
    {
     "name": "stderr",
     "output_type": "stream",
     "text": [
      "\n",
      "\n",
      " 15%|████████████                                                                     | 89/595 [03:52<21:47,  2.58s/it]"
     ]
    },
    {
     "name": "stdout",
     "output_type": "stream",
     "text": [
      "C:\\Users\\amar\\Downloads\\Receipts\\2edff68d.jpeg\n",
      "Delivery Farhean\n",
      "[]\n"
     ]
    },
    {
     "name": "stderr",
     "output_type": "stream",
     "text": [
      "\n",
      "\n",
      " 15%|████████████▎                                                                    | 90/595 [03:54<20:42,  2.46s/it]"
     ]
    },
    {
     "name": "stdout",
     "output_type": "stream",
     "text": [
      "C:\\Users\\amar\\Downloads\\Receipts\\2ef79975.jpeg\n",
      "BL .TOTROUMDED¥ 180-00 NO 5 rOoTAL KOT- iABK YOU PLEASE VISIT AGAIN vr TH cé M/C ND\n",
      "['180', '00']\n"
     ]
    },
    {
     "name": "stderr",
     "output_type": "stream",
     "text": [
      "\n",
      "\n",
      " 15%|████████████▍                                                                    | 91/595 [03:57<23:52,  2.84s/it]"
     ]
    },
    {
     "name": "stdout",
     "output_type": "stream",
     "text": [
      "C:\\Users\\amar\\Downloads\\Receipts\\2f36db66.jpeg\n",
      "KALAVERAS - BELLFLOWER BELLFLOWER BLVD BELLFLOWER, CA http //www.kalaveras.com/ ORDERBar CashierBAR PM 30-Aug-2019 3 24 10P Classic Michelada Classic Michelada Don Julio Anejo Classic Michelada Balam Madurado THM Mn order 93vaqgacal\n",
      "['30-Aug-2019', '3 24 10', '93']\n"
     ]
    },
    {
     "name": "stderr",
     "output_type": "stream",
     "text": [
      "\n",
      "\n",
      " 15%|████████████▌                                                                    | 92/595 [04:01<25:45,  3.07s/it]"
     ]
    },
    {
     "name": "stdout",
     "output_type": "stream",
     "text": [
      "C:\\Users\\amar\\Downloads\\Receipts\\2fdd6a08.jpeg\n",
      "SAFEWAY 9. Store Dir-7200-8010 Mission Street SAN FRANCISCO CA LAYS BARBECUE , 3.00 S Regular Price Card Savings HARIBO CDY GUMMI Resular Price Card Savines ary KINDER JOY T1 20 Resular Price Card Savings PRODUCE S FARMS TOMATOES 5 QTY LEMONS 2 4 CUCUMBERS 5. ITALIAN PARSLEY 0 o-- ow BS ge Se 4 ary HISCELLANEOUS MR RCYCBLE BAG CHARGE 0.10 TAX 0,00 nee% BALANCE re Debit Purchase 06/04/19 16 38 CARD W aan PRIMARY TOTAL TRANSACTION,28 CASH BACK AMOUNT 0.00 PEF A US DEBIT KID ROAHANAnGANAAN\n",
      "['7200', '8010', '00', '1 20', '10', '0,00', '06/04/19', '16 38', '28', '00']\n"
     ]
    },
    {
     "name": "stderr",
     "output_type": "stream",
     "text": [
      "\n",
      "\n",
      " 16%|████████████▋                                                                    | 93/595 [04:07<33:09,  3.96s/it]"
     ]
    },
    {
     "name": "stdout",
     "output_type": "stream",
     "text": [
      "C:\\Users\\amar\\Downloads\\Receipts\\30501b83.jpeg\n",
      "GRAND LOK CAFE Roosevelt Field TABLE 101arty 3 STEPHEN 16 43 04/25/15 Coffee 2.95 Chicken Parmesan 17.95 Prime Top Sirloin 5.5 The Bacon-Cheese Burger 13.95 Coffee 2.55 Sub.75.50.25 69.25 Sub A 04/25 17 42 TOTALGratuity Not Included Suggested% 13.85 | 18% 12.41 15% 10.39 It's been a pleasure to serve you. Thank you for dining with us ~~‘\n",
      "['101', '16 43 04', '25/15', '95', '17', '95', '13', '95', '55', '75', '50', '25 69', '25', '04/25 17', '42', '13', '85', '18', '12', '41 15', '10', '39']\n"
     ]
    },
    {
     "name": "stderr",
     "output_type": "stream",
     "text": [
      "\n",
      "\n",
      " 16%|████████████▊                                                                    | 94/595 [04:12<36:39,  4.39s/it]"
     ]
    },
    {
     "name": "stdout",
     "output_type": "stream",
     "text": [
      "C:\\Users\\amar\\Downloads\\Receipts\\3055743f.jpeg\n",
      "th & State we v. S Mubaauoes, WI SPSS-5 Receipt ‘A Payuent o.00013150 Tieset 0.034749 o7/cz/2019Tue9218 Gra 20iTuefate A WISA Account & Slip ‘aulth Contes Total AA REESE SSREEEESSS SNES ‘Thang you for parking wlth Interstate Parking\n",
      "['0001', '3150', '0347', '49', '2019', '9218', '20']\n"
     ]
    },
    {
     "name": "stderr",
     "output_type": "stream",
     "text": [
      "\n",
      "\n",
      " 16%|████████████▉                                                                    | 95/595 [04:17<37:40,  4.52s/it]"
     ]
    },
    {
     "name": "stdout",
     "output_type": "stream",
     "text": [
      "C:\\Users\\amar\\Downloads\\Receipts\\316b49e7.jpeg\n",
      "\n",
      "[]\n"
     ]
    },
    {
     "name": "stderr",
     "output_type": "stream",
     "text": [
      "\n",
      "\n",
      " 16%|█████████████                                                                    | 96/595 [04:20<33:25,  4.02s/it]"
     ]
    },
    {
     "name": "stdout",
     "output_type": "stream",
     "text": [
      "C:\\Users\\amar\\Downloads\\Receipts\\316d4f06.jpeg\n",
      "2407 ‘Traps ter al mg ata on. Raha Ora\n",
      "['2407']\n"
     ]
    },
    {
     "name": "stderr",
     "output_type": "stream",
     "text": [
      "\n",
      "\n",
      " 16%|█████████████▏                                                                   | 97/595 [04:23<29:57,  3.61s/it]"
     ]
    },
    {
     "name": "stdout",
     "output_type": "stream",
     "text": [
      "C:\\Users\\amar\\Downloads\\Receipts\\31761796.jpeg\n",
      "Toll-Plaza NamePanikholiKm.698 on NH-16SectionChandikhole-Bhadrak Contractor's NamePrakash Asphalt ings & Toll Highways ILtd Ticket Booth & Operator07 & TC1159 Date & Tine02-Jul-19 10 40 29 Vehicle Type Of VehicleCAR/JEEP/VAN Type Of JourneyRETURN JOURNEY Method Of PaymentCash FeeRs. 130 Am iy Valid Up-Jul-19 10 40 29 YOU SAFE & HAPPY JOURNEYNational Highways Authority of India Prakash Asphalt ings & Toll HighwaysILtdKm.000 To.500THHIQSSSIXXVR\n",
      "['698', '16', '07', '1159', '02-Jul-19 10', '40 29', '130', 'Jul-19 10', '40 29', '000', '500']\n"
     ]
    },
    {
     "name": "stderr",
     "output_type": "stream",
     "text": [
      "\n",
      "\n",
      " 16%|█████████████▎                                                                   | 98/595 [04:28<32:57,  3.98s/it]"
     ]
    },
    {
     "name": "stdout",
     "output_type": "stream",
     "text": [
      "C:\\Users\\amar\\Downloads\\Receipts\\317fb684.jpeg\n",
      "\n",
      "[]\n"
     ]
    },
    {
     "name": "stderr",
     "output_type": "stream",
     "text": [
      "\n",
      "\n",
      " 17%|█████████████▍                                                                   | 99/595 [04:30<27:55,  3.38s/it]"
     ]
    },
    {
     "name": "stdout",
     "output_type": "stream",
     "text": [
      "C:\\Users\\amar\\Downloads\\Receipts\\318663fa.jpeg\n",
      "LARGE conso Spicy Chicken only ADD American Cheese Lettuce Large Fries CMB LG FREESTYLE Coke Total Itens 3 Tax PUW Total Auth 08073B\n",
      "['0807']\n"
     ]
    },
    {
     "name": "stderr",
     "output_type": "stream",
     "text": [
      "\n",
      "\n",
      " 17%|█████████████▍                                                                  | 100/595 [04:34<29:20,  3.56s/it]"
     ]
    },
    {
     "name": "stdout",
     "output_type": "stream",
     "text": [
      "C:\\Users\\amar\\Downloads\\Receipts\\31ad980e.jpeg\n",
      "famous pun mrrvanx Raw CORRE ‘SP .1,0L0cK .2,050-7, ERUL-WT MEAT~400 Tos mB. CASH/BILL..... TOE $10 ROTS OF COR OL WAITER 00 0.000069 MATE\n",
      "['2,050', '400', '10', '00', '0000', '69']\n"
     ]
    },
    {
     "name": "stderr",
     "output_type": "stream",
     "text": [
      "\n",
      "\n",
      " 17%|█████████████▌                                                                  | 101/595 [04:38<30:29,  3.70s/it]"
     ]
    },
    {
     "name": "stdout",
     "output_type": "stream",
     "text": [
      "C:\\Users\\amar\\Downloads\\Receipts\\32b4d880.jpeg\n",
      "OPERATED BY, “aye SHAKE SHACK LA GUARDIA AP John TBL 6/1 MARIA'19 6 26PM 1 SHROOM 8.19 1 FRIES 3.39 1 ROOT BEER FLT 6.15 SUBTOTAL 17.73 TAX 1.57 AMOUNT PAID 19.30 pees hinazaT STR 19,30 --a5108\" Bieced JUL1B 06 27PH-~\n",
      "['19 6 26', '19', '39', '15', '17', '73', '57', '19', '30', '19,30', '5108', '06 27']\n"
     ]
    },
    {
     "name": "stderr",
     "output_type": "stream",
     "text": [
      "\n",
      "\n",
      " 17%|█████████████▋                                                                  | 102/595 [04:41<28:54,  3.52s/it]"
     ]
    },
    {
     "name": "stdout",
     "output_type": "stream",
     "text": [
      "C:\\Users\\amar\\Downloads\\Receipts\\32d10504.jpeg\n",
      "OITTice eee “officeMax. PLANO -972733-0221 07/08/2019 5 02 PM Hg U0 SAYPUUGY YECCH SALE-2-7211-912120-19.6, 6826447 Mechanical Pen Pen/HL.RT,Astd PN,ENRG,NDL, BL SubtotalSales TaxVisa.82 AUTH CODE. ost 73g AID eet, 1 “ TR CHASE VISA\n",
      "['9727', '33-0221', '07/08/2019', '5 02', '2-7211', '9121', '20-19', '6, 6826', '447', '82', '73']\n"
     ]
    },
    {
     "name": "stderr",
     "output_type": "stream",
     "text": [
      "\n",
      "\n",
      " 17%|█████████████▊                                                                  | 103/595 [04:47<35:04,  4.28s/it]"
     ]
    },
    {
     "name": "stdout",
     "output_type": "stream",
     "text": [
      "C:\\Users\\amar\\Downloads\\Receipts\\332c05ec.jpeg\n",
      "rd TypeVISA nb \"3<EC CustorerMATTHEW TRANSUE Amount\n",
      "[]\n"
     ]
    },
    {
     "name": "stderr",
     "output_type": "stream",
     "text": [
      "\n",
      "\n",
      " 17%|█████████████▉                                                                  | 104/595 [04:50<31:46,  3.88s/it]"
     ]
    },
    {
     "name": "stdout",
     "output_type": "stream",
     "text": [
      "C:\\Users\\amar\\Downloads\\Receipts\\3331e5f3.jpeg\n",
      "BEN’S-31 Sith hea Bayside, AY-2357 EuailBayatdatBenadelnat Tile 4 warty S JESSICA M 12 05 O8/05/17 DINING ROOM ‘2 DOLE DIP, 1 thy, boxbarley, 1 pest, bowl barley 1 KISH 1 ‘Sub TotalTex 2 09/05 12 41. 8 8 e-vee Bin Beneee\n",
      "['31', '2357', '12 05', '8/05/17', '2 09/05', '12 41']\n"
     ]
    },
    {
     "name": "stderr",
     "output_type": "stream",
     "text": [
      "\n",
      "\n",
      " 18%|██████████████                                                                  | 105/595 [04:54<33:04,  4.05s/it]"
     ]
    },
    {
     "name": "stdout",
     "output_type": "stream",
     "text": [
      "C:\\Users\\amar\\Downloads\\Receipts\\33fba310.jpeg\n",
      "GRILLE Villaggio Grille Wharf Parkway Orange Beach, AL-224-6510 rder 06/08/19 11 45 AM foie 14 Cust 3 Server JAMIE 1 P-VILLAGIO BREEZE 0.01 1 ADD SALAD 3.00 1 LUNCH SEAFOOD PASTA 14.00 1 KID PEPERONI PIZZA 7.00 ] KID ALFREDO 7.00 Sub-total31.01.11 Total.12\n",
      "['224', '6510', '06/08/19', '11 45', '14', '01', '00', '14', '00', '00', '00', '31', '01', '11', '12']\n"
     ]
    },
    {
     "name": "stderr",
     "output_type": "stream",
     "text": [
      "\n",
      "\n",
      " 18%|██████████████▎                                                                 | 106/595 [04:59<33:48,  4.15s/it]"
     ]
    },
    {
     "name": "stdout",
     "output_type": "stream",
     "text": [
      "C:\\Users\\amar\\Downloads\\Receipts\\349c23ef.jpeg\n",
      "RINCON MEXICANO 99 BROADWAY SOMERVILLE, MA Dine In CashierLORENZO REYES 09-May-2017 7 19 46P 2Artoz Taco De Pescado Taco Tuesday Pollo Taco D Carne Asada Taco D Chorizo Horchata Taco Tuesday Pollo Taco D Cochinita 2 2 1 1 1 Taco Tuesday Pastor 1 1 1 1 Taco D Carnitas Subtotal Tax Total Order\n",
      "['99', '09-May-2017', '7 19 46']\n"
     ]
    },
    {
     "name": "stderr",
     "output_type": "stream",
     "text": [
      "\n",
      "\n",
      " 18%|██████████████▍                                                                 | 107/595 [05:03<34:16,  4.21s/it]"
     ]
    },
    {
     "name": "stdout",
     "output_type": "stream",
     "text": [
      "C:\\Users\\amar\\Downloads\\Receipts\\3519f28b.jpeg\n",
      "\n",
      "[]\n"
     ]
    },
    {
     "name": "stderr",
     "output_type": "stream",
     "text": [
      "\n",
      "\n",
      " 18%|██████████████▌                                                                 | 108/595 [05:05<29:20,  3.62s/it]"
     ]
    },
    {
     "name": "stdout",
     "output_type": "stream",
     "text": [
      "C:\\Users\\amar\\Downloads\\Receipts\\3530e6d1.jpeg\n",
      "zomato Krishnum Food Plaza sauar | 25/87/19 at 12 59 4 Delivered By Zomato er ee ere Sm EY WENN MLAS EGP He murs a AP NameHemant Rawal AddressMOHAN NAGAR, NAGPUR. OTP6400 ase NNR 86 JSR NER AN AIT Order Krishnum Special Thali | Customize ‘| Soup | Bread 4 Chapati Rice Jeera Rice 1 x Item Taxes 12.76.76\n",
      "['25/87/19', '12 59', '6400', '86', '12', '76', '76']\n"
     ]
    },
    {
     "name": "stderr",
     "output_type": "stream",
     "text": [
      "\n",
      "\n",
      " 18%|██████████████▋                                                                 | 109/595 [05:11<35:02,  4.33s/it]"
     ]
    },
    {
     "name": "stdout",
     "output_type": "stream",
     "text": [
      "C:\\Users\\amar\\Downloads\\Receipts\\36285989.jpeg\n",
      "ee 2FOOD 5 ONLY For Fresh Food ee ae —— 1 2% ge peo\\ %,\n",
      "[]\n"
     ]
    },
    {
     "name": "stderr",
     "output_type": "stream",
     "text": [
      "\n",
      "\n",
      " 18%|██████████████▊                                                                 | 110/595 [05:15<33:48,  4.18s/it]"
     ]
    },
    {
     "name": "stdout",
     "output_type": "stream",
     "text": [
      "C:\\Users\\amar\\Downloads\\Receipts\\365c3104.jpeg\n",
      "\\ ad Abie Ltd. me Vauatie \" Road Ta ery 12d anne La Tariff; 996337Tow Mo ORD No bee 10-06-19 14 39 POS No. T32913 Cus. S717914084-- Tron tes Fi Hewat iiee be |. ASHI\n",
      "['12', '9963', '37', '10-06-19', '14 39', '3291', '7179', '1408']\n"
     ]
    },
    {
     "name": "stderr",
     "output_type": "stream",
     "text": [
      "\n",
      "\n",
      " 19%|██████████████▉                                                                 | 111/595 [05:19<34:23,  4.26s/it]"
     ]
    },
    {
     "name": "stdout",
     "output_type": "stream",
     "text": [
      "C:\\Users\\amar\\Downloads\\Receipts\\36e4ad81.jpeg\n",
      "SALESBS2929HA1 07-14-19 TRVIN FOUR UAY KEY-6060 6.54 6.96 DISCOUNT EACH Oy ‘SUBTOTAL‘ a7 4. oae TOTAL.44 Zs LARS ANOURT 9.24 SUIPED AEFIO 07/15/19 07 49 01 ACCOUNT WANERIGHT UAY FACILITY SERUICE AUTH BUYER— WILSON RYAN\n",
      "['2929', '1 07-14', '19', '6060', '54', '96', '44', '24', '07/15/19', '07 49 01']\n"
     ]
    },
    {
     "name": "stderr",
     "output_type": "stream",
     "text": [
      "\n",
      "\n",
      " 19%|███████████████                                                                 | 112/595 [05:24<34:59,  4.35s/it]"
     ]
    },
    {
     "name": "stdout",
     "output_type": "stream",
     "text": [
      "C:\\Users\\amar\\Downloads\\Receipts\\37176928.jpeg\n",
      "—2 PRAKASH EXPRESSWAY FILL] SAJGAON .MUMBA IPU RAIGAD.410203 ie ExFR ORIGINAL 07tin, NOred CE LE NORor ENTERED PRESETNOT ENTERED NOZZLE PRODUCTProduct 1 peustr.5 kg/m368. aA perier Vo.40.42 L.91 INR Thank YouVisit Again\n",
      "['4102', '03', '07', '368', '40', '42', '91']\n"
     ]
    },
    {
     "name": "stderr",
     "output_type": "stream",
     "text": [
      "\n",
      "\n",
      " 19%|███████████████▏                                                                | 113/595 [05:27<32:46,  4.08s/it]"
     ]
    },
    {
     "name": "stdout",
     "output_type": "stream",
     "text": [
      "C:\\Users\\amar\\Downloads\\Receipts\\375f34a9.jpeg\n",
      "i TOREL, FUND SERVICES HOLEATA FUT. L GPSie HSI\n",
      "[]\n"
     ]
    },
    {
     "name": "stderr",
     "output_type": "stream",
     "text": [
      "\n",
      "\n",
      " 19%|███████████████▎                                                                | 114/595 [05:31<30:44,  3.84s/it]"
     ]
    },
    {
     "name": "stdout",
     "output_type": "stream",
     "text": [
      "C:\\Users\\amar\\Downloads\\Receipts\\376101f2.jpeg\n",
      "Dip] aaity/ Gia\n",
      "[]\n"
     ]
    },
    {
     "name": "stderr",
     "output_type": "stream",
     "text": [
      "\n",
      "\n",
      " 19%|███████████████▍                                                                | 115/595 [05:35<31:19,  3.92s/it]"
     ]
    },
    {
     "name": "stdout",
     "output_type": "stream",
     "text": [
      "C:\\Users\\amar\\Downloads\\Receipts\\379efbfc.jpeg\n",
      "\n",
      "[]\n"
     ]
    },
    {
     "name": "stderr",
     "output_type": "stream",
     "text": [
      "\n",
      "\n",
      " 19%|███████████████▌                                                                | 116/595 [05:38<29:25,  3.69s/it]"
     ]
    },
    {
     "name": "stdout",
     "output_type": "stream",
     "text": [
      "C:\\Users\\amar\\Downloads\\Receipts\\38863cee.jpeg\n",
      "CELEBRATIONS MULTICUISINE RESTAURANT Magunta L. Nellore Phone-06666 GST NO37ACBPN6269K1ZO PARCEL Token BilNoPARCEL-194 Date ; 18/04/2019 3835PM CaptainWaiterDining Hall ;PARCEL Item Rale Qty “Amoun' Paneer butter masa.62 1.62 Butter naan 62,00 4.00 Noofitems 2 Nool y 5 Sub Total Rs.62 Sastizomt Rs 11.39 SGST 2 5%Rs 11.39 Total Arnount Rs.00,00 ‘Thank You |Visit Again 1\n",
      "['0666', '37', '6269', '194', '18/04/2019', '3835', '62', '62', '62,00', '00', '62', '11', '39', '11', '39', '00,00']\n"
     ]
    },
    {
     "name": "stderr",
     "output_type": "stream",
     "text": [
      "\n",
      "\n",
      " 20%|███████████████▋                                                                | 117/595 [05:42<31:19,  3.93s/it]"
     ]
    },
    {
     "name": "stdout",
     "output_type": "stream",
     "text": [
      "C:\\Users\\amar\\Downloads\\Receipts\\38d9d542.jpeg\n",
      "\n",
      "[]\n"
     ]
    },
    {
     "name": "stderr",
     "output_type": "stream",
     "text": [
      "\n",
      "\n",
      " 20%|███████████████▊                                                                | 118/595 [05:45<26:49,  3.37s/it]"
     ]
    },
    {
     "name": "stdout",
     "output_type": "stream",
     "text": [
      "C:\\Users\\amar\\Downloads\\Receipts\\39e7c62a.jpeg\n",
      "a a avert noon Patio mot ce MASS OY 30-1908 contr SF 98-8800 09/2 9 4.5028.5.00 antotal 79.50 5.97 Tax Total Balance Due\n",
      "['30-1908', '98-8800', '09', '5028', '00', '79', '50', '97']\n"
     ]
    },
    {
     "name": "stderr",
     "output_type": "stream",
     "text": [
      "\n",
      "\n",
      " 20%|████████████████                                                                | 119/595 [05:49<28:34,  3.60s/it]"
     ]
    },
    {
     "name": "stdout",
     "output_type": "stream",
     "text": [
      "C:\\Users\\amar\\Downloads\\Receipts\\3bce4b60.jpeg\n",
      "pn THEE HOTEL Fore erce bates LITwwaslencrtreerarels cm ran eve\n",
      "[]\n"
     ]
    },
    {
     "name": "stderr",
     "output_type": "stream",
     "text": [
      "\n",
      "\n",
      " 20%|████████████████▏                                                               | 120/595 [05:52<27:09,  3.43s/it]"
     ]
    },
    {
     "name": "stdout",
     "output_type": "stream",
     "text": [
      "C:\\Users\\amar\\Downloads\\Receipts\\3bf18630.jpeg\n",
      "4 June 16, 2019 1 10 PM STh Ave.\n",
      "['4 June 16, 2019', '1 10']\n"
     ]
    },
    {
     "name": "stderr",
     "output_type": "stream",
     "text": [
      "\n",
      "\n",
      " 20%|████████████████▎                                                               | 121/595 [05:54<25:06,  3.18s/it]"
     ]
    },
    {
     "name": "stdout",
     "output_type": "stream",
     "text": [
      "C:\\Users\\amar\\Downloads\\Receipts\\3bfa05ad.jpeg\n",
      "WELCOME TO ER GROCERY < DUPLICATE RECEIPTDescription Oty REGUM. CR05 21.6760.658/ G Suvtotal TOTAL Stn VISA Inv Autho Get rewarded on every fill-up at THANKS COME AGAIN TILL 100K OR© TRANS 00/25/18 18 21 34\n",
      "['05 21', '6760', '658', '100', '00/25/18', '18 21 34']\n"
     ]
    },
    {
     "name": "stderr",
     "output_type": "stream",
     "text": [
      "\n",
      "\n",
      " 21%|████████████████▍                                                               | 122/595 [05:57<24:16,  3.08s/it]"
     ]
    },
    {
     "name": "stdout",
     "output_type": "stream",
     "text": [
      "C:\\Users\\amar\\Downloads\\Receipts\\3c73f675.jpeg\n",
      "\n",
      "[]\n"
     ]
    },
    {
     "name": "stderr",
     "output_type": "stream",
     "text": [
      "\n",
      "\n",
      " 21%|████████████████▌                                                               | 123/595 [06:00<23:14,  2.95s/it]"
     ]
    },
    {
     "name": "stdout",
     "output_type": "stream",
     "text": [
      "C:\\Users\\amar\\Downloads\\Receipts\\3cdec471.jpeg\n",
      "\n",
      "[]\n"
     ]
    },
    {
     "name": "stderr",
     "output_type": "stream",
     "text": [
      "\n",
      "\n",
      " 21%|████████████████▋                                                               | 124/595 [06:03<23:02,  2.94s/it]"
     ]
    },
    {
     "name": "stdout",
     "output_type": "stream",
     "text": [
      "C:\\Users\\amar\\Downloads\\Receipts\\3d06f10e.jpeg\n",
      "GUIKTRIP646845 FM 78Kirby, TX Date 63/25/19 Tine 61 85PM Pump Gallons Price 85 3.383 -$2.119 Product Amount UNLEADED $7.68 Total Sale $7.68 Thank You for Shopping QuikTripPlease Come Back Again\n",
      "['6468', '45', '78', '63/25/19', '61 85', '85', '383', '119', '68', '68']\n"
     ]
    },
    {
     "name": "stderr",
     "output_type": "stream",
     "text": [
      "\n",
      "\n",
      " 21%|████████████████▊                                                               | 125/595 [06:07<25:11,  3.22s/it]"
     ]
    },
    {
     "name": "stdout",
     "output_type": "stream",
     "text": [
      "C:\\Users\\amar\\Downloads\\Receipts\\3deff9fb.jpeg\n",
      "« IndianOil — SITE ; SRI VENKATSHWARA SERVICE CENTER ADDRESSJB NAGAR BANGALORE-75 A 0/05/19 79 VEHICLENOT ENTERED BILL SN; 6055 HOSE PRODUCTPETROL.0.07 LR HDFC BANK\n",
      "['75', '0/05/19', '79', '6055', '07']\n"
     ]
    },
    {
     "name": "stderr",
     "output_type": "stream",
     "text": [
      "\n",
      "\n",
      " 21%|████████████████▉                                                               | 126/595 [06:11<28:36,  3.66s/it]"
     ]
    },
    {
     "name": "stdout",
     "output_type": "stream",
     "text": [
      "C:\\Users\\amar\\Downloads\\Receipts\\3e2e8c09.jpeg\n",
      "ag Be ait §j par het at 706A 067TH\n",
      "['706', '067']\n"
     ]
    },
    {
     "name": "stderr",
     "output_type": "stream",
     "text": [
      "\n",
      "\n",
      " 21%|█████████████████                                                               | 127/595 [06:14<26:35,  3.41s/it]"
     ]
    },
    {
     "name": "stdout",
     "output_type": "stream",
     "text": [
      "C:\\Users\\amar\\Downloads\\Receipts\\3e3a4f77.jpeg\n",
      "ee OR ee Expires 30 days afte Valid at partfetpat ng US Nebene mes rvey Code, 31505~13830-60419-07038-00056-6 “cDonald's Restaur ‘ant3 CHRISTOPHER CROSSING VAN WERT, OH 1 Bidet 08/04/2019 07 03 Ay Order 83 1 L Coke 1B 1,00c Egg Ch Bis M1-Hb 4,59 Su Tex 5. ake-Jut Total 5.86 Cashless 5.88 Change 0.00 CARD ISSUER ACCOUNTUS DEBIT TRANSACTION AMOUNT 5.88 CHIP READ AUTHORIZATION CODE - 070413 Flexible schedules, tuition assistance, free meals and more. Apply at wow. workatmed.com\n",
      "['30', '3150', '1383', '0-6041', '9-0703', '8-0005', '08/04/2019', '07 03', '83', '1,00', '4,59', '86', '88', '00', '88', '0704', '13']\n"
     ]
    },
    {
     "name": "stderr",
     "output_type": "stream",
     "text": [
      "\n",
      "\n",
      " 22%|█████████████████▏                                                              | 128/595 [06:21<33:50,  4.35s/it]"
     ]
    },
    {
     "name": "stdout",
     "output_type": "stream",
     "text": [
      "C:\\Users\\amar\\Downloads\\Receipts\\3e4e3b6a.jpeg\n",
      "\n",
      "[]\n"
     ]
    },
    {
     "name": "stderr",
     "output_type": "stream",
     "text": [
      "\n",
      "\n",
      " 22%|█████████████████▎                                                              | 129/595 [06:24<30:22,  3.91s/it]"
     ]
    },
    {
     "name": "stdout",
     "output_type": "stream",
     "text": [
      "C:\\Users\\amar\\Downloads\\Receipts\\3e8b3fad.jpeg\n",
      "914 pe Broadway Road , AZ-0818 SALE 1 07/08/19 10 04 aTy sku PRICE VERSACHECK SECURIT 27.99 SUBTOTAL 21.99 Standard Tax 8.10% 2.21 TOTAL $30.26 — EXPRESS USD$30.26 No. XXXXXXXXXXX3314 [0] GMP Read Auth ATD.a000000025010801 TOTAL ITEMS 1Staples brand products.\n",
      "['914', '0818', '1 07/08', '19 10 04', '27', '99', '21', '99', '10', '21', '30', '26', '30', '26', '3314', '0000', '0002', '5010', '801']\n"
     ]
    },
    {
     "name": "stderr",
     "output_type": "stream",
     "text": [
      "\n",
      "\n",
      " 22%|█████████████████▍                                                              | 130/595 [06:27<28:29,  3.68s/it]"
     ]
    },
    {
     "name": "stdout",
     "output_type": "stream",
     "text": [
      "C:\\Users\\amar\\Downloads\\Receipts\\3f2f44eb.jpeg\n",
      "Brans Califomia Rancho Viejo Rd. 949-487-2728 et | Chek 1 Dine In EmployeeRegister-3 BRAVOSANJUANT 12 44 PH Date 06/11/18 2 « CRN SAND,8823.98 icy 1.89 CHEDDAR SIDE.50RANCH tht Th | ng Credit sy \\ a fame he\n",
      "['949', '487', '2728', '12 44', '06/11/18', '8823', '98', '89', '50']\n"
     ]
    },
    {
     "name": "stderr",
     "output_type": "stream",
     "text": [
      "\n",
      "\n",
      " 22%|█████████████████▌                                                              | 131/595 [06:31<29:35,  3.83s/it]"
     ]
    },
    {
     "name": "stdout",
     "output_type": "stream",
     "text": [
      "C:\\Users\\amar\\Downloads\\Receipts\\406d482f.jpeg\n",
      "Calagero’s 9 frenit he. 91 in Garden City, NY-2942922 ee ee reTransCust 2 Chicken Milanese 1 Veal Milanese 3 Grey Goose 1 Pineapple Juice 1 Belvedere 1 Becks Non Alcohol ic 1 Corona 1 Comp Item$12, 00$27.00 $46. 00 $27.00 $30.00 $3.00 $12. 00 $6.00 $6.00 Net Total$145.00 Tx $12.51 TOTAL$157.5 Amount Due$157. 61 FOLLOW US ON FACEBOOK AND INSTAGRAM\n",
      "['91', '2942', '922', '12, 00', '27', '00', '46', '00', '27', '00', '30', '00', '00', '12', '00', '00', '00', '145', '00', '12', '51', '157', '157', '61']\n"
     ]
    },
    {
     "name": "stderr",
     "output_type": "stream",
     "text": [
      "\n",
      "\n",
      " 22%|█████████████████▋                                                              | 132/595 [06:36<31:39,  4.10s/it]"
     ]
    },
    {
     "name": "stdout",
     "output_type": "stream",
     "text": [
      "C:\\Users\\amar\\Downloads\\Receipts\\40e86c08.jpeg\n",
      "7-ELEVEN FOSTER AD. SAN ANTONIO, TX 64/85/2019 81 65 85 Pm j X PREPAID RECEIPT Regular 4.4666 PRICE/GAL $2,239 FUEL TOTAL ¢ 16.98 Tell us about your visitM¥exvONnMAh lad cae\n",
      "['64/85/2019', '81 65 85', '4666', '2,239', '16', '98']\n"
     ]
    },
    {
     "name": "stderr",
     "output_type": "stream",
     "text": [
      "\n",
      "\n",
      " 22%|█████████████████▉                                                              | 133/595 [06:45<43:06,  5.60s/it]"
     ]
    },
    {
     "name": "stdout",
     "output_type": "stream",
     "text": [
      "C:\\Users\\amar\\Downloads\\Receipts\\4175425f.jpeg\n",
      "ServerAndrea 07 38 PM TBL/1\n",
      "['07 38']\n"
     ]
    },
    {
     "name": "stderr",
     "output_type": "stream",
     "text": [
      "\n",
      "\n",
      " 23%|██████████████████                                                              | 134/595 [06:47<35:38,  4.64s/it]"
     ]
    },
    {
     "name": "stdout",
     "output_type": "stream",
     "text": [
      "C:\\Users\\amar\\Downloads\\Receipts\\417dc9c8.jpeg\n",
      "Chef Wang Jericho Tumpike New Hyde Park NY. 354, 2858.776.0587 AS Dine Serverlily 02/02/19 02 14 PM - 03 03 PM Total $35. 52 Thank You Have A Nice Day\n",
      "['354', '2858', '776', '0587', '02/02/19', '02 14', '03 03', '35', '52']\n"
     ]
    },
    {
     "name": "stderr",
     "output_type": "stream",
     "text": [
      "\n",
      "\n",
      " 23%|██████████████████▏                                                             | 135/595 [06:51<33:55,  4.42s/it]"
     ]
    },
    {
     "name": "stdout",
     "output_type": "stream",
     "text": [
      "C:\\Users\\amar\\Downloads\\Receipts\\41879403.jpeg\n",
      "ere aon Breakfast Taco 16 OZ Li] Yellow\n",
      "['16']\n"
     ]
    },
    {
     "name": "stderr",
     "output_type": "stream",
     "text": [
      "\n",
      "\n",
      " 23%|██████████████████▎                                                             | 136/595 [06:54<30:55,  4.04s/it]"
     ]
    },
    {
     "name": "stdout",
     "output_type": "stream",
     "text": [
      "C:\\Users\\amar\\Downloads\\Receipts\\42a54355.jpeg\n",
      "auaara Ege egsdan poet\n",
      "[]\n"
     ]
    },
    {
     "name": "stderr",
     "output_type": "stream",
     "text": [
      "\n",
      "\n",
      " 23%|██████████████████▍                                                             | 137/595 [06:57<27:24,  3.59s/it]"
     ]
    },
    {
     "name": "stdout",
     "output_type": "stream",
     "text": [
      "C:\\Users\\amar\\Downloads\\Receipts\\42c85ea9.jpeg\n",
      "\n",
      "[]\n"
     ]
    },
    {
     "name": "stderr",
     "output_type": "stream",
     "text": [
      "\n",
      "\n",
      " 23%|██████████████████▌                                                             | 138/595 [06:59<23:35,  3.10s/it]"
     ]
    },
    {
     "name": "stdout",
     "output_type": "stream",
     "text": [
      "C:\\Users\\amar\\Downloads\\Receipts\\43d4608f.jpeg\n",
      "NELLAT SARAVANA BAV “ SSTINSammy WaiteRUL— sel Cat f a onG Naae ai on MASALA ROAST PAROTIA 2 WOS 3 COFFEE ty <3 < 1S Round Of TAY VALUE CGSTX$ COST sosTs IS 20° 63,69 © 2,50 Rs . 163.00 we\n",
      "['20', '63,69', '2,50', '163', '00']\n"
     ]
    },
    {
     "name": "stderr",
     "output_type": "stream",
     "text": [
      "\n",
      "\n",
      " 23%|██████████████████▋                                                             | 139/595 [07:02<23:29,  3.09s/it]"
     ]
    },
    {
     "name": "stdout",
     "output_type": "stream",
     "text": [
      "C:\\Users\\amar\\Downloads\\Receipts\\43d7cd10.jpeg\n",
      "12247 Sheridan St Cooper Cityb, FL-2000 1 Sprite 1 Chicken Caesar Salad » Ticket56 « 7/10/2017 9 32 06 PH THANK YOUUUM Angelo's Pizza Restaurant\n",
      "['1224', '2000', '56', '7/10/2017', '9 32 06']\n"
     ]
    },
    {
     "name": "stderr",
     "output_type": "stream",
     "text": [
      "\n",
      "\n",
      " 24%|██████████████████▊                                                             | 140/595 [07:05<24:02,  3.17s/it]"
     ]
    },
    {
     "name": "stdout",
     "output_type": "stream",
     "text": [
      "C:\\Users\\amar\\Downloads\\Receipts\\43edeb2e.jpeg\n",
      "BEACH,302616-2120 ww. Z0CA , RESTAURANT ServerMadi B/2 1 House Recipe 2 Sandia.00/ea1 Toten Honey Bee co Guacamole 1 Queso Fres ido Mexican Street Corn Dip 1 Queso Fundi 1 Salea De Molcajete 2 Taquitos Carne.00/ea1 Taquitos Baja California Shrimp 1 Mole Enchilada 1 Quesadilla Chicken COMPLIMENTARY ITEM Queso Fundido Mexican Street Corn Dip 12.00\n",
      "['3026', '16-2120', '00', '00', '12', '00']\n"
     ]
    },
    {
     "name": "stderr",
     "output_type": "stream",
     "text": [
      "\n",
      "\n",
      " 24%|██████████████████▉                                                             | 141/595 [07:10<28:08,  3.72s/it]"
     ]
    },
    {
     "name": "stdout",
     "output_type": "stream",
     "text": [
      "C:\\Users\\amar\\Downloads\\Receipts\\44373191.jpeg\n",
      "\n",
      "[]\n"
     ]
    },
    {
     "name": "stderr",
     "output_type": "stream",
     "text": [
      "\n",
      "\n",
      " 24%|███████████████████                                                             | 142/595 [07:13<26:18,  3.48s/it]"
     ]
    },
    {
     "name": "stdout",
     "output_type": "stream",
     "text": [
      "C:\\Users\\amar\\Downloads\\Receipts\\459b00d4.jpeg\n",
      "JA Robinson A Company Tell us your Web ro Irrsonvii 1 Lusa. com/ guest\n",
      "[]\n"
     ]
    },
    {
     "name": "stderr",
     "output_type": "stream",
     "text": [
      "\n",
      "\n",
      " 24%|███████████████████▏                                                            | 143/595 [07:15<23:36,  3.13s/it]"
     ]
    },
    {
     "name": "stdout",
     "output_type": "stream",
     "text": [
      "C:\\Users\\amar\\Downloads\\Receipts\\46ca4063.jpeg\n",
      "d.0y.4, 0m. tc wn\n",
      "[]\n"
     ]
    },
    {
     "name": "stderr",
     "output_type": "stream",
     "text": [
      "\n",
      "\n",
      " 24%|███████████████████▎                                                            | 144/595 [07:18<21:29,  2.86s/it]"
     ]
    },
    {
     "name": "stdout",
     "output_type": "stream",
     "text": [
      "C:\\Users\\amar\\Downloads\\Receipts\\4754f9e3.jpeg\n",
      "a el 5 bay Fh coza4hatans, TX ale Hh os re cE a wna 06/30/19 10 26PM “AH eee ‘oa\n",
      "['06/30/19', '10 26']\n"
     ]
    },
    {
     "name": "stderr",
     "output_type": "stream",
     "text": [
      "\n",
      "\n",
      " 24%|███████████████████▍                                                            | 145/595 [07:21<22:46,  3.04s/it]"
     ]
    },
    {
     "name": "stdout",
     "output_type": "stream",
     "text": [
      "C:\\Users\\amar\\Downloads\\Receipts\\4883a482.jpeg\n",
      "Batoisozs San Al’ sito, ae Karel 03/09/19 04 40PH\n",
      "['03/09/19', '04 40']\n"
     ]
    },
    {
     "name": "stderr",
     "output_type": "stream",
     "text": [
      "\n",
      "\n",
      " 25%|███████████████████▋                                                            | 146/595 [07:24<23:10,  3.10s/it]"
     ]
    },
    {
     "name": "stdout",
     "output_type": "stream",
     "text": [
      "C:\\Users\\amar\\Downloads\\Receipts\\4934b499.jpeg\n",
      "Deihi Metro * No. roal22et¢-anonotyé-tsnso0a0-0026 add Value Physical 756A2B75F . Add value amountRs‘ 200.00 Previous balanceRs.00\" Current balance\"Rs.00 Haoelklne/02/2019 Station. code0505; ' Equipment Ai0155Operator IDKumar’ Gaurav -\n",
      "['22', '0-0026', '756', '75', '200', '00', '00', '00', '02/2019', '0505', '0155']\n"
     ]
    },
    {
     "name": "stderr",
     "output_type": "stream",
     "text": [
      "\n",
      "\n",
      " 25%|███████████████████▊                                                            | 147/595 [07:28<25:36,  3.43s/it]"
     ]
    },
    {
     "name": "stdout",
     "output_type": "stream",
     "text": [
      "C:\\Users\\amar\\Downloads\\Receipts\\4982922a.jpeg\n",
      "\n",
      "[]\n"
     ]
    },
    {
     "name": "stderr",
     "output_type": "stream",
     "text": [
      "\n",
      "\n",
      " 25%|███████████████████▉                                                            | 148/595 [07:31<22:38,  3.04s/it]"
     ]
    },
    {
     "name": "stdout",
     "output_type": "stream",
     "text": [
      "C:\\Users\\amar\\Downloads\\Receipts\\4a9af216.jpeg\n",
      "1313 Tolus OHAT MIALY saris en wih en receive a Go to ww BAMOTCE. Com Within 7 cays tell U5 about drat Val dation oar, ist. sea Vali icipating is1a 8 kederala's.01782-13130-60319-18050-no050-9 McDonald's OCEAN AVE CA SAN FRANCISCO SAN FRANCISCO,CA-1830 TEL® 415-452-8618 06/03/2018 Sidel 1 Bag 1 MeChicken 1 M Iced Creal Coffee 14 IC Coff Surcharge Subtotal Tax Take-Out Total a, & non Cash less 2 oz\n",
      "['1313', '0178', '2-1313', '0-6031', '9-1805', '050', '1830', '415', '452', '8618', '06/03/2018', '14']\n"
     ]
    },
    {
     "name": "stderr",
     "output_type": "stream",
     "text": [
      "\n",
      "\n",
      " 25%|████████████████████                                                            | 149/595 [07:36<27:23,  3.68s/it]"
     ]
    },
    {
     "name": "stdout",
     "output_type": "stream",
     "text": [
      "C:\\Users\\amar\\Downloads\\Receipts\\4abb6285.jpeg\n",
      "Store Universal City, CA.509, 9463 sor” on T Ht fable 53/' Guasts3 Order TypeDiningIced Tea 32 \"Theresa €859n See bun 14.00an Ss nz |.00i ,23 Gl Buca.00 Sa Chen Antipasto Salad 18.93 Lg Supreno Pizza 3.99 reste its terbrg thee a eee ee We value your opinion, $100 digital prosot ional certificate. me a See bucadibeppo.com/tuca-feedback-rulesp for Official Rules and restrictions. the Ot Tis ‘day So ang cepbeeeeapiaeeageneasdeeaaatt teas ntiasDue.28 Gm,\n",
      "['509', '9463', '53', '32', '859', '14', '00', '00', '23', '00', '18', '93', '99', '100', '28']\n"
     ]
    },
    {
     "name": "stderr",
     "output_type": "stream",
     "text": [
      "\n",
      "\n",
      " 25%|████████████████████▏                                                           | 150/595 [07:41<30:28,  4.11s/it]"
     ]
    },
    {
     "name": "stdout",
     "output_type": "stream",
     "text": [
      "C:\\Users\\amar\\Downloads\\Receipts\\4af6d4a7.jpeg\n",
      "\n",
      "[]\n"
     ]
    },
    {
     "name": "stderr",
     "output_type": "stream",
     "text": [
      "\n",
      "\n",
      " 25%|████████████████████▎                                                           | 151/595 [07:44<28:45,  3.89s/it]"
     ]
    },
    {
     "name": "stdout",
     "output_type": "stream",
     "text": [
      "C:\\Users\\amar\\Downloads\\Receipts\\4b1911d2.jpeg\n",
      "1 13. Shrimp Tempura Roll Roll] wa 1 Rich / Famous Roll 1 16. Spicy Salmon Roll [Roll] 1 Veg /'Tofu Pad Thai Spicy Amount; 27.15 TAX 6%1.63.78 THANK YOU VERY MUCH.\n",
      "['1 13', '1 16', '27', '15', '63', '78']\n"
     ]
    },
    {
     "name": "stderr",
     "output_type": "stream",
     "text": [
      "\n",
      "\n",
      " 26%|████████████████████▍                                                           | 152/595 [07:48<28:44,  3.89s/it]"
     ]
    },
    {
     "name": "stdout",
     "output_type": "stream",
     "text": [
      "C:\\Users\\amar\\Downloads\\Receipts\\4b494298.jpeg\n",
      "\n",
      "[]\n"
     ]
    },
    {
     "name": "stderr",
     "output_type": "stream",
     "text": [
      "\n",
      "\n",
      " 26%|████████████████████▌                                                           | 153/595 [07:52<27:46,  3.77s/it]"
     ]
    },
    {
     "name": "stdout",
     "output_type": "stream",
     "text": [
      "C:\\Users\\amar\\Downloads\\Receipts\\4b8cfbf2.jpeg\n",
      "\n",
      "[]\n"
     ]
    },
    {
     "name": "stderr",
     "output_type": "stream",
     "text": [
      "\n",
      "\n",
      " 26%|████████████████████▋                                                           | 154/595 [07:54<24:43,  3.36s/it]"
     ]
    },
    {
     "name": "stdout",
     "output_type": "stream",
     "text": [
      "C:\\Users\\amar\\Downloads\\Receipts\\4bdd80e2.jpeg\n",
      "Horizon Parkwheels ier parkwheels.co.in stgaon GSTINQ Receipt No.- 7579 2874CAR Visitor - REntry-67--2019 Entry 65 PM Exit Date 25-67--2619 Exit 19 PM Hrs, 14 Win Amount- & 50.0 Haneged By ~~ THANK You aND ORIVE SAFELY —\n",
      "['7579', '2874', '67', '2019', '65', '25-67', '2619', '19', '14', '50']\n"
     ]
    },
    {
     "name": "stderr",
     "output_type": "stream",
     "text": [
      "\n",
      "\n",
      " 26%|████████████████████▊                                                           | 155/595 [07:59<27:12,  3.71s/it]"
     ]
    },
    {
     "name": "stdout",
     "output_type": "stream",
     "text": [
      "C:\\Users\\amar\\Downloads\\Receipts\\4d207768.jpeg\n",
      "ALBETOS XICAN FOOD. ARTESIA BLVD. ARTESIA,CA. Ph562860-2530 PHONE ORDERS WELCOME 3 ASADA TACO 8.10 ATM CHARGE 0.75 SUBTOTAL TAX TTAOn $ 9,58 RECALL\n",
      "['5628', '60-2530', '10', '75', '9,58']\n"
     ]
    },
    {
     "name": "stderr",
     "output_type": "stream",
     "text": [
      "\n",
      "\n",
      " 26%|████████████████████▉                                                           | 156/595 [08:03<28:11,  3.85s/it]"
     ]
    },
    {
     "name": "stdout",
     "output_type": "stream",
     "text": [
      "C:\\Users\\amar\\Downloads\\Receipts\\4d79fcf2.jpeg\n",
      "FOR 7-ELEVEN 7-ELEVEN W MOCKINGBIRD L DALLAS TX 68 UISA eee EB REFH 85 2 05/07/2019 16 63 56 PUHP 9 GRADE. RUL GALLONS 6.247 PRICE/GAL $ 2.659 FUEL SALE $ 16.61 APPROVED THANKS FOR YOUR BUSINESS\n",
      "['68', '85 2 05', '07/2019', '16 63 56', '247', '659', '16', '61']\n"
     ]
    },
    {
     "name": "stderr",
     "output_type": "stream",
     "text": [
      "\n",
      "\n",
      " 26%|█████████████████████                                                           | 157/595 [08:07<29:33,  4.05s/it]"
     ]
    },
    {
     "name": "stdout",
     "output_type": "stream",
     "text": [
      "C:\\Users\\amar\\Downloads\\Receipts\\4da45cc9.jpeg\n",
      "FRENCH CAFE & WINE BAFo121a Tle 3 Marty CHANDA R 8 1 56p 06/02/15 1 VEGGIE SANDWICH 11,00 QUICHE 12.00 GRATUITY 18 1 06/02 2 4sp. gees OS you\n",
      "['121', '8 1 56', '06/02/15', '11,00', '12', '00', '18 1 06', '02']\n"
     ]
    },
    {
     "name": "stderr",
     "output_type": "stream",
     "text": [
      "\n",
      "\n",
      " 27%|█████████████████████▏                                                          | 158/595 [08:10<27:11,  3.73s/it]"
     ]
    },
    {
     "name": "stdout",
     "output_type": "stream",
     "text": [
      "C:\\Users\\amar\\Downloads\\Receipts\\4dddf1eb.jpeg\n",
      "7-ELEVEN IH 35 NORTH SAN ANTONIO , TX 86/87/2819 82 23 29 Pu\n",
      "['35', '86/87/2819', '82 23 29']\n"
     ]
    },
    {
     "name": "stderr",
     "output_type": "stream",
     "text": [
      "\n",
      "\n",
      " 27%|█████████████████████▍                                                          | 159/595 [08:13<25:57,  3.57s/it]"
     ]
    },
    {
     "name": "stdout",
     "output_type": "stream",
     "text": [
      "C:\\Users\\amar\\Downloads\\Receipts\\4e4b0d9c.jpeg\n",
      "ehheereecreheereeeekneieceeh eet ere DATE 6/05/19 TIME 6 27 30PH HID TERMI Hilton Phoanix 10 East Thomas Road Phoenix, AZ.222.1111 CusTo sone Roe ae Ss she\n",
      "['6/05/19', '6 27 30', '10', '222', '1111']\n"
     ]
    },
    {
     "name": "stderr",
     "output_type": "stream",
     "text": [
      "\n",
      "\n",
      " 27%|█████████████████████▌                                                          | 160/595 [08:17<26:23,  3.64s/it]"
     ]
    },
    {
     "name": "stdout",
     "output_type": "stream",
     "text": [
      "C:\\Users\\amar\\Downloads\\Receipts\\4e7babf5.jpeg\n",
      "BADARPUR ELEVATED FEE PLAZA - S CHANDRA RECEIPT FOR TOLL AS PER MOTIFICATION WO S0.2331 ETRH SCHENE DAILY PASS VEH TYPE CAR/JEEP/VAH TOLL FARE Rs.37 REG NO USER 1D 15 DATE 04/Jul/2019 14 36 55 /Jul/2019 14 36 55\n",
      "['2331', '37', '15', '04/Jul/2019', '14 36 55', 'Jul/2019', '14 36 55']\n"
     ]
    },
    {
     "name": "stderr",
     "output_type": "stream",
     "text": [
      "\n",
      "\n",
      " 27%|█████████████████████▋                                                          | 161/595 [08:22<28:34,  3.95s/it]"
     ]
    },
    {
     "name": "stdout",
     "output_type": "stream",
     "text": [
      "C:\\Users\\amar\\Downloads\\Receipts\\4ec4559a.jpeg\n",
      "Waldiraa's estar] $1 Milestone, a Jaipur High ,Qf. BI/HG, Mohan Co \"ual tadate, Mathura fg lta tan ha a ee | Bloken No. ate Description Ty aie 0.14.00 27.44 SH GST At 1.38 bbfotalte aa oI “S Base datCesT Ss s8 27.4808 ; tatog| tsHer HageVinod Singh EBOE E THANG FAR VISTITNG ee $ HAVE A NICE Da WowBUY GNLINE AT IAIRAMAORLIIE COM a ARY QUERIES Baas ri ee pee PA E na\n",
      "['14', '00 27', '44', '38', '8 27', '4808']\n"
     ]
    },
    {
     "name": "stderr",
     "output_type": "stream",
     "text": [
      "\n",
      "\n",
      " 27%|█████████████████████▊                                                          | 162/595 [08:26<28:59,  4.02s/it]"
     ]
    },
    {
     "name": "stdout",
     "output_type": "stream",
     "text": [
      "C:\\Users\\amar\\Downloads\\Receipts\\4f58927d.jpeg\n",
      "— — Katana Sushi Hewitt fve Everett, WA-512-9361 HHH A MMM ServerMichael C 05/11/16 6 47 PM Table D2 Hamachi Collar $12.00 Mega Poke Bowl $17.00 Hamachi - Sashimi $12.00 Maguro - Sashimi $11.00 Salmon - Sashimi $10.00 3 Sockeye Salmon - Sashimi $36.00 Hamachi Japapeno $12.00 Salmon Collar $10.00 Escolar - Sashimi $11.00 Subtotal $131.00 Tax $12.71 Total $143.71 ER I 2K OK 2, Thank You for your visit.\n",
      "['512', '9361', '05/11/16', '6 47', '12', '00', '17', '00', '12', '00', '11', '00', '10', '00', '36', '00', '12', '00', '10', '00', '11', '00', '131', '00', '12', '71', '143', '71']\n"
     ]
    },
    {
     "name": "stderr",
     "output_type": "stream",
     "text": [
      "\n",
      "\n",
      " 27%|█████████████████████▉                                                          | 163/595 [08:32<32:39,  4.54s/it]"
     ]
    },
    {
     "name": "stdout",
     "output_type": "stream",
     "text": [
      "C:\\Users\\amar\\Downloads\\Receipts\\4f692e69.jpeg\n",
      "GSTIN 28ACZFS7047L1ZX Bill Table-07-19 Stwd.ASHOK Twne 23.13 Pax i0 phon Qty Rate Amount ANDOOR KEBAB PLAT] 1.00.00.00 ce.00 Tandoor Kebab Platter Nc © EGG BHURJI © PANEER TIKKA PIZZA 2 2 1 1 DRINKING W 3 SODA 1 HUBBLE BUBBLE 1 Masala Peanuts 3 Tropical Dreamer 4 ‘SPIRIT 1 TEACHERS HILAND 30MI 6 TEACHERS HILAND 6OMI 4 BLACK DOG 60 ML 3 KINGFISHER ULTRA. 2 Total Amount Service\n",
      "['28', '7047', '07-19', '23', '13', '00', '00', '00', '00', '30', '60']\n"
     ]
    },
    {
     "name": "stderr",
     "output_type": "stream",
     "text": [
      "\n",
      "\n",
      " 28%|██████████████████████                                                          | 164/595 [08:38<36:39,  5.10s/it]"
     ]
    },
    {
     "name": "stdout",
     "output_type": "stream",
     "text": [
      "C:\\Users\\amar\\Downloads\\Receipts\\4fa1fc56.jpeg\n",
      "223 N. Citrus Ave Covina, CA-9496 ServerRyan 09/25/18 08 44pm ERRAND IIS NESS SS [Seat 1]-Bohemia $16.00 Tall 1 Albondigas $9.95 1 Mole $16.95 Subtotal$42.90 Tax$4.08 Sub w/Tax$46.98 Total$46 .98 ae ein seeing you again.\"\n",
      "['223', '9496', '09/25/18', '08 44', '16', '00', '95', '16', '95', '42', '90', '08', '46', '98', '46', '98']\n"
     ]
    },
    {
     "name": "stderr",
     "output_type": "stream",
     "text": [
      "\n",
      "\n",
      " 28%|██████████████████████▏                                                         | 165/595 [08:42<33:04,  4.62s/it]"
     ]
    },
    {
     "name": "stdout",
     "output_type": "stream",
     "text": [
      "C:\\Users\\amar\\Downloads\\Receipts\\4fdb8f6a.jpeg\n",
      "C1L1X01 05/16/19 21 22 Receipt Short-term parking tkt G- No. 0801 05/16/19 09 33 G5/16/19 21 22 ested' $20.00 Sub Total $20.00 Total Payment Received RID PIX - 010 eee aE EEE] IRS CARD AUTHORIZATION 56406G PURCHASE | USD20.00 PPROVED All Amounts in USD.\n",
      "['01 05/16', '19 21 22', '0801', '05/16/19', '09 33', '5/16/19', '21 22', '20', '00', '20', '00', '010', '5640', '20', '00']\n"
     ]
    },
    {
     "name": "stderr",
     "output_type": "stream",
     "text": [
      "\n",
      "\n",
      " 28%|██████████████████████▎                                                         | 166/595 [08:47<33:50,  4.73s/it]"
     ]
    },
    {
     "name": "stdout",
     "output_type": "stream",
     "text": [
      "C:\\Users\\amar\\Downloads\\Receipts\\4fef1c7e.jpeg\n",
      "KUNDAPURA, ENTERPRISES For DeereMILRPLESES\n",
      "[]\n"
     ]
    },
    {
     "name": "stderr",
     "output_type": "stream",
     "text": [
      "\n",
      "\n",
      " 28%|██████████████████████▍                                                         | 167/595 [08:51<31:49,  4.46s/it]"
     ]
    },
    {
     "name": "stdout",
     "output_type": "stream",
     "text": [
      "C:\\Users\\amar\\Downloads\\Receipts\\513a9167.jpeg\n",
      "KICKIN KAJUN KAPOLET Aa Makara ALA Kapolei Parkway, Suite Kapolei, HI-4771 ServerChenay B TableTable 2/16/19, 5 47 PM Margarita $6.00 Add Tequila Strawberry Daiquiri Add Vodca Snow Combo Kickin Sauce Mild Subtotal$74.00 Total Tax$3.49.48 Receipt Total$38.75 Suggested Gr atuity\n",
      "['4771', '2/16/19', '5 47', '00', '74', '00', '49', '48', '38', '75']\n"
     ]
    },
    {
     "name": "stderr",
     "output_type": "stream",
     "text": [
      "\n",
      "\n",
      " 28%|██████████████████████▌                                                         | 168/595 [08:56<32:52,  4.62s/it]"
     ]
    },
    {
     "name": "stdout",
     "output_type": "stream",
     "text": [
      "C:\\Users\\amar\\Downloads\\Receipts\\5142a222.jpeg\n",
      "t.co.in wwiw.pi yw.pizzahut.co.in TAX INVOICE Originat Pizza Hut India SAPPHIRE FOODS INDIA PUT LTD. Phoenix wheter ore CIN-USS204NH2009P ICGST IN No. “TIAA Invoice No. 1129/4437 Kai lash Tbl a ok Gst 2'19 05 21PM 7 UP Gis ; — 1 2Pizza | ‘ Per Pan Coan Per Pan Veg Exotica Sub Total.00 CGST 2.5% 18.18 SGST 2.5% 18.18 Total Due.00 aida l ern E nn BESET Log orptovaly obne oro ia ‘and vas ottract ive offers a a a Mk niin 4g ee a\n",
      "['204', '2009', '1129', '4437', '19 05 21', '00', '18', '18', '18', '18', '00']\n"
     ]
    },
    {
     "name": "stderr",
     "output_type": "stream",
     "text": [
      "\n",
      "\n",
      " 28%|██████████████████████▋                                                         | 169/595 [09:01<33:59,  4.79s/it]"
     ]
    },
    {
     "name": "stdout",
     "output_type": "stream",
     "text": [
      "C:\\Users\\amar\\Downloads\\Receipts\\522b71b7.jpeg\n",
      "ee Golden Panda Buffet Ramona Blvd.70 Baldwin Park, CA-337-5666 6/02/2018 04 18 31 PM Ti hot food Oe Adult Dinner 2 23.98 2 3.38 Fe Subtetal 27.36 Tax 2.60 Grand Total 29.96 Amount Tendered 29.96 Debit Card sale 29.96 ee Thank you very much. Order152\n",
      "['70', '337', '5666', '6/02/2018', '04 18 31', '2 23', '98', '38', '27', '36', '60', '29', '96', '29', '96', '29', '96', '152']\n"
     ]
    },
    {
     "name": "stderr",
     "output_type": "stream",
     "text": [
      "\n",
      "\n",
      " 29%|██████████████████████▊                                                         | 170/595 [09:06<35:10,  4.97s/it]"
     ]
    },
    {
     "name": "stdout",
     "output_type": "stream",
     "text": [
      "C:\\Users\\amar\\Downloads\\Receipts\\52b8d251.jpeg\n",
      "Cafe Calatrava W Art \\ Tekan ae Drive DINE our ORLA\" Tab77 Description sue hoot MAM Bott oo sacked Chica 2 SUBTOTAL Card/Visa 12.72 TOTAL TENDER an 19 11 59 28 AM-067493 pr Nt Card Information— TypeHasterCard/Visa Card CardholdeASHLEY GOFF Auth Code | 074845\n",
      "['77', '12', '72', '19 11 59', '28', '0674', '93', '0748', '45']\n"
     ]
    },
    {
     "name": "stderr",
     "output_type": "stream",
     "text": [
      "\n",
      "\n",
      " 29%|██████████████████████▉                                                         | 171/595 [09:10<32:23,  4.58s/it]"
     ]
    },
    {
     "name": "stdout",
     "output_type": "stream",
     "text": [
      "C:\\Users\\amar\\Downloads\\Receipts\\52df6216.jpeg\n",
      "\n",
      "[]\n"
     ]
    },
    {
     "name": "stderr",
     "output_type": "stream",
     "text": [
      "\n",
      "\n",
      " 29%|███████████████████████▏                                                        | 172/595 [09:13<28:21,  4.02s/it]"
     ]
    },
    {
     "name": "stdout",
     "output_type": "stream",
     "text": [
      "C:\\Users\\amar\\Downloads\\Receipts\\53c03235.jpeg\n",
      "POPEYE'S- - 885-2085 CARRY-OUT, SUN JUN 24 20 49 53 15 5 WING COMBO 9,99SPICY REG CAJ FRIES — COKE 16 3 TENDER ML 8.69 REG MACI 8.69 8.49\n",
      "['885', '2085', '24 20 49', '53 15', '9,99', '16', '69', '69', '49']\n"
     ]
    },
    {
     "name": "stderr",
     "output_type": "stream",
     "text": [
      "\n",
      "\n",
      " 29%|███████████████████████▎                                                        | 173/595 [09:17<28:33,  4.06s/it]"
     ]
    },
    {
     "name": "stdout",
     "output_type": "stream",
     "text": [
      "C:\\Users\\amar\\Downloads\\Receipts\\551883ef.jpeg\n",
      "GUsT\" Restaurant Hewitt Ave Everett WA Tel. 425-252-3525 Fax. 425-252-3525 Welcome to Thal Gusto Table 4 Dateea 12 36 PM.1Chang2883.50114 Garlic Det tohtny lm ll Brown Red Cu $10, [Chicken] sears] [Seal] Brown Rice] Total 4 item sSales Tax Grand Total $30.15 Tip Guide 15% 94.52, 16% $5.43, 20%-$6.03 Thank you very much. Come back again.GUEST CHECK - This is not a receipt.\n",
      "['425', '252', '3525', '425', '252', '3525', '12 36', '2883', '5011', '10', '30', '15', '15', '94', '52, 16', '43, 20', '03']\n"
     ]
    },
    {
     "name": "stderr",
     "output_type": "stream",
     "text": [
      "\n",
      "\n",
      " 29%|███████████████████████▍                                                        | 174/595 [09:22<30:16,  4.32s/it]"
     ]
    },
    {
     "name": "stdout",
     "output_type": "stream",
     "text": [
      "C:\\Users\\amar\\Downloads\\Receipts\\55291d91.jpeg\n",
      "SAJ HOTELS PYT. LTD. KAILASH PARBAT POST DEVMHAVE, PALI HAD, tapout, NEAR ADLABS TMAGICA, DIST- RAIGAD-410203 CasT BITI TotalG.Total ; 339.00 / NO - Z7AAKCS7712E129 ORDER TIME TARE 30 MIN. . ~\n",
      "['4102', '03', '339', '00', '7712', '129', '30']\n"
     ]
    },
    {
     "name": "stderr",
     "output_type": "stream",
     "text": [
      "\n",
      "\n",
      " 29%|███████████████████████▌                                                        | 175/595 [09:24<27:17,  3.90s/it]"
     ]
    },
    {
     "name": "stdout",
     "output_type": "stream",
     "text": [
      "C:\\Users\\amar\\Downloads\\Receipts\\557dc266.jpeg\n",
      "THE GATEWAY, 332888 TAX INVOICE\n",
      "['3328', '88']\n"
     ]
    },
    {
     "name": "stderr",
     "output_type": "stream",
     "text": [
      "\n",
      "\n",
      " 30%|███████████████████████▋                                                        | 176/595 [09:27<24:37,  3.53s/it]"
     ]
    },
    {
     "name": "stdout",
     "output_type": "stream",
     "text": [
      "C:\\Users\\amar\\Downloads\\Receipts\\558a9aa9.jpeg\n",
      "FIVE GUYSSve 0 ca-1081 Rage is Ramch PangSte Leal, 8Order Chesed «~ Don't theres asay your raceiptlil atte the See ca pa emt wind we fill\n",
      "['1081']\n"
     ]
    },
    {
     "name": "stderr",
     "output_type": "stream",
     "text": [
      "\n",
      "\n",
      " 30%|███████████████████████▊                                                        | 177/595 [09:31<25:55,  3.72s/it]"
     ]
    },
    {
     "name": "stdout",
     "output_type": "stream",
     "text": [
      "C:\\Users\\amar\\Downloads\\Receipts\\55b59146.jpeg\n",
      "OPRSEI SKSONVILLE WEST - 904-246-4966 oer eats 03 44 PM EXPIRES 09/25/19 -ANINGSUPPLII Fic hy TOOLS T $7.29 ‘SUBTOTAL 2 TFL TAX 7.00008 on §7.29 2 3 TOTAL VISA CHARGE 80 AIDiF VISA CREDIT REC 2-9178-2233-0174-0265-2-257-953 Hel your Target Run better Take Qimirate torVor eh one stripms survey within 7 days.\n",
      "['904', '246', '4966', '03 44', '09/25/19', '29', '0000', '29', '80', '2-9178', '2233', '0174', '0265', '2-257', '953']\n"
     ]
    },
    {
     "name": "stderr",
     "output_type": "stream",
     "text": [
      "\n",
      "\n",
      " 30%|███████████████████████▉                                                        | 178/595 [09:36<28:33,  4.11s/it]"
     ]
    },
    {
     "name": "stdout",
     "output_type": "stream",
     "text": [
      "C:\\Users\\amar\\Downloads\\Receipts\\5753d0c6.jpeg\n",
      "1 Site, New Delhi Railway Station New Dathi — 110006 FETAL-10000000K SST ND. OTAAFCETOSKIZfio, 25385 Order TypeDine Tn New Chessy Fries Classic Frappe 11 BK SUNDAE CHOCOLATE SubtotalGST 2.5% Tex\n",
      "['1100', '06', '1000', '0000', '2538', '11']\n"
     ]
    },
    {
     "name": "stderr",
     "output_type": "stream",
     "text": [
      "\n",
      "\n",
      " 30%|████████████████████████                                                        | 179/595 [09:39<26:16,  3.79s/it]"
     ]
    },
    {
     "name": "stdout",
     "output_type": "stream",
     "text": [
      "C:\\Users\\amar\\Downloads\\Receipts\\5778a323.jpeg\n",
      "gwrel JUNCTION “Uk wif PLAZA BENGALURU. UY RATE 1.00 60.00 1.00 36.00 4\n",
      "['00 60', '00', '00 36', '00']\n"
     ]
    },
    {
     "name": "stderr",
     "output_type": "stream",
     "text": [
      "\n",
      "\n",
      " 30%|████████████████████████▏                                                       | 180/595 [09:43<25:56,  3.75s/it]"
     ]
    },
    {
     "name": "stdout",
     "output_type": "stream",
     "text": [
      "C:\\Users\\amar\\Downloads\\Receipts\\57c169de.jpeg\n",
      "Waharashtra State Road Dovelopmant Corporation ul\n",
      "[]\n"
     ]
    },
    {
     "name": "stderr",
     "output_type": "stream",
     "text": [
      "\n",
      "\n",
      " 30%|████████████████████████▎                                                       | 181/595 [09:46<24:10,  3.50s/it]"
     ]
    },
    {
     "name": "stdout",
     "output_type": "stream",
     "text": [
      "C:\\Users\\amar\\Downloads\\Receipts\\57c7c0a6.jpeg\n",
      "\n",
      "[]\n"
     ]
    },
    {
     "name": "stderr",
     "output_type": "stream",
     "text": [
      "\n",
      "\n",
      " 31%|████████████████████████▍                                                       | 182/595 [09:48<21:05,  3.06s/it]"
     ]
    },
    {
     "name": "stdout",
     "output_type": "stream",
     "text": [
      "C:\\Users\\amar\\Downloads\\Receipts\\58133e04.jpeg\n",
      "$2.65 6/3/2019 6 29 AM-7711 amy\n",
      "['65', '6/3/2019', '6 29', '7711']\n"
     ]
    },
    {
     "name": "stderr",
     "output_type": "stream",
     "text": [
      "\n",
      "\n",
      " 31%|████████████████████████▌                                                       | 183/595 [09:51<21:51,  3.18s/it]"
     ]
    },
    {
     "name": "stdout",
     "output_type": "stream",
     "text": [
      "C:\\Users\\amar\\Downloads\\Receipts\\5afb1261.jpeg\n",
      "\n",
      "[]\n"
     ]
    },
    {
     "name": "stderr",
     "output_type": "stream",
     "text": [
      "\n",
      "\n",
      " 31%|████████████████████████▋                                                       | 184/595 [09:56<23:56,  3.50s/it]"
     ]
    },
    {
     "name": "stdout",
     "output_type": "stream",
     "text": [
      "C:\\Users\\amar\\Downloads\\Receipts\\5b0d6748.jpeg\n",
      "\n",
      "[]\n"
     ]
    },
    {
     "name": "stderr",
     "output_type": "stream",
     "text": [
      "\n",
      "\n",
      " 31%|████████████████████████▊                                                       | 185/595 [09:59<23:51,  3.49s/it]"
     ]
    },
    {
     "name": "stdout",
     "output_type": "stream",
     "text": [
      "C:\\Users\\amar\\Downloads\\Receipts\\5b6ee5a0.jpeg\n",
      "Mexican Restaurant & Bar 2 West San Fernando St. San Jose, CA-9595 ServerPablo 12/29/2017 Table 40/1 1 17 Pu Coffee 3.2 Enmoladas with Meat - 14,95 pollo ' 5 Chicken Tenders 5.95 0 Flautas Chicken 9.95 7 Coloradito 15.95Subtotal 50.05 ' Tax 5.46 1 Total 55.51 | Gratuity 18.00% 9.01 Total 64.52 Balance Due 64.52 1Become a friend of us on FACEBOOK to receive news events & special THANK YOU FOR COMING\n",
      "['9595', '12/29/2017', '40', '1 1 17', '14,95', '95', '95', '15', '95', '50', '05', '46', '55', '51', '18', '00', '01', '64', '52', '64', '52']\n"
     ]
    },
    {
     "name": "stderr",
     "output_type": "stream",
     "text": [
      "\n",
      "\n",
      " 31%|█████████████████████████                                                       | 186/595 [10:05<28:37,  4.20s/it]"
     ]
    },
    {
     "name": "stdout",
     "output_type": "stream",
     "text": [
      "C:\\Users\\amar\\Downloads\\Receipts\\5bb556be.jpeg\n",
      "\n",
      "[]\n"
     ]
    },
    {
     "name": "stderr",
     "output_type": "stream",
     "text": [
      "\n",
      "\n",
      " 31%|█████████████████████████▏                                                      | 187/595 [10:09<27:48,  4.09s/it]"
     ]
    },
    {
     "name": "stdout",
     "output_type": "stream",
     "text": [
      "C:\\Users\\amar\\Downloads\\Receipts\\5bd0d02d.jpeg\n",
      "\n",
      "[]\n"
     ]
    },
    {
     "name": "stderr",
     "output_type": "stream",
     "text": [
      "\n",
      "\n",
      " 32%|█████████████████████████▎                                                      | 188/595 [10:12<26:03,  3.84s/it]"
     ]
    },
    {
     "name": "stdout",
     "output_type": "stream",
     "text": [
      "C:\\Users\\amar\\Downloads\\Receipts\\5c2b38f0.jpeg\n",
      "HOTEL. SURABHT UDIPI VEG 3] ae\n",
      "[]\n"
     ]
    },
    {
     "name": "stderr",
     "output_type": "stream",
     "text": [
      "\n",
      "\n",
      " 32%|█████████████████████████▍                                                      | 189/595 [10:17<27:26,  4.06s/it]"
     ]
    },
    {
     "name": "stdout",
     "output_type": "stream",
     "text": [
      "C:\\Users\\amar\\Downloads\\Receipts\\5c3075ae.jpeg\n",
      "‘SHELL M HIGHWAY 6 MARI/2819 Uniea 1.1626 PRICE/GAL $2,549 FUEL TOTAL $ 39.40\n",
      "['2819', '1626', '2,549', '39', '40']\n"
     ]
    },
    {
     "name": "stderr",
     "output_type": "stream",
     "text": [
      "\n",
      "\n",
      " 32%|█████████████████████████▌                                                      | 190/595 [10:20<25:49,  3.83s/it]"
     ]
    },
    {
     "name": "stdout",
     "output_type": "stream",
     "text": [
      "C:\\Users\\amar\\Downloads\\Receipts\\5c670322.jpeg\n",
      "\n",
      "[]\n"
     ]
    },
    {
     "name": "stderr",
     "output_type": "stream",
     "text": [
      "\n",
      "\n",
      " 32%|█████████████████████████▋                                                      | 191/595 [10:23<24:19,  3.61s/it]"
     ]
    },
    {
     "name": "stdout",
     "output_type": "stream",
     "text": [
      "C:\\Users\\amar\\Downloads\\Receipts\\5c79316b.jpeg\n",
      "\n",
      "[]\n"
     ]
    },
    {
     "name": "stderr",
     "output_type": "stream",
     "text": [
      "\n",
      "\n",
      " 32%|█████████████████████████▊                                                      | 192/595 [10:26<23:45,  3.54s/it]"
     ]
    },
    {
     "name": "stdout",
     "output_type": "stream",
     "text": [
      "C:\\Users\\amar\\Downloads\\Receipts\\5ca33654.jpeg\n",
      "MEGHANA FOODS HYDERABADI BIRYANT-ANDW&82, STYLE 57/1, 1st Floor, Jayalaknshmi Cha Residency Road, Bangalore-560025 TEL- 080-41306080 TABLZ <A24/04/19 StwdGANESH TimeiMeghana SPL.06\" Na eli ken Bari L.00.¢ CGT¢2.5%14.83.5% . 14.83 GST29AAPFM2372712R THANK YOU SEE YOU SOON\n",
      "['82', '57', '5600', '25', '080', '4130', '6080', '24/04/19', '06', '00', '14', '83', '14', '83', '29', '2372', '712']\n"
     ]
    },
    {
     "name": "stderr",
     "output_type": "stream",
     "text": [
      "\n",
      "\n",
      " 32%|█████████████████████████▉                                                      | 193/595 [10:32<28:06,  4.19s/it]"
     ]
    },
    {
     "name": "stdout",
     "output_type": "stream",
     "text": [
      "C:\\Users\\amar\\Downloads\\Receipts\\5cb08cab.jpeg\n",
      "Leatherheads 8. State Draper, Utah-1888 | Date/Time“onion naa AESQTE 06 48 PM Account TypeCREDIT EDS Tran ServerKADIE | TableB20 PURCHASEAPPROVAL Entry ModeCard Number— XXXxXXx3002 Card ExpireX/xX Card TypeAverican Express CardholderMICHAEL PIERCE Approval Ref Gratultybx rtde Cardeenber acknowledges receipt of goods and/or services in the amount of the total shown hereon and agreas to perform the obligations set forth by cardmesber’s agreement with issuer\n",
      "['1888', '06 48', '20', '3002']\n"
     ]
    },
    {
     "name": "stderr",
     "output_type": "stream",
     "text": [
      "\n",
      "\n",
      " 33%|██████████████████████████                                                      | 194/595 [10:37<28:27,  4.26s/it]"
     ]
    },
    {
     "name": "stdout",
     "output_type": "stream",
     "text": [
      "C:\\Users\\amar\\Downloads\\Receipts\\5d069db5.jpeg\n",
      "Formerly Auaiigamated Bean Cif fee Trading Co 1 tdHPCTELEGRON APL GsCINHBSLOKAISEOPLOOWSOOL TAX INVOICE BILLND UU DATE TIME 1\n",
      "[]\n"
     ]
    },
    {
     "name": "stderr",
     "output_type": "stream",
     "text": [
      "\n",
      "\n",
      " 33%|██████████████████████████▏                                                     | 195/595 [10:40<25:56,  3.89s/it]"
     ]
    },
    {
     "name": "stdout",
     "output_type": "stream",
     "text": [
      "C:\\Users\\amar\\Downloads\\Receipts\\5d63f1a2.jpeg\n",
      "QUIKTRIP88894 FM Wylie, TX Date 87/16/18 Time 63 37PM Odometer AcctJhidtinciscicdsnick| 945, Pump Gallons Price 62 21.572 $2.689 Product Amount UNLEADED $58.61 Total sale $58.64 Thank You for Shopping QuikTrip\n",
      "['8889', '87/16/18', '63 37', '945', '62 21', '572', '689', '58', '61', '58', '64']\n"
     ]
    },
    {
     "name": "stderr",
     "output_type": "stream",
     "text": [
      "\n",
      "\n",
      " 33%|██████████████████████████▎                                                     | 196/595 [10:44<26:56,  4.05s/it]"
     ]
    },
    {
     "name": "stdout",
     "output_type": "stream",
     "text": [
      "C:\\Users\\amar\\Downloads\\Receipts\\5d80cb45.jpeg\n",
      "HOTEL HIGHWAY KING DELHI JAIPUR HIGHWAY ,N.H.8& PH9828338100 TIN GST NO.O8AALPY6817A1ZF SAC Name ; Date16/07/2019 Ne, 133434 56 33 Table HoD Taxable.00 COST 2.50%4.00 Taxable.00 S6ST 2.50%4.00 Wet Rs. ONE HUNDRED SIXTY EIGHT ONLY\n",
      "['9828', '3381', '00', '6817', '16/07/2019', '1334', '34 56 33', '00', '50', '00', '00', '50', '00']\n"
     ]
    },
    {
     "name": "stderr",
     "output_type": "stream",
     "text": [
      "\n",
      "\n",
      " 33%|██████████████████████████▍                                                     | 197/595 [10:49<28:53,  4.35s/it]"
     ]
    },
    {
     "name": "stdout",
     "output_type": "stream",
     "text": [
      "C:\\Users\\amar\\Downloads\\Receipts\\5dca8c72.jpeg\n",
      "CABLE CRAFTS GST No.29AAAFCEADAC A HOUSE OF ELECTRONIC WIRES & CABLES | TAX INVOICE CASH | I Nymeleans fem WO MECN paeaziizyV.| Jb/a08 | Le ee on [ee] | OSG Ba |ecleg dor PE Sue | sO] wel AlDH 3bp— QuyFor te — | HUYdorsjad \\-,8 Ss | Bor|¢ Hin /Bows\n",
      "['29', '08']\n"
     ]
    },
    {
     "name": "stderr",
     "output_type": "stream",
     "text": [
      "\n",
      "\n",
      " 33%|██████████████████████████▌                                                     | 198/595 [10:53<28:39,  4.33s/it]"
     ]
    },
    {
     "name": "stdout",
     "output_type": "stream",
     "text": [
      "C:\\Users\\amar\\Downloads\\Receipts\\5e43dac3.jpeg\n",
      "\" NearMarr ison Ave New Orleans, LA-0107 Daniel P Chk Gst 1'19 12 07PM *** Memo 1 Fajita Vegetable 1 Taco Shrimp Fresh Catch 3 < Hs *DON'T MAKE* 1 Water 0.00 Food 19.75 Tax 2.01 Total 21.76\n",
      "['0107', '19 12 07', '00', '19', '75', '01', '21', '76']\n"
     ]
    },
    {
     "name": "stderr",
     "output_type": "stream",
     "text": [
      "\n",
      "\n",
      " 33%|██████████████████████████▊                                                     | 199/595 [10:57<27:28,  4.16s/it]"
     ]
    },
    {
     "name": "stdout",
     "output_type": "stream",
     "text": [
      "C:\\Users\\amar\\Downloads\\Receipts\\5f2e42d9.jpeg\n",
      "\n",
      "[]\n"
     ]
    },
    {
     "name": "stderr",
     "output_type": "stream",
     "text": [
      "\n",
      "\n",
      " 34%|██████████████████████████▉                                                     | 200/595 [11:00<24:03,  3.65s/it]"
     ]
    },
    {
     "name": "stdout",
     "output_type": "stream",
     "text": [
      "C:\\Users\\amar\\Downloads\\Receipts\\5fb7995c.jpeg\n",
      "Hotel S ana ——VegTables—— 70484; 2370153 BANERIT ROAD, ERNAKI 68ST CODE. 32AALFSES34L 1ZU CASH BILL BILL 44 At WAITER ON isa ailieadinanes Hane Rate Oty Amount IDLY 14.00 3 42.00.00 1 60.00 GHEE eObfta g feat t 8 tea VASHRCE| Oty9.00 2.5% CEST Agou 1.28 2.5% SGST Asou 7.28 Round.44ova NON AC .00 INLY BRANCH EDAPALLY TOLL JUNCTION\n",
      "['7048', '2370', '153', '68', '32', '34', '44', '14', '00 3 42', '00', '00 1 60', '00', '00', '28', '28', '44', '00']\n"
     ]
    },
    {
     "name": "stderr",
     "output_type": "stream",
     "text": [
      "\n",
      "\n",
      " 34%|███████████████████████████                                                     | 201/595 [11:05<27:54,  4.25s/it]"
     ]
    },
    {
     "name": "stdout",
     "output_type": "stream",
     "text": [
      "C:\\Users\\amar\\Downloads\\Receipts\\5ff14463.jpeg\n",
      "Com\n",
      "[]\n"
     ]
    },
    {
     "name": "stderr",
     "output_type": "stream",
     "text": [
      "\n",
      "\n",
      " 34%|███████████████████████████▏                                                    | 202/595 [11:09<26:13,  4.00s/it]"
     ]
    },
    {
     "name": "stdout",
     "output_type": "stream",
     "text": [
      "C:\\Users\\amar\\Downloads\\Receipts\\603fdc0f.jpeg\n",
      "\n",
      "[]\n"
     ]
    },
    {
     "name": "stderr",
     "output_type": "stream",
     "text": [
      "\n",
      "\n",
      " 34%|███████████████████████████▎                                                    | 203/595 [11:11<22:14,  3.40s/it]"
     ]
    },
    {
     "name": "stdout",
     "output_type": "stream",
     "text": [
      "C:\\Users\\amar\\Downloads\\Receipts\\618ce259.jpeg\n",
      "Wel- 2 Dunkin’ Donu s/Baskin-Robbins “a Lake Ni Highway, Crystal 4/20/2019 9 04 12 AM Register 2 Tran Seq Cashier Isaiah E. 1 Ht Cof LG OrigBind 2.29 2 ~~ ‘Cream 1 BnT DbBen Amr TT 3.69 . Total$5.98 Tex, $0.46 iat $6.44scount Total$0.00 Change $0.00 Visa$6.44 VISA\n",
      "['4/20/2019', '9 04 12', '29', '69', '98', '46', '44', '00', '00', '44']\n"
     ]
    },
    {
     "name": "stderr",
     "output_type": "stream",
     "text": [
      "\n",
      "\n",
      " 34%|███████████████████████████▍                                                    | 204/595 [11:15<23:11,  3.56s/it]"
     ]
    },
    {
     "name": "stdout",
     "output_type": "stream",
     "text": [
      "C:\\Users\\amar\\Downloads\\Receipts\\62611b46.jpeg\n",
      "BIG Jo's Jan 25, 2018 BROADWAY “ ICA, CA 11 47-3191 www. bigiosburgers. — — ———————— Cash TicketShirley Receipt Qixl EEE El $16.70$7.85 each$5.00 Regular Price, Grilled Onion$0.75Chill Fries —$51.25 a. $5.25 $56.50 $60.00 $3.50 gee\n",
      "['Jan 25, 2018', '11 47-3191', '16', '70', '85', '00', '75', '51', '25', '25', '56', '50', '60', '00', '50']\n"
     ]
    },
    {
     "name": "stderr",
     "output_type": "stream",
     "text": [
      "\n",
      "\n",
      " 34%|███████████████████████████▌                                                    | 205/595 [11:19<24:20,  3.74s/it]"
     ]
    },
    {
     "name": "stdout",
     "output_type": "stream",
     "text": [
      "C:\\Users\\amar\\Downloads\\Receipts\\62b3d78b.jpeg\n",
      "Rihanna's Caribbean Restaurant BEECHNUT ST STEIOO HOUSTON, TX a ie 12-Aug-2018-40P1 Cuny Chicken 1 ‘Beef Pattie ‘Total Sila nti eee\n",
      "['12-Aug-2018', '40']\n"
     ]
    },
    {
     "name": "stderr",
     "output_type": "stream",
     "text": [
      "\n",
      "\n",
      " 35%|███████████████████████████▋                                                    | 206/595 [11:22<23:50,  3.68s/it]"
     ]
    },
    {
     "name": "stdout",
     "output_type": "stream",
     "text": [
      "C:\\Users\\amar\\Downloads\\Receipts\\62f15742.jpeg\n",
      "Bar Louie Huntsville The Bridge St. ,Suitel Huntsville, AL, 35806/03/2015/2 4 42 PM Whiskey 6.25 Subtota i 6.25 Tax 1.31 Total CASH 10.00 Change 2.44 Thank you for visiting usAsk us about hosting your party or private event at Bar Louie HuntsvilleEat, Drink, Be Happyhuntsvil le barjoujeamerica.com --- Check Closed ---\n",
      "['3580', '6/03/2015', '2 4 42', '25', '25', '31', '10', '00', '44']\n"
     ]
    },
    {
     "name": "stderr",
     "output_type": "stream",
     "text": [
      "\n",
      "\n",
      " 35%|███████████████████████████▊                                                    | 207/595 [11:27<26:02,  4.03s/it]"
     ]
    },
    {
     "name": "stdout",
     "output_type": "stream",
     "text": [
      "C:\\Users\\amar\\Downloads\\Receipts\\637456ba.jpeg\n",
      "wens ——«O0L6 ekeih] ed ser ee 8 €A UnioBiter Wend Produsts Pvt. Lid“| 208, ZONE, MUP. MAGAR, BHOPAL - 462011 PH.2588001-04-2557637 € ‘Esnalhoreaktenoyhotelbhooalgggmall com, CINU20299JH183¢PTCO020168 € e € © € © ' imped Rom i € Time p © \\ 9 63 14 © t Co DURFEE. ee ie, | Sub Total 1 Service Charges 3% 5 6.0.8.1.2.9%0 8.0.8.1.2.5%0 Please Pay ' Staff Name RESIDE]\n",
      "['208', '4620', '11', '2588', '001', '04-2557', '637', '2029', '183', '0201', '68', '9 63 14']\n"
     ]
    },
    {
     "name": "stderr",
     "output_type": "stream",
     "text": [
      "\n",
      "\n",
      " 35%|███████████████████████████▉                                                    | 208/595 [11:32<27:38,  4.29s/it]"
     ]
    },
    {
     "name": "stdout",
     "output_type": "stream",
     "text": [
      "C:\\Users\\amar\\Downloads\\Receipts\\63debea1.jpeg\n",
      "“ s.—/ cOLUNBUS RESTAURANT OCEAN DRIVE MIAMI BEACH, FL-275-6944 TABLE 94 S GUESTS Gustavo 2 FAD BLUE MARGARI © 55.00.04 CHEESE BURGER CHICKEN MARSALA at TAX and SERVICE Det ail TF ARTICLES Tax SALES TAX 72.0010.04 RESORT/ SERVICE20/ TOTAL.47 SATURDAY 04-27-2018 03 59PH Key 12-Waitr12-POS 1-81 mprence«1294 HANES. aS Qa\n",
      "['275', '6944', '94', '55', '00', '04', '72', '0010', '04', '20', '47', '04-27-2018', '03 59', '12', '12', '1-81', '1294']\n"
     ]
    },
    {
     "name": "stderr",
     "output_type": "stream",
     "text": [
      "\n",
      "\n",
      " 35%|████████████████████████████                                                    | 209/595 [11:37<29:40,  4.61s/it]"
     ]
    },
    {
     "name": "stdout",
     "output_type": "stream",
     "text": [
      "C:\\Users\\amar\\Downloads\\Receipts\\643fab2f.jpeg\n",
      "COSTA COFFEE Devyani International Ltd. FAB 04, SHA, Ground Floor, Chaudhary Charan Singh Akport Terminal-2 Alport, Lucknow Lucknow GSTIN NO. O9AABCID553HA173 Service Code \"INV No.€1501912764 Gides No.C15901912802 Token No.0 29-06-2019 21 51 03 YASWANT Table Token 2 Guest TAREAWAYAkhess 2. DirectionGridPhone No.Order Punch Time ; 21 51 00 Promise Delivery-06-2019 00 00 00 DescriptionPrlce Qty.Disc.Amount. CAPPUCCINO REG. 199.00 1 o.00 TT Total AmountBefore.00.5 % 4.98.5%Gross Amount.96 Round Off oot Bill Amount.00 ae Cant ed Total Payment -\n",
      "['04', '553', '173', '1501', '9127', '64', '1590', '1912', '802', '0 29-06', '2019', '21 51 03', '21 51 00', '06-2019', '00 00 00', '199', '00', '00', '00', '98', '96', '00']\n"
     ]
    },
    {
     "name": "stderr",
     "output_type": "stream",
     "text": [
      "\n",
      "\n",
      " 35%|████████████████████████████▏                                                   | 210/595 [11:45<34:37,  5.40s/it]"
     ]
    },
    {
     "name": "stdout",
     "output_type": "stream",
     "text": [
      "C:\\Users\\amar\\Downloads\\Receipts\\648a919d.jpeg\n",
      "24 CHARCOAL EATS “ KT-12 P&M HL-TECH CITY CENTRE MALL Card No 5TAX INVOICE CASH MEMO-07-19 18 07 GSTIN 20ACNPK2764N1ZE QTY BASIC GST TOTAL MASALA CHAIWITHO 91 « 39.04 1.96 41.00 0.98 0.98 1.58 7.42.00\n",
      "['24', '12', '07-19 18', '07', '20', '2764', '91', '39', '04', '96 41', '00', '98', '98', '58', '42', '00']\n"
     ]
    },
    {
     "name": "stderr",
     "output_type": "stream",
     "text": [
      "\n",
      "\n",
      " 35%|████████████████████████████▎                                                   | 211/595 [11:48<30:59,  4.84s/it]"
     ]
    },
    {
     "name": "stdout",
     "output_type": "stream",
     "text": [
      "C:\\Users\\amar\\Downloads\\Receipts\\64bee512.jpeg\n",
      "Welcome to QuikTrip FM ; fy]1 ,1%S972-3687 4 10 33 25 pi 1-15-2013 Rectster Bag 101b 2.\n",
      "['972', '3687', '4 10 33', '25', '1-15-2013', '101']\n"
     ]
    },
    {
     "name": "stderr",
     "output_type": "stream",
     "text": [
      "\n",
      "\n",
      " 36%|████████████████████████████▌                                                   | 212/595 [11:52<28:29,  4.46s/it]"
     ]
    },
    {
     "name": "stdout",
     "output_type": "stream",
     "text": [
      "C:\\Users\\amar\\Downloads\\Receipts\\64d55742.jpeg\n",
      "\n",
      "[]\n"
     ]
    },
    {
     "name": "stderr",
     "output_type": "stream",
     "text": [
      "\n",
      "\n",
      " 36%|████████████████████████████▋                                                   | 213/595 [11:54<23:34,  3.70s/it]"
     ]
    },
    {
     "name": "stdout",
     "output_type": "stream",
     "text": [
      "C:\\Users\\amar\\Downloads\\Receipts\\651f5503.jpeg\n",
      "oS MIGUELS MEXICAN WW. KENNEDY BLVD THA, FL.813676 - 2667 MISSY Tl a2Che 85 at 0.87 4.21 65.14\n",
      "['8136', '76', '2667', '85', '87', '21 65', '14']\n"
     ]
    },
    {
     "name": "stderr",
     "output_type": "stream",
     "text": [
      "\n",
      "\n",
      " 36%|████████████████████████████▊                                                   | 214/595 [11:57<22:02,  3.47s/it]"
     ]
    },
    {
     "name": "stdout",
     "output_type": "stream",
     "text": [
      "C:\\Users\\amar\\Downloads\\Receipts\\65f3d160.jpeg\n",
      "\n",
      "[]\n"
     ]
    },
    {
     "name": "stderr",
     "output_type": "stream",
     "text": [
      "\n",
      "\n",
      " 36%|████████████████████████████▉                                                   | 215/595 [12:00<22:00,  3.47s/it]"
     ]
    },
    {
     "name": "stdout",
     "output_type": "stream",
     "text": [
      "C:\\Users\\amar\\Downloads\\Receipts\\66e32579.jpeg\n",
      "re Sie Jersey City Local, J201604-1772 1 Paneer Butter Masala 2 rice 1 Cad Special Biryani wi 7/28/2019 10 56 49 PH Jeb bck bree eer No returns or cancellations accepted once order is placed. Exchange only for faulty items ONLY. beet REE\n",
      "['2016', '04-1772', '7/28/2019', '10 56 49']\n"
     ]
    },
    {
     "name": "stderr",
     "output_type": "stream",
     "text": [
      "\n",
      "\n",
      " 36%|█████████████████████████████                                                   | 216/595 [12:03<21:19,  3.38s/it]"
     ]
    },
    {
     "name": "stdout",
     "output_type": "stream",
     "text": [
      "C:\\Users\\amar\\Downloads\\Receipts\\67784f13.jpeg\n",
      "‘€-fuel station Total Sale% 7 Vehical No. ; Hik2GD Moblie No.9672120424 OWN & OPERATED BY HPCL GST 27AAACHIMBRIZG HP HAI JAHAN BHAROSA HAL WAHA Vsit HPCL Outlet To Check Q And Q Thanks And Visit Again briana\n",
      "['9672', '1204', '24', '27']\n"
     ]
    },
    {
     "name": "stderr",
     "output_type": "stream",
     "text": [
      "\n",
      "\n",
      " 36%|█████████████████████████████▏                                                  | 217/595 [12:08<23:05,  3.67s/it]"
     ]
    },
    {
     "name": "stdout",
     "output_type": "stream",
     "text": [
      "C:\\Users\\amar\\Downloads\\Receipts\\6878de95.jpeg\n",
      ". 1LO7MOCROGDHITRS MET Fete | Y ee BARRO Te. To THomDw m8, “a nate ME Ey SE “ma ho Be. LTBI iat ts.7 cow 08/02/2019... 471 TSeuler BAY. MODre\n",
      "['08/02/2019', '471']\n"
     ]
    },
    {
     "name": "stderr",
     "output_type": "stream",
     "text": [
      "\n",
      "\n",
      " 37%|█████████████████████████████▎                                                  | 218/595 [12:12<24:12,  3.85s/it]"
     ]
    },
    {
     "name": "stdout",
     "output_type": "stream",
     "text": [
      "C:\\Users\\amar\\Downloads\\Receipts\\68c1c1de.jpeg\n",
      "ait Closed 03 S7AK--- ANT TO HEAR your eat Aa Ht i a SSUARE a 38\n",
      "['03', '38']\n"
     ]
    },
    {
     "name": "stderr",
     "output_type": "stream",
     "text": [
      "\n",
      "\n",
      " 37%|█████████████████████████████▍                                                  | 219/595 [12:15<23:39,  3.78s/it]"
     ]
    },
    {
     "name": "stdout",
     "output_type": "stream",
     "text": [
      "C:\\Users\\amar\\Downloads\\Receipts\\69095b91.jpeg\n",
      "Token No.6 Fad amou-* —— VA a SSI SGSTea a 2 Grand Total\n",
      "[]\n"
     ]
    },
    {
     "name": "stderr",
     "output_type": "stream",
     "text": [
      "\n",
      "\n",
      " 37%|█████████████████████████████▌                                                  | 220/595 [12:19<22:47,  3.65s/it]"
     ]
    },
    {
     "name": "stdout",
     "output_type": "stream",
     "text": [
      "C:\\Users\\amar\\Downloads\\Receipts\\693a7582.jpeg\n",
      "OPE RATED Be IMS STARBUCKS COFFEE DFW AIRPORT JUNOS'19 9 35AM COD DARK V 2.3 ADD ESP DOUBLE 2.45 5 SUBTOTAL \"96349 Cloeed JUKOS 09 3E4H- WANT TO HEAR YOUR FEEDBACK ASE CONTACT 1-877-672-7467EGHNSHOST.COM TO SHARE YOUR EXPERIENCE. STOREIDDFWSTA34\n",
      "['19 9 35', '45', '9634', '09', '1-877', '672', '7467', '34']\n"
     ]
    },
    {
     "name": "stderr",
     "output_type": "stream",
     "text": [
      "\n",
      "\n",
      " 37%|█████████████████████████████▋                                                  | 221/595 [12:23<23:30,  3.77s/it]"
     ]
    },
    {
     "name": "stdout",
     "output_type": "stream",
     "text": [
      "C:\\Users\\amar\\Downloads\\Receipts\\699f83d9.jpeg\n",
      "BuraO3 AP Me, gadT6 O« 3134490% eS EAT IN 1.00 SOFT SERVE CONE 2 On aoe ae Se eee eee exe nin RR RRRREREIRIEIERE* Free WHOPPER Sandwich x. Original Chicken Sandwic Purch sse required 3 fant-0g00tuywxexperience.comEnglish or EspanoHKKKKAEKERKKKKK KEKKKKEKKKKKKAKKRKK REE SUBTOTAL 3.00, 7.0% TAX 0.28 3.2 T CARD 3.2 0.00 POCO IRS\n",
      "['3134', '490', '00', '00', '00', '28', '00']\n"
     ]
    },
    {
     "name": "stderr",
     "output_type": "stream",
     "text": [
      "\n",
      "\n",
      " 37%|█████████████████████████████▊                                                  | 222/595 [12:29<27:59,  4.50s/it]"
     ]
    },
    {
     "name": "stdout",
     "output_type": "stream",
     "text": [
      "C:\\Users\\amar\\Downloads\\Receipts\\6a42604c.jpeg\n",
      "KFC Haepstead Turnpike-3508-07-08 s 18 2 Fasily Fill Up Lrg Coleslaw Lrg Mash/ Gvy Lrg Mash Only 4 Biscuit fE THRU\n",
      "['3508', '07-08', '18']\n"
     ]
    },
    {
     "name": "stderr",
     "output_type": "stream",
     "text": [
      "\n",
      "\n",
      " 37%|█████████████████████████████▉                                                  | 223/595 [12:32<25:44,  4.15s/it]"
     ]
    },
    {
     "name": "stdout",
     "output_type": "stream",
     "text": [
      "C:\\Users\\amar\\Downloads\\Receipts\\6a6e2a14.jpeg\n",
      "CHATPATA RESTAURANT ING ROUTES CLIFTON PARK, NY CashierKamal 19-Mar-2019 5 28 12P 1 6.5Chicken Korma $11.95 1 10.1 NaanPlain Naan $1.95 1 13.1 Kheet $3.95 Subtotal $17.85 Tax $1.25 Total $19.10 Onlinehttps //claver.com/ 1/KQ23F4TONS TET Order KQ23F4TONSTET\n",
      "['19-Mar-2019', '5 28 12', '11', '95 1 10', '95 1 13', '95', '17', '85', '25', '19', '10', '23', '23']\n"
     ]
    },
    {
     "name": "stderr",
     "output_type": "stream",
     "text": [
      "\n",
      "\n",
      " 38%|██████████████████████████████                                                  | 224/595 [12:36<24:48,  4.01s/it]"
     ]
    },
    {
     "name": "stdout",
     "output_type": "stream",
     "text": [
      "C:\\Users\\amar\\Downloads\\Receipts\\6bab0d7d.jpeg\n",
      "STARBUCKS East State St Rockford, TL815397-5275 Drive Thru vt Pike Place With Crees Spinach Fata Wrap 3.65 Visa 7.10 7 Subtotel 96.50 Tay 9.25% 20.60 Total 97.10 Change Bue $0.00 eccoenaen-- Check Closed --------------- 06/17/2019 11 25 AM doin cur loyalty progranmaa Rewards® ign up for promotional Visit Diiiiecerearts.” Or download our app y At participating stores ‘Sone restrictions apply\n",
      "['8153', '97-5275', '65', '10', '96', '50', '25', '20', '60', '97', '10', '00', '06/17/2019', '11 25']\n"
     ]
    },
    {
     "name": "stderr",
     "output_type": "stream",
     "text": [
      "\n",
      "\n",
      " 38%|██████████████████████████████▎                                                 | 225/595 [12:40<24:58,  4.05s/it]"
     ]
    },
    {
     "name": "stdout",
     "output_type": "stream",
     "text": [
      "C:\\Users\\amar\\Downloads\\Receipts\\6bba9c45.jpeg\n",
      "Es — Harz, 2 ae ae ae i a OTD We NAIL IT| Taw 9 eee fer 4 Gire er ei \\ ra Dara CoO VY ni as oe ‘cour bren bo conlorsd witein 34 Ge eaec ea\n",
      "['34']\n"
     ]
    },
    {
     "name": "stderr",
     "output_type": "stream",
     "text": [
      "\n",
      "\n",
      " 38%|██████████████████████████████▍                                                 | 226/595 [12:43<21:52,  3.56s/it]"
     ]
    },
    {
     "name": "stdout",
     "output_type": "stream",
     "text": [
      "C:\\Users\\amar\\Downloads\\Receipts\\6c447c78.jpeg\n",
      "£1 Charro Cafe ¥ OE OMe sei ween Coors Light 5.00 Ice Tea 3.6 Shrimp Fajita 6.5 Stuffed Chicken 1S Subtotal 6.5 Tex 2.5 Total a Balance Due 47.30\n",
      "['00', '47', '30']\n"
     ]
    },
    {
     "name": "stderr",
     "output_type": "stream",
     "text": [
      "\n",
      "\n",
      " 38%|██████████████████████████████▌                                                 | 227/595 [12:44<17:57,  2.93s/it]"
     ]
    },
    {
     "name": "stdout",
     "output_type": "stream",
     "text": [
      "C:\\Users\\amar\\Downloads\\Receipts\\6cb2b839.jpeg\n",
      "lelay ony Orca Cashi ees 1 Ra Orange Crsh Fe Sublotal Tex DANE Thy Thank you for visiting MOBILE ORDERING ISIENE DOWNLOAD THE APP 6 | MOVE NO AYMYE\n",
      "[]\n"
     ]
    },
    {
     "name": "stderr",
     "output_type": "stream",
     "text": [
      "\n",
      "\n",
      " 38%|██████████████████████████████▋                                                 | 228/595 [12:46<16:02,  2.62s/it]"
     ]
    },
    {
     "name": "stdout",
     "output_type": "stream",
     "text": [
      "C:\\Users\\amar\\Downloads\\Receipts\\6d53e280.jpeg\n",
      "MIKUNI JAPANESE Hazel Avenue Fair Oaks. » CA-2112 David 0 1 Mojito Pitcher Original w/ 18.00 2 Glass 1 Brussel Sprouts 6.50 1 Pepperfin 14.50 1 Spicy Drm 1 Red 14.50 1 Aerojet 14,95 1 Tommy 17.95 2 Chu Toro 19.00 1 Daikon Hamachi 14.50 1 Garlic Salmon 14.00 Subtotal] 133.90 Tax 10.38 Total Due.28\n",
      "['2112', '18', '00', '50', '14', '50', '14', '50', '14,95', '17', '95', '19', '00', '14', '50', '14', '00', '133', '90', '10', '38', '28']\n"
     ]
    },
    {
     "name": "stderr",
     "output_type": "stream",
     "text": [
      "\n",
      "\n",
      " 38%|██████████████████████████████▊                                                 | 229/595 [12:49<16:42,  2.74s/it]"
     ]
    },
    {
     "name": "stdout",
     "output_type": "stream",
     "text": [
      "C:\\Users\\amar\\Downloads\\Receipts\\6dbdd84b.jpeg\n",
      "Liuyishou Hot pot 98 E 3rd Ave, San Mateo, CA-242-1245 Card TypeVISA Card HolderOU/DESHENG Entry MethodCHIP-06-08 22 38 54 Auth APP NameVISA DEBIT ADD TIP 15%Tips $24 16, Total $199.718%Tips $28.99, fotal $204.53‘ 20%Tips $32.24, otal $207.75a CUSTOM TIPS TOTAL Customer COPY Tips 8y ns Vo $4 Bia 20%, $2880, Total, $204.53 $32.21\" Tonal, $207.75\n",
      "['98', '242', '1245', '06-08 22', '38 54', '15', '24 16', '199', '718', '28', '99', '204', '53', '20', '32', '24', '207', '75', '20', '2880', '204', '53', '32', '21', '207', '75']\n"
     ]
    },
    {
     "name": "stderr",
     "output_type": "stream",
     "text": [
      "\n",
      "\n",
      " 39%|██████████████████████████████▉                                                 | 230/595 [12:53<18:18,  3.01s/it]"
     ]
    },
    {
     "name": "stdout",
     "output_type": "stream",
     "text": [
      "C:\\Users\\amar\\Downloads\\Receipts\\6e5b73db.jpeg\n",
      "CashierAlvin 09-Jun-2019 1 44 48P Transaction 1 Miso Salmon Bowl $13.75 | Subtotal $13.75 Tax $1.27 Total aad $15.02 CREDITCARDAUTH —-— $15.02 DISCOVER 09-Jun-2019 1 44 65P $165.02 | MethodSWIPED DISCOVER RHEA L MANGLAPUS | Auth00976R AthNtwkNmDISCOVER SIGNATURE VERIFIED Onlinehttps //clover.com/ , ni/ADCRUTTARTRALDs\n",
      "['09-Jun-2019', '1 44 48', '13', '75', '13', '75', '27', '15', '02', '15', '02', '09-Jun-2019', '1 44 65', '165', '02', '0097']\n"
     ]
    },
    {
     "name": "stderr",
     "output_type": "stream",
     "text": [
      "\n",
      "\n",
      " 39%|███████████████████████████████                                                 | 231/595 [12:55<17:40,  2.91s/it]"
     ]
    },
    {
     "name": "stdout",
     "output_type": "stream",
     "text": [
      "C:\\Users\\amar\\Downloads\\Receipts\\6e6c8022.jpeg\n",
      "BUY ONE GET ONE FREE Go to WW modVO ioe , ex and tell us abou Validation CodeExpires 3¢ Valid at WARREN, IN McDonald's Restaurantdays after receipt Participating Us McDonald's. Survey-13010-62019-07076-00042-7 McDonald's S. WARREN RD..1-69/S.R. 5QUARTER POUNDER CHEESE OR FEE MCMUFFIN m within 7 days t your visit, date, 06/20/2019 07 07 AM Sideape 1 Bac Egg Ch Bis M1-Hb 3.99 1 L Coke 3.99 meets 08 ~ 4, Take-Out Total 20.27 Dash Tendered 16.00 Change\n",
      "['1301', '0-6201', '9-0707', '6-0004', '1-69', '06/20/2019', '07 07', '99', '99', '08', '20', '27', '16', '00']\n"
     ]
    },
    {
     "name": "stderr",
     "output_type": "stream",
     "text": [
      "\n",
      "\n",
      " 39%|███████████████████████████████▏                                                | 232/595 [12:58<17:25,  2.88s/it]"
     ]
    },
    {
     "name": "stdout",
     "output_type": "stream",
     "text": [
      "C:\\Users\\amar\\Downloads\\Receipts\\6eef3a7f.jpeg\n",
      "SSP America Tron Horee Sacramento-877-3531\n",
      "['877', '3531']\n"
     ]
    },
    {
     "name": "stderr",
     "output_type": "stream",
     "text": [
      "\n",
      "\n",
      " 39%|███████████████████████████████▎                                                | 233/595 [13:00<15:59,  2.65s/it]"
     ]
    },
    {
     "name": "stdout",
     "output_type": "stream",
     "text": [
      "C:\\Users\\amar\\Downloads\\Receipts\\6f542182.jpeg\n",
      "a Anpoy usiy pag Aus Sup 9 lla pares ag ange aap 24 poe ane iyasmtitogs Tet-4378000 www sarevaiote's com game\n",
      "['24', '4378', '000']\n"
     ]
    },
    {
     "name": "stderr",
     "output_type": "stream",
     "text": [
      "\n",
      "\n",
      " 39%|███████████████████████████████▍                                                | 234/595 [13:03<15:38,  2.60s/it]"
     ]
    },
    {
     "name": "stdout",
     "output_type": "stream",
     "text": [
      "C:\\Users\\amar\\Downloads\\Receipts\\704f4322.jpeg\n",
      "i, of Portuga Mineola Blvd Mineola, NY-742-9797 al 99/10/17 3 28 PM ek pete $20.95 5 $16. $65.90 $5.68 $71.58 8\n",
      "['742', '9797', '99/10/17', '3 28', '20', '95', '16', '65', '90', '68', '71', '58']\n"
     ]
    },
    {
     "name": "stderr",
     "output_type": "stream",
     "text": [
      "\n",
      "\n",
      " 39%|███████████████████████████████▌                                                | 235/595 [13:06<16:01,  2.67s/it]"
     ]
    },
    {
     "name": "stdout",
     "output_type": "stream",
     "text": [
      "C:\\Users\\amar\\Downloads\\Receipts\\70b0dba1.jpeg\n",
      "EE 06-18-19 07 50 ad\n",
      "['06-18-19', '07 50']\n"
     ]
    },
    {
     "name": "stderr",
     "output_type": "stream",
     "text": [
      "\n",
      "\n",
      " 40%|███████████████████████████████▋                                                | 236/595 [13:07<13:42,  2.29s/it]"
     ]
    },
    {
     "name": "stdout",
     "output_type": "stream",
     "text": [
      "C:\\Users\\amar\\Downloads\\Receipts\\70edf5c1.jpeg\n",
      "BOA310278-2050 OO51a TABLE 308arly BAR L 13 22 Separate-of-3 1 CRAB CAKE 1 SKIRT STK LUNCH Sub TotalTaxSub/20 14 29 TOTALSUGGESTED GRATUITY 18% 8.48 20% 9.42\n",
      "['3102', '78-2050', '51', '308', '13 22', '20 14 29', '18', '48 20', '42']\n"
     ]
    },
    {
     "name": "stderr",
     "output_type": "stream",
     "text": [
      "\n",
      "\n",
      " 40%|███████████████████████████████▊                                                | 237/595 [13:09<13:04,  2.19s/it]"
     ]
    },
    {
     "name": "stdout",
     "output_type": "stream",
     "text": [
      "C:\\Users\\amar\\Downloads\\Receipts\\710e2d39.jpeg\n",
      "ipanema Brazilian Steak House South Pine Avenue \"a Ocala, Florida-1741/13/18 16 pa areDINING 1 DINNER RODIZIO $41.95 Sub-total$41.95 Gratuity$10.49 ‘ax$2.94 Total$55.38 Pay Th's AnountRecomended Gratut-05 H-s8 —\n",
      "['1741', '13/18 16', '41', '95', '41', '95', '10', '49', '94', '55', '38', '05']\n"
     ]
    },
    {
     "name": "stderr",
     "output_type": "stream",
     "text": [
      "\n",
      "\n",
      " 40%|████████████████████████████████                                                | 238/595 [13:12<14:06,  2.37s/it]"
     ]
    },
    {
     "name": "stdout",
     "output_type": "stream",
     "text": [
      "C:\\Users\\amar\\Downloads\\Receipts\\71548d28.jpeg\n",
      "' R BANGALORE. Bill No-ORGNL A Trns. ID; Atnd. IDVehi .No NotEntered Date’17/07/1912 48 17 Fuel. i Density7535kg/m3 PresetRs.2 RateRs.75.70 SaleRs.200.00.64Lts. PH. NO. 9844804329 WEL COME f HOFC BANK\n",
      "['17/07/1912', '48 17', '7535', '75', '70', '200', '00', '64', '9844', '8043', '29']\n"
     ]
    },
    {
     "name": "stderr",
     "output_type": "stream",
     "text": [
      "\n",
      "\n",
      " 40%|████████████████████████████████▏                                               | 239/595 [13:15<15:05,  2.54s/it]"
     ]
    },
    {
     "name": "stdout",
     "output_type": "stream",
     "text": [
      "C:\\Users\\amar\\Downloads\\Receipts\\715d59e4.jpeg\n",
      "FALMOUTH RAW BAR 56 Scranton Ave. NG mate orpayie-n 6Zo Guests 5 abby Table 1. nt Sater 19.00 da 2. Sparkling Wine 1.. 0pen Liquor | patron doubleItem shown with tax includedee.81 ‘TOTAL.19\n",
      "['56', '19', '00', '81', '19']\n"
     ]
    },
    {
     "name": "stderr",
     "output_type": "stream",
     "text": [
      "\n",
      "\n",
      " 40%|████████████████████████████████▎                                               | 240/595 [13:18<15:32,  2.63s/it]"
     ]
    },
    {
     "name": "stdout",
     "output_type": "stream",
     "text": [
      "C:\\Users\\amar\\Downloads\\Receipts\\718914cd.jpeg\n",
      "Tenval hoSU-32779 hay Lecaaz Bea Gf. NAS. MGoSTO Gina AGED , RSE Rua, GbR OMe], CNCEDE-RLGURO Manetteaetanasta.con\n",
      "['3277']\n"
     ]
    },
    {
     "name": "stderr",
     "output_type": "stream",
     "text": [
      "\n",
      "\n",
      " 41%|████████████████████████████████▍                                               | 241/595 [13:19<13:40,  2.32s/it]"
     ]
    },
    {
     "name": "stdout",
     "output_type": "stream",
     "text": [
      "C:\\Users\\amar\\Downloads\\Receipts\\7276fcd8.jpeg\n",
      "Order 4AW465DFNMVRT\n",
      "['465']\n"
     ]
    },
    {
     "name": "stderr",
     "output_type": "stream",
     "text": [
      "\n",
      "\n",
      " 41%|████████████████████████████████▌                                               | 242/595 [13:21<12:16,  2.09s/it]"
     ]
    },
    {
     "name": "stdout",
     "output_type": "stream",
     "text": [
      "C:\\Users\\amar\\Downloads\\Receipts\\72b3b552.jpeg\n",
      "Birya” Total\n",
      "[]\n"
     ]
    },
    {
     "name": "stderr",
     "output_type": "stream",
     "text": [
      "\n",
      "\n",
      " 41%|████████████████████████████████▋                                               | 243/595 [13:23<12:45,  2.18s/it]"
     ]
    },
    {
     "name": "stdout",
     "output_type": "stream",
     "text": [
      "C:\\Users\\amar\\Downloads\\Receipts\\72edc0a9.jpeg\n",
      "ia ar, ine Ave Baldwin park, ca-9019° Dine In TA BER 10-4 “9.54 Modelo Tap. 2 Manzanita Sol 5.0 1 Tamarindo 2.15 1 Sprite 2.8 1 Thur. 2 Cock Shri 11 2iole Fisch 71.00 Tilapia whl Fried 1 2 tes Governador 1.18plan , fries 1 French Fries 2.50 1 Taco DE Asada 2.25plain,papas SUB.89 Tax 16.35 Tax 20.00 DUE$73.24 9/6/2016 Seeeee aE peda REE wir earver\n",
      "['9019', '10', '54', '15', '11', '71', '00', '18', '50', '25', '89', '16', '35', '20', '00', '73', '24', '9/6/2016']\n"
     ]
    },
    {
     "name": "stderr",
     "output_type": "stream",
     "text": [
      "\n",
      "\n",
      " 41%|████████████████████████████████▊                                               | 244/595 [13:26<14:46,  2.53s/it]"
     ]
    },
    {
     "name": "stdout",
     "output_type": "stream",
     "text": [
      "C:\\Users\\amar\\Downloads\\Receipts\\73223a9f.jpeg\n",
      "\n",
      "[]\n"
     ]
    },
    {
     "name": "stderr",
     "output_type": "stream",
     "text": [
      "\n",
      "\n",
      " 41%|████████████████████████████████▉                                               | 245/595 [13:28<12:49,  2.20s/it]"
     ]
    },
    {
     "name": "stdout",
     "output_type": "stream",
     "text": [
      "C:\\Users\\amar\\Downloads\\Receipts\\73313aba.jpeg\n",
      "indie YADA\\ i raoay sili eat zon NAGAK RUDE PUNE 411091VAT TIN. 274500784tae* W.E.F.1/4/2006 62 Ss. 330.00,36Lts.\n",
      "['4110', '91', '2745', '0078', '1/4/2006', '62', '330', '00,36']\n"
     ]
    },
    {
     "name": "stderr",
     "output_type": "stream",
     "text": [
      "\n",
      "\n",
      " 41%|█████████████████████████████████                                               | 246/595 [13:30<12:35,  2.16s/it]"
     ]
    },
    {
     "name": "stdout",
     "output_type": "stream",
     "text": [
      "C:\\Users\\amar\\Downloads\\Receipts\\7383041e.jpeg\n",
      "newer were 08 04 AM ANUNUOUL SUNN n |, ei. TAZ TAX 8.60008 on 19 5 2 FRI. $34.74 AEX anh at-9157-3261-0164-6048-1 VCD-250-041 Toka'a'B airurte aurvey abot todes's tripUae A ier ites CUENTENOS EN ESPAROL Ploase take this survey within 7 cays.\n",
      "['08 04', '6000', '19', '34', '74', '9157', '3261', '0164', '6048', '250', '041']\n"
     ]
    },
    {
     "name": "stderr",
     "output_type": "stream",
     "text": [
      "\n",
      "\n",
      " 42%|█████████████████████████████████▏                                              | 247/595 [13:32<12:23,  2.14s/it]"
     ]
    },
    {
     "name": "stdout",
     "output_type": "stream",
     "text": [
      "C:\\Users\\amar\\Downloads\\Receipts\\74346a8f.jpeg\n",
      "Credit Card Visa Tine Trangaction Type Author izat ton 2 LossYkptfptn MAGTEX DYNAMAG $168.43 SL are po fay, YsCONNER Custower Copy ‘am opalstable.com facebook .com/Opalaltidistablentdiend\n",
      "['168', '43']\n"
     ]
    },
    {
     "name": "stderr",
     "output_type": "stream",
     "text": [
      "\n",
      "\n",
      " 42%|█████████████████████████████████▎                                              | 248/595 [13:34<12:17,  2.13s/it]"
     ]
    },
    {
     "name": "stdout",
     "output_type": "stream",
     "text": [
      "C:\\Users\\amar\\Downloads\\Receipts\\745b1998.jpeg\n",
      "Bharat Petroleum Dealer OUTLETBUNGRUNG SERVICE ST. ADDRESSKAHILIPARA BILL SH- DatesT/05/19 17 12 VEHICLENOT ENTERED\n",
      "['05/19 17', '12']\n"
     ]
    },
    {
     "name": "stderr",
     "output_type": "stream",
     "text": [
      "\n",
      "\n",
      " 42%|█████████████████████████████████▍                                              | 249/595 [13:36<11:38,  2.02s/it]"
     ]
    },
    {
     "name": "stdout",
     "output_type": "stream",
     "text": [
      "C:\\Users\\amar\\Downloads\\Receipts\\74c2c549.jpeg\n",
      "2are0.00aldo de Camaron, 6.93 wprgametnemennncmecnnnnn “ss Sales Tax 0.74 ing Foo 0.27 TOTAL 10.00 BALANCE DUE 10.00 Processing fee will be removed ifs patd tn cash ‘1f the check ia paid in cash.\n",
      "['00', '93', '74', '27', '10', '00', '10', '00']\n"
     ]
    },
    {
     "name": "stderr",
     "output_type": "stream",
     "text": [
      "\n",
      "\n",
      " 42%|█████████████████████████████████▌                                              | 250/595 [13:38<12:07,  2.11s/it]"
     ]
    },
    {
     "name": "stdout",
     "output_type": "stream",
     "text": [
      "C:\\Users\\amar\\Downloads\\Receipts\\7501533b.jpeg\n",
      "6030 Renaissance Parkway Durham, NC-2900 serverANASTASHTA 05/18/2019 fable 57/1 12 25 PM Taco Salad 15.49 Ground Beef Add Chicken Fajita 8.99 de Pollo 18.99 Subtotal 43.47 iv 3.26 Tota 46.73 Balanc e Due 46.73 4 Loyalty Program\n",
      "['6030', '2900', '05/18/2019', '57/1 12', '25', '15', '49', '99', '18', '99', '43', '47', '26', '46', '73', '46', '73']\n"
     ]
    },
    {
     "name": "stderr",
     "output_type": "stream",
     "text": [
      "\n",
      "\n",
      " 42%|█████████████████████████████████▋                                              | 251/595 [13:41<14:01,  2.45s/it]"
     ]
    },
    {
     "name": "stdout",
     "output_type": "stream",
     "text": [
      "C:\\Users\\amar\\Downloads\\Receipts\\752bb04a.jpeg\n",
      "ten mane Wis cate ty, Sale price bise Total sat iden at arom Pie ™ total ' me 08.88 ne ot at “ eat eather ved Si pater\n",
      "['08', '88']\n"
     ]
    },
    {
     "name": "stderr",
     "output_type": "stream",
     "text": [
      "\n",
      "\n",
      " 42%|█████████████████████████████████▉                                              | 252/595 [13:43<13:21,  2.34s/it]"
     ]
    },
    {
     "name": "stdout",
     "output_type": "stream",
     "text": [
      "C:\\Users\\amar\\Downloads\\Receipts\\75351233.jpeg\n",
      "— —Deniee's ices Ba Mice Damien” Destec's ion anbe‘s Mawr Desley's Pines Bowecs irs Dandes'sVirea Bamsies's izes Dorneo'sey eS a NG RSA REEURG rlasemyeng ays,\n",
      "[]\n"
     ]
    },
    {
     "name": "stderr",
     "output_type": "stream",
     "text": [
      "\n",
      "\n",
      " 43%|██████████████████████████████████                                              | 253/595 [13:45<12:20,  2.16s/it]"
     ]
    },
    {
     "name": "stdout",
     "output_type": "stream",
     "text": [
      "C:\\Users\\amar\\Downloads\\Receipts\\758414d5.jpeg\n",
      "i SH MEAT & SEAFOOD a\" ww mkretail.c MLE. RETAIL COMPANY GRAND TAL NO. OF ITEMS/OTY ~ THANE YOUDO UISET aga \\eRAS & CONDITIONS QUERLEAF\n",
      "[]\n"
     ]
    },
    {
     "name": "stderr",
     "output_type": "stream",
     "text": [
      "\n",
      "\n",
      " 43%|██████████████████████████████████▏                                             | 254/595 [13:48<13:14,  2.33s/it]"
     ]
    },
    {
     "name": "stdout",
     "output_type": "stream",
     "text": [
      "C:\\Users\\amar\\Downloads\\Receipts\\75b7ef34.jpeg\n",
      "SPEEDway 4 Dayton OH 8/4/2019 3 49 PM Pump 42 Regular Unleaded 7.029$2, 469/GAL GAS TOTAL $17.35 TAX $0.00 TOTAL $17.35 Visa Card TRANS TYPECAPTURE 7 ENTRY METHODSwiped 96/04/2019 15 47 50 Card igrees to D ier total per the jlcement between Cardholder & issuer. WWW. SPEEDWAY . COM\n",
      "['8/4/2019', '3 49', '42', '029', '2, 469', '17', '35', '00', '17', '35', '96/04/2019', '15 47 50']\n"
     ]
    },
    {
     "name": "stderr",
     "output_type": "stream",
     "text": [
      "\n",
      "\n",
      " 43%|██████████████████████████████████▎                                             | 255/595 [13:52<15:48,  2.79s/it]"
     ]
    },
    {
     "name": "stdout",
     "output_type": "stream",
     "text": [
      "C:\\Users\\amar\\Downloads\\Receipts\\774194f1.jpeg\n",
      "ta rp eeas | FM Ti DPump Gallons Price 61 3.638 $2,489 Product heave UNLEADED $23.98 Total Sale $23 88 Thank You Tor Shopping Quikt, Please Come\n",
      "['61', '638', '2,489', '23', '98', '23 88']\n"
     ]
    },
    {
     "name": "stderr",
     "output_type": "stream",
     "text": [
      "\n",
      "\n",
      " 43%|██████████████████████████████████▍                                             | 256/595 [13:54<14:59,  2.65s/it]"
     ]
    },
    {
     "name": "stdout",
     "output_type": "stream",
     "text": [
      "C:\\Users\\amar\\Downloads\\Receipts\\7757f74b.jpeg\n",
      "\n",
      "[]\n"
     ]
    },
    {
     "name": "stderr",
     "output_type": "stream",
     "text": [
      "\n",
      "\n",
      " 43%|██████████████████████████████████▌                                             | 257/595 [13:56<12:47,  2.27s/it]"
     ]
    },
    {
     "name": "stdout",
     "output_type": "stream",
     "text": [
      "C:\\Users\\amar\\Downloads\\Receipts\\78bce3b1.jpeg\n",
      "Hi T agree to pay above total according to ay card issuer Customer Copy\n",
      "[]\n"
     ]
    },
    {
     "name": "stderr",
     "output_type": "stream",
     "text": [
      "\n",
      "\n",
      " 43%|██████████████████████████████████▋                                             | 258/595 [13:57<10:58,  1.95s/it]"
     ]
    },
    {
     "name": "stdout",
     "output_type": "stream",
     "text": [
      "C:\\Users\\amar\\Downloads\\Receipts\\792e12f9.jpeg\n",
      "HOTEL KINGSWAY ~Ringroad.Near Airtel Office Telibandha, Ra eee-7714321/9522272122 GSTIN NO - 22AAJFH9139E1ZG » POS- ROOM SERVICE Room No - 310 Bill no - 25DDATE- 24/06/19 TIME- 22 26 Guest Name - Mr. HemantRawal | Cover- 2 Day Session Dit ’ First KOT Time- 21 17KOT NO. 22,2827\n",
      "['7714', '321', '9522', '2721', '22', '22', '9139', '310', '25', '24/06/19', '22 26', '21 17', '22,2827']\n"
     ]
    },
    {
     "name": "stderr",
     "output_type": "stream",
     "text": [
      "\n",
      "\n",
      " 44%|██████████████████████████████████▊                                             | 259/595 [14:00<13:27,  2.40s/it]"
     ]
    },
    {
     "name": "stdout",
     "output_type": "stream",
     "text": [
      "C:\\Users\\amar\\Downloads\\Receipts\\7ab07a7e.jpeg\n",
      "\n",
      "[]\n"
     ]
    },
    {
     "name": "stderr",
     "output_type": "stream",
     "text": [
      "\n",
      "\n",
      " 44%|██████████████████████████████████▉                                             | 260/595 [14:02<12:43,  2.28s/it]"
     ]
    },
    {
     "name": "stdout",
     "output_type": "stream",
     "text": [
      "C:\\Users\\amar\\Downloads\\Receipts\\7b987291.jpeg\n",
      "Mohan Sweets & Bakers LGF 3, 4 Ashirwad Plaza, Ram Ram Bank Chauraha Aliganj, Lucknow GSTINIUIN O9AIOPG3696G1ZS | State Name Uttar Pradesh, Code. 09 | Bill of Supply ORDER BiliNo.25018,27 his Date-2019 Usermohan SI Description Qty Rate Amount 1 Chips 1 S600PCS 55.00 2 Dry Fruits 0.200 H000ig.00 | 3 PANEER 0.200.00igs 56.00 | 4 Choclate 1 OUNos.00 Total —— .¥411.00 CriDr Card.00 Card No 2 XKXK KNX EXKK —Total Paid.00\n",
      "['3696', '09', '2501', '8,27', '2019', '600', '55', '00', '200', '000', '00', '200', '00', '56', '00', '00', '411', '00', '00', '00']\n"
     ]
    },
    {
     "name": "stderr",
     "output_type": "stream",
     "text": [
      "\n",
      "\n",
      " 44%|███████████████████████████████████                                             | 261/595 [14:05<14:16,  2.56s/it]"
     ]
    },
    {
     "name": "stdout",
     "output_type": "stream",
     "text": [
      "C:\\Users\\amar\\Downloads\\Receipts\\7ba45680.jpeg\n",
      "PAPPADEAUX SEAFOOD KITCHEN Pappadeaux Seafood Coneland Rd, Arlington, TX-1 wma Pal Teble 72arty 3 12 11 11/18/17 SARAH H DINE IN 5.95 1 Lump Crab & Spinach Dip 18.5 1 Cajun Combo 1 Lunch Shrinp & Andout Te T 11/18 12 45 TOTALThank you for dining at Pappadeaux . Tip Penny e-Gift Card Digitses eee Present e-Gift card for validation. meen ni ATE fA Adenitel\n",
      "['72', '3 12 11', '11/18/17', '95', '18', '11/18 12', '45']\n"
     ]
    },
    {
     "name": "stderr",
     "output_type": "stream",
     "text": [
      "\n",
      "\n",
      " 44%|███████████████████████████████████▏                                            | 262/595 [14:08<14:11,  2.56s/it]"
     ]
    },
    {
     "name": "stdout",
     "output_type": "stream",
     "text": [
      "C:\\Users\\amar\\Downloads\\Receipts\\7c391a3a.jpeg\n",
      "SUKHOTHAI ee mel a 41ASIAN SUKHOT UsIO rizagem nar AMI. FI “7808 uu http //www.sukhothaius.com*eeOrder online www.sukhothaius.com** ORDER0003 DINE-IN CashierSergio 19-Apr-2019 2 02 26P Transaction 1 Chicken Fried Rice And Egg $7.99 Lunch 1 California Tropic And Miso $7.99 Lunch 1 Add Two Tostones $1.00 1 Sprite $2.50 1 Perrier Sparkling Water $3.50 Subtotal $22.98 Tax $1.61 Service fees on tables. $3.45.0%Total $28.04 CREDIT CARD AUTH $28.04\n",
      "['41', '7808', '0003', '19-Apr-2019', '2 02 26', '99', '99', '00', '50', '50', '22', '98', '61', '45', '28', '04', '28', '04']\n"
     ]
    },
    {
     "name": "stderr",
     "output_type": "stream",
     "text": [
      "\n",
      "\n",
      " 44%|███████████████████████████████████▎                                            | 263/595 [14:12<15:54,  2.87s/it]"
     ]
    },
    {
     "name": "stdout",
     "output_type": "stream",
     "text": [
      "C:\\Users\\amar\\Downloads\\Receipts\\7c9e38ba.jpeg\n",
      "7-ELEVEN FOSTER AD. SAN ANTONIO, TX 85/85/2619 66 52 57 PM PREPAID RECEIPT ‘Regular 3.83916 PRICE/GAL $2.340 FUEL TOTAL $ 9.65Tell us about i visit, onmobilvisi t\n",
      "['85/85/2619', '66 52 57', '8391', '340', '65']\n"
     ]
    },
    {
     "name": "stderr",
     "output_type": "stream",
     "text": [
      "\n",
      "\n",
      " 44%|███████████████████████████████████▍                                            | 264/595 [14:14<15:02,  2.73s/it]"
     ]
    },
    {
     "name": "stdout",
     "output_type": "stream",
     "text": [
      "C:\\Users\\amar\\Downloads\\Receipts\\7d3d33d3.jpeg\n",
      "\n",
      "[]\n"
     ]
    },
    {
     "name": "stderr",
     "output_type": "stream",
     "text": [
      "\n",
      "\n",
      " 45%|███████████████████████████████████▋                                            | 265/595 [14:15<12:31,  2.28s/it]"
     ]
    },
    {
     "name": "stdout",
     "output_type": "stream",
     "text": [
      "C:\\Users\\amar\\Downloads\\Receipts\\7e60a259.jpeg\n",
      "NHNWHINI DELUXE HOTEL/2b H 24TH MAIN RD GTH CROSS JP NAGAR, BANGALORE-560078 GST NO, 29AAMFN3435G221 BILL NO 22 29/05/2019 TABLE.NO22 ORDERED TENS ay RATE AMOUNTFOOD LIENSa FULL MERLS 4.00.00 BASIC TOTAL.92.58.00.50 3 16.00 SUB TOTAL.00 GRAND [ovr “RS .672.90/- RupeesiA Hundred and Seventy Twoonly\n",
      "['24', '5600', '78', '29', '3435', '221', '22 29/05', '2019', '22', '00', '00', '92', '58', '00', '50 3 16', '00', '00', '672', '90']\n"
     ]
    },
    {
     "name": "stderr",
     "output_type": "stream",
     "text": [
      "\n",
      "\n",
      " 45%|███████████████████████████████████▊                                            | 266/595 [14:19<14:34,  2.66s/it]"
     ]
    },
    {
     "name": "stdout",
     "output_type": "stream",
     "text": [
      "C:\\Users\\amar\\Downloads\\Receipts\\7e979c6c.jpeg\n",
      "RUST MsoN AL 08 3 40 8 8 18 FJ 3 au 1.11 3.15 4 0.\n",
      "['08 3 40', '8 8 18', '11', '15']\n"
     ]
    },
    {
     "name": "stderr",
     "output_type": "stream",
     "text": [
      "\n",
      "\n",
      " 45%|███████████████████████████████████▉                                            | 267/595 [14:25<19:44,  3.61s/it]"
     ]
    },
    {
     "name": "stdout",
     "output_type": "stream",
     "text": [
      "C:\\Users\\amar\\Downloads\\Receipts\\7eb86b39.jpeg\n",
      "WINGS & THINGS DUTCH BRODY ELMONT, NY THANKS CALL AGAIN-341-7075168 « OUT TMAC&CHZ - SMALL 1.19 1 COLL GRN - SMALL 1.19 “1 CORN BREAD 62 “TS WINGS 5.75 SPCY FRY TXTL 5 TOTL 9.50 CASH 3.50 CHNG THANK YOU COME AGAIN 20 MAR.19'17 —S\n",
      "['341', '7075', '168', '19', '19', '62', '75', '50', '50', '20', '19', '17']\n"
     ]
    },
    {
     "name": "stderr",
     "output_type": "stream",
     "text": [
      "\n",
      "\n",
      " 45%|████████████████████████████████████                                            | 268/595 [14:32<25:32,  4.69s/it]"
     ]
    },
    {
     "name": "stdout",
     "output_type": "stream",
     "text": [
      "C:\\Users\\amar\\Downloads\\Receipts\\7ecbd11f.jpeg\n",
      "YT/T 11 24pu Cashier CYNTHIA Terminal 01 NUMERO Muchas Gracias por su VisitaA teeteetetppreesesse\n",
      "['11 24', '01']\n"
     ]
    },
    {
     "name": "stderr",
     "output_type": "stream",
     "text": [
      "\n",
      "\n",
      " 45%|████████████████████████████████████▏                                           | 269/595 [14:36<24:25,  4.50s/it]"
     ]
    },
    {
     "name": "stdout",
     "output_type": "stream",
     "text": [
      "C:\\Users\\amar\\Downloads\\Receipts\\7f892b9b.jpeg\n",
      "Serverlinda Dine ing 10 38 46 [1a ¢ . mild icaSpicy , mild[AE PS tt Eraleec Beef [1]2 ae $6.25 Cold Noodle With Pai $7.95 Beef Noodies Amount$25.34 Tax.00%$2.28 Sub-Total$27.62 —TIP GUIDE— 15%$3.80 18%$4.56 20%$5.07\n",
      "['10 38 46', '25', '95', '25', '34', '00', '28', '27', '62', '15', '80 18', '56 20', '07']\n"
     ]
    },
    {
     "name": "stderr",
     "output_type": "stream",
     "text": [
      "\n",
      "\n",
      " 45%|████████████████████████████████████▎                                           | 270/595 [14:39<21:22,  3.95s/it]"
     ]
    },
    {
     "name": "stdout",
     "output_type": "stream",
     "text": [
      "C:\\Users\\amar\\Downloads\\Receipts\\80247cd7.jpeg\n",
      "214 19, 02 03 PA Shift 1, Eapl 4 Sat Your wash service advisoivas Deleon, Jerry,9085. Guaranteed Wash Available The Best Exterior Has 7 Days The Better Exterior Has 5 Days Any Full Servica Has a 7 Days Service On the Same Vehicle with Receipt. Our Main Goal 1s that your Satisfied\n",
      "['214', '19, 02', '03', '9085']\n"
     ]
    },
    {
     "name": "stderr",
     "output_type": "stream",
     "text": [
      "\n",
      "\n",
      " 46%|████████████████████████████████████▍                                           | 271/595 [14:41<19:07,  3.54s/it]"
     ]
    },
    {
     "name": "stdout",
     "output_type": "stream",
     "text": [
      "C:\\Users\\amar\\Downloads\\Receipts\\804c5522.jpeg\n",
      "\n",
      "[]\n"
     ]
    },
    {
     "name": "stderr",
     "output_type": "stream",
     "text": [
      "\n",
      "\n",
      " 46%|████████████████████████████████████▌                                           | 272/595 [14:43<16:02,  2.98s/it]"
     ]
    },
    {
     "name": "stdout",
     "output_type": "stream",
     "text": [
      "C:\\Users\\amar\\Downloads\\Receipts\\80b2a0d5.jpeg\n",
      "‘At particioating storesSona restrictions acply\n",
      "[]\n"
     ]
    },
    {
     "name": "stderr",
     "output_type": "stream",
     "text": [
      "\n",
      "\n",
      " 46%|████████████████████████████████████▋                                           | 273/595 [14:45<15:06,  2.82s/it]"
     ]
    },
    {
     "name": "stdout",
     "output_type": "stream",
     "text": [
      "C:\\Users\\amar\\Downloads\\Receipts\\80da81d4.jpeg\n",
      "8 Tzzy's Circle Centre Marys 's Iilinois Street-635-9594 ServerAy 06/25/2019 Any/1 9 23 PH Iced Tea 14 o2-NY serieCon lete Subtotal Subtotal Tax Total Balance Due Thank you for visiting us today\n",
      "['635', '9594', '06/25/2019', '1 9 23', '14']\n"
     ]
    },
    {
     "name": "stderr",
     "output_type": "stream",
     "text": [
      "\n",
      "\n",
      " 46%|████████████████████████████████████▊                                           | 274/595 [14:48<14:59,  2.80s/it]"
     ]
    },
    {
     "name": "stdout",
     "output_type": "stream",
     "text": [
      "C:\\Users\\amar\\Downloads\\Receipts\\8185e1b8.jpeg\n",
      "\n",
      "[]\n"
     ]
    },
    {
     "name": "stderr",
     "output_type": "stream",
     "text": [
      "\n",
      "\n",
      " 46%|████████████████████████████████████▉                                           | 275/595 [14:50<13:41,  2.57s/it]"
     ]
    },
    {
     "name": "stdout",
     "output_type": "stream",
     "text": [
      "C:\\Users\\amar\\Downloads\\Receipts\\81c972d3.jpeg\n",
      "Follow us on. Se & Te Please halp us sina Green & Sava cur Please ask for credit card Re Lal ff you'd Tike ore printed for Order Balance dueSuggested Gratuity Tip a of sale§2.33$16.51 §2.59$16.77 Total\n",
      "['33', '16', '51', '59', '16', '77']\n"
     ]
    },
    {
     "name": "stderr",
     "output_type": "stream",
     "text": [
      "\n",
      "\n",
      " 46%|█████████████████████████████████████                                           | 276/595 [14:53<13:36,  2.56s/it]"
     ]
    },
    {
     "name": "stdout",
     "output_type": "stream",
     "text": [
      "C:\\Users\\amar\\Downloads\\Receipts\\826bb4b1.jpeg\n",
      "A indianoil aM,S. THE ANDHRA Hl ENGINEERING CO PVT a LTD. $5BHAVANIPURAM, VIJAYAWA DA-12.0866241111527/06/19 09 21 NOT.834.06 Trucs aire THANKS COME AGAIN.\n",
      "['12', '0866', '2411', '1152', '7/06/19', '09 21', '834', '06']\n"
     ]
    },
    {
     "name": "stderr",
     "output_type": "stream",
     "text": [
      "\n",
      "\n",
      " 47%|█████████████████████████████████████▏                                          | 277/595 [14:55<13:26,  2.54s/it]"
     ]
    },
    {
     "name": "stdout",
     "output_type": "stream",
     "text": [
      "C:\\Users\\amar\\Downloads\\Receipts\\8290ec25.jpeg\n",
      "[DAILY GRITEEXCELLENCE SERVED DAILY Daily Grill Colorado Ave Santa Monica, CA ServerDana 11/01/2018 Table 54/1 7 30 PM Crispy Naked Wings Rib Eye Steak Broccoli Become a fan or write a review. Find us an Facshook, Twitter & Yelp. ci na Total 91.45 Balance Due 91.45 Sign up 8.con to Receive Exclusi Offers & Pronctions,\n",
      "['11/01/2018', '54', '1 7 30', '91', '45', '91', '45']\n"
     ]
    },
    {
     "name": "stderr",
     "output_type": "stream",
     "text": [
      "\n",
      "\n",
      " 47%|█████████████████████████████████████▍                                          | 278/595 [14:58<14:06,  2.67s/it]"
     ]
    },
    {
     "name": "stdout",
     "output_type": "stream",
     "text": [
      "C:\\Users\\amar\\Downloads\\Receipts\\82953a03.jpeg\n",
      "june 23, 2019 at 2 33 PM\n",
      "['23, 2019', '2 33']\n"
     ]
    },
    {
     "name": "stderr",
     "output_type": "stream",
     "text": [
      "\n",
      "\n",
      " 47%|█████████████████████████████████████▌                                          | 279/595 [15:00<13:45,  2.61s/it]"
     ]
    },
    {
     "name": "stdout",
     "output_type": "stream",
     "text": [
      "C:\\Users\\amar\\Downloads\\Receipts\\82aed0de.jpeg\n",
      "nt aE Pr ist sat “KATTAPPANA 10 ‘im \"ip ORD IN. 7FULL “ ‘ 61 00| Re. 61,00 AD Bs. 140TKT Rs. 60.00 “Dr Iver N Condueto Bus “We “UL SOF TLAND\n",
      "['10', '61 00', '61,00', '140', '60', '00']\n"
     ]
    },
    {
     "name": "stderr",
     "output_type": "stream",
     "text": [
      "\n",
      "\n",
      " 47%|█████████████████████████████████████▋                                          | 280/595 [15:03<14:22,  2.74s/it]"
     ]
    },
    {
     "name": "stdout",
     "output_type": "stream",
     "text": [
      "C:\\Users\\amar\\Downloads\\Receipts\\83c9db9a.jpeg\n",
      "SPEFDMAY Stel Thorn Road Pay At Pump Sale Regular Unleaded 10.106 Gallons$2,859/GaSub. TotalTaxTotalVisaChange Visa Card TRANS TYPECAPTURE ENTRY METHODChip Card USD$ 28.89 US DEBIT 07/19/2019 16 46 30 PIN Bypassed Cardholder agrees to Pay to issuer total rges per the-Fort-260-4877 —7/19/an19 30 Py Wayne, I 5\n",
      "['10', '106', '2,859', '28', '89', '07/19/2019', '16 46 30', '260', '4877', '7/19', '19 30']\n"
     ]
    },
    {
     "name": "stderr",
     "output_type": "stream",
     "text": [
      "\n",
      "\n",
      " 47%|█████████████████████████████████████▊                                          | 281/595 [15:07<15:11,  2.90s/it]"
     ]
    },
    {
     "name": "stdout",
     "output_type": "stream",
     "text": [
      "C:\\Users\\amar\\Downloads\\Receipts\\8457a646.jpeg\n",
      "” —\" HAWWI ETHIOPIAN RESTAU QUEEN ST ALEXANDRIA, VA ‘ 7037179740 ORDERTable 2 Dine In CashierMosa 13-Jul-2018 8 63 47P Transaction Guest 1 1 26.Fish Goulash $19.95 71 30.Dullet $20.95 1 34. Vegetarian Dish $21.95 Subtotal $62.85 Tax $6.91 Total $69.76DONT rage ac...\n",
      "['7037', '1797', '40', '13-Jul-2018', '8 63 47', '1 1 26', '19', '95 71 30', '20', '95 1 34', '21', '95', '62', '85', '91', '69', '76']\n"
     ]
    },
    {
     "name": "stderr",
     "output_type": "stream",
     "text": [
      "\n",
      "\n",
      " 47%|█████████████████████████████████████▉                                          | 282/595 [15:10<15:18,  2.94s/it]"
     ]
    },
    {
     "name": "stdout",
     "output_type": "stream",
     "text": [
      "C:\\Users\\amar\\Downloads\\Receipts\\84dce936.jpeg\n",
      "Turner Turnpike Mainline Lane 12 TOLL RECEIPT/16/2019 09 40Time 40 15 AM Class ro | Toll$4.75 Entry www. pikepass.com THANK YOU\n",
      "['12', '16/2019', '09 40', '40 15', '75']\n"
     ]
    },
    {
     "name": "stderr",
     "output_type": "stream",
     "text": [
      "\n",
      "\n",
      " 48%|██████████████████████████████████████                                          | 283/595 [15:13<15:33,  2.99s/it]"
     ]
    },
    {
     "name": "stdout",
     "output_type": "stream",
     "text": [
      "C:\\Users\\amar\\Downloads\\Receipts\\8558b94e.jpeg\n",
      "KURLA GST No27E TAX INVOICE invoice-06-201t Sub Total\n",
      "['27', '06-201']\n"
     ]
    },
    {
     "name": "stderr",
     "output_type": "stream",
     "text": [
      "\n",
      "\n",
      " 48%|██████████████████████████████████████▏                                         | 284/595 [15:15<14:33,  2.81s/it]"
     ]
    },
    {
     "name": "stdout",
     "output_type": "stream",
     "text": [
      "C:\\Users\\amar\\Downloads\\Receipts\\8600390d.jpeg\n",
      "————— Lee eeee—aaaeaerererErEer NexDineCafe Arboretum Arboretum Drive Newington, NH Se serverApril C 06/27/19 ma 12 12 PM \" $7.49 2 $2.00 ~ st $1.90 ROPICANA CRANBERRY COCKTAIL $1.90 DELI A LA CARTE $7.49 $20.78 Credit Card ‘Swiped Ne VisaTransaction T;tuthor ization Approval Code e Payment ID Card Reader\n",
      "['06/27/19', '12 12', '49', '00', '90', '90', '49', '20', '78']\n"
     ]
    },
    {
     "name": "stderr",
     "output_type": "stream",
     "text": [
      "\n",
      "\n",
      " 48%|██████████████████████████████████████▎                                         | 285/595 [15:18<13:55,  2.70s/it]"
     ]
    },
    {
     "name": "stdout",
     "output_type": "stream",
     "text": [
      "C:\\Users\\amar\\Downloads\\Receipts\\8633fc48.jpeg\n",
      "n 7% Blue Bear Tave 16 § 11th-3427 ww .bluebeartavern . com Checka Datea a2 10 16 PM heck StationPosd Serve \\ Crimini 1 Salami 1 Olives 1 Lrg Clams\\nussels 4 Reg Ketel One 1 House Cab Sub Total Philly Li r Tas Philly Pa ‘hile 6 5 Tax TOTAL ON RS be 68 Go to\n",
      "['16', '11', '3427', '2 10 16', '68']\n"
     ]
    },
    {
     "name": "stderr",
     "output_type": "stream",
     "text": [
      "\n",
      "\n",
      " 48%|██████████████████████████████████████▍                                         | 286/595 [15:20<12:49,  2.49s/it]"
     ]
    },
    {
     "name": "stdout",
     "output_type": "stream",
     "text": [
      "C:\\Users\\amar\\Downloads\\Receipts\\8651523e.jpeg\n",
      "\n",
      "[]\n"
     ]
    },
    {
     "name": "stderr",
     "output_type": "stream",
     "text": [
      "\n",
      "\n",
      " 48%|██████████████████████████████████████▌                                         | 287/595 [15:22<12:08,  2.36s/it]"
     ]
    },
    {
     "name": "stdout",
     "output_type": "stream",
     "text": [
      "C:\\Users\\amar\\Downloads\\Receipts\\86c91cbd.jpeg\n",
      "vat 12 49 PM ore’ vou GUEST NUMBER 1S 12 IN-N-OUT BURGER SANTA CLARA 12 48 PM-04-27 1 CashierKEVIN DU Ye XL X TM Inst pro oo Counter—Take Out XM. gol Cash Tender bts Change THANK Your $.83-04-27 uty ilpM\n",
      "['12 49', '12', '12 48', '04-27', '83-04-27']\n"
     ]
    },
    {
     "name": "stderr",
     "output_type": "stream",
     "text": [
      "\n",
      "\n",
      " 48%|██████████████████████████████████████▋                                         | 288/595 [15:26<14:59,  2.93s/it]"
     ]
    },
    {
     "name": "stdout",
     "output_type": "stream",
     "text": [
      "C:\\Users\\amar\\Downloads\\Receipts\\86ed0984.jpeg\n",
      "i feestanorannes SCHEMESIMGLE Vell TWPESCAR/RER/OO TOLL. FARE Ra.68 oe sen D DaTE 22/dmuy2019 10 85 LAE WO 82 ar -ERAZ\n",
      "['68', '22', '2019', '10 85', '82']\n"
     ]
    },
    {
     "name": "stderr",
     "output_type": "stream",
     "text": [
      "\n",
      "\n",
      " 49%|██████████████████████████████████████▊                                         | 289/595 [15:28<13:45,  2.70s/it]"
     ]
    },
    {
     "name": "stdout",
     "output_type": "stream",
     "text": [
      "C:\\Users\\amar\\Downloads\\Receipts\\88382c50.jpeg\n",
      "JUICE JUNCTION DEUATHA PLAZA. BENGAL UR. GSTIN 29082PRSB2701ZE CASH/BILL 0 Gtk 0 16-07-18\n",
      "['2908', '2701', '0 16-07', '18']\n"
     ]
    },
    {
     "name": "stderr",
     "output_type": "stream",
     "text": [
      "\n",
      "\n",
      " 49%|██████████████████████████████████████▉                                         | 290/595 [15:30<12:01,  2.36s/it]"
     ]
    },
    {
     "name": "stdout",
     "output_type": "stream",
     "text": [
      "C:\\Users\\amar\\Downloads\\Receipts\\88c4cc0c.jpeg\n",
      "GASH. MEMO COPIER / POINT RU-16, PITAMPURA, DELHI-1 jogge No.5 6 Photocopy Cs FS Ly, ach oat $ nie FE Phelo ep, a3 Digital Printout AIFS A-3/ 12% 18/13%19 Plotter° width x length any size Computer Typing & job work ' Electronic Typing LaminationAny Size\n",
      "['16', '12', '18/13', '19']\n"
     ]
    },
    {
     "name": "stderr",
     "output_type": "stream",
     "text": [
      "\n",
      "\n",
      " 49%|███████████████████████████████████████▏                                        | 291/595 [15:32<11:22,  2.25s/it]"
     ]
    },
    {
     "name": "stdout",
     "output_type": "stream",
     "text": [
      "C:\\Users\\amar\\Downloads\\Receipts\\88e28b23.jpeg\n",
      "ROOM SERVICE HOTEL BRIJINN GANESHPETH NAGPUR MaharashtraContact No GSTIN 27AAQFK5425R1ZG] NoB3856-07-2019 07 25 PM Room/0 » WaiterPRAFULLAMANWENDRA SINGH\n",
      "['27', '5425', '3856', '07-2019', '07 25']\n"
     ]
    },
    {
     "name": "stderr",
     "output_type": "stream",
     "text": [
      "\n",
      "\n",
      " 49%|███████████████████████████████████████▎                                        | 292/595 [15:33<10:30,  2.08s/it]"
     ]
    },
    {
     "name": "stdout",
     "output_type": "stream",
     "text": [
      "C:\\Users\\amar\\Downloads\\Receipts\\8930e861.jpeg\n",
      "\n",
      "[]\n"
     ]
    },
    {
     "name": "stderr",
     "output_type": "stream",
     "text": [
      "\n",
      "\n",
      " 49%|███████████████████████████████████████▍                                        | 293/595 [15:35<09:33,  1.90s/it]"
     ]
    },
    {
     "name": "stdout",
     "output_type": "stream",
     "text": [
      "C:\\Users\\amar\\Downloads\\Receipts\\8939f524.jpeg\n",
      "CARL'S JR Restaurant Beach Blvd. Stanton, CA-5114 9/27/2017 12 13 06 PM Order CashierAlvaro I 1 1 All Star Db] Chbgr hd pecos Hot Dog Baked Cookie Lg Fries Lg Bev Bar SubTotal Tax Total Cash Change To Go Thank you for visitingecon Tit om—1oN gscercs\n",
      "['5114', '9/27/2017', '12 13 06']\n"
     ]
    },
    {
     "name": "stderr",
     "output_type": "stream",
     "text": [
      "\n",
      "\n",
      " 49%|███████████████████████████████████████▌                                        | 294/595 [15:39<12:32,  2.50s/it]"
     ]
    },
    {
     "name": "stdout",
     "output_type": "stream",
     "text": [
      "C:\\Users\\amar\\Downloads\\Receipts\\89648cb6.jpeg\n",
      "NexDineCafe Arboretum Arboretum Drive Newington, NH 07/10/19 ServerApril C DAILY ENTREE 1 2 LARGE COOKIE Subtotal Tax Total Credit Card Visa Transaction Type Authorization\n",
      "['07/10/19']\n"
     ]
    },
    {
     "name": "stderr",
     "output_type": "stream",
     "text": [
      "\n",
      "\n",
      " 50%|███████████████████████████████████████▋                                        | 295/595 [15:42<13:03,  2.61s/it]"
     ]
    },
    {
     "name": "stdout",
     "output_type": "stream",
     "text": [
      "C:\\Users\\amar\\Downloads\\Receipts\\899d661a.jpeg\n",
      "Chevron Stations Inc Santa Ana Cyn Anaheim Hills, CA 86/15/2819 63 16 35 PM AMEK INVOICE £/2986768 AUTH UNLEAD REG.2366 PRICE/GAL ‘$3.758 DISCOUNTS BEFORE FUELING Your Rew/GAL $-8.188 FUEL TOTAL $ 68.55 THE WORKS, Each $ 16.08 TOTAL$ 76.55 CREDIT $ 78.55\n",
      "['86/15/2819', '63 16 35', '2986', '768', '2366', '758', '188', '68', '55', '16', '08', '76', '55', '78', '55']\n"
     ]
    },
    {
     "name": "stderr",
     "output_type": "stream",
     "text": [
      "\n",
      "\n",
      " 50%|███████████████████████████████████████▊                                        | 296/595 [15:45<13:55,  2.79s/it]"
     ]
    },
    {
     "name": "stdout",
     "output_type": "stream",
     "text": [
      "C:\\Users\\amar\\Downloads\\Receipts\\89d9667c.jpeg\n",
      "Sector 53-54 21/06/2019 15 44 05 Equipment Nusber ' 2 Operator Receipt Number Transaction Number 98 Serial Number Add Value B Remaining Val 8.0 Amount Bue Cash i.0\n",
      "['53-54 21', '06/2019', '15 44 05', '98']\n"
     ]
    },
    {
     "name": "stderr",
     "output_type": "stream",
     "text": [
      "\n",
      "\n",
      " 50%|███████████████████████████████████████▉                                        | 297/595 [15:48<13:40,  2.75s/it]"
     ]
    },
    {
     "name": "stdout",
     "output_type": "stream",
     "text": [
      "C:\\Users\\amar\\Downloads\\Receipts\\89f3c36a.jpeg\n",
      "fh ONE FAMILY RESTAURANT r. SHOPHOT-15NEAR ' —— Set-4. INT MANESAR, GURGADNKCHRD is a —— g-99538257L BBN AL tae *~ CASH/BILL oro WIR 00 1-00 90-00 90-00 1-0 90-00 Podatyealions se\n",
      "['15', '9953', '8257', '00 1-00', '90-00 90', '00', '1-0 90', '00']\n"
     ]
    },
    {
     "name": "stderr",
     "output_type": "stream",
     "text": [
      "\n",
      "\n",
      " 50%|████████████████████████████████████████                                        | 298/595 [15:51<14:30,  2.93s/it]"
     ]
    },
    {
     "name": "stdout",
     "output_type": "stream",
     "text": [
      "C:\\Users\\amar\\Downloads\\Receipts\\8a07a435.jpeg\n",
      "MH\n",
      "[]\n"
     ]
    },
    {
     "name": "stderr",
     "output_type": "stream",
     "text": [
      "\n",
      "\n",
      " 50%|████████████████████████████████████████▏                                       | 299/595 [15:53<12:45,  2.59s/it]"
     ]
    },
    {
     "name": "stdout",
     "output_type": "stream",
     "text": [
      "C:\\Users\\amar\\Downloads\\Receipts\\8ae1cfcd.jpeg\n",
      "MAIN ROAD, CHAR RASTA AMROLL, SURAT. PH.No.0261-2409561 /AWANFOOD11.PS GMAIL P OMSTIN24ASLPGease4Zx/06/2017 jes ei oe Bill No.; G6598/06/2019 ‘i RETAIL INVOICE SALE Sr. Item MRP QtyAmour 4 POTATOWAFERS 80.00 1 80 GM 2 ee 70.00 1 70 OM. he.00 Net Bill.00 ee For, PAWAN BAKERY 9 54 37AM\n",
      "['0261', '2409', '561', '11', '24', '06/2017', '6598', '06/2019', '80', '00 1 80', '70', '00 1 70', '00', '00', '9 54 37']\n"
     ]
    },
    {
     "name": "stderr",
     "output_type": "stream",
     "text": [
      "\n",
      "\n",
      " 50%|████████████████████████████████████████▎                                       | 300/595 [15:56<13:53,  2.83s/it]"
     ]
    },
    {
     "name": "stdout",
     "output_type": "stream",
     "text": [
      "C:\\Users\\amar\\Downloads\\Receipts\\8b916b49.jpeg\n",
      "PLATR CSHH-SALTED.29 NT SMART WATER 1 LITER Fat 4.45 TT TOTAL VISA\n",
      "['29', '45']\n"
     ]
    },
    {
     "name": "stderr",
     "output_type": "stream",
     "text": [
      "\n",
      "\n",
      " 51%|████████████████████████████████████████▍                                       | 301/595 [15:58<12:38,  2.58s/it]"
     ]
    },
    {
     "name": "stdout",
     "output_type": "stream",
     "text": [
      "C:\\Users\\amar\\Downloads\\Receipts\\8c015834.jpeg\n",
      "JASAMARGA EP ecree sarees tone 0 24 00 73/01/03/001003 Gl-| etal dir, 10 CN Rp.47575\n",
      "['0 24 00', '73/01/03', '0010', '03', '10', '4757']\n"
     ]
    },
    {
     "name": "stderr",
     "output_type": "stream",
     "text": [
      "\n",
      "\n",
      " 51%|████████████████████████████████████████▌                                       | 302/595 [16:01<12:56,  2.65s/it]"
     ]
    },
    {
     "name": "stdout",
     "output_type": "stream",
     "text": [
      "C:\\Users\\amar\\Downloads\\Receipts\\8d93ed14.jpeg\n",
      "JUICE JUNCTION IEUATHA PLAZA. BENGALURU -07-19 MOUNT 4.00 10-00 CASH 86-00 THANK YOU... ULSIT AGAIN.\n",
      "['07-19', '00 10-00', '86-00']\n"
     ]
    },
    {
     "name": "stderr",
     "output_type": "stream",
     "text": [
      "\n",
      "\n",
      " 51%|████████████████████████████████████████▋                                       | 303/595 [16:03<12:34,  2.58s/it]"
     ]
    },
    {
     "name": "stdout",
     "output_type": "stream",
     "text": [
      "C:\\Users\\amar\\Downloads\\Receipts\\8dc11f3b.jpeg\n",
      "TypeTABLE Table io. | P2 -28317 , Item aty Amt BUCKMUEAT PANCAKESTotal gtyGubTotalRound OffTotal Invoice Value Paynent DetailGreditcard.00 GBT No. - 27AAGCE7473E12V Thank you, visit again\n",
      "['2831', '00', '27', '7473', '12']\n"
     ]
    },
    {
     "name": "stderr",
     "output_type": "stream",
     "text": [
      "\n",
      "\n",
      " 51%|████████████████████████████████████████▊                                       | 304/595 [16:06<12:08,  2.50s/it]"
     ]
    },
    {
     "name": "stdout",
     "output_type": "stream",
     "text": [
      "C:\\Users\\amar\\Downloads\\Receipts\\8e16764a.jpeg\n",
      "3410 Bu i rc-546ToGo14 Order TypeTOGO Cappuccino, Large Cold Press, Mediue Fountain Drink - Med Subtotal Tax TOGG Total ‘nuth¢, SIGNATUREWotweeber of Shmear SoctetyGet a FREE Bagel & Shwear with purchase for signing up and a FREE Fog Sandwich with purchase on your birthdayGo to shmearsociety.cos a alee ee ee\n",
      "['3410', '546', '14']\n"
     ]
    },
    {
     "name": "stderr",
     "output_type": "stream",
     "text": [
      "\n",
      "\n",
      " 51%|█████████████████████████████████████████                                       | 305/595 [16:08<11:39,  2.41s/it]"
     ]
    },
    {
     "name": "stdout",
     "output_type": "stream",
     "text": [
      "C:\\Users\\amar\\Downloads\\Receipts\\8e5b620a.jpeg\n",
      "Store a a Everatt, 710-0278 s/ié/20ia 9 41 24 PH ServerTameka J 1 PARTY PK 18-22.00 CHOW MEIN FRIED RICE FRIED/C HEIN ORANGE CKN GRILL TERIVAKT CKN PEPPERCORN SHRIMP 12.00 SubTotal.00 TAX 13.89 Total.89 Cash.00 Change Bull FREE ENTREE ITEMHE VALUE YOUR OPINIONCall 1-888-51-PANDA 72632or Visit pandaexpress.com/quest\n",
      "['710', '0278', '20', '9 41 24', '18-22', '00', '12', '00', '00', '13', '89', '89', '00', '1-888', '51', '7263']\n"
     ]
    },
    {
     "name": "stderr",
     "output_type": "stream",
     "text": [
      "\n",
      "\n",
      " 51%|█████████████████████████████████████████▏                                      | 306/595 [16:11<12:27,  2.59s/it]"
     ]
    },
    {
     "name": "stdout",
     "output_type": "stream",
     "text": [
      "C:\\Users\\amar\\Downloads\\Receipts\\8e5f8da4.jpeg\n",
      "derai'17 08 6\" Gat 1\n",
      "['17 08']\n"
     ]
    },
    {
     "name": "stderr",
     "output_type": "stream",
     "text": [
      "\n",
      "\n",
      " 52%|█████████████████████████████████████████▎                                      | 307/595 [16:13<11:04,  2.31s/it]"
     ]
    },
    {
     "name": "stdout",
     "output_type": "stream",
     "text": [
      "C:\\Users\\amar\\Downloads\\Receipts\\8e7a99a9.jpeg\n",
      "GAS TOTAL 25.38 ae 25.38 TOCA Rix AAA | REF413336 YOU SAVED $0.05 Ga MAY Fuel Pe 44 4 ree tO pay the above Total Aout according to Card Issuer Agreement. / THANK YOu FOR SHOPPING FRED MEYER.Appreciate —* Customes Loyalty\n",
      "['25', '38', '25', '38', '4133', '36', '05', '44']\n"
     ]
    },
    {
     "name": "stderr",
     "output_type": "stream",
     "text": [
      "\n",
      "\n",
      " 52%|█████████████████████████████████████████▍                                      | 308/595 [16:16<12:27,  2.61s/it]"
     ]
    },
    {
     "name": "stdout",
     "output_type": "stream",
     "text": [
      "C:\\Users\\amar\\Downloads\\Receipts\\8f51d477.jpeg\n",
      "ONE FREE Se es. BUY ONE OEEESE OR EGG MCHUFFIN Go to wm.ecdvoice.com within 7 days and tell us about your visit. Validation CodeExpires 30 days after receipt date. Valid at participating US McDonald's. Survey-13410-61319-07218-00042-7 McDonald's S. WARREN RD..1-69/8.R. 5WARREN, IN Se 13 06/13/2019 07 21 AM Side Order 41 1 Bac Egg Ch Bis M1-Hb 1 M Coke ee Subtotal 3.99 Tax 0.28 Take-Out Total 4.27 bashless 4.27 change 0.00 SARD ISSUER ACCOUNTfisa SALE TRANSACTION AMOUNT SHIP READ AUTHORIZATION CODE - 072220 HcDonald's 4.27 Restaurant\n",
      "['30', '1341', '0-6131', '9-0721', '8-0004', '1-69', '13 06/13', '2019', '07 21', '41', '99', '28', '27', '27', '00', '0722', '20', '27']\n"
     ]
    },
    {
     "name": "stderr",
     "output_type": "stream",
     "text": [
      "\n",
      "\n",
      " 52%|█████████████████████████████████████████▌                                      | 309/595 [16:20<14:10,  2.97s/it]"
     ]
    },
    {
     "name": "stdout",
     "output_type": "stream",
     "text": [
      "C:\\Users\\amar\\Downloads\\Receipts\\904efee7.jpeg\n",
      "aco.00 ie Tegal OA in ale A TT ™ RAE Gay FhaSemnee rvs Lx nervy Dita name asd\n",
      "['00']\n"
     ]
    },
    {
     "name": "stderr",
     "output_type": "stream",
     "text": [
      "\n",
      "\n",
      " 52%|█████████████████████████████████████████▋                                      | 310/595 [16:22<12:59,  2.74s/it]"
     ]
    },
    {
     "name": "stdout",
     "output_type": "stream",
     "text": [
      "C:\\Users\\amar\\Downloads\\Receipts\\90733c0d.jpeg\n",
      "Sahw's Bar and Grill Where the locals go. 7870 E. 96th Street Fishers, Indiana-841-3014 ServerAsh] 4 07/19/2019 Table 37/1 2 23 PM Large.394.78 6 Wings 7.99 Fries 3.69 Lunch 1 9.99 Subtotal 26.45 — Tax ate | Total 28.57 Balance Due 28. 57 Join The Loyal Luncher program at WW. SAHMS. COM Daily Specials & Offers LIKE us on Facebook i rill E 96th St Sahm *\n",
      "['7870', '96', '841', '3014', '4 07/19', '2019', '37', '1 2 23', '394', '78', '99', '69', '99', '26', '45', '28', '57', '28', '57', '96']\n"
     ]
    },
    {
     "name": "stderr",
     "output_type": "stream",
     "text": [
      "\n",
      "\n",
      " 52%|█████████████████████████████████████████▊                                      | 311/595 [16:26<14:58,  3.16s/it]"
     ]
    },
    {
     "name": "stdout",
     "output_type": "stream",
     "text": [
      "C:\\Users\\amar\\Downloads\\Receipts\\9081eb41.jpeg\n",
      "\n",
      "[]\n"
     ]
    },
    {
     "name": "stderr",
     "output_type": "stream",
     "text": [
      "\n",
      "\n",
      " 52%|█████████████████████████████████████████▉                                      | 312/595 [16:28<13:00,  2.76s/it]"
     ]
    },
    {
     "name": "stdout",
     "output_type": "stream",
     "text": [
      "C:\\Users\\amar\\Downloads\\Receipts\\912ad2e1.jpeg\n",
      "r yen RATNA roaraeee Ma. ae wit nd cust » Elante, Thane daa Order Nos ORDER/06/2019 12 66 PH BILL. NOSROO0136719 TE AND TIME ssagar ratna cash\n",
      "['06/2019', '12 66', '0136', '719']\n"
     ]
    },
    {
     "name": "stderr",
     "output_type": "stream",
     "text": [
      "\n",
      "\n",
      " 53%|██████████████████████████████████████████                                      | 313/595 [16:30<11:46,  2.51s/it]"
     ]
    },
    {
     "name": "stdout",
     "output_type": "stream",
     "text": [
      "C:\\Users\\amar\\Downloads\\Receipts\\91b2f85d.jpeg\n",
      "‘clonaid s “41TH Ri FID 4/9x -1076 7G. 364 38¢ 06/03/2018 08 22 AK Sake | ILS Ten Lette 1 hee\n",
      "['41', '1076', '364', '38', '06/03/2018', '08 22']\n"
     ]
    },
    {
     "name": "stderr",
     "output_type": "stream",
     "text": [
      "\n",
      "\n",
      " 53%|██████████████████████████████████████████▏                                     | 314/595 [16:31<10:02,  2.14s/it]"
     ]
    },
    {
     "name": "stdout",
     "output_type": "stream",
     "text": [
      "C:\\Users\\amar\\Downloads\\Receipts\\9219d71b.jpeg\n",
      "WATERGATE—2555 THANK You REG 07-18-2019 11 31 MIDCITY 1 TAX-GROCERY $5.99 1 TAX-GROCERY $5.99 $1.11 TL $13.09 CASH $13.09\n",
      "['2555', '07-18-2019', '11 31', '99', '99', '11', '13', '09', '13', '09']\n"
     ]
    },
    {
     "name": "stderr",
     "output_type": "stream",
     "text": [
      "\n",
      "\n",
      " 53%|██████████████████████████████████████████▎                                     | 315/595 [16:33<09:35,  2.05s/it]"
     ]
    },
    {
     "name": "stdout",
     "output_type": "stream",
     "text": [
      "C:\\Users\\amar\\Downloads\\Receipts\\9347d5f7.jpeg\n",
      "90024 Makers €11.50. 00 As Old Fashioned Side Caesar 00 Chicken & Rib Combo . 00 Woodford. 0000 On the Rocks Frisee Salad Poached Shrimp Cocktail . 00 50 NY Stip 80z 00 Complete Subtotal Subtotal.50.50 Total Tax 5.43. 93 Total Balance Due. 93 THANK YOU Visit us Onl ine at tos. oe\n",
      "['9002', '11', '50', '00', '00', '00', '0000', '00 50', '80', '00', '50', '50', '43', '93', '93']\n"
     ]
    },
    {
     "name": "stderr",
     "output_type": "stream",
     "text": [
      "\n",
      "\n",
      " 53%|██████████████████████████████████████████▍                                     | 316/595 [16:36<11:07,  2.39s/it]"
     ]
    },
    {
     "name": "stdout",
     "output_type": "stream",
     "text": [
      "C:\\Users\\amar\\Downloads\\Receipts\\939492cb.jpeg\n",
      "nee Collector's Choice Restaurant 2to Cypress Ave onohomish WA-568-1277 April 10, 2019 12 00pm ServerCheryl V| Item Price 1 Twisted Rueben 11.691 ae “a eeeae 1 Service Fee-6%--, 707 Sales. 2%1.14 Total $13. 53 Tip% 2.03 18% 2.44 20% 2. 71 Starting January 26th, 2019 CCR includes a 6% service charge on each guest check. This service charge is fully retained by the company, not the servers. It will be used% to provide fair wages for our kitchen staff with equitable pay and benefits to our entire team. We are required by law to collect tax on the service charge. Please Continue Tipping your Servers. Thank you for your continuing support. —\n",
      "['568', '1277', 'April 10, 2019', '12 00', '11', '691', '707', '14', '13', '53', '03 18', '44 20', '71', 'January 26', '2019']\n"
     ]
    },
    {
     "name": "stderr",
     "output_type": "stream",
     "text": [
      "\n",
      "\n",
      " 53%|██████████████████████████████████████████▌                                     | 317/595 [16:54<32:29,  7.01s/it]"
     ]
    },
    {
     "name": "stdout",
     "output_type": "stream",
     "text": [
      "C:\\Users\\amar\\Downloads\\Receipts\\942e9fb6.jpeg\n",
      "\n",
      "[]\n"
     ]
    },
    {
     "name": "stderr",
     "output_type": "stream",
     "text": [
      "\n",
      "\n",
      " 53%|██████████████████████████████████████████▊                                     | 318/595 [16:55<24:37,  5.33s/it]"
     ]
    },
    {
     "name": "stdout",
     "output_type": "stream",
     "text": [
      "C:\\Users\\amar\\Downloads\\Receipts\\946898a1.jpeg\n",
      "SURATI FARSAN MART 186TH STREET ARTESIA, CA-860-2310 WHH, SURATIFARSAN .COM 16 Daksh D Chk 45 4 Gst 0' 19. 07 33PM 1 Chole Samosa **&70° GO* * 865,99 YXXXXXXXAXXXXB40Z VISA 6.56 FOOD 5.99 TAX 0.57 PAYNENT 6.56 weneeane nn 16 Check Cicsed--~-~-----woronenen-- Aug08' 19 07 34PM--------~~Thank You fer. your business Free ground Shipping on orders of 7lbs or more... Vill, SURATZFARSAN. COM\n",
      "['186', '860', '2310', '16', '45', '19', '07 33', '70', '865', '99', '40', '56', '99', '57', '56', '16', 'Aug08', '19 07 34']\n"
     ]
    },
    {
     "name": "stderr",
     "output_type": "stream",
     "text": [
      "\n",
      "\n",
      " 54%|██████████████████████████████████████████▉                                     | 319/595 [16:59<21:57,  4.77s/it]"
     ]
    },
    {
     "name": "stdout",
     "output_type": "stream",
     "text": [
      "C:\\Users\\amar\\Downloads\\Receipts\\94c84d39.jpeg\n",
      "Trinity Restaurant Jericho Tpke Floral Park NY Order 02/18/17 10 20 PM Check Table 15 Cust. 2 Server 21 Kelly Bowe RKCEAARERASTTT EATS ATE REAR ARCS ESET 11.00 Total.50\n",
      "['02/18/17', '10 20', '15', '21', '11', '00', '50']\n"
     ]
    },
    {
     "name": "stderr",
     "output_type": "stream",
     "text": [
      "\n",
      "\n",
      " 54%|███████████████████████████████████████████                                     | 320/595 [17:01<18:53,  4.12s/it]"
     ]
    },
    {
     "name": "stdout",
     "output_type": "stream",
     "text": [
      "C:\\Users\\amar\\Downloads\\Receipts\\956be7eb.jpeg\n",
      "Postalannext Anahaie HiItS Tl S. Warr Canyen Bel. Suite Anateie HiLis, CA SCH-8805 au. pestalannem. com/13007 Pacicing Surely sen TH sal Ta State Tax en 4.42 TOTAL\n",
      "['8805', '1300', '42']\n"
     ]
    },
    {
     "name": "stderr",
     "output_type": "stream",
     "text": [
      "\n",
      "\n",
      " 54%|███████████████████████████████████████████▏                                    | 321/595 [17:04<16:45,  3.67s/it]"
     ]
    },
    {
     "name": "stdout",
     "output_type": "stream",
     "text": [
      "C:\\Users\\amar\\Downloads\\Receipts\\9585fb50.jpeg\n",
      "\n",
      "[]\n"
     ]
    },
    {
     "name": "stderr",
     "output_type": "stream",
     "text": [
      "\n",
      "\n",
      " 54%|███████████████████████████████████████████▎                                    | 322/595 [17:05<13:31,  2.97s/it]"
     ]
    },
    {
     "name": "stdout",
     "output_type": "stream",
     "text": [
      "C:\\Users\\amar\\Downloads\\Receipts\\95ec3eab.jpeg\n",
      "are e Fic Araxi Burger Aventura BISCAYNE BLVD Aventura, FL ServerValerie P 03/17/19 5 39 pM Table 12 2 Vanilla Bean Classic Burger 4oz Route 66 Burger 80z 10%10.00%Subtotal Service.00%Tax Total Powered by Toast\n",
      "['03/17/19', '5 39', '12', '66', '80', '10', '10', '00', '00']\n"
     ]
    },
    {
     "name": "stderr",
     "output_type": "stream",
     "text": [
      "\n",
      "\n",
      " 54%|███████████████████████████████████████████▍                                    | 323/595 [17:07<12:01,  2.65s/it]"
     ]
    },
    {
     "name": "stdout",
     "output_type": "stream",
     "text": [
      "C:\\Users\\amar\\Downloads\\Receipts\\96844b6d.jpeg\n",
      "Subway-0 Phone Kiosk outside Arrival gate Bangalore Int Bangalore, Karnataka Served by .11 15/06/2019 06 55 53 Term ID-Trans1/A~478559 CINQty Size Item 2. 6\" B.M.T. Sub Sub Total § GST2.5%C.5%TotalEat InCash Change GSTIN-294400B5436N1Z8 We love to LISTENPlease Tet us know how we did today by taking our 1 inate survey at rue\n",
      "['11 15/06', '2019', '06 55 53', '4785', '59', '2944', '00', '5436']\n"
     ]
    },
    {
     "name": "stderr",
     "output_type": "stream",
     "text": [
      "\n",
      "\n",
      " 54%|███████████████████████████████████████████▌                                    | 324/595 [17:11<13:00,  2.88s/it]"
     ]
    },
    {
     "name": "stdout",
     "output_type": "stream",
     "text": [
      "C:\\Users\\amar\\Downloads\\Receipts\\96a5541a.jpeg\n",
      "‘ ports HOLLYWOOD CAFE & ~ AM Dining RF\" tes 09/08/2017 Tin 12iM THANK You\n",
      "['09/08/2017', '12']\n"
     ]
    },
    {
     "name": "stderr",
     "output_type": "stream",
     "text": [
      "\n",
      "\n",
      " 55%|███████████████████████████████████████████▋                                    | 325/595 [17:13<12:36,  2.80s/it]"
     ]
    },
    {
     "name": "stdout",
     "output_type": "stream",
     "text": [
      "C:\\Users\\amar\\Downloads\\Receipts\\96ccf006.jpeg\n",
      "UMIX N. Expressway 77/83- 350-8686 Brownsville, TX-543-5089 Ticketoe UserKRIST Station Sales Rep KRIST aaa‘31 Pa Item ‘Oty Price Total Description — 100027 1 6.25 5.25 PARIS 1 4.95 4.95 LE CLASSIQUE Subtotal 10. 20 Tax 0.84 Total 11.04 TenderCASH 20.00 ChangeCASH-8.96\n",
      "['77/83', '350', '8686', '543', '5089', '31', '1000', '27', '25', '25', '95', '95', '10', '20', '84', '11', '04', '20', '00', '96']\n"
     ]
    },
    {
     "name": "stderr",
     "output_type": "stream",
     "text": [
      "\n",
      "\n",
      " 55%|███████████████████████████████████████████▊                                    | 326/595 [17:16<12:16,  2.74s/it]"
     ]
    },
    {
     "name": "stdout",
     "output_type": "stream",
     "text": [
      "C:\\Users\\amar\\Downloads\\Receipts\\96de25e8.jpeg\n",
      "‘ 10 BAKERS & a om . SHOP. W0-G2-610 SECTION ony eT 5 HARISH SAPPHIRE MALL GURUGRAM- GST NO\n",
      "['10', '2-610']\n"
     ]
    },
    {
     "name": "stderr",
     "output_type": "stream",
     "text": [
      "\n",
      "\n",
      " 55%|███████████████████████████████████████████▉                                    | 327/595 [17:17<10:35,  2.37s/it]"
     ]
    },
    {
     "name": "stdout",
     "output_type": "stream",
     "text": [
      "C:\\Users\\amar\\Downloads\\Receipts\\96e270fd.jpeg\n",
      "2 Nos Dts 19-Junsoay.Capt.Adwani, N.Y, ¢ 29-12-2020 Description “ my ‘Awountne Long Island Ice 3,400.00 PO Mongolian chicken 1.00 4,005.00 8/010%400.00 5s VAT on Liquor.00 \\, 252.00 2.52.00 — Total4625-00 fae Thaik You— G.total 4. g25.09 © °° 4a ine,blk inn a\n",
      "['19', '29-12-2020', '3,400', '00', '00 4,005', '00 8/010', '400', '00', '00', '252', '00', '52', '00', '4625', '00', '25', '09']\n"
     ]
    },
    {
     "name": "stderr",
     "output_type": "stream",
     "text": [
      "\n",
      "\n",
      " 55%|████████████████████████████████████████████                                    | 328/595 [17:20<10:55,  2.45s/it]"
     ]
    },
    {
     "name": "stdout",
     "output_type": "stream",
     "text": [
      "C:\\Users\\amar\\Downloads\\Receipts\\97802ad1.jpeg\n",
      "\n",
      "[]\n"
     ]
    },
    {
     "name": "stderr",
     "output_type": "stream",
     "text": [
      "\n",
      "\n",
      " 55%|████████████████████████████████████████████▏                                   | 329/595 [17:21<09:31,  2.15s/it]"
     ]
    },
    {
     "name": "stdout",
     "output_type": "stream",
     "text": [
      "C:\\Users\\amar\\Downloads\\Receipts\\97ae705c.jpeg\n",
      "o i N <aN — e s co ro wes o z co ™~ SON NCES Row -—o Soo oot—ocae— SINS C oow ed Ss HOo -s a we a —o ue oc * Tr octo oa * — <<pa *ace c c* ™N ow a *sop ae —* —< — a — - co * a an ~~ x onusd eeWie on om HH ~ ws <c zOg “—a 1 ines ee ee — ee N woac c-0 eo 9 GQ N eee so Sers cme NN <8 aa ace oO e o\n",
      "[]\n"
     ]
    },
    {
     "name": "stderr",
     "output_type": "stream",
     "text": [
      "\n",
      "\n",
      " 55%|████████████████████████████████████████████▎                                   | 330/595 [17:26<12:57,  2.93s/it]"
     ]
    },
    {
     "name": "stdout",
     "output_type": "stream",
     "text": [
      "C:\\Users\\amar\\Downloads\\Receipts\\982b02cf.jpeg\n",
      "oe eer Ye erenanes yar tees eenTR SAVINGS ants Be GAVINGS TOTAL 10.GROCERY POO” ww om 1maeoon 2» We vale pox feastack, Sate yar epee cera\n",
      "['10']\n"
     ]
    },
    {
     "name": "stderr",
     "output_type": "stream",
     "text": [
      "\n",
      "\n",
      " 56%|████████████████████████████████████████████▌                                   | 331/595 [17:29<12:10,  2.77s/it]"
     ]
    },
    {
     "name": "stdout",
     "output_type": "stream",
     "text": [
      "C:\\Users\\amar\\Downloads\\Receipts\\988159af.jpeg\n",
      "KM-42 Toll Plaza Name Receipt No TC Lane No 65 Journey TypeSingle Journey TC Class Car/Jeep/van Fare 65 | DateSTime13-Jul-2019 2 59 34 py Thank you Have A Nice Day | Emergency No Mm stn A Rare hy pean an\n",
      "['42', '65', '65', '13-Jul-2019', '2 59 34']\n"
     ]
    },
    {
     "name": "stderr",
     "output_type": "stream",
     "text": [
      "\n",
      "\n",
      " 56%|████████████████████████████████████████████▋                                   | 332/595 [17:31<11:02,  2.52s/it]"
     ]
    },
    {
     "name": "stdout",
     "output_type": "stream",
     "text": [
      "C:\\Users\\amar\\Downloads\\Receipts\\991302fd.jpeg\n",
      "\n",
      "[]\n"
     ]
    },
    {
     "name": "stderr",
     "output_type": "stream",
     "text": [
      "\n",
      "\n",
      " 56%|████████████████████████████████████████████▊                                   | 333/595 [17:31<08:56,  2.05s/it]"
     ]
    },
    {
     "name": "stdout",
     "output_type": "stream",
     "text": [
      "C:\\Users\\amar\\Downloads\\Receipts\\9966a3ad.jpeg\n",
      "Drive\n",
      "[]\n"
     ]
    },
    {
     "name": "stderr",
     "output_type": "stream",
     "text": [
      "\n",
      "\n",
      " 56%|████████████████████████████████████████████▉                                   | 334/595 [17:33<08:31,  1.96s/it]"
     ]
    },
    {
     "name": "stdout",
     "output_type": "stream",
     "text": [
      "C:\\Users\\amar\\Downloads\\Receipts\\996ad591.jpeg\n",
      "\n",
      "[]\n"
     ]
    },
    {
     "name": "stderr",
     "output_type": "stream",
     "text": [
      "\n",
      "\n",
      " 56%|█████████████████████████████████████████████                                   | 335/595 [17:35<07:52,  1.82s/it]"
     ]
    },
    {
     "name": "stdout",
     "output_type": "stream",
     "text": [
      "C:\\Users\\amar\\Downloads\\Receipts\\997ba80b.jpeg\n",
      "Aaici Conyere Parks “eres878690-2005 ' ServerF en tvs ; Guests2 Seat 1 ; j Zann EEE HEE y Margherita Calzcne 23 Side Caesar an Subtctal 19.27 Tax 1.35 Total 20.62 Seat 2 SERRE 2.29 Dbl Stack Cheeseturger 8.99 0,99 Subtctal 12,27 Tax 0.86 Tetal 18.13 ‘Subtotal 31.54 Tax 2.21 Total.75 Balance Due 33.75 Thank you for dining with usSUGGESTED GRATUITY\n",
      "['8786', '90-2005', '23', '19', '27', '35', '20', '62', '29', '99 0,99', '12,27', '86', '18', '13', '31', '54', '21', '75', '33', '75']\n"
     ]
    },
    {
     "name": "stderr",
     "output_type": "stream",
     "text": [
      "\n",
      "\n",
      " 56%|█████████████████████████████████████████████▏                                  | 336/595 [17:38<10:17,  2.38s/it]"
     ]
    },
    {
     "name": "stdout",
     "output_type": "stream",
     "text": [
      "C:\\Users\\amar\\Downloads\\Receipts\\9a137cc9.jpeg\n",
      "marion coe Authority ofKrishnagiri Walajahpet Tollway Ltd. Toll Plaza Name Pallikonda —Plaza 73.0To KM. 350° Ticket No.et ai Booth & Operator NoLANEOS ere Date & Time 21/07/2019 26 Vehicle No.[TNOSAY9993] Type of vehicleCAR/JEEP Type of Journey ‘ eae Trip Fee€85.00 “only for “over loaded vehicleStandard wt.of Kg. Actual wt. Of kg. Overloaded vehicle 00 Total 85.00 ‘aren WISH YOU SAFE & HAPPY JOURNEY\n",
      "['73', '350', '21/07/2019', '26', '9993', '85', '00', '00', '85', '00']\n"
     ]
    },
    {
     "name": "stderr",
     "output_type": "stream",
     "text": [
      "\n",
      "\n",
      " 57%|█████████████████████████████████████████████▎                                  | 337/595 [17:42<11:22,  2.65s/it]"
     ]
    },
    {
     "name": "stdout",
     "output_type": "stream",
     "text": [
      "C:\\Users\\amar\\Downloads\\Receipts\\9a8e24a1.jpeg\n",
      "Rosebud on Rush North Rush Street Chicago, Il-266-6444 DateJulis’17 04 07PM Card TypeVisa AcctXXXXXXKXXKAXS Card EntrySWIPED Trans TypePURCHASE Trans Auth/1 Chelsea.17 fron TOTAL aaa SIGNATURE THES 18 ROSEBUD'S COPY | ‘Thank You\n",
      "['266', '6444', '17 04 07', '17', '18']\n"
     ]
    },
    {
     "name": "stderr",
     "output_type": "stream",
     "text": [
      "\n",
      "\n",
      " 57%|█████████████████████████████████████████████▍                                  | 338/595 [17:44<11:22,  2.66s/it]"
     ]
    },
    {
     "name": "stdout",
     "output_type": "stream",
     "text": [
      "C:\\Users\\amar\\Downloads\\Receipts\\9aca41c9.jpeg\n",
      "\n",
      "[]\n"
     ]
    },
    {
     "name": "stderr",
     "output_type": "stream",
     "text": [
      "\n",
      "\n",
      " 57%|█████████████████████████████████████████████▌                                  | 339/595 [17:46<09:41,  2.27s/it]"
     ]
    },
    {
     "name": "stdout",
     "output_type": "stream",
     "text": [
      "C:\\Users\\amar\\Downloads\\Receipts\\9ade947c.jpeg\n",
      "PARLION DIS PRICE Ory AMT um 2 1\n",
      "[]\n"
     ]
    },
    {
     "name": "stderr",
     "output_type": "stream",
     "text": [
      "\n",
      "\n",
      " 57%|█████████████████████████████████████████████▋                                  | 340/595 [17:49<10:30,  2.47s/it]"
     ]
    },
    {
     "name": "stdout",
     "output_type": "stream",
     "text": [
      "C:\\Users\\amar\\Downloads\\Receipts\\9ae2c1aa.jpeg\n",
      "me uF ServerNohaneed Order“we Teka Out “yTLD « 1 $ - TURKEY AND SUISS 1 BOTTLED SODA SUB TOTALTax 1TOTALVisa.36 XX/KX EDC Tran Balance$0.00» Ticket438 « Created7/11/2019 4 44 26 Pi/11/2019 4 44 38 PH AREER EE COMMENTS creativefoodgroup.con 1-212-244-4467 REET\n",
      "['36', '00', '438', '7/11/2019', '4 44 26', '11/2019', '4 44 38', '1-212', '244', '4467']\n"
     ]
    },
    {
     "name": "stderr",
     "output_type": "stream",
     "text": [
      "\n",
      "\n",
      " 57%|█████████████████████████████████████████████▊                                  | 341/595 [17:52<11:31,  2.72s/it]"
     ]
    },
    {
     "name": "stdout",
     "output_type": "stream",
     "text": [
      "C:\\Users\\amar\\Downloads\\Receipts\\9aff01ec.jpeg\n",
      "SHINDE AUTOMOBILES 37/4B,KIWALE ,DEHUROAD, PUNE. 27830074521 ORIGINAL M OTeSEL 0.005 kg/m3 INR/Ltr\n",
      "['37', '2783', '0074', '521', '005']\n"
     ]
    },
    {
     "name": "stderr",
     "output_type": "stream",
     "text": [
      "\n",
      "\n",
      " 57%|█████████████████████████████████████████████▉                                  | 342/595 [17:54<10:19,  2.45s/it]"
     ]
    },
    {
     "name": "stdout",
     "output_type": "stream",
     "text": [
      "C:\\Users\\amar\\Downloads\\Receipts\\9b79f888.jpeg\n",
      "Turner Turnpike Mainline Lane 12 TOLL RECEIPT/05/2019 49 41 AM Shift gO Class Toll$4.75 Entry www. pikepass.com THANK YOU\n",
      "['12', '05/2019', '49 41', '75']\n"
     ]
    },
    {
     "name": "stderr",
     "output_type": "stream",
     "text": [
      "\n",
      "\n",
      " 58%|██████████████████████████████████████████████                                  | 343/595 [17:56<09:31,  2.27s/it]"
     ]
    },
    {
     "name": "stdout",
     "output_type": "stream",
     "text": [
      "C:\\Users\\amar\\Downloads\\Receipts\\9bf563ad.jpeg\n",
      "rer| WINGS & THINGS FULTON AVE. HEMPSTEAD NY THANKS CALL AGAIN-483-0936 50e°195 IN 2PC R&B MEAL 5.99 200P ICED TEA SUB CORNBREAD SWING MEAL 6.99 g0P STERRA 40¢ | SUB FIXN\n",
      "['483', '0936', '50', '195', '99 200', '99', '40']\n"
     ]
    },
    {
     "name": "stderr",
     "output_type": "stream",
     "text": [
      "\n",
      "\n",
      " 58%|██████████████████████████████████████████████▎                                 | 344/595 [17:58<09:58,  2.39s/it]"
     ]
    },
    {
     "name": "stdout",
     "output_type": "stream",
     "text": [
      "C:\\Users\\amar\\Downloads\\Receipts\\9d042023.jpeg\n",
      "PRESET TYPEPRESET AMT RS.RATE/LIR.2.56 NT Rs.AN, OE E Ltr.71 HANK YOU IT A\n",
      "['56', '71']\n"
     ]
    },
    {
     "name": "stderr",
     "output_type": "stream",
     "text": [
      "\n",
      "\n",
      " 58%|██████████████████████████████████████████████▍                                 | 345/595 [18:01<10:33,  2.53s/it]"
     ]
    },
    {
     "name": "stdout",
     "output_type": "stream",
     "text": [
      "C:\\Users\\amar\\Downloads\\Receipts\\9d135554.jpeg\n",
      "REERERRERER\n",
      "[]\n"
     ]
    },
    {
     "name": "stderr",
     "output_type": "stream",
     "text": [
      "\n",
      "\n",
      " 58%|██████████████████████████████████████████████▌                                 | 346/595 [18:03<09:32,  2.30s/it]"
     ]
    },
    {
     "name": "stdout",
     "output_type": "stream",
     "text": [
      "C:\\Users\\amar\\Downloads\\Receipts\\9d315c3b.jpeg\n",
      "Date—Junt9\"19 08 45PM Card TypeVisa Card EntrySWIPED Trans TypePURCHASE Auth/1.32 eo Total eg Siomtue7xD 5 ‘eee CUSTOMER I Agree To Pay Above Total a r -\n",
      "['19 08 45', '32']\n"
     ]
    },
    {
     "name": "stderr",
     "output_type": "stream",
     "text": [
      "\n",
      "\n",
      " 58%|██████████████████████████████████████████████▋                                 | 347/595 [18:05<09:26,  2.29s/it]"
     ]
    },
    {
     "name": "stdout",
     "output_type": "stream",
     "text": [
      "C:\\Users\\amar\\Downloads\\Receipts\\9dacc253.jpeg\n",
      "; YO | TaD“S “LOUISIANA COOKING, Lake Charles Louisiana \\I337602-6678 Server/26/2019 41 27 PH 1 Seatood entree 72.98peteereeereree Suggested Gratuity seetesererees.26.11 20% Gratuity5.67\n",
      "['3376', '02-6678', '26/2019', '41 27', '72', '98', '26', '11 20', '67']\n"
     ]
    },
    {
     "name": "stderr",
     "output_type": "stream",
     "text": [
      "\n",
      "\n",
      " 58%|██████████████████████████████████████████████▊                                 | 348/595 [18:07<09:09,  2.22s/it]"
     ]
    },
    {
     "name": "stdout",
     "output_type": "stream",
     "text": [
      "C:\\Users\\amar\\Downloads\\Receipts\\9df19b67.jpeg\n",
      "OF INDIA SRi SAI ENTERPRISES Plaza NameBoothakudi SectionTrichy - Tovarankurcht0.000 to 60.950 on NH-45BTicket No.01857 Booth & Operator No.LNO05/ 100027 Date & Timef-duil-2019 08 01 48 Vehicle No.TNZ20001448 Type of VehicleCAR/JEEP/VAN Tyne of JourneySINGLE PASS FeaRs. 75 TOTAL FEERs. 75 “WISH YOU SAFE & HAPPY JOUORNEY\"\n",
      "['000', '60', '950', '45', '0185', '05', '1000', '27', '2019', '08 01 48', '2000', '1448', '75', '75']\n"
     ]
    },
    {
     "name": "stderr",
     "output_type": "stream",
     "text": [
      "\n",
      "\n",
      " 59%|██████████████████████████████████████████████▉                                 | 349/595 [18:10<09:53,  2.41s/it]"
     ]
    },
    {
     "name": "stdout",
     "output_type": "stream",
     "text": [
      "C:\\Users\\amar\\Downloads\\Receipts\\9f100f6a.jpeg\n",
      "<~ Fabcafe Fabcafe Foods Pvt. Ltd. 10, Local Shopping Complex, Welson Mandela Road, Vasant KunNew Delhi~ “110070 pbbSendaws cc cecas mane GREWOVAADCH2270PMae means 1\" 1 sages ee P1--49097— Steward ah a.00 thie Bowl 1.00 HSN/SAC996331 Mutton Samosa 1.00 Power 1 MSH/SAC996331\n",
      "['10', '1100', '70', '2270', '4909', '00', '00', '9963', '31', '00', '9963', '31']\n"
     ]
    },
    {
     "name": "stderr",
     "output_type": "stream",
     "text": [
      "\n",
      "\n",
      " 59%|███████████████████████████████████████████████                                 | 350/595 [18:14<11:19,  2.77s/it]"
     ]
    },
    {
     "name": "stdout",
     "output_type": "stream",
     "text": [
      "C:\\Users\\amar\\Downloads\\Receipts\\9f6518d2.jpeg\n",
      "“be Ha O27O Lin Buffet N. Expressway Brownsvi11e,TX DateFeb 24, 2019 Time03ServerKenye 2 Weekend Buffet Open TimeFeb 24, 2019 03 22PM\n",
      "['27', '11', 'Feb 24, 2019', '03', 'Feb 24, 2019', '03 22']\n"
     ]
    },
    {
     "name": "stderr",
     "output_type": "stream",
     "text": [
      "\n",
      "\n",
      " 59%|███████████████████████████████████████████████▏                                | 351/595 [18:16<10:48,  2.66s/it]"
     ]
    },
    {
     "name": "stdout",
     "output_type": "stream",
     "text": [
      "C:\\Users\\amar\\Downloads\\Receipts\\9f7dd143.jpeg\n",
      "ueGA CABSTAYE wo. ca 40 A BT‘Oe Ib , 9f610050-12-16 01 10 END ; oa.12-18 01 58 WAIT TIME , 03 10 WAIT CHARG ; 0.00 TOTAL.00 TRIP FARE ; 863.50.81.81 Toll Ghai ges 85 NET.12 AkeAAeADA AAR ERR AR RRR ED Thank You for Choosi MEGA CABS Call AARAARAA- KAA ER RARER GST No. 29AAECB9348P \"CGST6%SGST6% ON www. megacabs.com Aswbbsb abe bbebtbdkbebhakad Bengaluru Mega Cabs Pvt\n",
      "['40', '6100', '50-12-16', '01 10', '12-18 01', '58', '03 10', '00', '00', '863', '50', '81', '81', '85', '12', '29', '9348']\n"
     ]
    },
    {
     "name": "stderr",
     "output_type": "stream",
     "text": [
      "\n",
      "\n",
      " 59%|███████████████████████████████████████████████▎                                | 352/595 [18:19<11:16,  2.79s/it]"
     ]
    },
    {
     "name": "stdout",
     "output_type": "stream",
     "text": [
      "C:\\Users\\amar\\Downloads\\Receipts\\9fbebaaf.jpeg\n",
      "GENERAL. POOR’S TAY 45 MAIN STREET HACKENSACK, NJ-5882 Date 04/10/16 30pm TableServerVERONIQUE fer pte on neon eee e 40 BONELESS WINGS SPEC $10.00 EE pre ee RPS 16 Ye ee eS Subtotal$10.00 Tax$0.70 Sbt] w/Tax$10.70 Amt Due$10.70 FonHANK You OOSIN GENERAL POOR'S\n",
      "['45', '5882', '04/10/16', '30', '40', '10', '00', '16', '10', '00', '70', '10', '70', '10', '70']\n"
     ]
    },
    {
     "name": "stderr",
     "output_type": "stream",
     "text": [
      "\n",
      "\n",
      " 59%|███████████████████████████████████████████████▍                                | 353/595 [18:23<12:04,  2.99s/it]"
     ]
    },
    {
     "name": "stdout",
     "output_type": "stream",
     "text": [
      "C:\\Users\\amar\\Downloads\\Receipts\\9fc011f7.jpeg\n",
      "Eunice Restaurant Houston Buffalo Spsedxay Houston, TX-1717 06/17/2019 Entry MethodPURCHASE - AUTH te Issuer ‘adeoon00031010 ceoroagsageonD TIDOOL D Tae T agree to pay above total axoun according to card tssuer etount chant agreement if Cradi nt. Retain this copy forHt Voucharyour records THANK YOU FoR SHIPPING WITH US\n",
      "['1717', '06/17/2019', '0003', '1010']\n"
     ]
    },
    {
     "name": "stderr",
     "output_type": "stream",
     "text": [
      "\n",
      "\n",
      " 59%|███████████████████████████████████████████████▌                                | 354/595 [18:27<13:16,  3.30s/it]"
     ]
    },
    {
     "name": "stdout",
     "output_type": "stream",
     "text": [
      "C:\\Users\\amar\\Downloads\\Receipts\\a1468725.jpeg\n",
      "LUIGI\" S PIZZERIA Bier 9, 211 San Francisco CA, 94123-433-0400 03/25/2019 1 31\n",
      "['9, 211', '9412', '3-433', '0400', '03/25/2019', '1 31']\n"
     ]
    },
    {
     "name": "stderr",
     "output_type": "stream",
     "text": [
      "\n",
      "\n",
      " 60%|███████████████████████████████████████████████▋                                | 355/595 [18:29<11:46,  2.94s/it]"
     ]
    },
    {
     "name": "stdout",
     "output_type": "stream",
     "text": [
      "C:\\Users\\amar\\Downloads\\Receipts\\a17d8c2f.jpeg\n",
      "JUTCE ON mi ni, iti CHILLY CHEESE SSO Gea Tie | CEST2.502 ON $5.00 ‘SEST2.5072 ON 55.00 TOTAL GST 2-74 BL. TOT¢ROUNDEDCASH 58-00 | THANK YOU. ig ae\n",
      "['502', '00', '5072', '55', '00', '2-74', '58-00']\n"
     ]
    },
    {
     "name": "stderr",
     "output_type": "stream",
     "text": [
      "\n",
      "\n",
      " 60%|███████████████████████████████████████████████▊                                | 356/595 [18:31<10:47,  2.71s/it]"
     ]
    },
    {
     "name": "stdout",
     "output_type": "stream",
     "text": [
      "C:\\Users\\amar\\Downloads\\Receipts\\a18a7997.jpeg\n",
      "\n",
      "[]\n"
     ]
    },
    {
     "name": "stderr",
     "output_type": "stream",
     "text": [
      "\n",
      "\n",
      " 60%|████████████████████████████████████████████████                                | 357/595 [18:32<08:41,  2.19s/it]"
     ]
    },
    {
     "name": "stdout",
     "output_type": "stream",
     "text": [
      "C:\\Users\\amar\\Downloads\\Receipts\\a190549c.jpeg\n",
      "naz ‘2242p Wonton or Egg Drop or Wonton Soup 80.00 Tropical $6.00.60/12 02 1 Tamal De Pollo $3.50 1$3.50/each Subtotal $24.24 Tax $1.70 Total $25.94 Order Bring back this receipt for 10% off your next HOnlinehttps //clover.com/t/ DMHGRAFSJPM70 [IYI\n",
      "['2242', '80', '00', '00', '60/12 02', '50', '50', '24', '24', '70', '25', '94', '10', '70']\n"
     ]
    },
    {
     "name": "stderr",
     "output_type": "stream",
     "text": [
      "\n",
      "\n",
      " 60%|████████████████████████████████████████████████▏                               | 358/595 [18:35<09:26,  2.39s/it]"
     ]
    },
    {
     "name": "stdout",
     "output_type": "stream",
     "text": [
      "C:\\Users\\amar\\Downloads\\Receipts\\a1cdfdde.jpeg\n",
      "RBAN FOOD MARKET bSHOST HOSE SERVICE oa ferninal-2, 161 Airport NEM DELHI-110037 Ne TAOHBEACI CV 5 vi OTOH Stay tug RHA a TE Ia A kT i rintion a “mount Vater ml BCS 2 a ts al Rs 5.05.00 \\ emt ome sa FalFa1V. Waa jandnashost. net PARSE\n",
      "['2, 161', '1100', '37', '05', '00']\n"
     ]
    },
    {
     "name": "stderr",
     "output_type": "stream",
     "text": [
      "\n",
      "\n",
      " 60%|████████████████████████████████████████████████▎                               | 359/595 [18:39<11:08,  2.83s/it]"
     ]
    },
    {
     "name": "stdout",
     "output_type": "stream",
     "text": [
      "C:\\Users\\amar\\Downloads\\Receipts\\a1e35140.jpeg\n",
      "hE LLL The Well Store SMF Terminal A Sacramento, CA-9300/16/19 1 14 PM Trans TypeSALE SALESPERSON NUMBER ee CLASSIC ¢ 2.95 N /000/NOSZ “ MBRzS0Q00SCRV CHARGE 0.0 05 N ZSOSNMRKE TLE.09 N\n",
      "['9300', '16/19', '1 14', '95', '000', '00', '0 05', '09']\n"
     ]
    },
    {
     "name": "stderr",
     "output_type": "stream",
     "text": [
      "\n",
      "\n",
      " 61%|████████████████████████████████████████████████▍                               | 360/595 [18:41<10:55,  2.79s/it]"
     ]
    },
    {
     "name": "stdout",
     "output_type": "stream",
     "text": [
      "C:\\Users\\amar\\Downloads\\Receipts\\a1ea8555.jpeg\n",
      "\n",
      "[]\n"
     ]
    },
    {
     "name": "stderr",
     "output_type": "stream",
     "text": [
      "\n",
      "\n",
      " 61%|████████████████████████████████████████████████▌                               | 361/595 [18:43<09:09,  2.35s/it]"
     ]
    },
    {
     "name": "stdout",
     "output_type": "stream",
     "text": [
      "C:\\Users\\amar\\Downloads\\Receipts\\a26adf55.jpeg\n",
      "9931 22/05/2019 5 nom CHO Rs. 10/- AD 1 i iy i fi\n",
      "['9931', '22/05/2019', '10']\n"
     ]
    },
    {
     "name": "stderr",
     "output_type": "stream",
     "text": [
      "\n",
      "\n",
      " 61%|████████████████████████████████████████████████▋                               | 362/595 [18:44<07:48,  2.01s/it]"
     ]
    },
    {
     "name": "stdout",
     "output_type": "stream",
     "text": [
      "C:\\Users\\amar\\Downloads\\Receipts\\a2ce1b5e.jpeg\n",
      "OMMANDET 7 WASHINGTON AYE tape * gvrtk G ooos LAURA D\n",
      "[]\n"
     ]
    },
    {
     "name": "stderr",
     "output_type": "stream",
     "text": [
      "\n",
      "\n",
      " 61%|████████████████████████████████████████████████▊                               | 363/595 [18:46<08:01,  2.07s/it]"
     ]
    },
    {
     "name": "stdout",
     "output_type": "stream",
     "text": [
      "C:\\Users\\amar\\Downloads\\Receipts\\a34336fd.jpeg\n",
      "Bill TK DINDIGUL THALAPPAKATT Thalappakatti HotelsPLid. CINUS5101TN1998PTC101352/2-A,Thadikombu Road, Anjali RoundanNear Collectrate Office, Dindigul GSTIN SAC Phone-2461131/2461132 Bill/07/2019 14 SeatA PersonsKo, 127, Cu tomer NameMobile Item Name Qty Price Amou ee aia atte nieciaisi ian MIDERAL WATER 1 18.10 18.1 STEAM RICE 1 40.00 40. PHULKA 6 55.00. PAD EER BUTTER.00, PALLIPALAYAM BL RO 1.00. SubTotal769, yw Al a.50% al.50% ’ 19,2 Rounded.00. Captain; sivag, WalterRamtharu\n",
      "['5101', '1998', '1013', '52', '2461', '131', '2461', '132', '07/2019', '14', '127', '1 18', '10 18', '1 40', '00 40', '6 55', '00', '00', '00', '769', '50', '50', '19', '00']\n"
     ]
    },
    {
     "name": "stderr",
     "output_type": "stream",
     "text": [
      "\n",
      "\n",
      " 61%|████████████████████████████████████████████████▉                               | 364/595 [18:52<12:05,  3.14s/it]"
     ]
    },
    {
     "name": "stdout",
     "output_type": "stream",
     "text": [
      "C:\\Users\\amar\\Downloads\\Receipts\\a3dbcdaa.jpeg\n",
      "MRHYAUATCHA Yauatcha Kakin Restaurant 1 Tender Branch Hibiscus 1 Seafood Puff 1 Sesame Prawn Toast 1 Beancurd Prawn Cheung Fun 1 XO Scallop Dumpling 1 Poached Beijing Dumpling 1 Spinach Dumpling 1 Tea Smoked Pork Ribs Subtotal BZ Rowesise ORs ssessses Tax Total Due $a0. 62 International Market Place Kalakaua Ave Ste Honolulu, Hawaii Reservat ions Yauatchaliaikiki .com-739-9318 GRATUITY NOT INCLUDED**\n",
      "['62', '739', '9318']\n"
     ]
    },
    {
     "name": "stderr",
     "output_type": "stream",
     "text": [
      "\n",
      "\n",
      " 61%|█████████████████████████████████████████████████                               | 365/595 [18:55<11:57,  3.12s/it]"
     ]
    },
    {
     "name": "stdout",
     "output_type": "stream",
     "text": [
      "C:\\Users\\amar\\Downloads\\Receipts\\a3dd3ffb.jpeg\n",
      "al - s gui\"|seta 3 Lailt 5 ‘3 | iP |\n",
      "[]\n"
     ]
    },
    {
     "name": "stderr",
     "output_type": "stream",
     "text": [
      "\n",
      "\n",
      " 62%|█████████████████████████████████████████████████▏                              | 366/595 [18:57<11:02,  2.89s/it]"
     ]
    },
    {
     "name": "stdout",
     "output_type": "stream",
     "text": [
      "C:\\Users\\amar\\Downloads\\Receipts\\a44f4dd1.jpeg\n",
      "Ny SHICH ON THE 60 1 FOMEL POH SERVICES KOLKATA PUT. Lip SCHL An a CAL sed Mo. 9867222111 AX TUE Order abanat 0/06/2019 8 21 AK o ASHER SUNN slushRate ecunt cus Lowerservi ce travel foodvery ices .com E&OE ' t a —Sienatere\n",
      "['60', '9867', '2221', '11', '0/06/2019', '8 21']\n"
     ]
    },
    {
     "name": "stderr",
     "output_type": "stream",
     "text": [
      "\n",
      "\n",
      " 62%|█████████████████████████████████████████████████▎                              | 367/595 [19:02<12:49,  3.37s/it]"
     ]
    },
    {
     "name": "stdout",
     "output_type": "stream",
     "text": [
      "C:\\Users\\amar\\Downloads\\Receipts\\a47ae875.jpeg\n",
      "\n",
      "[]\n"
     ]
    },
    {
     "name": "stderr",
     "output_type": "stream",
     "text": [
      "\n",
      "\n",
      " 62%|█████████████████████████████████████████████████▍                              | 368/595 [19:04<11:20,  3.00s/it]"
     ]
    },
    {
     "name": "stdout",
     "output_type": "stream",
     "text": [
      "C:\\Users\\amar\\Downloads\\Receipts\\a4aee2d5.jpeg\n",
      "VIA EMILIA 9 16TH ST H BEACH, Fi. 33139 ‘Tesz167160 ORDERTable 11 Pec 1 StimienltateDiiewenna $2280 ‘Subtotal $36.70 Tx $5.10 ‘Total $61.80Order QGVATHINMZBYC ‘Show’ ‘review on TripAdvisor or Yelp ‘and a platen dens cuted -\n",
      "['9 16', '3313', '1671', '60', '11', '2280', '36', '70', '10', '61', '80']\n"
     ]
    },
    {
     "name": "stderr",
     "output_type": "stream",
     "text": [
      "\n",
      "\n",
      " 62%|█████████████████████████████████████████████████▌                              | 369/595 [19:07<11:36,  3.08s/it]"
     ]
    },
    {
     "name": "stdout",
     "output_type": "stream",
     "text": [
      "C:\\Users\\amar\\Downloads\\Receipts\\a55acac4.jpeg\n",
      "WATERGATEMARKETs101655—2550 THANK YOU REG 05-31-2019 11 20 MIDCITY 1 RITTER SPORT $2.99 1. TAX-GROCERY $5. 99 1 B.B.Q $3.00 0.78$7.99 / 1 HOT FOOD $6.31 $1.42 TL $19.71 CASH $20.00 cG $0.29\n",
      "['1016', '55', '2550', '05-31-2019', '11 20', '99', '99', '00', '78', '99', '31', '42', '19', '71', '20', '00', '29']\n"
     ]
    },
    {
     "name": "stderr",
     "output_type": "stream",
     "text": [
      "\n",
      "\n",
      " 62%|█████████████████████████████████████████████████▋                              | 370/595 [19:11<12:25,  3.31s/it]"
     ]
    },
    {
     "name": "stdout",
     "output_type": "stream",
     "text": [
      "C:\\Users\\amar\\Downloads\\Receipts\\a5952274.jpeg\n",
      "7-ELEVEN BENEAOOBENBROOK, TX 87/11/2019 54g7z 67 47 42 At OOOOOOX Visa INVOICE AUTH PUMP& Reguier 7.3885 PRICE/GAL $2.539 FUEL TOTAL $ 18.76 CREDIT $ 18.76\n",
      "['87/11/2019', '54', '67 47 42', '3885', '539', '18', '76', '18', '76']\n"
     ]
    },
    {
     "name": "stderr",
     "output_type": "stream",
     "text": [
      "\n",
      "\n",
      " 62%|█████████████████████████████████████████████████▉                              | 371/595 [19:15<12:44,  3.41s/it]"
     ]
    },
    {
     "name": "stdout",
     "output_type": "stream",
     "text": [
      "C:\\Users\\amar\\Downloads\\Receipts\\a5b617de.jpeg\n",
      "\n",
      "[]\n"
     ]
    },
    {
     "name": "stderr",
     "output_type": "stream",
     "text": [
      "\n",
      "\n",
      " 63%|██████████████████████████████████████████████████                              | 372/595 [19:17<11:49,  3.18s/it]"
     ]
    },
    {
     "name": "stdout",
     "output_type": "stream",
     "text": [
      "C:\\Users\\amar\\Downloads\\Receipts\\a7001ecc.jpeg\n",
      "\n",
      "[]\n"
     ]
    },
    {
     "name": "stderr",
     "output_type": "stream",
     "text": [
      "\n",
      "\n",
      " 63%|██████████████████████████████████████████████████▏                             | 373/595 [19:20<10:49,  2.92s/it]"
     ]
    },
    {
     "name": "stdout",
     "output_type": "stream",
     "text": [
      "C:\\Users\\amar\\Downloads\\Receipts\\a72f96ca.jpeg\n",
      "al STMT WEST AU oA 710Airport 1 Martie Prachent, M200\n",
      "['710', '200']\n"
     ]
    },
    {
     "name": "stderr",
     "output_type": "stream",
     "text": [
      "\n",
      "\n",
      " 63%|██████████████████████████████████████████████████▎                             | 374/595 [19:23<11:53,  3.23s/it]"
     ]
    },
    {
     "name": "stdout",
     "output_type": "stream",
     "text": [
      "C:\\Users\\amar\\Downloads\\Receipts\\a8c6b02c.jpeg\n",
      "Fieh & Chips Adult Petit Pain - shite\n",
      "[]\n"
     ]
    },
    {
     "name": "stderr",
     "output_type": "stream",
     "text": [
      "\n",
      "\n",
      " 63%|██████████████████████████████████████████████████▍                             | 375/595 [19:25<09:56,  2.71s/it]"
     ]
    },
    {
     "name": "stdout",
     "output_type": "stream",
     "text": [
      "C:\\Users\\amar\\Downloads\\Receipts\\a8d87938.jpeg\n",
      "SHIV SAGAR Xeuman ek RTI WMH MENU DFSCRIPTION cueEse SANDWI SKATE ORFS SHAKE 40 80 5 WATER MELON JUICE TOTAL.00.54SG8T2.5%18.00 BILL TOTALQaTIN MO Z9ACVFRBITOOES Fiease check your belongameeBerore tear, —\n",
      "['40 80', '00', '54', '18', '00']\n"
     ]
    },
    {
     "name": "stderr",
     "output_type": "stream",
     "text": [
      "\n",
      "\n",
      " 63%|██████████████████████████████████████████████████▌                             | 376/595 [19:29<11:48,  3.24s/it]"
     ]
    },
    {
     "name": "stdout",
     "output_type": "stream",
     "text": [
      "C:\\Users\\amar\\Downloads\\Receipts\\a8f7689b.jpeg\n",
      "National Highways Authority of India 5 Prakash Asphaltings & Toll HighwaysPLtd &Nemili Sriperumbudur .800Km 60,800 To 13.800Ss11030000462786 Og r 3 03 & TC1562 »19-Jul-19 21 09 ype Of VehicleCAR/JEEP/VAN ype Of JourneySINGLE JOURNEY thod Of Payment-aiRs. AN A AEA MA BUG TG Oe DAA AE WISH YOU SAFE & HAPPY JOURNEY\n",
      "['800', '60,800', '13', '800', '1103', '0000', '4627', '86', '3 03', '1562', '19-Jul-19 21', '09']\n"
     ]
    },
    {
     "name": "stderr",
     "output_type": "stream",
     "text": [
      "\n",
      "\n",
      " 63%|██████████████████████████████████████████████████▋                             | 377/595 [19:35<13:55,  3.83s/it]"
     ]
    },
    {
     "name": "stdout",
     "output_type": "stream",
     "text": [
      "C:\\Users\\amar\\Downloads\\Receipts\\a9800e10.jpeg\n",
      "SHINDE AUTOBILES KIWALE, PUNE. ORIGINAL 07 JUN-2019 18 54 03 TXN NON.A. INVOICE VEHICLE N NOZZLE NO PRODUCTProduct 2.00 . kg/m3.90 INR/Ltr.00 Ltr.50 INR\n",
      "['07', '2019', '18 54 03', '00', '90', '00', '50']\n"
     ]
    },
    {
     "name": "stderr",
     "output_type": "stream",
     "text": [
      "\n",
      "\n",
      " 64%|██████████████████████████████████████████████████▊                             | 378/595 [19:39<14:26,  3.99s/it]"
     ]
    },
    {
     "name": "stdout",
     "output_type": "stream",
     "text": [
      "C:\\Users\\amar\\Downloads\\Receipts\\aa33ae61.jpeg\n",
      "Spiral Diner & Bakery E Hickory St Denton, TX Orders Eat In Order ServerSarah A $7.99 Short Stack $8.59 | Coffee $2.99 | Breakfast Quesadilla $13.99 5 NO Sausage$0 .00 Grilled Spinach$1 99 Southern Comfort $10.99 Subtotaleek $46.54 Total Taxsei TS se. AR.38 Order Balance due$50.38 www.spiraldiner.com\n",
      "['99', '59', '99', '13', '99', '00', '1 99', '10', '99', '46', '54', '38', '50', '38']\n"
     ]
    },
    {
     "name": "stderr",
     "output_type": "stream",
     "text": [
      "\n",
      "\n",
      " 64%|██████████████████████████████████████████████████▉                             | 379/595 [19:45<16:30,  4.58s/it]"
     ]
    },
    {
     "name": "stdout",
     "output_type": "stream",
     "text": [
      "C:\\Users\\amar\\Downloads\\Receipts\\aa3640e5.jpeg\n",
      "/BILI-~.~.. SLM- 0 05-97- PLAIN DAH SUB TOT 1THg.005.002 ON.00.00 BL. TOTCROUNDEDGAGH. 00 NOW. TAXABLE 03 12 01 s/c NO\n",
      "['0 05-97', '005', '002', '00', '00', '00', '03 12 01']\n"
     ]
    },
    {
     "name": "stderr",
     "output_type": "stream",
     "text": [
      "\n",
      "\n",
      " 64%|███████████████████████████████████████████████████                             | 380/595 [19:50<16:49,  4.70s/it]"
     ]
    },
    {
     "name": "stdout",
     "output_type": "stream",
     "text": [
      "C:\\Users\\amar\\Downloads\\Receipts\\aba42498.jpeg\n",
      "PAPPADEAUX Pappadeaux Seafood Airport BlvdHOUHouston, Tx-7622 Table 7Party DANIEL O —SvrCkTia OUOr/i7 DINE IN 1 Side Craw Etouffee 4oz 10.98 B 1 Pan Seared Tilapia 21.99 2 Tea 5.98 6 Sub.95 3.21 TaxSub.16 . 01/07 13 29.16 i Thank you for dining at PappadeauxTip Not Included i 15% | 18% 20%\n",
      "['7622', '10', '98', '21', '99', '98', '95', '21', '16', '01/07 13', '29', '16', '15', '18', '20']\n"
     ]
    },
    {
     "name": "stderr",
     "output_type": "stream",
     "text": [
      "\n",
      "\n",
      " 64%|███████████████████████████████████████████████████▏                            | 381/595 [19:55<17:25,  4.88s/it]"
     ]
    },
    {
     "name": "stdout",
     "output_type": "stream",
     "text": [
      "C:\\Users\\amar\\Downloads\\Receipts\\abcc056f.jpeg\n",
      "H 14 ICICI Banksa senna € GUMAHATL LGBT ALRPOR TG aves MAAIAT ASR/09 bea i tert TID SMEOO IRVGICE MO GistSALE CMD y tins ante aten CHIP CAH TPEISAM EXP UATEA/a APPR FRMGOUUDOOCSAG Te Corti f; F7FED39350080 5 on loentifierP Appl ication Maitevia AMT zg.00 & PIN VERIFIED OKSIGNATURE NOT REQUIRED ERAT CHAKRABORTY I AGREE 10 PAT AS PER CARD 1SSUER Aumtivihpow z a8 CUSTOMER Fy IWL version 3.0.8 & . 4 FirstData. ~ iin. ..a -\n",
      "['14', '09', '3935', '0080', '00', '10']\n"
     ]
    },
    {
     "name": "stderr",
     "output_type": "stream",
     "text": [
      "\n",
      "\n",
      " 64%|███████████████████████████████████████████████████▎                            | 382/595 [20:02<18:47,  5.29s/it]"
     ]
    },
    {
     "name": "stdout",
     "output_type": "stream",
     "text": [
      "C:\\Users\\amar\\Downloads\\Receipts\\abd76c4b.jpeg\n",
      "McDonald’4es aur act N ES \\WEHLOS ANGELES, C4 SJ8a- TEL223 SM 03 08 PM SideOrder 97 1 Dbl Qtr CheesSpecial RequaADD Leaf Lettica ADD Mac Sauce Subtotal Tax Take-Out Total Cashless Change CARD ISSUER ql BOW DEBIT CARD/i6 Brie TRANSACTION AMOL 1 T 1.21 CHIP READ AUTHORIZATION COLE ~ 812541¢ 3 NeDonald's now aval uc a on JoerEATS 5.99 rr-40 64 63 2 2 Sx 3Oomf coo nN\n",
      "['223', '03 08', '97', '21', '8125', '41', '99', '40 64 63']\n"
     ]
    },
    {
     "name": "stderr",
     "output_type": "stream",
     "text": [
      "\n",
      "\n",
      " 64%|███████████████████████████████████████████████████▍                            | 383/595 [20:08<19:33,  5.53s/it]"
     ]
    },
    {
     "name": "stdout",
     "output_type": "stream",
     "text": [
      "C:\\Users\\amar\\Downloads\\Receipts\\abf51544.jpeg\n",
      "Please Pay at Cashier Yonkers Avenue ‘Yonkers, NY-5055 Copy of Receipt 1 Coffee 1 Tea 1 Waffle 1 Old Fashion French Toast 1 Side Home Fries 1 1 1 Banana Whipped Crean W/ 2 EGGS al\n",
      "['5055']\n"
     ]
    },
    {
     "name": "stderr",
     "output_type": "stream",
     "text": [
      "\n",
      "\n",
      " 65%|███████████████████████████████████████████████████▋                            | 384/595 [20:11<17:04,  4.86s/it]"
     ]
    },
    {
     "name": "stdout",
     "output_type": "stream",
     "text": [
      "C:\\Users\\amar\\Downloads\\Receipts\\ac676281.jpeg\n",
      "RETAIL INVOICE KUNAL RESTAURANT Near H.K. College Ashram Road, Ahmedabad Tel BILL NO KUNRES/SAL /362036 Ff iy COLD COFFEE FRESH LIME SODA Service GSTIN24AACFK1138K12K No Reverse Charges Print 20\n",
      "['3620', '36', '24', '1138', '12', '20']\n"
     ]
    },
    {
     "name": "stderr",
     "output_type": "stream",
     "text": [
      "\n",
      "\n",
      " 65%|███████████████████████████████████████████████████▊                            | 385/595 [20:16<16:45,  4.79s/it]"
     ]
    },
    {
     "name": "stdout",
     "output_type": "stream",
     "text": [
      "C:\\Users\\amar\\Downloads\\Receipts\\ad2814be.jpeg\n",
      "z B f z tf m e - ip enense Yesterday, 8 00 AM §, YouratedGangadharSarawad ke Need help with this tripChange star rating I want to change my driver's rating. Fdit ratina\n",
      "['8 00']\n"
     ]
    },
    {
     "name": "stderr",
     "output_type": "stream",
     "text": [
      "\n",
      "\n",
      " 65%|███████████████████████████████████████████████████▉                            | 386/595 [20:19<15:39,  4.49s/it]"
     ]
    },
    {
     "name": "stdout",
     "output_type": "stream",
     "text": [
      "C:\\Users\\amar\\Downloads\\Receipts\\ad742eb5.jpeg\n",
      "Chk Ranchero Bur ADD Avo Sics Ind Chi SM DRI Coke 2 Bur-BRC1,89 3.78 Cash 13a Your Order\n",
      "['1,89', '78', '13']\n"
     ]
    },
    {
     "name": "stderr",
     "output_type": "stream",
     "text": [
      "\n",
      "\n",
      " 65%|████████████████████████████████████████████████████                            | 387/595 [20:23<14:35,  4.21s/it]"
     ]
    },
    {
     "name": "stdout",
     "output_type": "stream",
     "text": [
      "C:\\Users\\amar\\Downloads\\Receipts\\adc1b1d1.jpeg\n",
      "SRN poten oncom nC AC RCA a a EM ' tomer Receipt COHO Stanford, CA-1234 a So BI IOIO OIOI OR Haka 4 IO/2/2019 3 20 pm 2 Dine In TableSos ~ ~ a ee ee, - - -fo 9 1 ALMOND CAKE 3.535 A 1 Smal] Cappucino 2.80 ‘ A 7] 1° Snail Coffee eee 1 ICED “Zo Sub Totalaz Se Taxyrs.99 Amount.00 / $71820 creat aE RCRA e Please visit use http //coho.stanford.edu\n",
      "['1234', '2/2019', '3 20', '535', '80', '99', '00', '7182']\n"
     ]
    },
    {
     "name": "stderr",
     "output_type": "stream",
     "text": [
      "\n",
      "\n",
      " 65%|████████████████████████████████████████████████████▏                           | 388/595 [20:28<15:10,  4.40s/it]"
     ]
    },
    {
     "name": "stdout",
     "output_type": "stream",
     "text": [
      "C:\\Users\\amar\\Downloads\\Receipts\\ae906bad.jpeg\n",
      "-AIRVIEN, NU-8428 Date 02/11/19 Time 07 46pm Table 23 ServerDANIELA a A A AS 1 Guaca Chicharron $13.95 2 EMPANADA $3.00 1 PARGO FRITO $19.95 Ensalada No Cebolla No Cebolla Roja 1 MAR Y CHICKEN $17.00 Tostones ostones Te €& ToGo 2 1 SALMON A LA PLANCHA $16. Ensalada Ensalada Subtotal$69.90 Void-$17 .95 Tax$3.44 Sbt] w/Tax$73.34 Amt Due$55 .39\n",
      "['8428', '02/11/19', '07 46', '23', '13', '95', '00', '19', '95', '17', '00', '16', '69', '90', '17', '95', '44', '73', '34', '55', '39']\n"
     ]
    },
    {
     "name": "stderr",
     "output_type": "stream",
     "text": [
      "\n",
      "\n",
      " 65%|████████████████████████████████████████████████████▎                           | 389/595 [20:33<16:08,  4.70s/it]"
     ]
    },
    {
     "name": "stdout",
     "output_type": "stream",
     "text": [
      "C:\\Users\\amar\\Downloads\\Receipts\\ae94e526.jpeg\n",
      "STARBUCKS Peachtree Parkway Cumming, GA678965-4073 06/12/2019 12,36 es ae et eee TI Pike Placa 2.15 Tl Pike Place 2.15 TI Peh Tranquility 5 Total Change Due~ Check Closed —~ 06/12/2019 12 36 Join our loyalty progrea Starbucks Rewards® Sign up for prosotional esails Visit Starbucks.comrewards Or download cur app At participating stores Sone restrictions apply\n",
      "['6789', '65-4073', '06/12/2019', '12,36', '15', '15', '06/12/2019', '12 36']\n"
     ]
    },
    {
     "name": "stderr",
     "output_type": "stream",
     "text": [
      "\n",
      "\n",
      " 66%|████████████████████████████████████████████████████▍                           | 390/595 [20:38<16:35,  4.86s/it]"
     ]
    },
    {
     "name": "stdout",
     "output_type": "stream",
     "text": [
      "C:\\Users\\amar\\Downloads\\Receipts\\aeb91209.jpeg\n",
      "\n",
      "[]\n"
     ]
    },
    {
     "name": "stderr",
     "output_type": "stream",
     "text": [
      "\n",
      "\n",
      " 66%|████████████████████████████████████████████████████▌                           | 391/595 [20:42<15:08,  4.45s/it]"
     ]
    },
    {
     "name": "stdout",
     "output_type": "stream",
     "text": [
      "C:\\Users\\amar\\Downloads\\Receipts\\afa578d9.jpeg\n",
      "Don Juan Nexican Restaurant East Park Ave Lor nh, NY-4944 ServerRegina Dine In 2 Red Sangrta Glass 14.00 14-COMBO FAJITAS 22.95 Flour Tortilla Chicken Shrimp Steak-BURRITO SUPREME 14.95 w/ Beef Bar SubtotelFood-SibtatalStateTOL» Ticket23 « ae 8 14 53 THANK\n",
      "['4944', '14', '00 14', '22', '95', '14', '95', '23', '8 14 53']\n"
     ]
    },
    {
     "name": "stderr",
     "output_type": "stream",
     "text": [
      "\n",
      "\n",
      " 66%|████████████████████████████████████████████████████▋                           | 392/595 [20:47<15:19,  4.53s/it]"
     ]
    },
    {
     "name": "stdout",
     "output_type": "stream",
     "text": [
      "C:\\Users\\amar\\Downloads\\Receipts\\aff8e5ab.jpeg\n",
      "Taco Maria Hyland Ave. Ste Costa Mesa, CA ww. tacomarta.co ServerJesa R TableBar 7/23/18, 12 16 PM SubtotalTotal TaxOrder Balance dueSuggested Gratuity i % 18.00% of sale.00% of% of sale\n",
      "['7/23/18', '12 16', '18', '00', '00']\n"
     ]
    },
    {
     "name": "stderr",
     "output_type": "stream",
     "text": [
      "\n",
      "\n",
      " 66%|████████████████████████████████████████████████████▊                           | 393/595 [20:50<14:14,  4.23s/it]"
     ]
    },
    {
     "name": "stdout",
     "output_type": "stream",
     "text": [
      "C:\\Users\\amar\\Downloads\\Receipts\\b0511c9e.jpeg\n",
      "OLTVEGARDE soa E State Rockford, Tl 61; Barnen« Traraaetent OTOL ADAgcooonora1o%0 TCSOS0IFFTCESSBA\n",
      "['61']\n"
     ]
    },
    {
     "name": "stderr",
     "output_type": "stream",
     "text": [
      "\n",
      "\n",
      " 66%|████████████████████████████████████████████████████▉                           | 394/595 [20:53<13:05,  3.91s/it]"
     ]
    },
    {
     "name": "stdout",
     "output_type": "stream",
     "text": [
      "C:\\Users\\amar\\Downloads\\Receipts\\b06a246f.jpeg\n",
      "—T 2 ne — HIRO JAPANESE RESTAURANT | Ee NE 163RD STREETNorth Miami Beach, FL-3687 ServerHUGO Dine In 1L Ton Katsu 8.95 1LMakimono 6.95 SUB.90 Tax 1; 1.28 TOTAL$17.18Ticket20 << 2/13/2018 1 09 45 PM THANK YOU\n",
      "['163', '3687', '95', '95', '90', '28', '17', '18', '20', '2/13/2018', '1 09 45']\n"
     ]
    },
    {
     "name": "stderr",
     "output_type": "stream",
     "text": [
      "\n",
      "\n",
      " 66%|█████████████████████████████████████████████████████                           | 395/595 [20:58<14:05,  4.23s/it]"
     ]
    },
    {
     "name": "stdout",
     "output_type": "stream",
     "text": [
      "C:\\Users\\amar\\Downloads\\Receipts\\b0ba1d29.jpeg\n",
      "Net Payable.00 pintelihvare Solutions.E\n",
      "['00']\n"
     ]
    },
    {
     "name": "stderr",
     "output_type": "stream",
     "text": [
      "\n",
      "\n",
      " 67%|█████████████████████████████████████████████████████▏                          | 396/595 [21:01<13:04,  3.94s/it]"
     ]
    },
    {
     "name": "stdout",
     "output_type": "stream",
     "text": [
      "C:\\Users\\amar\\Downloads\\Receipts\\b0d5d8c5.jpeg\n",
      "13-08-10 L1 12 3 04 PM YOUR GUEST NUMBER IS 25 IN-N-QUT BURGER ESCONDIDO-08-1002 PM 2 CashierADAM EL Counter-Eat In 3.30 WO KM 23GRS only FF Counter-Eat In 18.00 TAX 8.00% .44 Amount Due$19.44\n",
      "['13-08-10', '1 12', '3 04', '25', '08-1002', '30', '23', '18', '00', '00', '44', '19', '44']\n"
     ]
    },
    {
     "name": "stderr",
     "output_type": "stream",
     "text": [
      "\n",
      "\n",
      " 67%|█████████████████████████████████████████████████████▍                          | 397/595 [21:05<12:22,  3.75s/it]"
     ]
    },
    {
     "name": "stdout",
     "output_type": "stream",
     "text": [
      "C:\\Users\\amar\\Downloads\\Receipts\\b199704c.jpeg\n",
      "file Amant we Wi\n",
      "[]\n"
     ]
    },
    {
     "name": "stderr",
     "output_type": "stream",
     "text": [
      "\n",
      "\n",
      " 67%|█████████████████████████████████████████████████████▌                          | 398/595 [21:07<10:56,  3.33s/it]"
     ]
    },
    {
     "name": "stdout",
     "output_type": "stream",
     "text": [
      "C:\\Users\\amar\\Downloads\\Receipts\\b1c64bac.jpeg\n",
      "LA MEXICANA BUENA VIST W VIRGINIA ST CRYSTAL LAKE, TL 1 04/23/2019 TOALMOWT 7-85\n",
      "['1 04/23', '2019', '7-85']\n"
     ]
    },
    {
     "name": "stderr",
     "output_type": "stream",
     "text": [
      "\n",
      "\n",
      " 67%|█████████████████████████████████████████████████████▋                          | 399/595 [21:11<10:55,  3.35s/it]"
     ]
    },
    {
     "name": "stdout",
     "output_type": "stream",
     "text": [
      "C:\\Users\\amar\\Downloads\\Receipts\\b21bee63.jpeg\n",
      "Indie Welcones YO KUMAR SERVICE u atzo . CROSSING, HA Receipt Pec 1 ie. 08 ProductPetrol et.85.21,00 Vehicle NoNot En Mobile No ; Hot Ent/06/19 08 ie fva . mt No On to one Foc Tie, bee Ava ian\n",
      "['08', '85', '21,00', '06/19 08']\n"
     ]
    },
    {
     "name": "stderr",
     "output_type": "stream",
     "text": [
      "\n",
      "\n",
      " 67%|█████████████████████████████████████████████████████▊                          | 400/595 [21:15<11:58,  3.69s/it]"
     ]
    },
    {
     "name": "stdout",
     "output_type": "stream",
     "text": [
      "C:\\Users\\amar\\Downloads\\Receipts\\b22e3c57.jpeg\n",
      "i Gordon FOOD SERVICE STORE CashierTOTAL MUMBER OF ITEMS 06/06/15 OB13an 3 Qualifying G2Points You are in the Gold Gotten Gotier HLL Store Transaction terior\n",
      "['06/06/15', '13']\n"
     ]
    },
    {
     "name": "stderr",
     "output_type": "stream",
     "text": [
      "\n",
      "\n",
      " 67%|█████████████████████████████████████████████████████▉                          | 401/595 [21:18<11:12,  3.47s/it]"
     ]
    },
    {
     "name": "stdout",
     "output_type": "stream",
     "text": [
      "C:\\Users\\amar\\Downloads\\Receipts\\b2802844.jpeg\n",
      "wu i Depot-20 T.No. 144 13K/1 19/07/2019 09 47 AM & Bovadrd ost Rege ShivajiiagaraBus Station OLNE DUNG bas shout déeos\n",
      "['20', '144', '13', '1 19/07', '2019', '09 47']\n"
     ]
    },
    {
     "name": "stderr",
     "output_type": "stream",
     "text": [
      "\n",
      "\n",
      " 68%|██████████████████████████████████████████████████████                          | 402/595 [21:21<10:52,  3.38s/it]"
     ]
    },
    {
     "name": "stdout",
     "output_type": "stream",
     "text": [
      "C:\\Users\\amar\\Downloads\\Receipts\\b30773b0.jpeg\n",
      "® bul BILL Us Hotel Greentand Lowers Rupnar ayarpar ind, Area, Wharaggur -721301WiPh91,291606. 291606;91 GSTIN No.19AACCG8692F1Z7/06/2019 ena‘Table No. RES-001 WALTERNiranjan Bhula EM DESCRIPTION QnTy St ameMevarai Water tit 200bee «10 Net Re. 20% 25% 069 wmeo mate 00% 280% 0.00 Total Re. KOT14825, THANK YOU. PLEASE VISITAGAN, $ForGLTPL\n",
      "['7213', '01', '91,2916', '06', '2916', '06', '91', '19', '8692', '7/06/2019', '001', '200', '10', '20', '25', '069', '00', '280', '00', '1482']\n"
     ]
    },
    {
     "name": "stderr",
     "output_type": "stream",
     "text": [
      "\n",
      "\n",
      " 68%|██████████████████████████████████████████████████████▏                         | 403/595 [21:26<12:41,  3.97s/it]"
     ]
    },
    {
     "name": "stdout",
     "output_type": "stream",
     "text": [
      "C:\\Users\\amar\\Downloads\\Receipts\\b31b7fba.jpeg\n",
      "KALOOKI'S\n",
      "[]\n"
     ]
    },
    {
     "name": "stderr",
     "output_type": "stream",
     "text": [
      "\n",
      "\n",
      " 68%|██████████████████████████████████████████████████████▎                         | 404/595 [21:29<11:25,  3.59s/it]"
     ]
    },
    {
     "name": "stdout",
     "output_type": "stream",
     "text": [
      "C:\\Users\\amar\\Downloads\\Receipts\\b3ed8ea1.jpeg\n",
      "Leatherheads Sports Gril] 12101 S. State Draper, Utah-1888 ServerSHERIDAN Dine In 2 Bullet 12.00 Water SUB.00 Tax 11.04. 04Ticket90 << 6/20/2019 € 18 18 Py Thanks for coming a\n",
      "['1210', '1888', '12', '00', '00', '11', '04', '04', '90', '6/20/2019', '18 18']\n"
     ]
    },
    {
     "name": "stderr",
     "output_type": "stream",
     "text": [
      "\n",
      "\n",
      " 68%|██████████████████████████████████████████████████████▍                         | 405/595 [21:33<11:13,  3.54s/it]"
     ]
    },
    {
     "name": "stdout",
     "output_type": "stream",
     "text": [
      "C:\\Users\\amar\\Downloads\\Receipts\\b517f1ae.jpeg\n",
      "‘ 10 BAKERS & a om . SHOP. W0-G2-610 SECTION ony eT 5 HARISH SAPPHIRE MALL GURUGRAM- GST NO\n",
      "['10', '2-610']\n"
     ]
    },
    {
     "name": "stderr",
     "output_type": "stream",
     "text": [
      "\n",
      "\n",
      " 68%|██████████████████████████████████████████████████████▌                         | 406/595 [21:36<10:46,  3.42s/it]"
     ]
    },
    {
     "name": "stdout",
     "output_type": "stream",
     "text": [
      "C:\\Users\\amar\\Downloads\\Receipts\\b55eba8a.jpeg\n",
      "\n",
      "[]\n"
     ]
    },
    {
     "name": "stderr",
     "output_type": "stream",
     "text": [
      "\n",
      "\n",
      " 68%|██████████████████████████████████████████████████████▋                         | 407/595 [21:38<09:24,  3.00s/it]"
     ]
    },
    {
     "name": "stdout",
     "output_type": "stream",
     "text": [
      "C:\\Users\\amar\\Downloads\\Receipts\\b57a5255.jpeg\n",
      "\n",
      "[]\n"
     ]
    },
    {
     "name": "stderr",
     "output_type": "stream",
     "text": [
      "\n",
      "\n",
      " 69%|██████████████████████████████████████████████████████▊                         | 408/595 [21:40<08:57,  2.88s/it]"
     ]
    },
    {
     "name": "stdout",
     "output_type": "stream",
     "text": [
      "C:\\Users\\amar\\Downloads\\Receipts\\b5e8f967.jpeg\n",
      "\n",
      "[]\n"
     ]
    },
    {
     "name": "stderr",
     "output_type": "stream",
     "text": [
      "\n",
      "\n",
      " 69%|██████████████████████████████████████████████████████▉                         | 409/595 [21:43<08:35,  2.77s/it]"
     ]
    },
    {
     "name": "stdout",
     "output_type": "stream",
     "text": [
      "C:\\Users\\amar\\Downloads\\Receipts\\b666ee43.jpeg\n",
      "»Mat Nu Stapp tourney ‘National Moradabad bareilly\n",
      "[]\n"
     ]
    },
    {
     "name": "stderr",
     "output_type": "stream",
     "text": [
      "\n",
      "\n",
      " 69%|███████████████████████████████████████████████████████▏                        | 410/595 [21:46<08:34,  2.78s/it]"
     ]
    },
    {
     "name": "stdout",
     "output_type": "stream",
     "text": [
      "C:\\Users\\amar\\Downloads\\Receipts\\b7c49556.jpeg\n",
      "MASTERCARD AUTH TIME; 063519 ACCT ; 96000870152 Term THANK YOU HAVE A NICE DAY\n",
      "['0635', '19', '9600', '0870', '152']\n"
     ]
    },
    {
     "name": "stderr",
     "output_type": "stream",
     "text": [
      "\n",
      "\n",
      " 69%|███████████████████████████████████████████████████████▎                        | 411/595 [21:49<09:23,  3.06s/it]"
     ]
    },
    {
     "name": "stdout",
     "output_type": "stream",
     "text": [
      "C:\\Users\\amar\\Downloads\\Receipts\\b8c01c17.jpeg\n",
      "- 05657 - AES H Bg Arby's5657 E Ash Street Piqua, OH 4 a-8048 3 52 11 pa\"® 1 RB Classic $3. 1 Medium Drink $1. Coke $0. Sub Total Ohio ToGo Tax Order Total Visa C\n",
      "['0565', '5657', '8048', '3 52 11']\n"
     ]
    },
    {
     "name": "stderr",
     "output_type": "stream",
     "text": [
      "\n",
      "\n",
      " 69%|███████████████████████████████████████████████████████▍                        | 412/595 [21:54<10:38,  3.49s/it]"
     ]
    },
    {
     "name": "stdout",
     "output_type": "stream",
     "text": [
      "C:\\Users\\amar\\Downloads\\Receipts\\b8c35020.jpeg\n",
      "Dall Howe Delivery 1 Baltvery Charge, 00 Arment Cat.00 eesThark Yeu For Contegeee Hoe Dal very Ro ah\n",
      "['00', '00']\n"
     ]
    },
    {
     "name": "stderr",
     "output_type": "stream",
     "text": [
      "\n",
      "\n",
      " 69%|███████████████████████████████████████████████████████▌                        | 413/595 [21:57<10:07,  3.34s/it]"
     ]
    },
    {
     "name": "stdout",
     "output_type": "stream",
     "text": [
      "C:\\Users\\amar\\Downloads\\Receipts\\b8cc912d.jpeg\n",
      "Shell Vary Sairae EnterprTal Bhar , RistPune OST Ho. 27ROTPSzSaLANZF 01-07-2019 possi MCEPA | wi69041 $6331 Deli2io Regular Cappuccino 1x Rs. 90.00 Rs. A9OSPOL0 BRIT DAR CAKE CAKE CHOD 1% Rs. 15.00 Rs. 15.00 RED BULL RED EDITION ML i Rs. 95.00 Rs. 75,00 ahs. 0.0 . Rs, 100.00 CABSURY DAIRY MILK FUSE. 456 5 Rs. 35.00\n",
      "['27', '01-07-2019', '6904', '6331', '90', '00', '15', '00', '15', '00', '95', '00', '75,00', '100', '00', '456', '35', '00']\n"
     ]
    },
    {
     "name": "stderr",
     "output_type": "stream",
     "text": [
      "\n",
      "\n",
      " 70%|███████████████████████████████████████████████████████▋                        | 414/595 [22:01<10:27,  3.46s/it]"
     ]
    },
    {
     "name": "stdout",
     "output_type": "stream",
     "text": [
      "C:\\Users\\amar\\Downloads\\Receipts\\b9130266.jpeg\n",
      "653 fable Cvr Stw 0 aty. Rate Amourtt.00.00 eR Sak TOSSED CHICKEN. 1.00.00AND PEPER CHICKE 1.00.00.00.00\n",
      "['653', '00', '00', '00', '00', '00', '00', '00', '00']\n"
     ]
    },
    {
     "name": "stderr",
     "output_type": "stream",
     "text": [
      "\n",
      "\n",
      " 70%|███████████████████████████████████████████████████████▊                        | 415/595 [22:04<10:42,  3.57s/it]"
     ]
    },
    {
     "name": "stdout",
     "output_type": "stream",
     "text": [
      "C:\\Users\\amar\\Downloads\\Receipts\\bac3fe9e.jpeg\n",
      "1 CASH BILL SRI LAKSH Sweets & Snacks3166, Tarasu Road, 1st Main, al\n",
      "['3166']\n"
     ]
    },
    {
     "name": "stderr",
     "output_type": "stream",
     "text": [
      "\n",
      "\n",
      " 70%|███████████████████████████████████████████████████████▉                        | 416/595 [22:08<10:50,  3.64s/it]"
     ]
    },
    {
     "name": "stdout",
     "output_type": "stream",
     "text": [
      "C:\\Users\\amar\\Downloads\\Receipts\\badf0c6e.jpeg\n",
      "\n",
      "[]\n"
     ]
    },
    {
     "name": "stderr",
     "output_type": "stream",
     "text": [
      "\n",
      "\n",
      " 70%|████████████████████████████████████████████████████████                        | 417/595 [22:11<10:13,  3.45s/it]"
     ]
    },
    {
     "name": "stdout",
     "output_type": "stream",
     "text": [
      "C:\\Users\\amar\\Downloads\\Receipts\\bb958b7f.jpeg\n",
      "\\ Particulars ty fate 1 6.00% j6.00% 4 CAMLIN 1 40.76 alls mh -\n",
      "['00', '00', '1 40', '76']\n"
     ]
    },
    {
     "name": "stderr",
     "output_type": "stream",
     "text": [
      "\n",
      "\n",
      " 70%|████████████████████████████████████████████████████████▏                       | 418/595 [22:14<09:45,  3.31s/it]"
     ]
    },
    {
     "name": "stdout",
     "output_type": "stream",
     "text": [
      "C:\\Users\\amar\\Downloads\\Receipts\\bbe8febc.jpeg\n",
      "VELAN HOTELS LTD 41, KANGAYAN ROAD TIRUEUR-421-43 11 StateTAMIL MADU TAX INVOICE Bill NoRSBILLS3e Bill/06/19 06 06 36 pa Room No Steward Cever RAMASAMY 2 Tien Fame Qty Rate Asunt cone oe 14.40 Round Off 0,20 Bill Amount.00 — aR5 one Mundred Guest rite, ASNUTORN ‘TIWARI Room Ho\n",
      "['41', '421', '43 11', '06/19 06', '06 36', '14', '40', '0,20', '00']\n"
     ]
    },
    {
     "name": "stderr",
     "output_type": "stream",
     "text": [
      "\n",
      "\n",
      " 70%|████████████████████████████████████████████████████████▎                       | 419/595 [22:19<10:43,  3.65s/it]"
     ]
    },
    {
     "name": "stdout",
     "output_type": "stream",
     "text": [
      "C:\\Users\\amar\\Downloads\\Receipts\\bd30660c.jpeg\n",
      "1660 India Street ServerJake Table 24/1 G] Karma Cab Sauv &] Douglass Green SB PKLI Green Curry Scallops PKLI Piri Piri Chicken Subtotal Tax Surcharge 3.75% SC* Total Balance Due 12/17/2017 6 29 PM 12.00 11.00 27.95 23.75 74.70 6.00 2.80 83.50 83 .50 *3.75% SC - In support of the increases to min wage To find out why, visit waw.wnlhosp.com/rttd\n",
      "['1660', '24', '75', '12/17/2017', '6 29', '12', '00 11', '00 27', '95 23', '75 74', '70', '00', '80 83', '50 83', '50', '75']\n"
     ]
    },
    {
     "name": "stderr",
     "output_type": "stream",
     "text": [
      "\n",
      "\n",
      " 71%|████████████████████████████████████████████████████████▍                       | 420/595 [22:24<11:53,  4.08s/it]"
     ]
    },
    {
     "name": "stdout",
     "output_type": "stream",
     "text": [
      "C:\\Users\\amar\\Downloads\\Receipts\\bdc0019f.jpeg\n",
      "\n",
      "[]\n"
     ]
    },
    {
     "name": "stderr",
     "output_type": "stream",
     "text": [
      "\n",
      "\n",
      " 71%|████████████████████████████████████████████████████████▌                       | 421/595 [22:26<10:02,  3.46s/it]"
     ]
    },
    {
     "name": "stdout",
     "output_type": "stream",
     "text": [
      "C:\\Users\\amar\\Downloads\\Receipts\\be838c96.jpeg\n",
      "UK suannanennnas een a BID WE NAIL IT, “einer dk ura ™ Onin an euaaeaeg homedepat con Awurey “ital erase” ie be, Jertencl wt their, ™ “Sane\n",
      "[]\n"
     ]
    },
    {
     "name": "stderr",
     "output_type": "stream",
     "text": [
      "\n",
      "\n",
      " 71%|████████████████████████████████████████████████████████▋                       | 422/595 [22:29<09:27,  3.28s/it]"
     ]
    },
    {
     "name": "stdout",
     "output_type": "stream",
     "text": [
      "C:\\Users\\amar\\Downloads\\Receipts\\beeb9566.jpeg\n",
      "pan Aftunio1900294Hah ees, IX\n",
      "['1900', '294']\n"
     ]
    },
    {
     "name": "stderr",
     "output_type": "stream",
     "text": [
      "\n",
      "\n",
      " 71%|████████████████████████████████████████████████████████▊                       | 423/595 [22:31<08:26,  2.94s/it]"
     ]
    },
    {
     "name": "stdout",
     "output_type": "stream",
     "text": [
      "C:\\Users\\amar\\Downloads\\Receipts\\bf0ce2ba.jpeg\n",
      "WELCOME TO OUR STORE Gul f-02 G.C.P EAST ELMHURST NY Description Qty Amount REGULAR 2.937G 9.57.259/ & Subtotal 9.57 Tax 0.00 TOTAL VISA Entry MethodSwiped Storeeetseese SITE TERMINAL g.* TILL XXXX 06/20/19 18 48 12 93.57 CREDIT $ 9.57\n",
      "['02', '937', '57', '259', '57', '00', '06/20/19', '18 48 12', '93', '57', '57']\n"
     ]
    },
    {
     "name": "stderr",
     "output_type": "stream",
     "text": [
      "\n",
      "\n",
      " 71%|█████████████████████████████████████████████████████████                       | 424/595 [22:37<10:46,  3.78s/it]"
     ]
    },
    {
     "name": "stdout",
     "output_type": "stream",
     "text": [
      "C:\\Users\\amar\\Downloads\\Receipts\\c19fc15f.jpeg\n",
      "Lan Sheng Paterson Ave. Wallington N. J. 07057 ql.773.7100.775\" [ B2 ] Dine ServerMary 06/13/17 17 Pp.2 Person 08 38 PM - 0 1 Spy Chon wy cut° oStyy. $18.95 . 2 i\n",
      "['0705', '773', '7100', '775', '06/13/17', '17', '08 38', '18', '95']\n"
     ]
    },
    {
     "name": "stderr",
     "output_type": "stream",
     "text": [
      "\n",
      "\n",
      " 71%|█████████████████████████████████████████████████████████▏                      | 425/595 [22:41<11:40,  4.12s/it]"
     ]
    },
    {
     "name": "stdout",
     "output_type": "stream",
     "text": [
      "C:\\Users\\amar\\Downloads\\Receipts\\c1c6a9fa.jpeg\n",
      "Firefly American Bistro New Albany Road West New Albany, OH ServerHarry 4 12/28/18 7 54 PM 5 Table 24 Walbec Trivento $8.00 Blood Orange Marg $9.00 Cup Italian Wedding Soup $2.95 * Spaghetti Marinara $17.95 Add One MeatbalAdd Two Meatball Fettuccine Alfredo $23.95 Add Steak Small Wedge SaladDinner$4.95 Creme Brulee $4.00 Baileys $7.00 oat $77.80$5.84 Total $83.64 Come See Us Again\n",
      "['4 12/28', '18 7 54', '24', '00', '00', '95', '17', '95', '23', '95', '95', '00', '00', '77', '80', '84', '83', '64']\n"
     ]
    },
    {
     "name": "stderr",
     "output_type": "stream",
     "text": [
      "\n",
      "\n",
      " 72%|█████████████████████████████████████████████████████████▎                      | 426/595 [22:45<11:13,  3.99s/it]"
     ]
    },
    {
     "name": "stdout",
     "output_type": "stream",
     "text": [
      "C:\\Users\\amar\\Downloads\\Receipts\\c2195ac8.jpeg\n",
      "CHLOEB1 81 Ludlow st New York, NY Tel-0087 Check NameHWANG,HYUN ServerBar/03/18 2 HOUSE VODKA 1 HOUSE TEQUILA GratuityAnt DueVisa EMV\n",
      "['1 81', '0087', '03/18']\n"
     ]
    },
    {
     "name": "stderr",
     "output_type": "stream",
     "text": [
      "\n",
      "\n",
      " 72%|█████████████████████████████████████████████████████████▍                      | 427/595 [22:49<10:41,  3.82s/it]"
     ]
    },
    {
     "name": "stdout",
     "output_type": "stream",
     "text": [
      "C:\\Users\\amar\\Downloads\\Receipts\\c22e84bf.jpeg\n",
      "STARBUCKS Store Shelburne Rd South Burlington, VT802651-0629 CHK 06/07/2019 10 12 ms Gr Visa XOOCOOONETO Subtotal% ~ Food & Bev Tota Change Due ~~ Check Closed 06/07/2019 10 12 aM Join our loyaloly loyalty progran ‘Sion up for promotional esails V sit Starbucks .com/rewaGr download cur app At participating stores Some restrictions apply\n",
      "['8026', '51-0629', '06/07/2019', '10 12', '06/07/2019', '10 12']\n"
     ]
    },
    {
     "name": "stderr",
     "output_type": "stream",
     "text": [
      "\n",
      "\n",
      " 72%|█████████████████████████████████████████████████████████▌                      | 428/595 [22:53<11:28,  4.12s/it]"
     ]
    },
    {
     "name": "stdout",
     "output_type": "stream",
     "text": [
      "C:\\Users\\amar\\Downloads\\Receipts\\c2c2d4ba.jpeg\n",
      "Phonehttp//eatpitapita.com/default To Go Emp]Mohammad H. 5/4/2017 4 10 PM 20 Mixed Meat Lunch.00 1 Reg 12pe Falafel 6.50 1 Reg 12pe Falafel 6.50 1 Miscelanceous 20.00 Subtotal.00 Tax 15.92 Total.92 Visa Payment.92 Tip Total — w** Guest Copy* Jennifer a\n",
      "['5/4/2017', '4 10', '20', '00', '12', '50', '12', '50', '20', '00', '00', '15', '92', '92', '92']\n"
     ]
    },
    {
     "name": "stderr",
     "output_type": "stream",
     "text": [
      "\n",
      "\n",
      " 72%|█████████████████████████████████████████████████████████▋                      | 429/595 [22:58<12:07,  4.39s/it]"
     ]
    },
    {
     "name": "stdout",
     "output_type": "stream",
     "text": [
      "C:\\Users\\amar\\Downloads\\Receipts\\c43f882f.jpeg\n",
      "NEAR HOTEL MERILAND, OPP .HETRO ZIRZKPUR AMBALA ROAD, 211 GSTIN. enalnukkardhabazkp gaal.con BILL/069TM16 37 39 STE | GYPRICEAMONT “1a 1 1S | 15.0 Tee 1a | ROTSL 56ST 6 2.54G7 CGST 62.5%R6 JOA. GT. Tt TM we. 2 wa\n",
      "['211', '069', '16 37 39', '15', '56', '54', '62']\n"
     ]
    },
    {
     "name": "stderr",
     "output_type": "stream",
     "text": [
      "\n",
      "\n",
      " 72%|█████████████████████████████████████████████████████████▊                      | 430/595 [23:02<11:41,  4.25s/it]"
     ]
    },
    {
     "name": "stdout",
     "output_type": "stream",
     "text": [
      "C:\\Users\\amar\\Downloads\\Receipts\\c4580395.jpeg\n",
      "Walcara to Oiice-fiT-balls soad Fey0risaSrange Fark, Fi804S4r-anT ‘For deale & aoertal affernées i CFAMELLE\n",
      "['804']\n"
     ]
    },
    {
     "name": "stderr",
     "output_type": "stream",
     "text": [
      "\n",
      "\n",
      " 72%|█████████████████████████████████████████████████████████▉                      | 431/595 [23:05<10:35,  3.88s/it]"
     ]
    },
    {
     "name": "stdout",
     "output_type": "stream",
     "text": [
      "C:\\Users\\amar\\Downloads\\Receipts\\c478b53b.jpeg\n",
      "5 SOUTH enn AVE 7 Auto reaensieo Py Value SALE‘MI400008060043 Grand | ta51303. Batch‘S4001 «ARN81282681 A-6430 iveice & 6 APPR CODE VA Ctip | creme SSp— ——— AMOUNT $125.00 TAX $8.76 TOTAL $133.75 Llems CASH APPROVED ——— Scription VISA CREDIT on — 3CELLANEOUS Vee oaw Thank y, Pass Come Again\n",
      "['4000', '0806', '0043', '5130', '4001', '8128', '2681', '6430', '125', '00', '76', '133', '75']\n"
     ]
    },
    {
     "name": "stderr",
     "output_type": "stream",
     "text": [
      "\n",
      "\n",
      " 73%|██████████████████████████████████████████████████████████                      | 432/595 [23:11<11:35,  4.27s/it]"
     ]
    },
    {
     "name": "stdout",
     "output_type": "stream",
     "text": [
      "C:\\Users\\amar\\Downloads\\Receipts\\c4c67f2e.jpeg\n",
      "ORD No POS No total Total AsountBefore.5% 5.71 Bill Amount Payaentste Payte Nusber S.9 0.01.00 Regd Off.F2/7, Ohkla Phase-I, Wow Delt - 110020\n",
      "['71', '01', '00', '1100', '20']\n"
     ]
    },
    {
     "name": "stderr",
     "output_type": "stream",
     "text": [
      "\n",
      "\n",
      " 73%|██████████████████████████████████████████████████████████▏                     | 433/595 [23:14<11:13,  4.16s/it]"
     ]
    },
    {
     "name": "stdout",
     "output_type": "stream",
     "text": [
      "C:\\Users\\amar\\Downloads\\Receipts\\c5264903.jpeg\n",
      "Dina in 3 1 Jugo de Chinola Dine in 160z 4.00 1 Gratuity. 6 Additional-Tip Tota Charges 15% tip 1s 7.57 18% tip is 9.09 20% tip is 10.10 2% tip is 11.11 Thank you for Coning | Gracias por sy Vici a\n",
      "['160', '00', '15', '57 18', '09 20', '10', '10', '11', '11']\n"
     ]
    },
    {
     "name": "stderr",
     "output_type": "stream",
     "text": [
      "\n",
      "\n",
      " 73%|██████████████████████████████████████████████████████████▎                     | 434/595 [23:18<10:28,  3.90s/it]"
     ]
    },
    {
     "name": "stdout",
     "output_type": "stream",
     "text": [
      "C:\\Users\\amar\\Downloads\\Receipts\\c532025f.jpeg\n",
      "a el 5 bay Fh coza4hatans, TX ale Hh os re cE a wna 06/30/19 10 26PM “AH eee ‘oa\n",
      "['06/30/19', '10 26']\n"
     ]
    },
    {
     "name": "stderr",
     "output_type": "stream",
     "text": [
      "\n",
      "\n",
      " 73%|██████████████████████████████████████████████████████████▍                     | 435/595 [23:21<09:37,  3.61s/it]"
     ]
    },
    {
     "name": "stdout",
     "output_type": "stream",
     "text": [
      "C:\\Users\\amar\\Downloads\\Receipts\\c660b2f7.jpeg\n",
      "DIAMOND STORE\n",
      "[]\n"
     ]
    },
    {
     "name": "stderr",
     "output_type": "stream",
     "text": [
      "\n",
      "\n",
      " 73%|██████████████████████████████████████████████████████████▌                     | 436/595 [23:24<08:56,  3.37s/it]"
     ]
    },
    {
     "name": "stdout",
     "output_type": "stream",
     "text": [
      "C:\\Users\\amar\\Downloads\\Receipts\\c69d5a43.jpeg\n",
      "HARATA sine Family Restaurant Floor,Trade Centre Hostel Road,Hangalore 1,2441526 54 W.No. 24 Qty Rate Amount E.a0.E. Thank You Visit Again\n",
      "['1,2441', '526', '54', '24']\n"
     ]
    },
    {
     "name": "stderr",
     "output_type": "stream",
     "text": [
      "\n",
      "\n",
      " 73%|██████████████████████████████████████████████████████████▊                     | 437/595 [23:29<10:19,  3.92s/it]"
     ]
    },
    {
     "name": "stdout",
     "output_type": "stream",
     "text": [
      "C:\\Users\\amar\\Downloads\\Receipts\\c6b7675c.jpeg\n",
      "Pak Mari ‘3245 PEACHTREE PKNY. STE MEE. GA-3787 Hershast 1D Tera H682Stare a1 Goes ef Br Sale AAXXANANT 63 VISA Entry MethodChip Total§ 11.50 E 97/0319 15 28 37 Inv fivpr Code051220Transaction ApprvdOnline Batch&0024 CHASE Visa eau Customer Cony THANK YOU\n",
      "['3245', '3787', '682', '63', '11', '50', '97/0319', '15 28 37', '0512', '20', '0024']\n"
     ]
    },
    {
     "name": "stderr",
     "output_type": "stream",
     "text": [
      "\n",
      "\n",
      " 74%|██████████████████████████████████████████████████████████▉                     | 438/595 [23:32<09:52,  3.78s/it]"
     ]
    },
    {
     "name": "stdout",
     "output_type": "stream",
     "text": [
      "C:\\Users\\amar\\Downloads\\Receipts\\c6f12b50.jpeg\n",
      "e16216 10/05/19 Stewards PRADEE ce Be\n",
      "['1621', '6 10/05', '19']\n"
     ]
    },
    {
     "name": "stderr",
     "output_type": "stream",
     "text": [
      "\n",
      "\n",
      " 74%|███████████████████████████████████████████████████████████                     | 439/595 [23:35<09:06,  3.50s/it]"
     ]
    },
    {
     "name": "stdout",
     "output_type": "stream",
     "text": [
      "C:\\Users\\amar\\Downloads\\Receipts\\c70f7dac.jpeg\n",
      "AL SALES.750008AMOUNT TENDERED Visa SALE APPLCHASE VISA ENTRY METHODINSERT feet TVR Trans ae 6/3/2019 eae 43 Traneommente\\TNGuIE-7711 or. Commentsatudsongroup Com Thank you for shopping with us. me\n",
      "['7500', '08', '6/3/2019', '43', '7711']\n"
     ]
    },
    {
     "name": "stderr",
     "output_type": "stream",
     "text": [
      "\n",
      "\n",
      " 74%|███████████████████████████████████████████████████████████▏                    | 440/595 [23:40<10:12,  3.95s/it]"
     ]
    },
    {
     "name": "stdout",
     "output_type": "stream",
     "text": [
      "C:\\Users\\amar\\Downloads\\Receipts\\c7323e60.jpeg\n",
      "GST IW NO. O7AI TivoieNo. 1134300078229 GOBERSarita § Chk ViMay\"19 14 05 Dine In | Big 8 M~Vew 4 Piece HC 4PC Sency Red 2 Med Frias Bur Hojito 1UBFnP Hed Frias Hojitc 2 Veg Zinger 2 UB Fn P 2 Med Frias\n",
      "['1134', '3000', '7822', '19 14 05']\n"
     ]
    },
    {
     "name": "stderr",
     "output_type": "stream",
     "text": [
      "\n",
      "\n",
      " 74%|███████████████████████████████████████████████████████████▎                    | 441/595 [23:44<10:25,  4.06s/it]"
     ]
    },
    {
     "name": "stdout",
     "output_type": "stream",
     "text": [
      "C:\\Users\\amar\\Downloads\\Receipts\\c7643735.jpeg\n",
      "IN29AACFKO211F12« rea TAX INVOICE CASH / CREDIT Karnataka Plastic Corporation Wholesale Dealers inHOUSE HOLD PLASTIC Goops No. 3, Medarpet,Ragipet Cross , Beng uruany Wo. 10818 pate NL SIF, 1H] * m Nounase Absx Manuacces | Or ht ea 4 LY S % ||\n",
      "['29', '211', '12', '1081']\n"
     ]
    },
    {
     "name": "stderr",
     "output_type": "stream",
     "text": [
      "\n",
      "\n",
      " 74%|███████████████████████████████████████████████████████████▍                    | 442/595 [23:48<10:03,  3.95s/it]"
     ]
    },
    {
     "name": "stdout",
     "output_type": "stream",
     "text": [
      "C:\\Users\\amar\\Downloads\\Receipts\\c78931cf.jpeg\n",
      "Arturos Pizza Kitchen OREGON ROAD Northwood, OH-1641 MASTERCARD AUTH CARDXXK. .. 6771/02/19 09 37 AM APPROVED08052C SERVER TICKET AMOUNT ; $ 99.20 TIP AMOUNTsheeBI\n",
      "['1641', '6771', '02/19 09', '37', '0805', '99', '20']\n"
     ]
    },
    {
     "name": "stderr",
     "output_type": "stream",
     "text": [
      "\n",
      "\n",
      " 74%|███████████████████████████████████████████████████████████▌                    | 443/595 [23:52<10:00,  3.95s/it]"
     ]
    },
    {
     "name": "stdout",
     "output_type": "stream",
     "text": [
      "C:\\Users\\amar\\Downloads\\Receipts\\c87ae05e.jpeg\n",
      "National Hi Authority Of India Se SAC-995745 Toi Pace an oo a apuran Fs To bosth & eratorL6 es I or va Vehicle— pe at Sour Single journey Onlnly of vanfcte 19 ks seul it, 1 at of aa be Enorgancy ry amber Teo\n",
      "['9957', '45', '19']\n"
     ]
    },
    {
     "name": "stderr",
     "output_type": "stream",
     "text": [
      "\n",
      "\n",
      " 75%|███████████████████████████████████████████████████████████▋                    | 444/595 [23:56<10:09,  4.04s/it]"
     ]
    },
    {
     "name": "stdout",
     "output_type": "stream",
     "text": [
      "C:\\Users\\amar\\Downloads\\Receipts\\c89a5476.jpeg\n",
      "Mumbai International Airport put Ltdairport copyAirport Convenience/- oAs2”Rupees Hundred OnlyPer trip GST Reg. No. 27 \"AAECM6285C12F Meru Mobility Tech Pvt. Ltd. Mumbai Airport 22 May, 2019 03 04 AM Receipt NoMMS077716A a Cab No Chauffeur Name ob it-52319 C Mobile ENATUL RAHAMAN THANK YOUsil AGAN\n",
      "['27', '6285', '12', '22 May, 2019', '03 04', '0777', '16', '5231']\n"
     ]
    },
    {
     "name": "stderr",
     "output_type": "stream",
     "text": [
      "\n",
      "\n",
      " 75%|███████████████████████████████████████████████████████████▊                    | 445/595 [24:01<10:57,  4.38s/it]"
     ]
    },
    {
     "name": "stdout",
     "output_type": "stream",
     "text": [
      "C:\\Users\\amar\\Downloads\\Receipts\\c89d1fc8.jpeg\n",
      "BILLANVOICE a“FOR RECIPIENT Invoice-3u1- 2019 meses %. BHOOMATHY anansnare “e . Save Satance 0/ROO1111,00 0,00.00 08 A 1 DLXC CP 2,410.72 0.00 2,926.72 0/R001112 59,00 0.00 2,985.72 0/RO01118.00 0.00 3,351.72 02 A 1 DLXC CP 2,410.72 0.00 5,162.44 0/R001131 38.00 0,00 5,200.44 02 A 1 DLXC CP 2,538.14 0.00 8,338.58 0/RO01143 59.00 0.00 8,397.58 0/RO01152 85.00 0.00 8,482.58 92 A 1 DLXC CP 2,538.14 0,00 11,020.72 Y/ROO1L157 59.00 0.00 11,079.72 Net,079.72.28 0.00 11,369.00.86 0.00 11,825.86.28 0.00 12,115.14.86 0.00 12,572.00 0.00 12,572.00 0.00\n",
      "['2019', '1111', '00 0,00', '00 08', '2,410', '72', '00 2,926', '72', '0011', '12 59,00', '00 2,985', '72', '0111', '00', '00 3,351', '72 02', '2,410', '72', '00 5,162', '44', '0011', '31 38', '00 0,00', '5,200', '44 02', '2,538', '14', '00 8,338', '58', '0114', '3 59', '00', '00 8,397', '58', '0115', '2 85', '00', '00 8,482', '58 92', '2,538', '14 0,00', '11,020', '72', '157', '59', '00', '00 11,079', '72', '079', '72', '28', '00 11,369', '00', '86', '00 11,825', '86', '28', '00 12,115', '14', '86', '00 12,572', '00', '00 12,572', '00', '00']\n"
     ]
    },
    {
     "name": "stderr",
     "output_type": "stream",
     "text": [
      "\n",
      "\n",
      " 75%|███████████████████████████████████████████████████████████▉                    | 446/595 [24:07<11:51,  4.77s/it]"
     ]
    },
    {
     "name": "stdout",
     "output_type": "stream",
     "text": [
      "C:\\Users\\amar\\Downloads\\Receipts\\c8d5b927.jpeg\n",
      "Anjappar Unett nad Artesia Pioneer Blvd Artesia, Ca-1801 www. anjappar a.com Anjappar - Artesia-864 teh SOS*~S« Seat1 ServerDeepthi R 1 Ghee Dosa 7.95 Kid is waiting 1 Anjappar Mutton Meals 14.95 1 Kaldosa 6.95 1 Plain Dosa 6.95\n",
      "['1801', '864', '95', '14', '95', '95', '95']\n"
     ]
    },
    {
     "name": "stderr",
     "output_type": "stream",
     "text": [
      "\n",
      "\n",
      " 75%|████████████████████████████████████████████████████████████                    | 447/595 [24:13<12:19,  5.00s/it]"
     ]
    },
    {
     "name": "stdout",
     "output_type": "stream",
     "text": [
      "C:\\Users\\amar\\Downloads\\Receipts\\c99a6da9.jpeg\n",
      "\n",
      "[]\n"
     ]
    },
    {
     "name": "stderr",
     "output_type": "stream",
     "text": [
      "\n",
      "\n",
      " 75%|████████████████████████████████████████████████████████████▏                   | 448/595 [24:14<09:52,  4.03s/it]"
     ]
    },
    {
     "name": "stdout",
     "output_type": "stream",
     "text": [
      "C:\\Users\\amar\\Downloads\\Receipts\\c9afb011.jpeg\n",
      "Turner Turnpike Mainline Lane 2 TOLL RECEIP Date Time Shift Lane Attendanta Toll Entry WwW. pers cay THANK YOU\n",
      "[]\n"
     ]
    },
    {
     "name": "stderr",
     "output_type": "stream",
     "text": [
      "\n",
      "\n",
      " 75%|████████████████████████████████████████████████████████████▎                   | 449/595 [24:18<09:38,  3.96s/it]"
     ]
    },
    {
     "name": "stdout",
     "output_type": "stream",
     "text": [
      "C:\\Users\\amar\\Downloads\\Receipts\\c9c0da83.jpeg\n",
      "NK TOLL ROAD LIMITEDGST-33AADCROA14P1ZG i Toll plaza Name -Rasampalayamn Section From Km to Km°660 of Ticket No.H82976MZ619 Booth & Operator No.L6 & 60114 Date & Time *17/06/201910 17 PM | Vehicie No. 7TN22DD0448 Type of Vehicle ‘Car,Jeep Type of Journey *Single Journay Fee *Re.45.00 Only for overtoaded vehicle Standard wt. of Vehicle. 7500 Actual wt. of vehicleKyg. 1220 ‘Overloades vehicle Fees -Ris, 0.00 ‘Total Amount Paia Rs. 45.00 WISH YOU SAFE & HAPPY JOURNEY\n",
      "['33', '14', '660', '8297', '619', '6011', '17/06/2019', '10 17', '22', '0448', '45', '00', '7500', '1220', '00', '45', '00']\n"
     ]
    },
    {
     "name": "stderr",
     "output_type": "stream",
     "text": [
      "\n",
      "\n",
      " 76%|████████████████████████████████████████████████████████████▌                   | 450/595 [24:23<10:33,  4.37s/it]"
     ]
    },
    {
     "name": "stdout",
     "output_type": "stream",
     "text": [
      "C:\\Users\\amar\\Downloads\\Receipts\\c9d17f5f.jpeg\n",
      "El Gran Har de Plata Hammocks Bled Miaat, FL-6638 aobar TabBar Tob x » STIL «» Ticket5 « Created4/20/2017 10 13 17 PM/20/2017 10 13 25 PM eu eat yr ADEN Bo\n",
      "['6638', '4/20/2017', '10 13 17', '20/2017', '10 13 25']\n"
     ]
    },
    {
     "name": "stderr",
     "output_type": "stream",
     "text": [
      "\n",
      "\n",
      " 76%|████████████████████████████████████████████████████████████▋                   | 451/595 [24:28<10:26,  4.35s/it]"
     ]
    },
    {
     "name": "stdout",
     "output_type": "stream",
     "text": [
      "C:\\Users\\amar\\Downloads\\Receipts\\c9e60c74.jpeg\n",
      "3880 © SLAL wayin HOZTO PHONE-588-1607 Me aot REG CASHIER 11-24-2017 PM 99.01 B CHZ B SPC tm pickles F FRIES - LRG PLEASE HELP US SERVE YOU BETTER\n",
      "['3880', '588', '1607', '11-24-2017', '99', '01']\n"
     ]
    },
    {
     "name": "stderr",
     "output_type": "stream",
     "text": [
      "\n",
      "\n",
      " 76%|████████████████████████████████████████████████████████████▊                   | 452/595 [24:31<09:39,  4.05s/it]"
     ]
    },
    {
     "name": "stdout",
     "output_type": "stream",
     "text": [
      "C:\\Users\\amar\\Downloads\\Receipts\\ca7a837e.jpeg\n",
      "| “CINUSS200Mi992PT GANGA FAST FOOD Tunga MIDC Central Road\n",
      "['200', '992']\n"
     ]
    },
    {
     "name": "stderr",
     "output_type": "stream",
     "text": [
      "\n",
      "\n",
      " 76%|████████████████████████████████████████████████████████████▉                   | 453/595 [24:35<09:29,  4.01s/it]"
     ]
    },
    {
     "name": "stdout",
     "output_type": "stream",
     "text": [
      "C:\\Users\\amar\\Downloads\\Receipts\\cb4b0752.jpeg\n",
      "onl THUnU im f 9. cE ESIA one . taltench < Lecre\n",
      "[]\n"
     ]
    },
    {
     "name": "stderr",
     "output_type": "stream",
     "text": [
      "\n",
      "\n",
      " 76%|█████████████████████████████████████████████████████████████                   | 454/595 [24:39<09:19,  3.97s/it]"
     ]
    },
    {
     "name": "stdout",
     "output_type": "stream",
     "text": [
      "C:\\Users\\amar\\Downloads\\Receipts\\cbd9ab5e.jpeg\n",
      "Mihaiskar Infrastructure Pvt. Ltd. SHILPHATA TOLL PLAZA Notif.No.§.0.1429EDated 5-9-06 GST No.27AADCM939691Z4Single JourneyTrNo. —190712010400344/Jul/201S 10 02 08 Valid TillClassThree Wheeler/CAR/Auto FareRs. 35.00/- Rego3265 FromSHILPHATA To- Towards Pune\n",
      "['1429', '5-9-06', '27', '9396', '91', '1907', '1201', '0400', '344', 'Jul/201', '10 02 08', '35', '00', '3265']\n"
     ]
    },
    {
     "name": "stderr",
     "output_type": "stream",
     "text": [
      "\n",
      "\n",
      " 76%|█████████████████████████████████████████████████████████████▏                  | 455/595 [24:43<09:22,  4.02s/it]"
     ]
    },
    {
     "name": "stdout",
     "output_type": "stream",
     "text": [
      "C:\\Users\\amar\\Downloads\\Receipts\\cc3853bf.jpeg\n",
      "Evil Caech Brewery 5M-855-3070 ‘33 N Main Street SM-O5-2070/25/2019 Magnetic cord present Card Entry fwant$7.6 * Tip0Total3 2.¥Y 1 agree to vay the above total amount «cording to the card 4 es\n",
      "['855', '3070', '33', '5-2070', '25/2019']\n"
     ]
    },
    {
     "name": "stderr",
     "output_type": "stream",
     "text": [
      "\n",
      "\n",
      " 77%|█████████████████████████████████████████████████████████████▎                  | 456/595 [24:47<09:33,  4.12s/it]"
     ]
    },
    {
     "name": "stdout",
     "output_type": "stream",
     "text": [
      "C:\\Users\\amar\\Downloads\\Receipts\\ccd6f8f5.jpeg\n",
      "TOOL DEPOT 11TH ST SW ; SPENCER IA-586-4445 Ter inal 1D©*270 6/1/19 VISA CREDIT - INSERT ACCT; wieiemcice CREDIT SALE ‘AMOUNT $60.01 | APPROVED CUSTOMER Copy\n",
      "['11', '586', '4445', '270', '6/1/19', '60', '01']\n"
     ]
    },
    {
     "name": "stderr",
     "output_type": "stream",
     "text": [
      "\n",
      "\n",
      " 77%|█████████████████████████████████████████████████████████████▍                  | 457/595 [24:52<09:51,  4.28s/it]"
     ]
    },
    {
     "name": "stdout",
     "output_type": "stream",
     "text": [
      "C:\\Users\\amar\\Downloads\\Receipts\\cce28d60.jpeg\n",
      "\n",
      "[]\n"
     ]
    },
    {
     "name": "stderr",
     "output_type": "stream",
     "text": [
      "\n",
      "\n",
      " 77%|█████████████████████████████████████████████████████████████▌                  | 458/595 [24:56<09:21,  4.10s/it]"
     ]
    },
    {
     "name": "stdout",
     "output_type": "stream",
     "text": [
      "C:\\Users\\amar\\Downloads\\Receipts\\cd2e80f2.jpeg\n",
      "CARL'S JR-3415 MADISON AVE FAIR OAKS, CA Register 1 Order 1s Terdared 12/19/2016 7 42 42 PH / 3625 § Santa Fe Sca Sub Total Discounts Tax Total Credit Change\n",
      "['3415', '12/19/2016', '7 42 42', '3625']\n"
     ]
    },
    {
     "name": "stderr",
     "output_type": "stream",
     "text": [
      "\n",
      "\n",
      " 77%|█████████████████████████████████████████████████████████████▋                  | 459/595 [24:59<08:57,  3.95s/it]"
     ]
    },
    {
     "name": "stdout",
     "output_type": "stream",
     "text": [
      "C:\\Users\\amar\\Downloads\\Receipts\\cdac31b4.jpeg\n",
      "H OTEL PURE VEG. Wo. 77424 BHAGYODAY BillNo. 75 National Highway No. 8, Opp. B. P. Pump, Bichivada, Rajasthan\n",
      "['7742', '75']\n"
     ]
    },
    {
     "name": "stderr",
     "output_type": "stream",
     "text": [
      "\n",
      "\n",
      " 77%|█████████████████████████████████████████████████████████████▊                  | 460/595 [25:03<08:33,  3.81s/it]"
     ]
    },
    {
     "name": "stdout",
     "output_type": "stream",
     "text": [
      "C:\\Users\\amar\\Downloads\\Receipts\\ce4ec734.jpeg\n",
      "SESE EERE EEE EEEEEEE EEE EEE REED L 1 Tavern Hermosa Beach fermoga Beachatten Beach, CA 01/12/19 1 23 PM Waiter 80 Sophie Table Cust 1 Order EEE eee 1 BIL BEER 5.00 1 BRUSSELS SPROUTS 8.00 1 CANTONESE TENDERS 11,00 1 GRILLED CHEESE 12.00 1 $ ADD GARLIC FRIES 4.50.50 Sub-total40.50.85 Total.35 THANK YOUALWAYS DRIVE SAFELY Please visit our websitewww. laureltavern.com INSTAGRAMlaureltavern\n",
      "['01/12/19', '1 23', '80', '00', '00', '11,00', '12', '00', '50', '50', '40', '50', '85', '35']\n"
     ]
    },
    {
     "name": "stderr",
     "output_type": "stream",
     "text": [
      "\n",
      "\n",
      " 77%|█████████████████████████████████████████████████████████████▉                  | 461/595 [25:09<09:47,  4.39s/it]"
     ]
    },
    {
     "name": "stdout",
     "output_type": "stream",
     "text": [
      "C:\\Users\\amar\\Downloads\\Receipts\\cec4ecc5.jpeg\n",
      "\\ Rows Le Chabot December 29, 2018 Roag 2 01 Py Castro Valley, cA ee y z ime AID A0 00 00 10 10 — wo Pte Bax $13.50 — Regular, Avocado51.00LZ $13.50 7 Castro Valley Saies Tay $1.25 Saree we $1.48 ¢ a... A as Visa 0642Chip$16.23\n",
      "['December 29, 2018', '2 01', '0 00 00', '10 10', '13', '50', '51', '00', '13', '50', '25', '48', '0642', '16', '23']\n"
     ]
    },
    {
     "name": "stderr",
     "output_type": "stream",
     "text": [
      "\n",
      "\n",
      " 78%|██████████████████████████████████████████████████████████████                  | 462/595 [25:15<10:43,  4.84s/it]"
     ]
    },
    {
     "name": "stdout",
     "output_type": "stream",
     "text": [
      "C:\\Users\\amar\\Downloads\\Receipts\\cec9988c.jpeg\n",
      "/ SASKA'S Mission Blvd San Diego CA-731108/15/2017 5 51 PM Make Tt Blue Add Lobster CX 65.00Whistle Pig Rye.002 BM0D Up “Duke” 1602 Top Sirloin Make It Blue BShud~ aeeses of Subtotal Tax si 2s Total.4 Balance Due.94 SUGGESTED TIP BEFORE DISCOUNTS 16%$30.06 20%$33.40 22% 436.74\n",
      "['7311', '08/15/2017', '5 51', '65', '00', '002', '1602', '94', '16', '30', '06 20', '33', '40 22', '436', '74']\n"
     ]
    },
    {
     "name": "stderr",
     "output_type": "stream",
     "text": [
      "\n",
      "\n",
      " 78%|██████████████████████████████████████████████████████████████▎                 | 463/595 [25:20<11:03,  5.03s/it]"
     ]
    },
    {
     "name": "stdout",
     "output_type": "stream",
     "text": [
      "C:\\Users\\amar\\Downloads\\Receipts\\cf332c79.jpeg\n",
      "—Tall.00 ks, Issue, Ai\n",
      "['00']\n"
     ]
    },
    {
     "name": "stderr",
     "output_type": "stream",
     "text": [
      "\n",
      "\n",
      " 78%|██████████████████████████████████████████████████████████████▍                 | 464/595 [25:22<09:07,  4.18s/it]"
     ]
    },
    {
     "name": "stdout",
     "output_type": "stream",
     "text": [
      "C:\\Users\\amar\\Downloads\\Receipts\\cf78f2b0.jpeg\n",
      "an aa a ad 3 eA LE SETA S\n",
      "[]\n"
     ]
    },
    {
     "name": "stderr",
     "output_type": "stream",
     "text": [
      "\n",
      "\n",
      " 78%|██████████████████████████████████████████████████████████████▌                 | 465/595 [25:25<08:27,  3.90s/it]"
     ]
    },
    {
     "name": "stdout",
     "output_type": "stream",
     "text": [
      "C:\\Users\\amar\\Downloads\\Receipts\\cf7b1404.jpeg\n",
      "— wee PIERCE TON IN ALLONS 11.494 t/b $ 2.859 UEL SALE $ 32.86 CREDIT $32.86 VISA HHH eM HEANAOOD Entry MethodSwiped Resp StoreHKKHEARRAAKE RERE SITE TERMINAL THANK YOU HAVE A NICE DAY\n",
      "['11', '494', '859', '32', '86', '32', '86']\n"
     ]
    },
    {
     "name": "stderr",
     "output_type": "stream",
     "text": [
      "\n",
      "\n",
      " 78%|██████████████████████████████████████████████████████████████▋                 | 466/595 [25:30<09:07,  4.25s/it]"
     ]
    },
    {
     "name": "stdout",
     "output_type": "stream",
     "text": [
      "C:\\Users\\amar\\Downloads\\Receipts\\cf964a62.jpeg\n",
      "Moonstar Restaurant be] lert ity, CA P wom\\ ae “TOL| 37.37 LN 10/29/2018 1 00.00 62.63\n",
      "['37', '37', '10/29/2018', '1 00', '00 62', '63']\n"
     ]
    },
    {
     "name": "stderr",
     "output_type": "stream",
     "text": [
      "\n",
      "\n",
      " 78%|██████████████████████████████████████████████████████████████▊                 | 467/595 [25:34<08:48,  4.13s/it]"
     ]
    },
    {
     "name": "stdout",
     "output_type": "stream",
     "text": [
      "C:\\Users\\amar\\Downloads\\Receipts\\d022521e.jpeg\n",
      "Guant Gignatare ‘Giarks inn, Gurgaon Pree Nes 6-46, Cid jen Comaten Cos es ree Tmt are a Mean We emit\n",
      "['6-46']\n"
     ]
    },
    {
     "name": "stderr",
     "output_type": "stream",
     "text": [
      "\n",
      "\n",
      " 79%|██████████████████████████████████████████████████████████████▉                 | 468/595 [25:37<07:45,  3.67s/it]"
     ]
    },
    {
     "name": "stdout",
     "output_type": "stream",
     "text": [
      "C:\\Users\\amar\\Downloads\\Receipts\\d02db5bc.jpeg\n",
      "gp aa Ble, Un uleadeg 4 Bi ete | alan 06/17/19 03°% ~ a aPuu\n",
      "['06/17/19', '03']\n"
     ]
    },
    {
     "name": "stderr",
     "output_type": "stream",
     "text": [
      "\n",
      "\n",
      " 79%|███████████████████████████████████████████████████████████████                 | 469/595 [25:40<07:11,  3.42s/it]"
     ]
    },
    {
     "name": "stdout",
     "output_type": "stream",
     "text": [
      "C:\\Users\\amar\\Downloads\\Receipts\\d044bade.jpeg\n",
      "15 toate caer Blvd Bellflower, CA Nathalie 2 Ench aeroBEEF ‘ood Opes BEEG Food morn 2 | Biss gat wr ONS\n",
      "['15']\n"
     ]
    },
    {
     "name": "stderr",
     "output_type": "stream",
     "text": [
      "\n",
      "\n",
      " 79%|███████████████████████████████████████████████████████████████▏                | 470/595 [25:43<07:21,  3.54s/it]"
     ]
    },
    {
     "name": "stdout",
     "output_type": "stream",
     "text": [
      "C:\\Users\\amar\\Downloads\\Receipts\\d079725c.jpeg\n",
      "JUICE JUNCTION OEUATHA PL -CASH/I 1 I 2-507 ON.00 a-1U I me.502 ON-00 §.10 £; TOTAL 6ST 10.20 | da BL. TOTROUNDEDCASH bs.00 THANK, YOU. . « Walia | CG WG NO\n",
      "['2-507', '00', '502', '00', '10', '10', '20', '00']\n"
     ]
    },
    {
     "name": "stderr",
     "output_type": "stream",
     "text": [
      "\n",
      "\n",
      " 79%|███████████████████████████████████████████████████████████████▎                | 471/595 [25:48<07:56,  3.85s/it]"
     ]
    },
    {
     "name": "stdout",
     "output_type": "stream",
     "text": [
      "C:\\Users\\amar\\Downloads\\Receipts\\d119364e.jpeg\n",
      "SPEEDWAY e Y 5/5/2019 1 00 PM Pump 14 Regular Unleaded 18,106 ®$2.619/GAL S TOTAL $47.42 CAPTURE INTRY METHODChip ard ISDS 47.42 HASE VISA 66/05/2019 12 57 19 ardholder agrees to pay to issuer total harges per the agreement between ardholder & issuer. SPEEDWAY .COM\n",
      "['5/5/2019', '1 00', '14', '18,106', '619', '47', '42', '47', '42', '66/05/2019', '12 57 19']\n"
     ]
    },
    {
     "name": "stderr",
     "output_type": "stream",
     "text": [
      "\n",
      "\n",
      " 79%|███████████████████████████████████████████████████████████████▍                | 472/595 [25:52<07:48,  3.81s/it]"
     ]
    },
    {
     "name": "stdout",
     "output_type": "stream",
     "text": [
      "C:\\Users\\amar\\Downloads\\Receipts\\d1512e12.jpeg\n",
      "AS REAL AS IT GETS Sutter Street San Francisco CA.590.4199 HostAndrea 06/10/2019 2 34 PH Veguie.55 How're we doingLet us know at ChipotleFeedback.com. Unique code“348 97° Subtotal 8.55 Tax 0.76 DINE IN Total on VISA BXXXXKKXXKXK7EBI an Authorizing... 3a, Balance Due 2 Bathroom athroo hipotle com <q Order online at ©\n",
      "['590', '4199', '06/10/2019', '2 34', '55', '348', '97', '55', '76']\n"
     ]
    },
    {
     "name": "stderr",
     "output_type": "stream",
     "text": [
      "\n",
      "\n",
      " 79%|███████████████████████████████████████████████████████████████▌                | 473/595 [25:56<08:10,  4.02s/it]"
     ]
    },
    {
     "name": "stdout",
     "output_type": "stream",
     "text": [
      "C:\\Users\\amar\\Downloads\\Receipts\\d1796a85.jpeg\n",
      "\n",
      "[]\n"
     ]
    },
    {
     "name": "stderr",
     "output_type": "stream",
     "text": [
      "\n",
      "\n",
      " 80%|███████████████████████████████████████████████████████████████▋                | 474/595 [25:58<06:54,  3.43s/it]"
     ]
    },
    {
     "name": "stdout",
     "output_type": "stream",
     "text": [
      "C:\\Users\\amar\\Downloads\\Receipts\\d1a20345.jpeg\n",
      "\n",
      "[]\n"
     ]
    },
    {
     "name": "stderr",
     "output_type": "stream",
     "text": [
      "\n",
      "\n",
      " 80%|███████████████████████████████████████████████████████████████▊                | 475/595 [26:00<06:04,  3.03s/it]"
     ]
    },
    {
     "name": "stdout",
     "output_type": "stream",
     "text": [
      "C:\\Users\\amar\\Downloads\\Receipts\\d1c36f6e.jpeg\n",
      "Wagyou Like in. on F wel aft your imxt Pedy d\n",
      "[]\n"
     ]
    },
    {
     "name": "stderr",
     "output_type": "stream",
     "text": [
      "\n",
      "\n",
      " 80%|████████████████████████████████████████████████████████████████                | 476/595 [26:04<06:13,  3.14s/it]"
     ]
    },
    {
     "name": "stdout",
     "output_type": "stream",
     "text": [
      "C:\\Users\\amar\\Downloads\\Receipts\\d21be23d.jpeg\n",
      "the Bikers Cafe Unit No PSP C-12/14 Ground Floor » Pale Spring Plaza Gurgaon Tin No. 06711836675 NO. O6AAECTS668A1ZJ ast RESTAURANT 27 Date Table Cvr Stw UID 11/01/19 1 chodan arun - a a Highway Masala Gobhi 1.00.00 Parantha Sub Total 1.00 SERVICE CHARGE®10% 15.00 58 4.13.5% 4.13 KOT No.GO15687\n",
      "['12/14', '0671', '1836', '675', '668', '27', '11/01/19', '00', '00', '00', '10', '15', '00 58', '13', '13', '1568']\n"
     ]
    },
    {
     "name": "stderr",
     "output_type": "stream",
     "text": [
      "\n",
      "\n",
      " 80%|████████████████████████████████████████████████████████████████▏               | 477/595 [26:07<06:18,  3.21s/it]"
     ]
    },
    {
     "name": "stdout",
     "output_type": "stream",
     "text": [
      "C:\\Users\\amar\\Downloads\\Receipts\\d2373192.jpeg\n",
      "Jazz, A Louisiana Kitchen Farnam Street Omaha, NE-3662 ServerDevan/02/2019 07 51 PM 05/02/2019 18/1 3/30174 SALE VISA Magnetic card presentFEHRENBACH GEORGE Card Entry MethodS$ Approval06294D Amount$21.85Gratuity— AGTotalae of - alam I agree to pay the above total amount according to the card issuer agreement. x Qurstgs || ee a——\n",
      "['3662', '02/2019', '07 51', '05/02/2019', '18', '1 3/3017', '0629', '21', '85']\n"
     ]
    },
    {
     "name": "stderr",
     "output_type": "stream",
     "text": [
      "\n",
      "\n",
      " 80%|████████████████████████████████████████████████████████████████▎               | 478/595 [26:12<06:59,  3.59s/it]"
     ]
    },
    {
     "name": "stdout",
     "output_type": "stream",
     "text": [
      "C:\\Users\\amar\\Downloads\\Receipts\\d24165d5.jpeg\n",
      "eae comm Mo FENG Dae aSaver Kitowe MADER etEE fel Fi fi F Eitan \"Tosa cast BOaTaLieRe] wow amutat motonwen we\n",
      "[]\n"
     ]
    },
    {
     "name": "stderr",
     "output_type": "stream",
     "text": [
      "\n",
      "\n",
      " 81%|████████████████████████████████████████████████████████████████▍               | 479/595 [26:15<06:56,  3.59s/it]"
     ]
    },
    {
     "name": "stdout",
     "output_type": "stream",
     "text": [
      "C:\\Users\\amar\\Downloads\\Receipts\\d2aaea28.jpeg\n",
      "FREER ERA EERE EREEELERELE LESS * a Table 54Party . 7 WILLIAM L 8 07p 03/22/13 DINING ROOM TS MAIN DINING 1 BEEFEATER-MARTINI 11.50 1 ROSEMARY CAIPIRINHA 13.00 1 CRABCAKES 17.00 1 BLACK PEPPER BACON 12.00 1 Millenium.00 1 NY SIRLOIN 46 .00 1 BRUSSEL SPROUTS 13.00 1 ESPRESSO 4.50 1 LAUREN’S HAZELNUT TORTE §.00Sub.00 Tax 15.35 Sub.35 03/22 9.35 S\n",
      "['54', '8 07', '03/22/13', '11', '50', '13', '00', '17', '00', '12', '00', '00', '46', '00', '13', '00', '50', '00', '00', '15', '35', '35 03/22', '35']\n"
     ]
    },
    {
     "name": "stderr",
     "output_type": "stream",
     "text": [
      "\n",
      "\n",
      " 81%|████████████████████████████████████████████████████████████████▌               | 480/595 [26:21<08:17,  4.32s/it]"
     ]
    },
    {
     "name": "stdout",
     "output_type": "stream",
     "text": [
      "C:\\Users\\amar\\Downloads\\Receipts\\d310bd8c.jpeg\n",
      "Bharat Petroleum Dealer GUTLETBUNGRUNG SERVICE ST. ADDRESSKAHILIPARA BILL Date&Time 28/06/19 14 02 VEHICLENOT ENTERED Pump&Noz00-1 PRODUCTPETROL ~ RATE\n",
      "['28/06/19', '14 02', '00']\n"
     ]
    },
    {
     "name": "stderr",
     "output_type": "stream",
     "text": [
      "\n",
      "\n",
      " 81%|████████████████████████████████████████████████████████████████▋               | 481/595 [26:24<07:32,  3.97s/it]"
     ]
    },
    {
     "name": "stdout",
     "output_type": "stream",
     "text": [
      "C:\\Users\\amar\\Downloads\\Receipts\\d330054e.jpeg\n",
      "aid “ATT SHOP/SHOMROOA [INVOICE] “3 1/1920/80532 8-05-19 77 14 29\n",
      "['3 1/1920', '8053', '2 8-05', '19 77 14', '29']\n"
     ]
    },
    {
     "name": "stderr",
     "output_type": "stream",
     "text": [
      "\n",
      "\n",
      " 81%|████████████████████████████████████████████████████████████████▊               | 482/595 [26:28<07:28,  3.97s/it]"
     ]
    },
    {
     "name": "stdout",
     "output_type": "stream",
     "text": [
      "C:\\Users\\amar\\Downloads\\Receipts\\d37231f3.jpeg\n",
      "pxcustes er 7 3 business The Hoi jer Tea appreciates Your i Your checkaut was provided by Ellen MEIJER SAVINGS 5.00 ‘SPECIALS 2.00 SAVINGS TOTAL 7.00 YOUR TOTAL SAVINGS SINCE 01/01/19.20 SME GROCERY POTATO 7,86 1 7.94 ib/ 99 4h WINTER SQUASH 7.41 , 13.564 1bilb/ 1.29 BLEAGH 3.19 TSE WHIPPING CREAM zunezemr 7 ‘ 19.95 fromy |” GARLIC enon 3 2s. 5.99 11.98 your acd PRETZEL CRISPS OM YOU\"ryspSstcons HELIER BA <day you\"was 6.49 row 5.49 tution. nPerks Offer yment p5.00 off urCOOworks~~ plusall TOTAL MI 6% Sales Tax 48 TOTAL TAX 8 TOTAL 66.41 Pavan TENDER 66.41 redit/Di «c/Debit APPROVAL CODE DoverUS DEBIT 0 NO CVM REQUIRED rount NUMBER OF TTEMS 2 For information on Meijer return policy visit meijer.com\n",
      "['00', '00', '00', '01/01/19', '20', '7,86', '94', '99', '41', '13', '564', '29', '19', '19', '95', '99 11', '98', '49', '49', '00', '48', '66', '41', '66', '41']\n"
     ]
    },
    {
     "name": "stderr",
     "output_type": "stream",
     "text": [
      "\n",
      "\n",
      " 81%|████████████████████████████████████████████████████████████████▉               | 483/595 [26:35<08:51,  4.75s/it]"
     ]
    },
    {
     "name": "stdout",
     "output_type": "stream",
     "text": [
      "C:\\Users\\amar\\Downloads\\Receipts\\d388a1e0.jpeg\n",
      "$3.29 let Total$17.97 Net Tota 91,06 TaxGet FREE Small French FriesTake our 1-minute survey Within 72 hours MOOYAH.com/survey\n",
      "['29', '17', '97', '91,06', '72']\n"
     ]
    },
    {
     "name": "stderr",
     "output_type": "stream",
     "text": [
      "\n",
      "\n",
      " 81%|█████████████████████████████████████████████████████████████████               | 484/595 [26:39<08:06,  4.38s/it]"
     ]
    },
    {
     "name": "stdout",
     "output_type": "stream",
     "text": [
      "C:\\Users\\amar\\Downloads\\Receipts\\d3df924c.jpeg\n",
      "\n",
      "[]\n"
     ]
    },
    {
     "name": "stderr",
     "output_type": "stream",
     "text": [
      "\n",
      "\n",
      " 82%|█████████████████████████████████████████████████████████████████▏              | 485/595 [26:43<07:48,  4.26s/it]"
     ]
    },
    {
     "name": "stdout",
     "output_type": "stream",
     "text": [
      "C:\\Users\\amar\\Downloads\\Receipts\\d406bbbf.jpeg\n",
      "\n",
      "[]\n"
     ]
    },
    {
     "name": "stderr",
     "output_type": "stream",
     "text": [
      "\n",
      "\n",
      " 82%|█████████████████████████████████████████████████████████████████▎              | 486/595 [26:46<07:22,  4.06s/it]"
     ]
    },
    {
     "name": "stdout",
     "output_type": "stream",
     "text": [
      "C:\\Users\\amar\\Downloads\\Receipts\\d426211c.jpeg\n",
      "Dasani 11. PE SUBTOTAL SALES TAX ON 4.98 Tors DUE wrewernrs APPROVALAPPROVAL TIME G9 2 AID. A00000002507.0801 ENTAYINSERT AMERICAN EXPFESS TC APPROVED GUSTOMER AGREES TO PAY “HE ABOVE TOTAL AMOUNT ACGORDING \"D THE CARD HOLDERS AGREEMEN™ TRY OUR DELI CENTRAL SANDVTCHEAND DEL“CLOUS x T 02 TRIO 96/17/20 .9\n",
      "['11', '98', '0000', '0002', '507', '0801', '02', '96/17/20']\n"
     ]
    },
    {
     "name": "stderr",
     "output_type": "stream",
     "text": [
      "\n",
      "\n",
      " 82%|█████████████████████████████████████████████████████████████████▍              | 487/595 [26:50<07:13,  4.02s/it]"
     ]
    },
    {
     "name": "stdout",
     "output_type": "stream",
     "text": [
      "C:\\Users\\amar\\Downloads\\Receipts\\d464ba5d.jpeg\n",
      "CSA SANHA VAIBHAY ae TY LLP LOXPRIVA GOPIKATH eDOLOI TWTERRATIONAL AIRPORT BURJHAR, GUUAHATI, ASSAM Order GREER/05/2015 8 03 Ae BILL o DATE AMD TIME 27/05/2019 8 13 AK CosaITER ARIA ay ve Ttea Amount swnist ‘CadeNone 1 Chal 6.71 1 Paneer Tikk. Sandwich.00 Total 6.1 COST 6 2.55.5% Grand Total GST M -18AADFCOO7701ZK THANK YOU VISIT AGAINcredit CardVISA\n",
      "['05/2015', '8 03', '27/05/2019', '8 13', '71', '00', '55', '18', '7701']\n"
     ]
    },
    {
     "name": "stderr",
     "output_type": "stream",
     "text": [
      "\n",
      "\n",
      " 82%|█████████████████████████████████████████████████████████████████▌              | 488/595 [26:55<07:32,  4.23s/it]"
     ]
    },
    {
     "name": "stdout",
     "output_type": "stream",
     "text": [
      "C:\\Users\\amar\\Downloads\\Receipts\\d48e2bc0.jpeg\n",
      "CAFE PARISIEN LARCHMONT LLC.N LARCHMONT BLVD LOS ANGELES, CA-8222 Dine in ServerKimberly L. Jan 24,2019 ReceiptYWGS 10 29 AM ——aaa— Item sCROISSANT AUX RAISINS $4.00 Cappucino $4.75 — Subtotal $8.75 Sales.6%$0.83 Total $0.58 Customer Copy—— —— —————\n",
      "['8222', 'Jan 24,2019', '10 29', '00', '75', '75', '83', '58']\n"
     ]
    },
    {
     "name": "stderr",
     "output_type": "stream",
     "text": [
      "\n",
      "\n",
      " 82%|█████████████████████████████████████████████████████████████████▋              | 489/595 [27:00<07:54,  4.48s/it]"
     ]
    },
    {
     "name": "stdout",
     "output_type": "stream",
     "text": [
      "C:\\Users\\amar\\Downloads\\Receipts\\d50224be.jpeg\n",
      "River ViTlage FentlyHuron 8 Rockwood-ServerJasnine 2,99 early bird breakfast spectal Nonday- Friday Tan ~ Gam River village kayaking now oo€f, Sunday Friday/Saturday 7 00en-9\" Pay at the cash register Thank youll\n",
      "['2,99', '7 00']\n"
     ]
    },
    {
     "name": "stderr",
     "output_type": "stream",
     "text": [
      "\n",
      "\n",
      " 82%|█████████████████████████████████████████████████████████████████▉              | 490/595 [27:04<07:45,  4.43s/it]"
     ]
    },
    {
     "name": "stdout",
     "output_type": "stream",
     "text": [
      "C:\\Users\\amar\\Downloads\\Receipts\\d543411c.jpeg\n",
      "Biweees Bs ®186\n",
      "['186']\n"
     ]
    },
    {
     "name": "stderr",
     "output_type": "stream",
     "text": [
      "\n",
      "\n",
      " 83%|██████████████████████████████████████████████████████████████████              | 491/595 [27:06<06:29,  3.74s/it]"
     ]
    },
    {
     "name": "stdout",
     "output_type": "stream",
     "text": [
      "C:\\Users\\amar\\Downloads\\Receipts\\d5beec92.jpeg\n",
      "\n",
      "[]\n"
     ]
    },
    {
     "name": "stderr",
     "output_type": "stream",
     "text": [
      "\n",
      "\n",
      " 83%|██████████████████████████████████████████████████████████████████▏             | 492/595 [27:09<06:03,  3.53s/it]"
     ]
    },
    {
     "name": "stdout",
     "output_type": "stream",
     "text": [
      "C:\\Users\\amar\\Downloads\\Receipts\\d65531e1.jpeg\n",
      "JT's Diner Cook-2100 ServerBraulio 02/12/2016/1 10 28 AM 62.955.90 Two Eggs Any Style 6.95 Whole-Wheat Pancakes 8.95 Hawaiian Sausage 4.50 Subtotal 26.30 Tax 2.10 z 8 & 28.40\n",
      "['2100', '02/12/2016', '1 10 28', '62', '955', '90', '95', '95', '50', '26', '30', '10', '28', '40']\n"
     ]
    },
    {
     "name": "stderr",
     "output_type": "stream",
     "text": [
      "\n",
      "\n",
      " 83%|██████████████████████████████████████████████████████████████████▎             | 493/595 [27:13<06:03,  3.56s/it]"
     ]
    },
    {
     "name": "stdout",
     "output_type": "stream",
     "text": [
      "C:\\Users\\amar\\Downloads\\Receipts\\d717748c.jpeg\n",
      "\n",
      "[]\n"
     ]
    },
    {
     "name": "stderr",
     "output_type": "stream",
     "text": [
      "\n",
      "\n",
      " 83%|██████████████████████████████████████████████████████████████████▍             | 494/595 [27:16<05:39,  3.36s/it]"
     ]
    },
    {
     "name": "stdout",
     "output_type": "stream",
     "text": [
      "C:\\Users\\amar\\Downloads\\Receipts\\d7ddc370.jpeg\n",
      "isa oA die i aooa i mi i * rh\n",
      "[]\n"
     ]
    },
    {
     "name": "stderr",
     "output_type": "stream",
     "text": [
      "\n",
      "\n",
      " 83%|██████████████████████████████████████████████████████████████████▌             | 495/595 [27:18<04:55,  2.96s/it]"
     ]
    },
    {
     "name": "stdout",
     "output_type": "stream",
     "text": [
      "C:\\Users\\amar\\Downloads\\Receipts\\d8601222.jpeg\n",
      "JUICE JUNCTION OUT PAZ EMG ASH TLL na\n",
      "[]\n"
     ]
    },
    {
     "name": "stderr",
     "output_type": "stream",
     "text": [
      "\n",
      "\n",
      " 83%|██████████████████████████████████████████████████████████████████▋             | 496/595 [27:21<04:56,  3.00s/it]"
     ]
    },
    {
     "name": "stdout",
     "output_type": "stream",
     "text": [
      "C:\\Users\\amar\\Downloads\\Receipts\\da0978f5.jpeg\n",
      "Naui Teriyaki Marine Ave $103 Redondo Beach, CA-3500 Phone Order Customer» SETTLED «« 1 Salmon Plate 1 Extra Shriap\n",
      "['103', '3500']\n"
     ]
    },
    {
     "name": "stderr",
     "output_type": "stream",
     "text": [
      "\n",
      "\n",
      " 84%|██████████████████████████████████████████████████████████████████▊             | 497/595 [27:25<05:24,  3.31s/it]"
     ]
    },
    {
     "name": "stdout",
     "output_type": "stream",
     "text": [
      "C:\\Users\\amar\\Downloads\\Receipts\\da1bf674.jpeg\n",
      "\n",
      "[]\n"
     ]
    },
    {
     "name": "stderr",
     "output_type": "stream",
     "text": [
      "\n",
      "\n",
      " 84%|██████████████████████████████████████████████████████████████████▉             | 498/595 [27:27<04:53,  3.03s/it]"
     ]
    },
    {
     "name": "stdout",
     "output_type": "stream",
     "text": [
      "C:\\Users\\amar\\Downloads\\Receipts\\da2bf0dd.jpeg\n",
      "SHELL a7aa COL HW COOK MEM INDIANAPOLIS, IN ge/es/2019 63 16 33 PM REGULAR 7 PRICE/GAL\n",
      "['2019', '63 16 33']\n"
     ]
    },
    {
     "name": "stderr",
     "output_type": "stream",
     "text": [
      "\n",
      "\n",
      " 84%|███████████████████████████████████████████████████████████████████             | 499/595 [27:30<04:42,  2.94s/it]"
     ]
    },
    {
     "name": "stdout",
     "output_type": "stream",
     "text": [
      "C:\\Users\\amar\\Downloads\\Receipts\\da5e3696.jpeg\n",
      "crisfield seafood Restaurant Georgia Ave. Silver Spring. \"020810301589-1306 DENIS bhinis” 8 38 16 PM GUESTS 1 TAKE ¢ OuT Dinner Platters 1 Crisfield Special Platter 27.00 ee COOK MEDIUM Lied Extras 1 Pint Bisque 11.50 SUBTOTAL‘ 38.50 Carry Out 1.93.31 Register 7 ---------—- TOTAL$42.74 Last Serviced 12/29/2017 8 41 08 ™ Thank» You\n",
      "['0208', '1030', '1589', '1306', '8 38 16', '27', '00', '11', '50', '38', '50', '93', '31', '42', '74', '12/29/2017', '8 41 08']\n"
     ]
    },
    {
     "name": "stderr",
     "output_type": "stream",
     "text": [
      "\n",
      "\n",
      " 84%|███████████████████████████████████████████████████████████████████▏            | 500/595 [27:34<04:59,  3.15s/it]"
     ]
    },
    {
     "name": "stdout",
     "output_type": "stream",
     "text": [
      "C:\\Users\\amar\\Downloads\\Receipts\\db0ced42.jpeg\n",
      "Dona Mercedes Restaurant 1/2 San Fernando Rd San Fernando CA Vero CENTER L 1 CHicharon $2.25 3 Pupusa Queso $6.75 1 Platanos Orden $7.75 1 Diet coke $1.50 2 Quesadilla salvadorena $4.00 SUBTOTAL$22.25 TAX$2. 22 TOTAL$24. 47 TIP SUGGESTIONS 18%$4.40 20%$4.89 25%$6.12 Thank You\n",
      "['25', '75', '75', '50', '00', '22', '25', '22', '24', '47', '18', '40 20', '89 25', '12']\n"
     ]
    },
    {
     "name": "stderr",
     "output_type": "stream",
     "text": [
      "\n",
      "\n",
      " 84%|███████████████████████████████████████████████████████████████████▎            | 501/595 [27:37<05:12,  3.33s/it]"
     ]
    },
    {
     "name": "stdout",
     "output_type": "stream",
     "text": [
      "C:\\Users\\amar\\Downloads\\Receipts\\db5b86d1.jpeg\n",
      "Dadi’s Dum Biryani BTM, Bangalore info dadiskitchen.com ordars.dadiadumbiryani.com GST Number29FMQPS865701ZB DINEIN Order-13 dui 1, 2019 11 23 PM lve 38 No. 1BTM00000031 Gei jecd AtJul 1, 2019 11 55 PM Oty tom Rate 1 Tandoori Chicken Half Dac eat E Bryani 2 Sub-Total TaxseiGherges 5% SGST25% NET PAYABLE Payinent Type Invoice Currency INR jaring with us. Have a i chante ordering ‘5 a\n",
      "['29', '8657', '01', '13', '1, 2019', '11 23', '38', '0000', '0031', 'Jul 1, 2019', '11 55', '25']\n"
     ]
    },
    {
     "name": "stderr",
     "output_type": "stream",
     "text": [
      "\n",
      "\n",
      " 84%|███████████████████████████████████████████████████████████████████▍            | 502/595 [27:41<05:20,  3.44s/it]"
     ]
    },
    {
     "name": "stdout",
     "output_type": "stream",
     "text": [
      "C:\\Users\\amar\\Downloads\\Receipts\\dbc70af6.jpeg\n",
      "DEPOT witiceNlaxDAYTON -937454-0080 06/26/2019 8 59 AM nei VTTABPERBY6REHH SALE-2-2044-797485-19.6.2 PAD,OD,8.5X11, 9.69 Coupon - 97522497 “1,93 You Pay 7.7685 RULER, 12\", WOOD.79 8.96 Instant Savings -7.70 You Pau 1.2655 CLPBRD, OD, 3Pk, 287.99 15.98 Coupon - 97522497 3.20 You Paw 12. 78SS COKE CLASSIC Le - 97522497 “0. Coupon You Pau 15s Coupon Number ~ 97622497 Subtotaloe Sales Taxhs 8 Total—s if MasterCard.8 5.88 AUTH CODE 9 TDS Chip Read arp Tyr ONE CAPITAL Be cvs No Signature Reauired '\n",
      "['9374', '54-0080', '06/26/2019', '8 59', '2-2044', '7974', '85-19', '11', '69', '9752', '2497', '1,93', '7685', '12', '79', '96', '70', '2655', '287', '99 15', '98', '9752', '2497', '20', '12', '78', '9752', '2497', '15', '9762', '2497', '88']\n"
     ]
    },
    {
     "name": "stderr",
     "output_type": "stream",
     "text": [
      "\n",
      "\n",
      " 85%|███████████████████████████████████████████████████████████████████▋            | 503/595 [27:45<05:14,  3.42s/it]"
     ]
    },
    {
     "name": "stdout",
     "output_type": "stream",
     "text": [
      "C:\\Users\\amar\\Downloads\\Receipts\\dcd20d5a.jpeg\n",
      "\n",
      "[]\n"
     ]
    },
    {
     "name": "stderr",
     "output_type": "stream",
     "text": [
      "\n",
      "\n",
      " 85%|███████████████████████████████████████████████████████████████████▊            | 504/595 [27:46<04:11,  2.77s/it]"
     ]
    },
    {
     "name": "stdout",
     "output_type": "stream",
     "text": [
      "C:\\Users\\amar\\Downloads\\Receipts\\ddddaf89.jpeg\n",
      "\n",
      "[]\n"
     ]
    },
    {
     "name": "stderr",
     "output_type": "stream",
     "text": [
      "\n",
      "\n",
      " 85%|███████████████████████████████████████████████████████████████████▉            | 505/595 [27:47<03:28,  2.32s/it]"
     ]
    },
    {
     "name": "stdout",
     "output_type": "stream",
     "text": [
      "C:\\Users\\amar\\Downloads\\Receipts\\de279295.jpeg\n",
      "17 BLANDING BLD GReNOE PAA FL INv 8 Local Store Dis Want FREE FUELJoin Fuel Reuards, 411 U-Pouor HiTROand yet 4 chances to dn FREE FUELY fueleuards .con/gold Viektshell.us/uin Please cone again THANK YoU HAVE A NICE DAY\n",
      "['17', '411']\n"
     ]
    },
    {
     "name": "stderr",
     "output_type": "stream",
     "text": [
      "\n",
      "\n",
      " 85%|████████████████████████████████████████████████████████████████████            | 506/595 [27:50<03:38,  2.45s/it]"
     ]
    },
    {
     "name": "stdout",
     "output_type": "stream",
     "text": [
      "C:\\Users\\amar\\Downloads\\Receipts\\de58dc3f.jpeg\n",
      "Chili's Grill 6 Bar Puente Castleton 3t City of Industry.Ca ServerJose S$ 3Guests2 Order TypeDine In TRIPLE DIPPER CHICKEN Suatotal\n",
      "[]\n"
     ]
    },
    {
     "name": "stderr",
     "output_type": "stream",
     "text": [
      "\n",
      "\n",
      " 85%|████████████████████████████████████████████████████████████████████▏           | 507/595 [27:52<03:34,  2.44s/it]"
     ]
    },
    {
     "name": "stdout",
     "output_type": "stream",
     "text": [
      "C:\\Users\\amar\\Downloads\\Receipts\\de847c7f.jpeg\n",
      "© RN /O3884qq 05 31 AM © 348/1, Adyaosss4ain RO® mangala nan rT Bill Details Your Trip.69 Play Convenience Fee %9.93 Rounded Off %0.38 Total Includes.95 Taxes Ola Money Wallet SUPPORT\n",
      "['3884', '05 31', '348', '69', '93', '38', '95']\n"
     ]
    },
    {
     "name": "stderr",
     "output_type": "stream",
     "text": [
      "\n",
      "\n",
      " 85%|████████████████████████████████████████████████████████████████████▎           | 508/595 [27:55<03:40,  2.54s/it]"
     ]
    },
    {
     "name": "stdout",
     "output_type": "stream",
     "text": [
      "C:\\Users\\amar\\Downloads\\Receipts\\deda5875.jpeg\n",
      "avnnunnennennnnnenet te sian Check aunt at yor diertin\n",
      "[]\n"
     ]
    },
    {
     "name": "stderr",
     "output_type": "stream",
     "text": [
      "\n",
      "\n",
      " 86%|████████████████████████████████████████████████████████████████████▍           | 509/595 [27:56<03:00,  2.10s/it]"
     ]
    },
    {
     "name": "stdout",
     "output_type": "stream",
     "text": [
      "C:\\Users\\amar\\Downloads\\Receipts\\deedf037.jpeg\n",
      "wna nu Tunony CONBO-ATM1-00.00.00\n",
      "['1-00', '00', '00']\n"
     ]
    },
    {
     "name": "stderr",
     "output_type": "stream",
     "text": [
      "\n",
      "\n",
      " 86%|████████████████████████████████████████████████████████████████████▌           | 510/595 [27:57<02:37,  1.86s/it]"
     ]
    },
    {
     "name": "stdout",
     "output_type": "stream",
     "text": [
      "C:\\Users\\amar\\Downloads\\Receipts\\df00dff6.jpeg\n",
      "McDonald's Hay. 377 South Benbrook, 1% 76126-249-2773 07/16/2019 11 54 AM ks 7 Sidal Order 53 ~ PAD 1Chsburger AT-[rg7 ia Semon &\n",
      "['377', '7612', '6-249', '2773', '07/16/2019', '11 54', '53']\n"
     ]
    },
    {
     "name": "stderr",
     "output_type": "stream",
     "text": [
      "\n",
      "\n",
      " 86%|████████████████████████████████████████████████████████████████████▋           | 511/595 [27:59<02:35,  1.85s/it]"
     ]
    },
    {
     "name": "stdout",
     "output_type": "stream",
     "text": [
      "C:\\Users\\amar\\Downloads\\Receipts\\df06b272.jpeg\n",
      "Micros Demo Systemelcone to Yogurtland North Kendall Drive Niemi, FL Card EntrySWIPED Trans TypePURCHASE Trans | 1082 melanie Tota’ 17.80 ND SIGYATURE REQUIRED FIR PURCHASES UNDER $20.00\n",
      "['1082', '17', '80', '20', '00']\n"
     ]
    },
    {
     "name": "stderr",
     "output_type": "stream",
     "text": [
      "\n",
      "\n",
      " 86%|████████████████████████████████████████████████████████████████████▊           | 512/595 [28:02<02:55,  2.11s/it]"
     ]
    },
    {
     "name": "stdout",
     "output_type": "stream",
     "text": [
      "C:\\Users\\amar\\Downloads\\Receipts\\df51a6f0.jpeg\n",
      "VIJAT RESTAURANTA UNIT OF VIJAT LODGE‘SGABNPVBG52R2ZK GSTNo-oY BILL Bill.NoCBL2593 Date 17/07/19 TableNoROOM 2 Time 20 51 StewardAJIN Ttem/Qty |Rate| Amount PULKHA I a 20| 200.00 DHAL ITEM | 110] 220.00 CHICKEN RICE BOWL | ‘| iso.00 Total | 600.00 COST 2.5% | 15,00 SGST 2.5% | 15,00 NET ANOUNT.00 THANK YOU VISIT AGAIN\n",
      "['52', '2593', '17/07/19', '20 51', '20', '200', '00', '110', '220', '00', '00', '600', '00', '15,00', '15,00', '00']\n"
     ]
    },
    {
     "name": "stderr",
     "output_type": "stream",
     "text": [
      "\n",
      "\n",
      " 86%|████████████████████████████████████████████████████████████████████▉           | 513/595 [28:05<03:14,  2.38s/it]"
     ]
    },
    {
     "name": "stdout",
     "output_type": "stream",
     "text": [
      "C:\\Users\\amar\\Downloads\\Receipts\\dfed1676.jpeg\n",
      "oO er ee SMILE CAFE ELECTION DRAPER, UT-5797 ad ‘TOGO mi~ FIBRE MODEL K K - . © Thve “apa 46 PA a OT DESCRIPTION‘ 1 Banhai Sandiich ey. .Korean Spicy Bbq Pork . 1 Fountain Drink\n",
      "['5797', '46']\n"
     ]
    },
    {
     "name": "stderr",
     "output_type": "stream",
     "text": [
      "\n",
      "\n",
      " 86%|█████████████████████████████████████████████████████████████████████           | 514/595 [28:08<03:19,  2.47s/it]"
     ]
    },
    {
     "name": "stdout",
     "output_type": "stream",
     "text": [
      "C:\\Users\\amar\\Downloads\\Receipts\\e093c331.jpeg\n",
      "VATE LIMITED 0 § 0 FLA ENTERTAINMENT Me 13,14, 158, 1 the offer Carry the bill to avalwithin 15 days. TAC Applye\n",
      "['13,14', '158', '15']\n"
     ]
    },
    {
     "name": "stderr",
     "output_type": "stream",
     "text": [
      "\n",
      "\n",
      " 87%|█████████████████████████████████████████████████████████████████████▏          | 515/595 [28:09<02:59,  2.24s/it]"
     ]
    },
    {
     "name": "stdout",
     "output_type": "stream",
     "text": [
      "C:\\Users\\amar\\Downloads\\Receipts\\e1363e44.jpeg\n",
      "QUIKTRIP64645 FM 78 Kirby, TX Date 65/67/19 Time 64 36PM Gallons Price\n",
      "['6464', '78', '65/67/19', '64 36']\n"
     ]
    },
    {
     "name": "stderr",
     "output_type": "stream",
     "text": [
      "\n",
      "\n",
      " 87%|█████████████████████████████████████████████████████████████████████▍          | 516/595 [28:11<02:35,  1.96s/it]"
     ]
    },
    {
     "name": "stdout",
     "output_type": "stream",
     "text": [
      "C:\\Users\\amar\\Downloads\\Receipts\\e145bcc7.jpeg\n",
      "W. 190th Street Los Angeles, CA ph-324-4800\n",
      "['190', '324', '4800']\n"
     ]
    },
    {
     "name": "stderr",
     "output_type": "stream",
     "text": [
      "\n",
      "\n",
      " 87%|█████████████████████████████████████████████████████████████████████▌          | 517/595 [28:13<02:38,  2.03s/it]"
     ]
    },
    {
     "name": "stdout",
     "output_type": "stream",
     "text": [
      "C:\\Users\\amar\\Downloads\\Receipts\\e1540843.jpeg\n",
      "NAANCHING MONTGOMERRY sJERSEY CITY, NJ ORDERSECOND FLOOR 19 Dine-in cashierKiran 24-Mar-2019 7 14 55P 1 Chicken Lollipop §9.00 Med $0.00 1 Thal Fried Rice $12.00 Vegetables $0.00 Med $0.00 1 Chicken Tikka Masala $16.00 MILD PLEASE 1 Naan $3.00 1 Vegetable Biryani $12.00 MAKE IT MILD PLEASE 1 Mango Lassi $4.00 Subtotal $56.00 Tax $3.71 Service.0%$10.08 Total $69.79\n",
      "['19', '24-Mar-2019', '7 14 55', '00', '00', '12', '00', '00', '00', '16', '00', '00', '12', '00', '00', '56', '00', '71', '10', '08', '69', '79']\n"
     ]
    },
    {
     "name": "stderr",
     "output_type": "stream",
     "text": [
      "\n",
      "\n",
      " 87%|█████████████████████████████████████████████████████████████████████▋          | 518/595 [28:17<03:20,  2.61s/it]"
     ]
    },
    {
     "name": "stdout",
     "output_type": "stream",
     "text": [
      "C:\\Users\\amar\\Downloads\\Receipts\\e16297a7.jpeg\n",
      "1456 3 oFwie igruay HostNelson tenes. a oh oe Bik ShackBurger ie aan 6.2 cheese fries 22 ee 5.50 REG Iced Tea LB sons To Stay Total 25-47 Bl We Tweet. You Tweet. We All Tweet -ShakeShack\n",
      "['1456', '22', '50', '25-47']\n"
     ]
    },
    {
     "name": "stderr",
     "output_type": "stream",
     "text": [
      "\n",
      "\n",
      " 87%|█████████████████████████████████████████████████████████████████████▊          | 519/595 [28:20<03:41,  2.91s/it]"
     ]
    },
    {
     "name": "stdout",
     "output_type": "stream",
     "text": [
      "C:\\Users\\amar\\Downloads\\Receipts\\e2080a18.jpeg\n",
      "‘TenID/ValCoda315481 7.61 oe FAISAL AL ZARIA Custonar Copy\n",
      "['3154', '81', '61']\n"
     ]
    },
    {
     "name": "stderr",
     "output_type": "stream",
     "text": [
      "\n",
      "\n",
      " 87%|█████████████████████████████████████████████████████████████████████▉          | 520/595 [28:22<03:06,  2.48s/it]"
     ]
    },
    {
     "name": "stdout",
     "output_type": "stream",
     "text": [
      "C:\\Users\\amar\\Downloads\\Receipts\\e226408d.jpeg\n",
      "BIRI Yan ; b \"nial — ro OL WALTERi TAB-06-2019 yo.00 A.00 a 2.507 Oh.00 5.06 4 KOT Cl 21 29 24 WC NO\n",
      "['06-2019', '00', '00', '507', '00', '06', '21 29 24']\n"
     ]
    },
    {
     "name": "stderr",
     "output_type": "stream",
     "text": [
      "\n",
      "\n",
      " 88%|██████████████████████████████████████████████████████████████████████          | 521/595 [28:25<03:09,  2.57s/it]"
     ]
    },
    {
     "name": "stdout",
     "output_type": "stream",
     "text": [
      "C:\\Users\\amar\\Downloads\\Receipts\\e29e4aac.jpeg\n",
      "5 g3 me Bo i ; — Ca iie git de 0 i pede 1.002 re. me Al, 00\n",
      "['002', '00']\n"
     ]
    },
    {
     "name": "stderr",
     "output_type": "stream",
     "text": [
      "\n",
      "\n",
      " 88%|██████████████████████████████████████████████████████████████████████▏         | 522/595 [28:27<02:55,  2.41s/it]"
     ]
    },
    {
     "name": "stdout",
     "output_type": "stream",
     "text": [
      "C:\\Users\\amar\\Downloads\\Receipts\\e2ab7e79.jpeg\n",
      "14 HP Pho Ga Mission Dr.102 CA-9899 Daterr 01, 2018 12PH ServerAdmin 1 Pho.00 1 Pho.00 1 Goi Cuon 5.25 Subtotal 22.25 TAX 2.11 Total 24.98 $s. Service Charge 40x 8.90 Total $33 -26 Suggested%3.6518%4.3820%4.87Open TimeApr 01, 2019 04 39PM Printed ByAdain Thank you for Coming\n",
      "['14', '102', '9899', '01, 2018', '12', '00', '00', '25', '22', '25', '11', '24', '98', '40', '90', '33', '26', '6518', '3820', '87', 'Apr 01, 2019', '04 39']\n"
     ]
    },
    {
     "name": "stderr",
     "output_type": "stream",
     "text": [
      "\n",
      "\n",
      " 88%|██████████████████████████████████████████████████████████████████████▎         | 523/595 [28:30<03:07,  2.60s/it]"
     ]
    },
    {
     "name": "stdout",
     "output_type": "stream",
     "text": [
      "C:\\Users\\amar\\Downloads\\Receipts\\e2ce8f5a.jpeg\n",
      "Trattoria separ ita 8 aS na ea-533-1801 DATETIMETae 5 53 48 PMGastone Item STUFFED ARTICHOKE* $18.00 1 BK FETT AL PORCINI.00 1 COSTOLETTE/ALLAYPAPS a 1 BROCCOLI RABE W/ GAs 10.50 | ESPRESSO ‘5 1 OBLD ESPRESSO® 8 Subtotal—sti“‘<‘éiéséNYT«WTS Tax F GRAND TOTAL 15,9/1/2018 5 53 48 PM\n",
      "['533', '1801', '5 53 48', '18', '00', '00', '10', '50', '15', '9/1/2018', '5 53 48']\n"
     ]
    },
    {
     "name": "stderr",
     "output_type": "stream",
     "text": [
      "\n",
      "\n",
      " 88%|██████████████████████████████████████████████████████████████████████▍         | 524/595 [28:33<03:20,  2.82s/it]"
     ]
    },
    {
     "name": "stdout",
     "output_type": "stream",
     "text": [
      "C:\\Users\\amar\\Downloads\\Receipts\\e39a91cc.jpeg\n",
      "— a. Sa—. 5 aipa HARISH BAKERS & CONFECTIONERS PVT LTD SHOP NO-G2-G10,SECTOR- SAPPHIRE MALL -122001GST NO Tax Invoice MemoSapres/20469 12 40 PM 27-Jun-2019. UserJagdish Product Qty Rate Amount T.5.000% 11.00 Choley Bhature 1.000.00.26. £8 ©. Total.000.00 AmtRupees Five Hundred Thirty\n",
      "['10', '1220', '01', '2046', '9 12 40', '27-Jun-2019', '000', '11', '00', '000', '00', '26', '000', '00']\n"
     ]
    },
    {
     "name": "stderr",
     "output_type": "stream",
     "text": [
      "\n",
      "\n",
      " 88%|██████████████████████████████████████████████████████████████████████▌         | 525/595 [28:37<03:34,  3.07s/it]"
     ]
    },
    {
     "name": "stdout",
     "output_type": "stream",
     "text": [
      "C:\\Users\\amar\\Downloads\\Receipts\\e3a528ad.jpeg\n",
      "Quick 73 smake City Market Van Nuys BLVD Sherman Oaks, CA.855.1280 ver Rebecca B Si By Rebecca B s1 Jun 28, 15 04 55 PM Beef Ribs a $36.86.89 bsS0Abs Pulled Pork Sand $8.50 $0.00 “Reg Creamed Com[Small] $3.35 Longhorn Mac & Cheese[sm] Chocolate Cake[Slice] Fountain Soda Subtotal CA Sales Tax Total Wells Fargo Change Thank You for Visiting Please visit our websiteWwww.smokecitymarket.com Enjoy our BBQ‘Like’ us on pe ements and Yelp sé rate us on Zagat AW Zagat com/r/smoke-city-market-van-nuy\n",
      "['73', '855', '1280', '1 Jun 28, 15', '04 55', '36', '86', '89', '50', '00', '35']\n"
     ]
    },
    {
     "name": "stderr",
     "output_type": "stream",
     "text": [
      "\n",
      "\n",
      " 88%|██████████████████████████████████████████████████████████████████████▋         | 526/595 [28:41<04:00,  3.48s/it]"
     ]
    },
    {
     "name": "stdout",
     "output_type": "stream",
     "text": [
      "C:\\Users\\amar\\Downloads\\Receipts\\e3cdeead.jpeg\n",
      "Ve- O326 KANSAs TURNPIKE AUTHORITY CHARGE TRANSACTION rh eT grr Wy/19 11 08 04 EXIT EXIT EXIT EXIT EXIT PUA UME oweTIM COLL 08 sy1a/19 12 56 00 AMOUNT$ 8.50 CHARGED TDXXXX-KXXX-XXXX-5595\n",
      "['326', '19 11 08', '04', '08', '19 12 56', '00', '50', '5595']\n"
     ]
    },
    {
     "name": "stderr",
     "output_type": "stream",
     "text": [
      "\n",
      "\n",
      " 89%|██████████████████████████████████████████████████████████████████████▊         | 527/595 [28:43<03:29,  3.08s/it]"
     ]
    },
    {
     "name": "stdout",
     "output_type": "stream",
     "text": [
      "C:\\Users\\amar\\Downloads\\Receipts\\e4413fe0.jpeg\n",
      "COFFEE WY GLOBAL, LiMiTED td PaROTA «WT Park a 6th, Chevy Sector 6p, Borda aie PN Bir OLGnD FOS li DATE Time ro more ee 06 otoMaaa 1 Oly Ant Bs 7.00.00 a a.00\n",
      "['06', '00', '00', '00']\n"
     ]
    },
    {
     "name": "stderr",
     "output_type": "stream",
     "text": [
      "\n",
      "\n",
      " 89%|██████████████████████████████████████████████████████████████████████▉         | 528/595 [28:45<03:07,  2.80s/it]"
     ]
    },
    {
     "name": "stdout",
     "output_type": "stream",
     "text": [
      "C:\\Users\\amar\\Downloads\\Receipts\\e50fe5f9.jpeg\n",
      "Seo back of receipt far you cx to win $1000 ID7N5a Gu pay ene 2 TOTAL PURCHASE us Bobi t ren seas seen 10 fer%ne9 Erna 1. O80 AR COE a ‘ANOUOOONSENO C1 Vein Yor fled TERMIAAL50a\n",
      "['1000', '10', '80', '50']\n"
     ]
    },
    {
     "name": "stderr",
     "output_type": "stream",
     "text": [
      "\n",
      "\n",
      " 89%|███████████████████████████████████████████████████████████████████████▏        | 529/595 [28:49<03:19,  3.02s/it]"
     ]
    },
    {
     "name": "stdout",
     "output_type": "stream",
     "text": [
      "C:\\Users\\amar\\Downloads\\Receipts\\e5235e8c.jpeg\n",
      "lanke Averten’s Bete\n",
      "[]\n"
     ]
    },
    {
     "name": "stderr",
     "output_type": "stream",
     "text": [
      "\n",
      "\n",
      " 89%|███████████████████████████████████████████████████████████████████████▎        | 530/595 [28:51<02:59,  2.75s/it]"
     ]
    },
    {
     "name": "stdout",
     "output_type": "stream",
     "text": [
      "C:\\Users\\amar\\Downloads\\Receipts\\e5560cf1.jpeg\n",
      "SPEEDNAY colonie 8/15/2019 unleaded ree$2.878/GAL GAS TOTAL $52.50 TAX $8.00 TOTAL $52.50 visa Card tumHXOOGOCOK KART TRANS TYPEPTURE APPR4143DENTRY WETHOD|ariped 85/15/2619 44 48 9g Cardholder agries 1 pay to issueboat charges per the agreement be tiescardholder & iss\\.y, WiiSPEEDWAY COM |\n",
      "['8/15/2019', '878', '52', '50', '00', '52', '50', '4143', '85/15/2619', '44 48']\n"
     ]
    },
    {
     "name": "stderr",
     "output_type": "stream",
     "text": [
      "\n",
      "\n",
      " 89%|███████████████████████████████████████████████████████████████████████▍        | 531/595 [28:55<03:10,  2.98s/it]"
     ]
    },
    {
     "name": "stdout",
     "output_type": "stream",
     "text": [
      "C:\\Users\\amar\\Downloads\\Receipts\\e562fd32.jpeg\n",
      "Wileflower Bread Company - Sky Harbor ona .wt lef lonerbread.con 05/28/2015 Ray 12 13 PM Order Typa1G Ham & Swiss Swart Water Suacotal Total Balance Due 0.00 Cpsrated by TB Hospitality LLC Feedback welcome via sary’ ceéyId*lowerb-sad.com 11d owerbread.con/contact General ManagerFred Trejo-275-2300\n",
      "['05/28/2015', '12 13', '00', '11', '275', '2300']\n"
     ]
    },
    {
     "name": "stderr",
     "output_type": "stream",
     "text": [
      "\n",
      "\n",
      " 89%|███████████████████████████████████████████████████████████████████████▌        | 532/595 [28:57<02:55,  2.78s/it]"
     ]
    },
    {
     "name": "stdout",
     "output_type": "stream",
     "text": [
      "C:\\Users\\amar\\Downloads\\Receipts\\e59fe62f.jpeg\n",
      "ELEVATED FEF PLAZA - \\ AT FOR TOLL AS PER WOTIFICaTIOn i CH.16.700 & 20.200 inn 9773824595swan mr Ta F ra go a Ee ei yi\n",
      "['16', '700', '20', '200', '9773', '8245', '95']\n"
     ]
    },
    {
     "name": "stderr",
     "output_type": "stream",
     "text": [
      "\n",
      "\n",
      " 90%|███████████████████████████████████████████████████████████████████████▋        | 533/595 [28:59<02:39,  2.57s/it]"
     ]
    },
    {
     "name": "stdout",
     "output_type": "stream",
     "text": [
      "C:\\Users\\amar\\Downloads\\Receipts\\e6afefba.jpeg\n",
      "PURCHASE APPROVED “ ALOUUISOLG80L TF OO aacOD Te A eGR PSL CUSTOMER COPY oes pe a me ie a a CHUREE To WIM 8 $280 GF Te Pov desi TRAVEL\n",
      "['80', '280']\n"
     ]
    },
    {
     "name": "stderr",
     "output_type": "stream",
     "text": [
      "\n",
      "\n",
      " 90%|███████████████████████████████████████████████████████████████████████▊        | 534/595 [29:02<02:36,  2.56s/it]"
     ]
    },
    {
     "name": "stdout",
     "output_type": "stream",
     "text": [
      "C:\\Users\\amar\\Downloads\\Receipts\\e6b0240b.jpeg\n",
      "YT1O RUAUOLDE San Fancisco Internation Airport Airport Office ge San Francisco, CA -821~-6440 6/3/2019 19 45 31 AM Order IdAAAJGHP4AEDR % 10 - For Here ZeEmployeeGerald T. G. | Cheeseburger $10.50 § 1, 2402 Coke $3.25 os EE Benefits Surcharge $0.28 P Sub Total $14.03 A Sales Tax $1.23 Co Order Total $15.26 *” 9G Visa $15.26 © Cardeee 4] ‘ Authorization721757Order Closed <-- Yo Effictive Februrary, a 2% Airport EE Oe Benefits Surcharge will apply to a\\\\ pre-tax food and beverage purchases Thank YouOY\n",
      "['821', '6440', '6/3/2019', '19 45 31', '10', '10', '50', '1, 2402', '25', '28', '14', '03', '23', '15', '26', '15', '26', '7217', '57']\n"
     ]
    },
    {
     "name": "stderr",
     "output_type": "stream",
     "text": [
      "\n",
      "\n",
      " 90%|███████████████████████████████████████████████████████████████████████▉        | 535/595 [29:06<03:07,  3.13s/it]"
     ]
    },
    {
     "name": "stdout",
     "output_type": "stream",
     "text": [
      "C:\\Users\\amar\\Downloads\\Receipts\\e7205cbe.jpeg\n",
      "YUw's RESTAURANT Sam gue SAT\n",
      "[]\n"
     ]
    },
    {
     "name": "stderr",
     "output_type": "stream",
     "text": [
      "\n",
      "\n",
      " 90%|████████████████████████████████████████████████████████████████████████        | 536/595 [29:07<02:34,  2.61s/it]"
     ]
    },
    {
     "name": "stdout",
     "output_type": "stream",
     "text": [
      "C:\\Users\\amar\\Downloads\\Receipts\\e737307f.jpeg\n",
      "\n",
      "[]\n"
     ]
    },
    {
     "name": "stderr",
     "output_type": "stream",
     "text": [
      "\n",
      "\n",
      " 90%|████████████████████████████████████████████████████████████████████████▏       | 537/595 [29:08<02:03,  2.12s/it]"
     ]
    },
    {
     "name": "stdout",
     "output_type": "stream",
     "text": [
      "C:\\Users\\amar\\Downloads\\Receipts\\e756ff2c.jpeg\n",
      "\n",
      "[]\n"
     ]
    },
    {
     "name": "stderr",
     "output_type": "stream",
     "text": [
      "\n",
      "\n",
      " 90%|████████████████████████████████████████████████████████████████████████▎       | 538/595 [29:10<01:47,  1.88s/it]"
     ]
    },
    {
     "name": "stdout",
     "output_type": "stream",
     "text": [
      "C:\\Users\\amar\\Downloads\\Receipts\\e7a6f8bd.jpeg\n",
      "16.07\n",
      "['16', '07']\n"
     ]
    },
    {
     "name": "stderr",
     "output_type": "stream",
     "text": [
      "\n",
      "\n",
      " 91%|████████████████████████████████████████████████████████████████████████▍       | 539/595 [29:11<01:36,  1.73s/it]"
     ]
    },
    {
     "name": "stdout",
     "output_type": "stream",
     "text": [
      "C:\\Users\\amar\\Downloads\\Receipts\\e802d4e2.jpeg\n",
      "SHUBHALXMI MI HOTEL SUNDER BAUGLEOY EE MOB NG Sa a i 2toee. AC-BILL SrNo. 90.29 —Stuw 2-Jun-19 12 07 PM Particulars Qty Rate Aart Food DRY FRUITS 4.00215.00.00.50% 5.37.60% 6a Food TotalPea TOTAL.00 GSTNO 27AAMPSAZ57RIZN Thank YouVisit Again we buy back our containers at rs 15 per kg.\n",
      "['90', '29', '2-Jun-19 12', '07', '0021', '00', '00', '50', '37', '60', '00', '27', '57', '15']\n"
     ]
    },
    {
     "name": "stderr",
     "output_type": "stream",
     "text": [
      "\n",
      "\n",
      " 91%|████████████████████████████████████████████████████████████████████████▌       | 540/595 [29:14<01:57,  2.14s/it]"
     ]
    },
    {
     "name": "stdout",
     "output_type": "stream",
     "text": [
      "C:\\Users\\amar\\Downloads\\Receipts\\e890664c.jpeg\n",
      "at VU No. 1 Name selWENA aC BIDARDate sis \\19 One -Foundal an\n",
      "['19']\n"
     ]
    },
    {
     "name": "stderr",
     "output_type": "stream",
     "text": [
      "\n",
      "\n",
      " 91%|████████████████████████████████████████████████████████████████████████▋       | 541/595 [29:17<02:07,  2.37s/it]"
     ]
    },
    {
     "name": "stdout",
     "output_type": "stream",
     "text": [
      "C:\\Users\\amar\\Downloads\\Receipts\\e8dfe984.jpeg\n",
      "SHREE GURUPR, sary ‘ Or ey Sei sar D No.2 Nar 3 ‘a ha 4 ParticularsQty Anou MISAL PAV 3. 120 iL TADKA 1 SsVEG MARATHA 1 181a PAV BHAJI 1 19 STEAM RICE 1 M5 NEW COLA 4 2 Food.00 Total8eS Z7BH.VPS 38 PMThank You Visit Again\n",
      "['120', '1 181', '1 19', '00', '38']\n"
     ]
    },
    {
     "name": "stderr",
     "output_type": "stream",
     "text": [
      "\n",
      "\n",
      " 91%|████████████████████████████████████████████████████████████████████████▊       | 542/595 [29:20<02:15,  2.55s/it]"
     ]
    },
    {
     "name": "stdout",
     "output_type": "stream",
     "text": [
      "C:\\Users\\amar\\Downloads\\Receipts\\e968011e.jpeg\n",
      "SERRE TT eR\n",
      "[]\n"
     ]
    },
    {
     "name": "stderr",
     "output_type": "stream",
     "text": [
      "\n",
      "\n",
      " 91%|█████████████████████████████████████████████████████████████████████████       | 543/595 [29:22<01:56,  2.24s/it]"
     ]
    },
    {
     "name": "stdout",
     "output_type": "stream",
     "text": [
      "C:\\Users\\amar\\Downloads\\Receipts\\e9a07f75.jpeg\n",
      "MEGHAN s Se ee BNA Eos 1, ist Floor, sayalakhs Residency Road, Bangaloze-560025 TEL - 080-41308080/07/19 00 iMineral Water 28SPL VEG. BIRIYANI 2 3CKN B/L BRIYANI 3 4sprite 2.5%sor2.5%gay29AAPFM2372J12R THANK YOU SEE YOU SOON\n",
      "['5600', '25', '080', '4130', '8080', '07/19 00', '28', '29', '2372', '12']\n"
     ]
    },
    {
     "name": "stderr",
     "output_type": "stream",
     "text": [
      "\n",
      "\n",
      " 91%|█████████████████████████████████████████████████████████████████████████▏      | 544/595 [29:24<01:53,  2.23s/it]"
     ]
    },
    {
     "name": "stdout",
     "output_type": "stream",
     "text": [
      "C:\\Users\\amar\\Downloads\\Receipts\\eb1818b7.jpeg\n",
      "\n",
      "[]\n"
     ]
    },
    {
     "name": "stderr",
     "output_type": "stream",
     "text": [
      "\n",
      "\n",
      " 92%|█████████████████████████████████████████████████████████████████████████▎      | 545/595 [29:25<01:41,  2.04s/it]"
     ]
    },
    {
     "name": "stdout",
     "output_type": "stream",
     "text": [
      "C:\\Users\\amar\\Downloads\\Receipts\\eb3698c6.jpeg\n",
      "Golden Coin 94-450 Ukee i. Waipahu, HI-0802 Stations \\ Server‘Charito order i ar Take ut »STIL « 1 Pit Lunch 2 Choices 9.79 BRO PINAPATTAN 0.00 9.79 0.46 caaseae$10.2\n",
      "['94-450', '0802', '79', '00', '79', '46', '10']\n"
     ]
    },
    {
     "name": "stderr",
     "output_type": "stream",
     "text": [
      "\n",
      "\n",
      " 92%|█████████████████████████████████████████████████████████████████████████▍      | 546/595 [29:28<01:54,  2.34s/it]"
     ]
    },
    {
     "name": "stdout",
     "output_type": "stream",
     "text": [
      "C:\\Users\\amar\\Downloads\\Receipts\\ec07892e.jpeg\n",
      "\n",
      "[]\n"
     ]
    },
    {
     "name": "stderr",
     "output_type": "stream",
     "text": [
      "\n",
      "\n",
      " 92%|█████████████████████████████████████████████████████████████████████████▌      | 547/595 [29:31<01:50,  2.30s/it]"
     ]
    },
    {
     "name": "stdout",
     "output_type": "stream",
     "text": [
      "C:\\Users\\amar\\Downloads\\Receipts\\ec1853b1.jpeg\n",
      "Friendly Red’ s of Windham 22 Haverhill Rd Windham NH-437-7251 ServerGiancarlo/1 Cadillac. 00Patron Silver Maryland Crab Cakes Chicken Caprese Chix Parm Sandwich Bud. 70Subtotal Tax Total Balance Due 07/21/2018 12 56 PM 28. 00 14.00 12.00 10.00 7.40 71.40 6.43 77.83 77. 83\n",
      "['22', '437', '7251', '00', '70', '07/21/2018', '12 56', '28', '00 14', '00 12', '00 10', '00', '40 71', '40', '43 77', '83 77', '83']\n"
     ]
    },
    {
     "name": "stderr",
     "output_type": "stream",
     "text": [
      "\n",
      "\n",
      " 92%|█████████████████████████████████████████████████████████████████████████▋      | 548/595 [29:35<02:10,  2.78s/it]"
     ]
    },
    {
     "name": "stdout",
     "output_type": "stream",
     "text": [
      "C:\\Users\\amar\\Downloads\\Receipts\\ec5f70cb.jpeg\n",
      "DEL FRISCO'S8620 Avenue of the Americas New York, New York 1 Cauliflower 1 Baked Potato\n",
      "['8620']\n"
     ]
    },
    {
     "name": "stderr",
     "output_type": "stream",
     "text": [
      "\n",
      "\n",
      " 92%|█████████████████████████████████████████████████████████████████████████▊      | 549/595 [29:36<01:48,  2.36s/it]"
     ]
    },
    {
     "name": "stdout",
     "output_type": "stream",
     "text": [
      "C:\\Users\\amar\\Downloads\\Receipts\\ec8f6e40.jpeg\n",
      "DRI sy Pend Epress sng ght 12/22/2017 4 58 01 py Se -T0 Go- Order1968190. 1 Plate 1, 1, 2. 2. 3 2 a] bp\n",
      "['12/22/2017', '4 58 01', '1968', '190']\n"
     ]
    },
    {
     "name": "stderr",
     "output_type": "stream",
     "text": [
      "\n",
      "\n",
      " 92%|█████████████████████████████████████████████████████████████████████████▉      | 550/595 [29:38<01:49,  2.43s/it]"
     ]
    },
    {
     "name": "stdout",
     "output_type": "stream",
     "text": [
      "C:\\Users\\amar\\Downloads\\Receipts\\ecb4f350.jpeg\n",
      ", seal eee GT a a sili Few\n",
      "[]\n"
     ]
    },
    {
     "name": "stderr",
     "output_type": "stream",
     "text": [
      "\n",
      "\n",
      " 93%|██████████████████████████████████████████████████████████████████████████      | 551/595 [29:41<01:46,  2.42s/it]"
     ]
    },
    {
     "name": "stdout",
     "output_type": "stream",
     "text": [
      "C:\\Users\\amar\\Downloads\\Receipts\\ed731156.jpeg\n",
      "37, 60 ve Re Sorefui ‘urang Alp ERS 1 oy\n",
      "['37, 60']\n"
     ]
    },
    {
     "name": "stderr",
     "output_type": "stream",
     "text": [
      "\n",
      "\n",
      " 93%|██████████████████████████████████████████████████████████████████████████▏     | 552/595 [29:44<01:56,  2.71s/it]"
     ]
    },
    {
     "name": "stdout",
     "output_type": "stream",
     "text": [
      "C:\\Users\\amar\\Downloads\\Receipts\\ee13198f.jpeg\n",
      "QUIKTRIP86894 FM Wylie, TX Date e7/ee/19 Tine 64 23PM Odometer AcctInhickicheeiicicicicice| B45, Pump Gallons Price 28.982 $2.499 Product Amount UNLEADED $52.43 Total Sale $52.43 Thank You for Shopping QuikTrip | Please Come Back Again|\n",
      "['8689', '19', '64 23', '45', '28', '982', '499', '52', '43', '52', '43']\n"
     ]
    },
    {
     "name": "stderr",
     "output_type": "stream",
     "text": [
      "\n",
      "\n",
      " 93%|██████████████████████████████████████████████████████████████████████████▎     | 553/595 [29:48<02:03,  2.94s/it]"
     ]
    },
    {
     "name": "stdout",
     "output_type": "stream",
     "text": [
      "C:\\Users\\amar\\Downloads\\Receipts\\eea737a6.jpeg\n",
      "cormvense A Urit of £ tality eve GSTIN29AAFCI2371C1Z/132, A-5 & A-6, BASEMENT FLOOR, RESIDENCY ROAD, BANGALORE - 560025 -— ——————NameOODate25/07/18 QSR SS 16 43 CashierTIRUMALA Bill No.3257 Token No.90 Item Qty. Price Amount Schezwan 7 Noodles 1 76.27 76.2 Tea 1 12.71 12.71 Total Qty 2 SubTotal 88.98 CGST 9% 8.01 SGST 3% 8.01 Grand Total.00 Paid via Card Thank you visitagain\n",
      "['29', '2371', '132', '5600', '25', '25/07/18', '16 43', '3257', '90', '1 76', '27 76', '1 12', '71 12', '71', '88', '98', '01', '01', '00']\n"
     ]
    },
    {
     "name": "stderr",
     "output_type": "stream",
     "text": [
      "\n",
      "\n",
      " 93%|██████████████████████████████████████████████████████████████████████████▍     | 554/595 [29:52<02:10,  3.19s/it]"
     ]
    },
    {
     "name": "stdout",
     "output_type": "stream",
     "text": [
      "C:\\Users\\amar\\Downloads\\Receipts\\eed281d7.jpeg\n",
      "LANDFALL RESTAURANT APRIL TO DECEMBER Table 31Party 3 DWYER M 11 47a 06/10/17 Separate-of-6 1 CUP CHOWDER Sub TotalTaxGRAT 18 06/10 1 399TOTALLUNCH & DINNER WE TAKE RESERVATIONS EST-548-1758\n",
      "['31', '11 47', '06/10/17', '18 06/10', '1 399', '548', '1758']\n"
     ]
    },
    {
     "name": "stderr",
     "output_type": "stream",
     "text": [
      "\n",
      "\n",
      " 93%|██████████████████████████████████████████████████████████████████████████▌     | 555/595 [29:56<02:18,  3.46s/it]"
     ]
    },
    {
     "name": "stdout",
     "output_type": "stream",
     "text": [
      "C:\\Users\\amar\\Downloads\\Receipts\\f0f599e0.jpeg\n",
      "DCR WARKET.MRS Ly WALDA-732101HBHi GSTIN NO-19ABDFH2149L177 \"CASH/BILL.... TABLE KOTS o1 CVR 01 WAITER 99 NO-014502 DATE ~17-06-2919 DESCRIPTION GTY RATE axouRT EGG YOUR STYLE 1 3.00 1.00 a 1 w.00\n",
      "['7321', '01', '19', '2149', '177', '01', '99', '0145', '02', '17-06-2919', '00', '00', '00']\n"
     ]
    },
    {
     "name": "stderr",
     "output_type": "stream",
     "text": [
      "\n",
      "\n",
      " 93%|██████████████████████████████████████████████████████████████████████████▊     | 556/595 [29:59<02:13,  3.43s/it]"
     ]
    },
    {
     "name": "stdout",
     "output_type": "stream",
     "text": [
      "C:\\Users\\amar\\Downloads\\Receipts\\f119f71a.jpeg\n",
      "Canandaigua, KY-48808/30/2015 11 00 11 PA ServerBethany F 1 No Beverage 0.00 1 No Beverage 0.00 1 Mik Shake 3.99 ‘Shake Choc SubTotal 3.99 Tax 0.90 Gratuity 1.00 Total 5.29\n",
      "['4880', '8/30/2015', '11 00 11', '00', '00', '99', '99', '90', '00', '29']\n"
     ]
    },
    {
     "name": "stderr",
     "output_type": "stream",
     "text": [
      "\n",
      "\n",
      " 94%|██████████████████████████████████████████████████████████████████████████▉     | 557/595 [30:02<02:00,  3.17s/it]"
     ]
    },
    {
     "name": "stdout",
     "output_type": "stream",
     "text": [
      "C:\\Users\\amar\\Downloads\\Receipts\\f16efae4.jpeg\n",
      ", TAX INVOICE SPICEKRAFT 4/1/2A Hazra Road Kolkata - 700019 StateW.Bengal, State Code 19 Bil] No 29-6-2019 Table 19 ITEM QTY RATE AMTBEVERAGECUCUMBER COOLER 1.00 DRINKING WATER 1 20 20.00 KIwI & MANGO 1.00 COLLINSFOODBAKED FISH 1.00 WELLINGTON COQ - AU - VIN 1.00 FISH - EN- 1.00 PAPILLOTE PENNE PASTA 1.00 ALFREDO VEG SHEPHERDS PIE 1.00 8.00 GOVT. CGST 2.5% On.00 48.13 GOVT. SGST % On.00 48.13 Round off -0.26 Total.00 GSTIN 5 19ACBPB4788K12A SAC NO GST ON ALCOHOL\n",
      "['7000', '19', '19', '29-6-2019', '19', '00', '1 20 20', '00', '00', '00', '00', '00', '00', '00', '00', '00 48', '13', '00 48', '13', '26', '00', '5 19', '4788', '12']\n"
     ]
    },
    {
     "name": "stderr",
     "output_type": "stream",
     "text": [
      "\n",
      "\n",
      " 94%|███████████████████████████████████████████████████████████████████████████     | 558/595 [30:05<02:06,  3.41s/it]"
     ]
    },
    {
     "name": "stdout",
     "output_type": "stream",
     "text": [
      "C:\\Users\\amar\\Downloads\\Receipts\\f23085d1.jpeg\n",
      "32 PEO AS1900294fo Fr Antonio, TX fa Wet 01 in el j Fuef Sa i 02/28/19 05 49PM aD ene\n",
      "['32', '1900', '294', '01', '02/28/19', '05 49']\n"
     ]
    },
    {
     "name": "stderr",
     "output_type": "stream",
     "text": [
      "\n",
      "\n",
      " 94%|███████████████████████████████████████████████████████████████████████████▏    | 559/595 [30:08<01:53,  3.16s/it]"
     ]
    },
    {
     "name": "stdout",
     "output_type": "stream",
     "text": [
      "C:\\Users\\amar\\Downloads\\Receipts\\f29424af.jpeg\n",
      "As ape 03 Unleadeee PORE bs 989mea es a 3 04/2719 03 45PH Hiethatrcaea\n",
      "['03', '989', '3 04/2719', '03 45']\n"
     ]
    },
    {
     "name": "stderr",
     "output_type": "stream",
     "text": [
      "\n",
      "\n",
      " 94%|███████████████████████████████████████████████████████████████████████████▎    | 560/595 [30:12<01:56,  3.34s/it]"
     ]
    },
    {
     "name": "stdout",
     "output_type": "stream",
     "text": [
      "C:\\Users\\amar\\Downloads\\Receipts\\f2c1e641.jpeg\n",
      "‘The First Venture Hotel\n",
      "[]\n"
     ]
    },
    {
     "name": "stderr",
     "output_type": "stream",
     "text": [
      "\n",
      "\n",
      " 94%|███████████████████████████████████████████████████████████████████████████▍    | 561/595 [30:15<01:47,  3.16s/it]"
     ]
    },
    {
     "name": "stdout",
     "output_type": "stream",
     "text": [
      "C:\\Users\\amar\\Downloads\\Receipts\\f2de425f.jpeg\n",
      "TWH-10 51 NECE LIMITE Hosur Roacl 14 EXIT PLAZATumkur Road SHIFT VEHICLE VEHICLE roll Payment Mi | ami\n",
      "['10 51', '14']\n"
     ]
    },
    {
     "name": "stderr",
     "output_type": "stream",
     "text": [
      "\n",
      "\n",
      " 94%|███████████████████████████████████████████████████████████████████████████▌    | 562/595 [30:18<01:50,  3.36s/it]"
     ]
    },
    {
     "name": "stdout",
     "output_type": "stream",
     "text": [
      "C:\\Users\\amar\\Downloads\\Receipts\\f2e9be84.jpeg\n",
      "fe ent Crean Stone siete ile 1 New Palesia, NM Tota dy owas rae cen. Indore - 45207-497203 50 BIN dora 56 Duthaan mdi, r the Pcw Dite ; three days, 22/05/2019 0 q st ToeDi\n",
      "['4520', '7-4972', '03 50', '56', '22/05/2019']\n"
     ]
    },
    {
     "name": "stderr",
     "output_type": "stream",
     "text": [
      "\n",
      "\n",
      " 95%|███████████████████████████████████████████████████████████████████████████▋    | 563/595 [30:21<01:44,  3.27s/it]"
     ]
    },
    {
     "name": "stdout",
     "output_type": "stream",
     "text": [
      "C:\\Users\\amar\\Downloads\\Receipts\\f36b6c9d.jpeg\n",
      "PIzzA HUT DINE IN Item ENTERED BY TABLE MAURICE 56 10/25/2018 $FivelU Hand toss J SEE BACK GF RECEIPT FOR AN GFFER a 2 iz & 2 & Ru ods aR2Sa\n",
      "['56 10/25', '2018']\n"
     ]
    },
    {
     "name": "stderr",
     "output_type": "stream",
     "text": [
      "\n",
      "\n",
      " 95%|███████████████████████████████████████████████████████████████████████████▊    | 564/595 [30:25<01:41,  3.28s/it]"
     ]
    },
    {
     "name": "stdout",
     "output_type": "stream",
     "text": [
      "C:\\Users\\amar\\Downloads\\Receipts\\f41ce8c7.jpeg\n",
      "\n",
      "[]\n"
     ]
    },
    {
     "name": "stderr",
     "output_type": "stream",
     "text": [
      "\n",
      "\n",
      " 95%|███████████████████████████████████████████████████████████████████████████▉    | 565/595 [30:27<01:31,  3.06s/it]"
     ]
    },
    {
     "name": "stdout",
     "output_type": "stream",
     "text": [
      "C:\\Users\\amar\\Downloads\\Receipts\\f484b2e9.jpeg\n",
      "1115 N, US-31 Petoskey, MI-2689 REGULA Gallons 18.254 Price/Gal $2.739 Fuel Sale $50.00 edit $50.00 07 56AM\n",
      "['1115', '31', '2689', '18', '254', '739', '50', '00', '50', '00 07 56']\n"
     ]
    },
    {
     "name": "stderr",
     "output_type": "stream",
     "text": [
      "\n",
      "\n",
      " 95%|████████████████████████████████████████████████████████████████████████████    | 566/595 [30:30<01:23,  2.86s/it]"
     ]
    },
    {
     "name": "stdout",
     "output_type": "stream",
     "text": [
      "C:\\Users\\amar\\Downloads\\Receipts\\f74ffded.jpeg\n",
      "\n",
      "[]\n"
     ]
    },
    {
     "name": "stderr",
     "output_type": "stream",
     "text": [
      "\n",
      "\n",
      " 95%|████████████████████████████████████████████████████████████████████████████▏   | 567/595 [30:32<01:16,  2.74s/it]"
     ]
    },
    {
     "name": "stdout",
     "output_type": "stream",
     "text": [
      "C:\\Users\\amar\\Downloads\\Receipts\\f78e114d.jpeg\n",
      "\n",
      "[]\n"
     ]
    },
    {
     "name": "stderr",
     "output_type": "stream",
     "text": [
      "\n",
      "\n",
      " 95%|████████████████████████████████████████████████████████████████████████████▎   | 568/595 [30:34<01:03,  2.35s/it]"
     ]
    },
    {
     "name": "stdout",
     "output_type": "stream",
     "text": [
      "C:\\Users\\amar\\Downloads\\Receipts\\f85a0139.jpeg\n",
      "2x 0.60 Ex oive sisvigtie rs ven, O01 OPER. 1 2a- 8-2ne 12 41 SCONTRIND FISGEE N. Be vey egy\n",
      "['60', '01', '12 41']\n"
     ]
    },
    {
     "name": "stderr",
     "output_type": "stream",
     "text": [
      "\n",
      "\n",
      " 96%|████████████████████████████████████████████████████████████████████████████▌   | 569/595 [30:37<01:07,  2.60s/it]"
     ]
    },
    {
     "name": "stdout",
     "output_type": "stream",
     "text": [
      "C:\\Users\\amar\\Downloads\\Receipts\\f8d4578f.jpeg\n",
      "Opp Savta Mali Temple, Next to Aditi Samruddhi, Baner, Pune, Maharashtra Phone, 8983222219 GST No27ABGFSS408R1ZH 23 Jul 1.56 PM VtIAC-84328 Zomato Delivery Sudhir Yadav Dafter Baner, Bunglow/2/7, Silver Oak Society, Opp Green, Sanewadi, Aundh Subtotal Grand TotalPayment Type; Online PAIDAmount Paid Rs. 126.00 Thank YouContainer used by us is minimum of microns in thickness and shall be taken/- Per kg for Minimum 1 Kg if customer wishes\n",
      "['8983', '2222', '19', '27', '408', '23', '56', '8432', '126', '00']\n"
     ]
    },
    {
     "name": "stderr",
     "output_type": "stream",
     "text": [
      "\n",
      "\n",
      " 96%|████████████████████████████████████████████████████████████████████████████▋   | 570/595 [30:42<01:21,  3.25s/it]"
     ]
    },
    {
     "name": "stdout",
     "output_type": "stream",
     "text": [
      "C:\\Users\\amar\\Downloads\\Receipts\\f9034671.jpeg\n",
      "\n",
      "[]\n"
     ]
    },
    {
     "name": "stderr",
     "output_type": "stream",
     "text": [
      "\n",
      "\n",
      " 96%|████████████████████████████████████████████████████████████████████████████▊   | 571/595 [30:43<01:04,  2.70s/it]"
     ]
    },
    {
     "name": "stdout",
     "output_type": "stream",
     "text": [
      "C:\\Users\\amar\\Downloads\\Receipts\\f92fcd42.jpeg\n",
      "~G.Total326.00 Wit ,\n",
      "['326', '00']\n"
     ]
    },
    {
     "name": "stderr",
     "output_type": "stream",
     "text": [
      "\n",
      "\n",
      " 96%|████████████████████████████████████████████████████████████████████████████▉   | 572/595 [30:45<00:57,  2.52s/it]"
     ]
    },
    {
     "name": "stdout",
     "output_type": "stream",
     "text": [
      "C:\\Users\\amar\\Downloads\\Receipts\\f963b6ca.jpeg\n",
      "Which Westport Westport Rd. Suite Kansas City, MO-5965 Usercashier 6/6/2018‘53 Pa Iten ty “Price Total 320z Fauntatn Drink 1 2,00 2.00 Chipsie 1.8 Cheeseburgerwi- chi 1 11.90 11.90 Large Subtotal 15.15 Tax 1.68 Total TenderVISA YAASETE Suiped ~\n",
      "['5965', '6/6/2018', '53', '320', '1 2,00', '00', '1 11', '90 11', '90', '15', '15', '68']\n"
     ]
    },
    {
     "name": "stderr",
     "output_type": "stream",
     "text": [
      "\n",
      "\n",
      " 96%|█████████████████████████████████████████████████████████████████████████████   | 573/595 [30:48<00:57,  2.60s/it]"
     ]
    },
    {
     "name": "stdout",
     "output_type": "stream",
     "text": [
      "C:\\Users\\amar\\Downloads\\Receipts\\f980a8bc.jpeg\n",
      "\n",
      "[]\n"
     ]
    },
    {
     "name": "stderr",
     "output_type": "stream",
     "text": [
      "\n",
      "\n",
      " 96%|█████████████████████████████████████████████████████████████████████████████▏  | 574/595 [30:49<00:47,  2.28s/it]"
     ]
    },
    {
     "name": "stdout",
     "output_type": "stream",
     "text": [
      "C:\\Users\\amar\\Downloads\\Receipts\\f9aa53c2.jpeg\n",
      "Dine In A3 20 inner w.Miso Soup Lady Gaga Ginger Ale Fried Cheese Cake.85.45.30 Recommended% $5.98 18% $7.17 Thank You\n",
      "['3 20', '85', '45', '30', '98 18', '17']\n"
     ]
    },
    {
     "name": "stderr",
     "output_type": "stream",
     "text": [
      "\n",
      "\n",
      " 97%|█████████████████████████████████████████████████████████████████████████████▎  | 575/595 [30:53<00:50,  2.52s/it]"
     ]
    },
    {
     "name": "stdout",
     "output_type": "stream",
     "text": [
      "C:\\Users\\amar\\Downloads\\Receipts\\faaf2ba1.jpeg\n",
      "129.75\n",
      "['129', '75']\n"
     ]
    },
    {
     "name": "stderr",
     "output_type": "stream",
     "text": [
      "\n",
      "\n",
      " 97%|█████████████████████████████████████████████████████████████████████████████▍  | 576/595 [30:54<00:43,  2.28s/it]"
     ]
    },
    {
     "name": "stdout",
     "output_type": "stream",
     "text": [
      "C:\\Users\\amar\\Downloads\\Receipts\\fae4ae81.jpeg\n",
      "QUIKTRIP60994 N Beltline Road Irving, TX Date 5/17/19 Tine 6822PH Odometer fAcotPritt titi iiaLy Pump Gallons Price a8 13.726 $2.659 Product Amount UNLEADED $36.58 Total Sale $36.50 Thank You for Shopping QuikTripPlease Come Back Againt\n",
      "['6099', '5/17/19', '6822', '8 13', '726', '659', '36', '58', '36', '50']\n"
     ]
    },
    {
     "name": "stderr",
     "output_type": "stream",
     "text": [
      "\n",
      "\n",
      " 97%|█████████████████████████████████████████████████████████████████████████████▌  | 577/595 [30:58<00:51,  2.87s/it]"
     ]
    },
    {
     "name": "stdout",
     "output_type": "stream",
     "text": [
      "C:\\Users\\amar\\Downloads\\Receipts\\fb075aff.jpeg\n",
      "QHANA HAWATIAN BBQ SLAUSON AVE Maywood, CA-9888 Serverkarla pine In SETTLED 1 1/2 AND 1/2 COMBO 8.45 FRIED SHRIMP SHORT RIB 1 1/2 AND 1/2 COMBO 7.95 BBO BEEF FRIED SHRIMP 2 FOUNTAIN MEDIUM 3.50 Bar.00 Food.90 Tax 11.79 AMQUNT DUE$21.69 Cash.0 CHANGE-0.31Ticket94 << Created6/1/2013 7 43 46 PM/1/2013 7 44 18 PH THAN YOUoe seal\n",
      "['9888', '45', '95', '50', '00', '90', '11', '79', '21', '69', '31', '94', '6/1/2013', '7 43 46', '1/2013', '7 44 18']\n"
     ]
    },
    {
     "name": "stderr",
     "output_type": "stream",
     "text": [
      "\n",
      "\n",
      " 97%|█████████████████████████████████████████████████████████████████████████████▋  | 578/595 [31:02<00:49,  2.93s/it]"
     ]
    },
    {
     "name": "stdout",
     "output_type": "stream",
     "text": [
      "C:\\Users\\amar\\Downloads\\Receipts\\fb360175.jpeg\n",
      "\n",
      "[]\n"
     ]
    },
    {
     "name": "stderr",
     "output_type": "stream",
     "text": [
      "\n",
      "\n",
      " 97%|█████████████████████████████████████████████████████████████████████████████▊  | 579/595 [31:03<00:40,  2.54s/it]"
     ]
    },
    {
     "name": "stdout",
     "output_type": "stream",
     "text": [
      "C:\\Users\\amar\\Downloads\\Receipts\\fb5af2cc.jpeg\n",
      "RESTAURANT THE BELLEFIN GST NO. 08DSYPB7924K1Z HOTEL THE BELLEFIN C-164,JANPATH ROAD,NIRMAN NAGAR Contact No.8952940111 BIINo. 224 Table No.TableNo\n",
      "['08', '7924', '164', '8952', '9401', '11', '224']\n"
     ]
    },
    {
     "name": "stderr",
     "output_type": "stream",
     "text": [
      "\n",
      "\n",
      " 97%|█████████████████████████████████████████████████████████████████████████████▉  | 580/595 [31:07<00:44,  2.95s/it]"
     ]
    },
    {
     "name": "stdout",
     "output_type": "stream",
     "text": [
      "C:\\Users\\amar\\Downloads\\Receipts\\fb7fb9d7.jpeg\n",
      "NE WAST TO BEAR Yous FE; PLEASE conTacT 58 chsronceger 70 Suan BEADS, TA6T STSRETHence\n",
      "['58', '70']\n"
     ]
    },
    {
     "name": "stderr",
     "output_type": "stream",
     "text": [
      "\n",
      "\n",
      " 98%|██████████████████████████████████████████████████████████████████████████████  | 581/595 [31:11<00:45,  3.22s/it]"
     ]
    },
    {
     "name": "stdout",
     "output_type": "stream",
     "text": [
      "C:\\Users\\amar\\Downloads\\Receipts\\fb835913.jpeg\n",
      "it ill AGII*Q5\n",
      "[]\n"
     ]
    },
    {
     "name": "stderr",
     "output_type": "stream",
     "text": [
      "\n",
      "\n",
      " 98%|██████████████████████████████████████████████████████████████████████████████▎ | 582/595 [31:15<00:44,  3.41s/it]"
     ]
    },
    {
     "name": "stdout",
     "output_type": "stream",
     "text": [
      "C:\\Users\\amar\\Downloads\\Receipts\\fb939620.jpeg\n",
      "\n",
      "[]\n"
     ]
    },
    {
     "name": "stderr",
     "output_type": "stream",
     "text": [
      "\n",
      "\n",
      " 98%|██████████████████████████████████████████████████████████████████████████████▍ | 583/595 [31:17<00:36,  3.06s/it]"
     ]
    },
    {
     "name": "stdout",
     "output_type": "stream",
     "text": [
      "C:\\Users\\amar\\Downloads\\Receipts\\fc4067f4.jpeg\n",
      "Invoice aroma Kitchen * Hotel Comfort4th Floor, Saidham Complax, Nr. ABC Circle, Bholav, Bharuch 37. Bill No.3737-06-19 PARTICULARS —~*<GTY ‘RATE aMQUNT Te See ot. p.00.00 C-GST 2.50%1,50 S-GST 2.50%1.50.00 GST No.24BIRPS4544M27H Subject to Bharuch JurisdictionTHANK YOU, VISIT AGAIN*\n",
      "['37', '3737', '06-19', '00', '00', '50', '1,50', '50', '50', '00', '24', '4544', '27']\n"
     ]
    },
    {
     "name": "stderr",
     "output_type": "stream",
     "text": [
      "\n",
      "\n",
      " 98%|██████████████████████████████████████████████████████████████████████████████▌ | 584/595 [31:21<00:37,  3.42s/it]"
     ]
    },
    {
     "name": "stdout",
     "output_type": "stream",
     "text": [
      "C:\\Users\\amar\\Downloads\\Receipts\\fc4ea984.jpeg\n",
      "The Shawarma Factory S. Western Ave Apr 10, 2019 Gardena, CA 12 34 PM Vince — Ticket29 AID AO 00 00 00 03 10 10 re Flame Broiled Chicken $11.99 1/2 Chicken, Hummus , House Salad $11.99 $1.14 EE $13.13\n",
      "['Apr 10, 2019', '12 34', '29', '00 00 00', '03 10 10', '11', '99', '11', '99', '14', '13', '13']\n"
     ]
    },
    {
     "name": "stderr",
     "output_type": "stream",
     "text": [
      "\n",
      "\n",
      " 98%|██████████████████████████████████████████████████████████████████████████████▋ | 585/595 [31:25<00:35,  3.55s/it]"
     ]
    },
    {
     "name": "stdout",
     "output_type": "stream",
     "text": [
      "C:\\Users\\amar\\Downloads\\Receipts\\fc6c8af2.jpeg\n",
      "ae Res EcCASH MEMO GURUKRUPA PARATHA HOUSE PAP.1 Kamgar Chowk MIDC, Waluj, Aurangabad.\n",
      "[]\n"
     ]
    },
    {
     "name": "stderr",
     "output_type": "stream",
     "text": [
      "\n",
      "\n",
      " 98%|██████████████████████████████████████████████████████████████████████████████▊ | 586/595 [31:27<00:28,  3.15s/it]"
     ]
    },
    {
     "name": "stdout",
     "output_type": "stream",
     "text": [
      "C:\\Users\\amar\\Downloads\\Receipts\\fc8e3dde.jpeg\n",
      "MANU, HAWAII Longboards 92-161 Watpahe Place Kapolei, HI-4700 ServerElian J/0 Wagyu Cheeseburger Medium Wel Garlic Fries ADD RAW ONIONS® BACON PLZ Drink of the Day ea Subtotal Ohana Discount Breakfast HI HNLKO 4.712% GET Total Gratuity Total 77.\n",
      "['92-161', '4700', '712', '77']\n"
     ]
    },
    {
     "name": "stderr",
     "output_type": "stream",
     "text": [
      "\n",
      "\n",
      " 99%|██████████████████████████████████████████████████████████████████████████████▉ | 587/595 [31:31<00:25,  3.21s/it]"
     ]
    },
    {
     "name": "stdout",
     "output_type": "stream",
     "text": [
      "C:\\Users\\amar\\Downloads\\Receipts\\fdaae374.jpeg\n",
      "pg NITASU JAPANESE RESTAURANT SD\" BHD 6-01, CENTRAL PLAZA, ‘4,JALAM SULTAN ISMAIL, 80250 RUALA LUNPUR TEL 09-2110 Reg. KoOOVTT4426160Tax Invoice Table D2 Bi;¥001-201080 Odr-06-2018 19 59 15 CashierAARON PaxQty Description ——————— peees eee ‘Subtotal703.50 Serv. Charge10%70.36 GST%0.00.46.45 en 29-06-2018 21 52 08 ServerAARON.45sebbeeeeretDDAZLIN CHAT JA\n",
      "['6-01', '8025', '09-2110', '4426', '160', '001', '2010', '80', '06-2018', '19 59 15', '703', '50', '10', '70', '36', '00', '46', '45', '29-06-2018', '21 52 08', '45']\n"
     ]
    },
    {
     "name": "stderr",
     "output_type": "stream",
     "text": [
      "\n",
      "\n",
      " 99%|███████████████████████████████████████████████████████████████████████████████ | 588/595 [31:35<00:23,  3.42s/it]"
     ]
    },
    {
     "name": "stdout",
     "output_type": "stream",
     "text": [
      "C:\\Users\\amar\\Downloads\\Receipts\\fe41933a.jpeg\n",
      "| E. BALDI prive North Canon “7 Beverly Hills, CA UE JANUARY 30,2018-—1 | TABLE6 1 ICED TEA $4.50 1 ROMBO CARCIOFI FUNGH $48.00 1 SPARKLING WATER LARG $8.50 1 BRANZINO GRIGLTATO $40.00 1 CARPACCIO RED SNAPPE $33.00 ae$134.00 SUB-TOTAL §134,00 TAXSi TOTAL tae 22 2 CUSToucDe\n",
      "['30,2018', '50', '48', '00', '50', '40', '00', '33', '00', '134', '00', '134', '00', '22']\n"
     ]
    },
    {
     "name": "stderr",
     "output_type": "stream",
     "text": [
      "\n",
      "\n",
      " 99%|███████████████████████████████████████████████████████████████████████████████▏| 589/595 [31:38<00:20,  3.34s/it]"
     ]
    },
    {
     "name": "stdout",
     "output_type": "stream",
     "text": [
      "C:\\Users\\amar\\Downloads\\Receipts\\fecc3c48.jpeg\n",
      "1 PAREER TIKKA Total SERVICE Grand Tots VAT BO 2% saneTHAK YOU 8\n",
      "[]\n"
     ]
    },
    {
     "name": "stderr",
     "output_type": "stream",
     "text": [
      "\n",
      "\n",
      " 99%|███████████████████████████████████████████████████████████████████████████████▎| 590/595 [31:39<00:13,  2.72s/it]"
     ]
    },
    {
     "name": "stdout",
     "output_type": "stream",
     "text": [
      "C:\\Users\\amar\\Downloads\\Receipts\\fece09ba.jpeg\n",
      "wee HOTELZ COSMOPOLITAN bywe X Diaschen eaten Reel omen hoor sennov. . ‘TEL ;8178 G80t / 2842 GUEST NAMEBILLNO/1 TABLEROOMny State GST Caritral GST Service.5% ‘ * Round OF Net Amount. ® ® o 6 GSNO.24AAVEMS024D320 2 Guest, NameAdressGuest SignatureGuest GSTIN‘ ‘USERVikas Barua\n",
      "['8178', '80', '2842', '24', '024', '320']\n"
     ]
    },
    {
     "name": "stderr",
     "output_type": "stream",
     "text": [
      "\n",
      "\n",
      " 99%|███████████████████████████████████████████████████████████████████████████████▍| 591/595 [31:42<00:11,  2.91s/it]"
     ]
    },
    {
     "name": "stdout",
     "output_type": "stream",
     "text": [
      "C:\\Users\\amar\\Downloads\\Receipts\\ff2f420c.jpeg\n",
      "\n",
      "[]\n"
     ]
    },
    {
     "name": "stderr",
     "output_type": "stream",
     "text": [
      "\n",
      "\n",
      " 99%|███████████████████████████████████████████████████████████████████████████████▌| 592/595 [31:44<00:07,  2.51s/it]"
     ]
    },
    {
     "name": "stdout",
     "output_type": "stream",
     "text": [
      "C:\\Users\\amar\\Downloads\\Receipts\\ff6b37aa.jpeg\n",
      "ay Ci E a H ed Ff\n",
      "[]\n"
     ]
    },
    {
     "name": "stderr",
     "output_type": "stream",
     "text": [
      "\n",
      "\n",
      "100%|███████████████████████████████████████████████████████████████████████████████▋| 593/595 [31:46<00:04,  2.35s/it]"
     ]
    },
    {
     "name": "stdout",
     "output_type": "stream",
     "text": [
      "C:\\Users\\amar\\Downloads\\Receipts\\ff8e6691.jpeg\n",
      "Tax INVOICE Del very ANISH RASTOGI - 9e16299584/25. , E ORHLA PHASE 1 SIS INDIA LTD., «0khla ioe farg, GST 16%- -SESTORSCaSTSN0.00 Total.50 Hd $,0ujwog I Flakes sachets serve te\n",
      "['1629', '9584', '25', '16', '00', '50']\n"
     ]
    },
    {
     "name": "stderr",
     "output_type": "stream",
     "text": [
      "\n",
      "\n",
      "100%|███████████████████████████████████████████████████████████████████████████████▊| 594/595 [31:49<00:02,  2.65s/it]"
     ]
    },
    {
     "name": "stdout",
     "output_type": "stream",
     "text": [
      "C:\\Users\\amar\\Downloads\\Receipts\\ffe2a9a0.jpeg\n",
      "18g aar ear San Antonio, fx F Umleadag rieegenl fh gaa yfresesseetaell 01/03/19 07 41AM ai ch reat\n",
      "['18', '01/03/19', '07 41']\n"
     ]
    },
    {
     "name": "stderr",
     "output_type": "stream",
     "text": [
      "\n",
      "\n",
      "100%|████████████████████████████████████████████████████████████████████████████████| 595/595 [31:51<00:00,  2.50s/it]"
     ]
    },
    {
     "name": "stdout",
     "output_type": "stream",
     "text": [
      "313\n",
      "595\n"
     ]
    }
   ],
   "source": [
    "from PIL import Image\n",
    "import pytesseract\n",
    "import cv2\n",
    "import re\n",
    "import os\n",
    "from tqdm import tqdm\n",
    "import glob\n",
    "path =r\"C:\\Users\\amar\\Downloads\\Receipts\"\n",
    "img_dir = path\n",
    "data_path = os.path.join(img_dir,'*g')\n",
    "files = glob.glob(data_path)\n",
    "data = []\n",
    "resulted=[]\n",
    "for f1 in tqdm(files):\n",
    "    im = cv2.imread(f1)\n",
    "    #im = Image.open(f1)\n",
    "    print(f1)\n",
    "\n",
    "    \n",
    "\n",
    "    text = pytesseract.image_to_string(im, lang = 'eng')\n",
    "    text=\" \".join(text.split())\n",
    "\n",
    "    for wor in text.split(\"\\n\"):\n",
    "        text=re.sub(r\"[{ )}> @ ? !+ _:= # )(]\", ' ', text)\n",
    "        text=re.sub(r\"d{5,}\",\"\",text)\n",
    "        text=re.sub(r\" {2,}\",\"\",text)\n",
    "        text = re.sub(\"\\\\b\\s\\w{2,}\\d{1,}\\\\b\", \"\", text).strip()\n",
    "\n",
    "    print(text)\n",
    "    #regEx = r'(?:\\d{1,2}(?:(?:-|/)|(?:th|st|nd|rd)?\\s))?(?:(?:(?:Jan(?:uary)?|Feb(?:ruary)?|Mar(?:ch)?|Apr(?:il)?|May|MAY|Jun(?:e)?|Jul(?:y)?|Aug(?:ust)?|Sep(?:tember)?|Oct(?:ober)?|Nov(?:ember)?|Dec(?:ember)?)(?:(?:-|/)|(?:,|\\.)?\\s)?)?(?:\\d{1,2}(?:(?:-|/)|(?:th|st|nd|rd)?\\s))?)(?:\\d{2,4})'\n",
    "    regEx=r'(?:\\d{1,2}(?:(?:-|/)|(?:th|st|nd|rd)?\\s))?(?:(?:(?:Jan(?:uary)?|Feb(?:ruary)?|Mar(?:ch)?|Apr(?:il)?|May|MAY |Jun(?:e)?|Jul(?:y)?|ju1|Aug(?:ust)?|Sep(?:tember)?|Oct(?:ober)?|Nov(?:ember)?|Dec(?:ember)?)(?:(?:- |-| |/)|(?:,|\\.)?\\s)?)?(?:\\d{1,2}(?:(?:-|, |,| |/)|(?:th|st|nd|rd)?\\s))?)(?:\\d{2,4})'\n",
    "    result = re.findall(regEx, text)\n",
    "    print(result)\n",
    "    resulted.append(result)\n",
    "    \n",
    "    for i in result:\n",
    "        \n",
    "        if (len(i)>=8):\n",
    "            data.append(i)\n",
    "print(len(data))\n",
    "print(len(resulted))"
   ]
  },
  {
   "cell_type": "code",
   "execution_count": 168,
   "metadata": {},
   "outputs": [
    {
     "name": "stdout",
     "output_type": "stream",
     "text": [
      "['237', '0969', '5914', '72', '1740', '24-Nov-16', '9 12']\n"
     ]
    }
   ],
   "source": [
    "import re\n",
    "regEx = r'(?:\\d{1,2}(?:(?:-|/)|(?:th|st|nd|rd)?\\s))?(?:(?:(?:Jan(?:uary)?|Feb(?:ruary)?|Mar(?:ch)?|Apr(?:il)?|May|Jun(?:e)?|Jul(?:y)?|Aug(?:ust)?|Sep(?:tember)?|Oct(?:ober)?|Nov(?:ember)?|Dec(?:ember)?)(?:(?:-|/)|(?:,|\\.)?\\s)?)?(?:\\d{1,2}(?:(?:-|/)|(?:th|st|nd|rd)?\\s))?)(?:\\d{2,4})'\n",
    "result = re.findall(regEx, text)\n",
    "print(result)"
   ]
  },
  {
   "cell_type": "code",
   "execution_count": 170,
   "metadata": {},
   "outputs": [
    {
     "name": "stdout",
     "output_type": "stream",
     "text": [
      "<class 'list'>\n",
      "24-Nov-16\n"
     ]
    }
   ],
   "source": [
    "print(type(result))\n",
    "for i in result:\n",
    "    \n",
    "    if (len(i)>=8):\n",
    "        print(i)\n",
    "        \n"
   ]
  },
  {
   "cell_type": "code",
   "execution_count": 158,
   "metadata": {},
   "outputs": [
    {
     "name": "stdout",
     "output_type": "stream",
     "text": [
      "0969\n",
      "0969\n",
      "72\n",
      "72\n",
      "24-Nov-16\n",
      "24-Nov-16\n"
     ]
    }
   ],
   "source": [
    "from dateutil.parser import parse\n",
    "from dateparser.search import search_dates\n",
    "for i in result:\n",
    "    print(i)\n",
    "    j=(i)\n",
    "    print(j)"
   ]
  },
  {
   "cell_type": "code",
   "execution_count": 189,
   "metadata": {},
   "outputs": [],
   "source": [
    "import cv2\n",
    "import os\n",
    "import glob\n",
    "img_dir = path\n",
    "data_path = os.path.join(img_dir,'*g')\n",
    "files = glob.glob(data_path)\n",
    "data = []\n",
    "for f1 in files:\n",
    "    img = cv2.imread(f1)\n",
    "    cv2.imshow(\"img\",img)"
   ]
  },
  {
   "cell_type": "code",
   "execution_count": 9,
   "metadata": {},
   "outputs": [
    {
     "name": "stdout",
     "output_type": "stream",
     "text": [
      "<class 'str'>\n",
      "tanSod\n"
     ]
    }
   ],
   "source": [
    "from PIL import Image\n",
    "import pytesseract\n",
    "\n",
    "\n",
    "im = Image.open(\"01048818.jpeg\")\n",
    "\n",
    "text = pytesseract.image_to_string(im, lang = 'eng')\n",
    "text=\" \".join(text.split())\n",
    "\n",
    "for wor in text.split(\"\\n\"):\n",
    "    text=re.sub(r\"[{ )}> @ ? !+ _:= # )(]\", ' ', text)\n",
    "    text=re.sub(r\"d{5,}\",\"\",text)\n",
    "    text=re.sub(r\" {1,}\",\"\",text)\n",
    "\n",
    "\n",
    "print(type(text))\n",
    "print(text)"
   ]
  },
  {
   "cell_type": "code",
   "execution_count": 39,
   "metadata": {},
   "outputs": [
    {
     "name": "stdout",
     "output_type": "stream",
     "text": [
      "['0486', '5230', '318', '29-MAY-2019', '1402', '23', '292', '75', '01', '33', '100', '00', '2743', '0268', '741', '2743', '0268', '741', '44']\n"
     ]
    }
   ],
   "source": [
    "import re\n",
    "new=\"NEW DELHI INDIAN RESTAURANT237E, Sisivath Quay, Pinon Pent, Canbodia Tel0969591472 Emailuonty iehoteat conTHVOTCE Ticket No 1740Bate24-Nov-16TableNo5 Time 9 12 PH TENS House Wine White Glass18/07/2019VEGETABLE SHORBA GARLIC NAAN KARL PAKORA ANGKOR. BEER WITH MEALmay 19 2019ANGKOR BEER WITH HEAL Total* Thank29-May-2019you forjan 24,2019dining with ust * * Ye Have Free Howe Delivery*\"\"\"\n",
    "regEx = r'(?:\\d{1,2}(?:(?:-|/)|(?:th|st|nd|rd)?\\s))?(?:(?:(?:Jan(?:uary)?|Feb(?:ruary)?|Mar(?:ch)?|Apr(?:il)?|May|MAY|Jun(?:e)?|Jul(?:y)?|Aug(?:ust)?|Sep(?:tember)?|Oct(?:ober)?|Nov(?:ember)?|Dec(?:ember)?)(?:(?:-|/)|(?:,|\\.)?\\s)?)?(?:\\d{1,2}(?:(?:-|/)|(?:th|st|nd|rd)?\\s))?)(?:\\d{2,4})'\n",
    "result = re.findall(regEx,text )\n",
    "print(result)"
   ]
  },
  {
   "cell_type": "code",
   "execution_count": 24,
   "metadata": {},
   "outputs": [
    {
     "data": {
      "text/plain": [
       "'SUBWAY Subway 16782-0~0 Phone --¢ 2124 s. st. Rd. 13 ne Terceton, IN, 46562 ag  5/29/2019 11 35 09 am erm ID-Trans1/A-176663 ty Sage price | Courtesy 10K Off Any Iten 0.09 1 6\" -B.M.T. Sub 4,22 1 “Fresh Value Neal21-12-50 ~ -2loz Fountain Drink - -Chips Sub Total 6.12 Sales Tax7%0.47 TotalEat In7.19 Cash Hele Change 0.00 Call us with your Comments Phone800888-4848 www. telsubway com Host Order 1DSPM201905291 13506 ; know how we'"
      ]
     },
     "execution_count": 24,
     "metadata": {},
     "output_type": "execute_result"
    }
   ],
   "source": [
    "test=\"\"\"SUBWAY Subway 16782-0~0 Phone 574-594-359¢ 2124 s. st. Rd. 13 ne Terceton, IN, 46562 ag 974 5/29/2019 11 35 09 am erm ID-Trans1/A-176663 ty Sage price | Courtesy 10K Off Any Iten 0.09 1 6\" -B.M.T. Sub 4,22 1 “Fresh Value Neal21-12-50 ~ -2loz Fountain Drink - -Chips Sub Total 6.12 Sales Tax7%0.47 TotalEat In7.19 Cash Hele Change 0.00 Call us with your Comments Phone800888-4848 www. telsubway com Host Order 1DSPM201905291 13506 ; know how we\"\"\"\n",
    "\n",
    "test=re.sub(r\"\\b\\d{3}\\b\",\"\",test)\n",
    "test"
   ]
  },
  {
   "cell_type": "code",
   "execution_count": 43,
   "metadata": {},
   "outputs": [
    {
     "name": "stdout",
     "output_type": "stream",
     "text": [
      "YS about your visit. Validation 78 CodeExpires 30 days sep 29, 2019 after receipt date. Valid at Participating US McDonald’. Survey-13470-71719-11-00066- McDonald’ Restaurant111 10 COMMERCE OR WARSAW, IN 07/17/2019 11 19 AM Sidez Order 47 | Filet--Fish Mea] .19   Coke Subtota] .19 Tax .43 Take-Out Total .62 Cash less .62 Change .00 CARD ISSUER ACCOUNTMaster SALE ebb TRANSACTION AMOUNT .62 CHIP READ AUTHORIZATION CODE - 021262 AID; A0000000041010 McDonald’sRestaurant\n"
     ]
    },
    {
     "data": {
      "text/plain": [
       "'YS about your visit. Validation ks2 78 CodeExpires 30 days sep 29, 2019 after receipt date. Valid at Participating US McDonald’. Survey Code11110-13470-71719-11 194-00066- McDonald’ Restaurant111 10 3611 COMMERCE OR WARSAW, IN 46580 TEL574 267 5368 KS13 07/17/2019 11 19 AM Sidez Order 47 | Filet--Fish Mea] .19   Coke Subtota] .19 Tax .43 Take-Out Total .62 Cash less .62 Change .00 MER180626 CARD ISSUER ACCOUNTMaster SALE ebb EO709 TRANSACTION AMOUNT .62 CHIP READ AUTHORIZATION CODE - 021262 SEQ013613 AID; A0000000041010 McDonald’sRestaurant'"
      ]
     },
     "execution_count": 43,
     "metadata": {},
     "output_type": "execute_result"
    }
   ],
   "source": [
    "test1=\"\"\"YS about your visit. Validation ks2 78 CodeExpires 30 days sep 29, 2019 after receipt date. Valid at Participating US McDonald’s. Survey Code11110-13470-71719-11 194-00066-2 McDonald’s Restaurant111 10 3611 COMMERCE OR WARSAW, IN 46580 TEL574 267 5368 KS13 07/17/2019 11 19 AM Sidez Order 47 | Filet-0-Fish Mea] 6.19 1 M Coke Subtota] 6.19 Tax 0.43 Take-Out Total 6.62 Cash less 6.62 Change 0.00 MER180626 CARD ISSUER ACCOUNTMaster SALE ebb EO709 TRANSACTION AMOUNT 6.62 CHIP READ AUTHORIZATION CODE - 021262 SEQ013613 AID; A0000000041010 McDonald’sRestaurant\"\"\"\n",
    "test1=re.sub(r\"\\b[\\w+\\d+]\\b\",\"\",test1)\n",
    "sent_0 = re.sub(\"\\\\b\\s\\w{2,}\\d{1,}\\\\b\", \"\", test1).strip()\n",
    "print(sent_0)\n",
    "test1"
   ]
  },
  {
   "cell_type": "code",
   "execution_count": 34,
   "metadata": {},
   "outputs": [
    {
     "name": "stdout",
     "output_type": "stream",
     "text": [
      "sagt) Phone 00572235444\n",
      "tm RAL ay AREA ,BISTUPUR,\n",
      "ROAD NO 2,\n",
      "431001 JAMSHEDPUR JHARKHAND\n",
      "served by: 3 20/07/2019 21:08:14\n",
      "Term 10-Trans# 1/A-27666\n",
      "\n",
      "gst: 20ACIFS08040123\n",
      "CIN:\n",
      "\n",
      "Oty Size Item\n",
      "\n",
      "6\" Rst Chicken\n",
      "1 Cheese Add6\n",
      "1 Bag Fee\n",
      "\n",
      "Sub Total\n",
      "\n",
      "SGST €2.5% (2.5%)\n",
      "CGST €2.5% (2.5%)\n",
      "on (Eat In)\n",
      "\n",
      "Change 0.00\n",
      "\n",
      "GSTIN 20ACIF:\n",
      "how we did today\n",
      "Survey at waw.global . \" a\n"
     ]
    }
   ],
   "source": [
    "import cv2\n",
    "import os\n",
    "from PIL import Image\n",
    "import sys\n",
    "\n",
    "import pytesseract\n",
    "img = cv2.imread('077124e4.jpeg')\n",
    "import numpy as np\n",
    "cv2.imshow(\"i\",img)\n",
    "# Convert to gray\n",
    "img = cv2.cvtColor(img, cv2.COLOR_BGR2GRAY)\n",
    "# Apply dilation and erosion to remove some noise\n",
    "kernel = np.ones((2, 2), np.uint8)\n",
    "#img = cv2.dilate(img, kernel, iterations=1)\n",
    "img = cv2.erode(img, kernel, iterations=2)\n",
    "# Write the image after apply opencv to do some ...\n",
    "cv2.imwrite(\"thres.png\", img)\n",
    "# Recognize text with tesseract for python\n",
    "result = pytesseract.image_to_string(Image.open(\"thres.png\"))\n",
    "print(result)\n",
    "os.remove(\"thres.png\")\n",
    "\n"
   ]
  },
  {
   "cell_type": "code",
   "execution_count": null,
   "metadata": {},
   "outputs": [],
   "source": []
  },
  {
   "cell_type": "code",
   "execution_count": null,
   "metadata": {},
   "outputs": [],
   "source": []
  }
 ],
 "metadata": {
  "kernelspec": {
   "display_name": "Python 3",
   "language": "python",
   "name": "python3"
  },
  "language_info": {
   "codemirror_mode": {
    "name": "ipython",
    "version": 3
   },
   "file_extension": ".py",
   "mimetype": "text/x-python",
   "name": "python",
   "nbconvert_exporter": "python",
   "pygments_lexer": "ipython3",
   "version": "3.7.3"
  }
 },
 "nbformat": 4,
 "nbformat_minor": 4
}
